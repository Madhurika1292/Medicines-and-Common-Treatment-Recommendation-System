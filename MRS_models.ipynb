{
  "nbformat": 4,
  "nbformat_minor": 0,
  "metadata": {
    "colab": {
      "name": "MRS models.ipynb",
      "provenance": [],
      "authorship_tag": "ABX9TyP+R/eesKDsK8FfH/hKoGlO",
      "include_colab_link": true
    },
    "kernelspec": {
      "name": "python3",
      "display_name": "Python 3"
    },
    "language_info": {
      "name": "python"
    }
  },
  "cells": [
    {
      "cell_type": "markdown",
      "metadata": {
        "id": "view-in-github",
        "colab_type": "text"
      },
      "source": [
        "<a href=\"https://colab.research.google.com/github/Madhurika1292/Medicines-and-Common-Treatment-Recommendation-System/blob/main/MRS_models.ipynb\" target=\"_parent\"><img src=\"https://colab.research.google.com/assets/colab-badge.svg\" alt=\"Open In Colab\"/></a>"
      ]
    },
    {
      "cell_type": "markdown",
      "metadata": {
        "id": "HNJqFsJPoatg"
      },
      "source": [
        "# Medicine Recommendation System"
      ]
    },
    {
      "cell_type": "markdown",
      "metadata": {
        "id": "hji-qOi3osdn"
      },
      "source": [
        "## Loading libraries"
      ]
    },
    {
      "cell_type": "code",
      "metadata": {
        "id": "7HTxLqw6owTc"
      },
      "source": [
        "import pandas as pd\n",
        "import numpy as np\n",
        "import matplotlib.pyplot as plt\n",
        "import seaborn as sns\n",
        "from sklearn import naive_bayes\n",
        "from sklearn.linear_model import LogisticRegression\n",
        "from sklearn.feature_extraction.text import CountVectorizer\n",
        "from sklearn.naive_bayes import GaussianNB\n",
        "from sklearn.metrics import precision_score, recall_score, precision_recall_curve,f1_score, fbeta_score\n",
        "from sklearn.preprocessing import StandardScaler\n",
        "from sklearn.metrics import accuracy_score, confusion_matrix, roc_curve, roc_auc_score, make_scorer\n",
        "from sklearn.pipeline import Pipeline\n",
        "from sklearn.model_selection import GridSearchCV\n",
        "from sklearn.naive_bayes import MultinomialNB, BernoulliNB\n",
        "\n",
        "import warnings\n",
        "with warnings.catch_warnings():\n",
        "    warnings.simplefilter(\"ignore\")\n",
        "    warnings.warn(\"deprecated\", DeprecationWarning)\n",
        "\n",
        "from tensorflow.python.keras.models import Sequential\n",
        "from tensorflow.python.keras.layers import Dense, Bidirectional, LSTM, BatchNormalization, Dropout\n",
        "from tensorflow.python.keras.preprocessing.sequence import pad_sequences\n",
        "import keras\n",
        "from keras.models import Sequential\n",
        "from keras.layers import Dense\n",
        "import random"
      ],
      "execution_count": 1,
      "outputs": []
    },
    {
      "cell_type": "markdown",
      "metadata": {
        "id": "u-gdkQIToq68"
      },
      "source": [
        "## Data Loading"
      ]
    },
    {
      "cell_type": "code",
      "metadata": {
        "colab": {
          "base_uri": "https://localhost:8080/"
        },
        "id": "hL8BrGe0o3EL",
        "outputId": "14b924bf-d31e-467f-e6e7-b4acff435916"
      },
      "source": [
        "# Importing dataset from drive\n",
        "from google.colab import drive\n",
        "drive.mount('/content/gdrive/')\n",
        "\n",
        "import sys\n",
        "sys.path.append('/content/gdrive/My Drive/Drugscom')"
      ],
      "execution_count": 2,
      "outputs": [
        {
          "output_type": "stream",
          "text": [
            "Drive already mounted at /content/gdrive/; to attempt to forcibly remount, call drive.mount(\"/content/gdrive/\", force_remount=True).\n"
          ],
          "name": "stdout"
        }
      ]
    },
    {
      "cell_type": "code",
      "metadata": {
        "colab": {
          "base_uri": "https://localhost:8080/"
        },
        "id": "IuTfErhZpB2Y",
        "outputId": "224f2240-9abb-443b-a36f-245c1a6f2147"
      },
      "source": [
        "!ls gdrive/MyDrive/Drugscom/"
      ],
      "execution_count": 3,
      "outputs": [
        {
          "output_type": "stream",
          "text": [
            "Drugscom_test.csv     Drugscom_train.csv\n",
            "drugsComTest_raw.csv  drugsComTrain_raw.csv\n"
          ],
          "name": "stdout"
        }
      ]
    },
    {
      "cell_type": "code",
      "metadata": {
        "id": "Lt9ueg3mpGKa"
      },
      "source": [
        "#Loading data\n",
        "Drugscom_train=pd.read_csv('/content/gdrive/My Drive/Drugscom/Drugscom_train.csv')\n",
        "Drugscom_test=pd.read_csv('/content/gdrive/My Drive/Drugscom/Drugscom_test.csv')"
      ],
      "execution_count": 4,
      "outputs": []
    },
    {
      "cell_type": "code",
      "metadata": {
        "colab": {
          "base_uri": "https://localhost:8080/"
        },
        "id": "YzbzM6bgp8q5",
        "outputId": "052fefca-75d9-464c-88df-2b039e08018d"
      },
      "source": [
        "#Before\n",
        "# checking for null values\n",
        "Drugscom_train.isnull().sum()"
      ],
      "execution_count": 5,
      "outputs": [
        {
          "output_type": "execute_result",
          "data": {
            "text/plain": [
              "Unnamed: 0      0\n",
              "uniqueId        0\n",
              "drugName        0\n",
              "condition       0\n",
              "review          0\n",
              "rating          0\n",
              "date            0\n",
              "usefulCount     0\n",
              "treatments      0\n",
              "clean_review    6\n",
              "dtype: int64"
            ]
          },
          "metadata": {
            "tags": []
          },
          "execution_count": 5
        }
      ]
    },
    {
      "cell_type": "code",
      "metadata": {
        "colab": {
          "base_uri": "https://localhost:8080/"
        },
        "id": "pONVgsLQqAkG",
        "outputId": "4de4a635-6220-4315-bc3f-13d4fa5b8f6c"
      },
      "source": [
        "# checking for null values\n",
        "Drugscom_test.isnull().sum()"
      ],
      "execution_count": 6,
      "outputs": [
        {
          "output_type": "execute_result",
          "data": {
            "text/plain": [
              "Unnamed: 0      0\n",
              "uniqueId        0\n",
              "drugName        0\n",
              "condition       0\n",
              "review          0\n",
              "rating          0\n",
              "date            0\n",
              "usefulCount     0\n",
              "treatments      0\n",
              "clean_review    2\n",
              "dtype: int64"
            ]
          },
          "metadata": {
            "tags": []
          },
          "execution_count": 6
        }
      ]
    },
    {
      "cell_type": "code",
      "metadata": {
        "id": "otmEmTlfqCnT"
      },
      "source": [
        "# Dropping null values\n",
        "Drugscom_train = Drugscom_train.dropna(axis=0)\n",
        "Drugscom_test = Drugscom_test.dropna(axis=0)"
      ],
      "execution_count": 7,
      "outputs": []
    },
    {
      "cell_type": "code",
      "metadata": {
        "colab": {
          "base_uri": "https://localhost:8080/"
        },
        "id": "pTG6fY7HqEsX",
        "outputId": "3be64f46-5c97-4039-df5e-3e4f4ed35609"
      },
      "source": [
        "# checking for null values\n",
        "Drugscom_train.isnull().sum()"
      ],
      "execution_count": 8,
      "outputs": [
        {
          "output_type": "execute_result",
          "data": {
            "text/plain": [
              "Unnamed: 0      0\n",
              "uniqueId        0\n",
              "drugName        0\n",
              "condition       0\n",
              "review          0\n",
              "rating          0\n",
              "date            0\n",
              "usefulCount     0\n",
              "treatments      0\n",
              "clean_review    0\n",
              "dtype: int64"
            ]
          },
          "metadata": {
            "tags": []
          },
          "execution_count": 8
        }
      ]
    },
    {
      "cell_type": "code",
      "metadata": {
        "colab": {
          "base_uri": "https://localhost:8080/"
        },
        "id": "exfBZdhCqH-E",
        "outputId": "9b5addc8-5281-49c8-920e-851d3aea3ed5"
      },
      "source": [
        "# checking for null values\n",
        "Drugscom_test.isnull().sum()"
      ],
      "execution_count": 9,
      "outputs": [
        {
          "output_type": "execute_result",
          "data": {
            "text/plain": [
              "Unnamed: 0      0\n",
              "uniqueId        0\n",
              "drugName        0\n",
              "condition       0\n",
              "review          0\n",
              "rating          0\n",
              "date            0\n",
              "usefulCount     0\n",
              "treatments      0\n",
              "clean_review    0\n",
              "dtype: int64"
            ]
          },
          "metadata": {
            "tags": []
          },
          "execution_count": 9
        }
      ]
    },
    {
      "cell_type": "code",
      "metadata": {
        "id": "YdDSH8WJqH34"
      },
      "source": [
        "#Changing the \"Unnamed: 0\" column to uniqueId as it represents the unique id of the drugs\n",
        "Drugscom_train=Drugscom_train.drop('Unnamed: 0', axis='columns')\n",
        "Drugscom_test=Drugscom_test.drop('Unnamed: 0', axis='columns')"
      ],
      "execution_count": 10,
      "outputs": []
    },
    {
      "cell_type": "code",
      "metadata": {
        "id": "toO0BFtOqMV8"
      },
      "source": [
        "Drugscom_train=Drugscom_train.drop(Drugscom_train[(Drugscom_train['rating'] > 4.0) & (Drugscom_train['rating'] < 6.0)].index)\n",
        "Drugscom_test=Drugscom_test.drop(Drugscom_test[(Drugscom_test['rating'] > 4.0) & (Drugscom_test['rating'] < 6.0)].index)"
      ],
      "execution_count": 11,
      "outputs": []
    },
    {
      "cell_type": "code",
      "metadata": {
        "id": "kqplEy9uqMRm"
      },
      "source": [
        "Drugscom_train['sentiment'] = np.where(Drugscom_train['rating'] >= 7, 1, 0)\n",
        "Drugscom_test['sentiment'] = np.where(Drugscom_test['rating'] >= 7, 1, 0)"
      ],
      "execution_count": 12,
      "outputs": []
    },
    {
      "cell_type": "code",
      "metadata": {
        "colab": {
          "base_uri": "https://localhost:8080/",
          "height": 272
        },
        "id": "YaB3QvtaqMOd",
        "outputId": "cee6b72e-8cc2-4215-8e13-c19b64524aae"
      },
      "source": [
        "Drugscom_train.head()"
      ],
      "execution_count": 13,
      "outputs": [
        {
          "output_type": "execute_result",
          "data": {
            "text/html": [
              "<div>\n",
              "<style scoped>\n",
              "    .dataframe tbody tr th:only-of-type {\n",
              "        vertical-align: middle;\n",
              "    }\n",
              "\n",
              "    .dataframe tbody tr th {\n",
              "        vertical-align: top;\n",
              "    }\n",
              "\n",
              "    .dataframe thead th {\n",
              "        text-align: right;\n",
              "    }\n",
              "</style>\n",
              "<table border=\"1\" class=\"dataframe\">\n",
              "  <thead>\n",
              "    <tr style=\"text-align: right;\">\n",
              "      <th></th>\n",
              "      <th>uniqueId</th>\n",
              "      <th>drugName</th>\n",
              "      <th>condition</th>\n",
              "      <th>review</th>\n",
              "      <th>rating</th>\n",
              "      <th>date</th>\n",
              "      <th>usefulCount</th>\n",
              "      <th>treatments</th>\n",
              "      <th>clean_review</th>\n",
              "      <th>sentiment</th>\n",
              "    </tr>\n",
              "  </thead>\n",
              "  <tbody>\n",
              "    <tr>\n",
              "      <th>0</th>\n",
              "      <td>131173</td>\n",
              "      <td>A / B Otic</td>\n",
              "      <td>Otitis Media</td>\n",
              "      <td>\"It numbs the pain. It makes my ear feel heavi...</td>\n",
              "      <td>10</td>\n",
              "      <td>2009-09-23</td>\n",
              "      <td>20</td>\n",
              "      <td>ANALGESICS,ANTIBIOTIC THERAPY,Tympanostomy Tub...</td>\n",
              "      <td>numb pain make ear feel heavier least throb su...</td>\n",
              "      <td>1</td>\n",
              "    </tr>\n",
              "    <tr>\n",
              "      <th>1</th>\n",
              "      <td>153899</td>\n",
              "      <td>Amoxicillin</td>\n",
              "      <td>Otitis Media</td>\n",
              "      <td>\"Perforation in my right tympanic membrane (ea...</td>\n",
              "      <td>8</td>\n",
              "      <td>2011-04-12</td>\n",
              "      <td>16</td>\n",
              "      <td>ANALGESICS,ANTIBIOTIC THERAPY,Tympanostomy Tub...</td>\n",
              "      <td>perfor right tympan membran eardrum linger upp...</td>\n",
              "      <td>1</td>\n",
              "    </tr>\n",
              "    <tr>\n",
              "      <th>2</th>\n",
              "      <td>153715</td>\n",
              "      <td>Amoxicillin</td>\n",
              "      <td>Otitis Media</td>\n",
              "      <td>\"This medication did not clear up the infectio...</td>\n",
              "      <td>2</td>\n",
              "      <td>2017-05-31</td>\n",
              "      <td>0</td>\n",
              "      <td>ANALGESICS,ANTIBIOTIC THERAPY,Tympanostomy Tub...</td>\n",
              "      <td>medic not clear infect well notic odorless dis...</td>\n",
              "      <td>0</td>\n",
              "    </tr>\n",
              "    <tr>\n",
              "      <th>3</th>\n",
              "      <td>153780</td>\n",
              "      <td>Amoxicillin</td>\n",
              "      <td>Otitis Media</td>\n",
              "      <td>\"My son who was 7 months old at the time was p...</td>\n",
              "      <td>1</td>\n",
              "      <td>2016-12-09</td>\n",
              "      <td>0</td>\n",
              "      <td>ANALGESICS,ANTIBIOTIC THERAPY,Tympanostomy Tub...</td>\n",
              "      <td>son month old time prescrib amoxicillin ear in...</td>\n",
              "      <td>0</td>\n",
              "    </tr>\n",
              "    <tr>\n",
              "      <th>4</th>\n",
              "      <td>153838</td>\n",
              "      <td>Amoxicillin</td>\n",
              "      <td>Otitis Media</td>\n",
              "      <td>\"This medication works amazingly for ear infec...</td>\n",
              "      <td>9</td>\n",
              "      <td>2013-10-02</td>\n",
              "      <td>12</td>\n",
              "      <td>ANALGESICS,ANTIBIOTIC THERAPY,Tympanostomy Tub...</td>\n",
              "      <td>medic work amaz ear infect ear infect count li...</td>\n",
              "      <td>1</td>\n",
              "    </tr>\n",
              "  </tbody>\n",
              "</table>\n",
              "</div>"
            ],
            "text/plain": [
              "   uniqueId  ... sentiment\n",
              "0    131173  ...         1\n",
              "1    153899  ...         1\n",
              "2    153715  ...         0\n",
              "3    153780  ...         0\n",
              "4    153838  ...         1\n",
              "\n",
              "[5 rows x 10 columns]"
            ]
          },
          "metadata": {
            "tags": []
          },
          "execution_count": 13
        }
      ]
    },
    {
      "cell_type": "code",
      "metadata": {
        "colab": {
          "base_uri": "https://localhost:8080/"
        },
        "id": "hIQm67epqMHs",
        "outputId": "8880b1fb-8767-41d5-f15d-88e287817c3d"
      },
      "source": [
        "Drugscom_train.sentiment.value_counts(normalize=True)"
      ],
      "execution_count": 14,
      "outputs": [
        {
          "output_type": "execute_result",
          "data": {
            "text/plain": [
              "1    0.696646\n",
              "0    0.303354\n",
              "Name: sentiment, dtype: float64"
            ]
          },
          "metadata": {
            "tags": []
          },
          "execution_count": 14
        }
      ]
    },
    {
      "cell_type": "code",
      "metadata": {
        "id": "ug-7MkJFqRKC"
      },
      "source": [
        "def specific_condition_data(df,condition):\n",
        "  \n",
        "  return df[df['condition']==condition]"
      ],
      "execution_count": 15,
      "outputs": []
    },
    {
      "cell_type": "markdown",
      "metadata": {
        "id": "ZRaDujZQw1Gn"
      },
      "source": [
        "## Splitting data"
      ]
    },
    {
      "cell_type": "code",
      "metadata": {
        "id": "Hb54owvIu7Cr"
      },
      "source": [
        "training_data=specific_condition_data(Drugscom_train,'Acne')\n",
        "testing_data=specific_condition_data(Drugscom_test,'Acne')"
      ],
      "execution_count": 16,
      "outputs": []
    },
    {
      "cell_type": "code",
      "metadata": {
        "id": "rk2WzekioZoE"
      },
      "source": [
        "X_train=training_data.clean_review\n",
        "y_train=training_data.sentiment\n",
        "X_test=testing_data.clean_review\n",
        "y_test=testing_data.sentiment"
      ],
      "execution_count": 17,
      "outputs": []
    },
    {
      "cell_type": "code",
      "metadata": {
        "id": "T_KDkNr_w4hW"
      },
      "source": [
        "cv = CountVectorizer(max_features = 20000, ngram_range = (4, 4))"
      ],
      "execution_count": 18,
      "outputs": []
    },
    {
      "cell_type": "code",
      "metadata": {
        "id": "AXTxXFYeqCfb"
      },
      "source": [
        "X_train_cv=cv.fit_transform(X_train)\n",
        "X_test_cv=cv.transform(X_test)"
      ],
      "execution_count": 19,
      "outputs": []
    },
    {
      "cell_type": "markdown",
      "metadata": {
        "id": "jmIKapnhFISY"
      },
      "source": [
        "## Model creation"
      ]
    },
    {
      "cell_type": "markdown",
      "metadata": {
        "id": "N-WHQDXTcQgi"
      },
      "source": [
        "### Logistic regression,  Multinomial Naive Bayes, Bernoulli Naive Bayes"
      ]
    },
    {
      "cell_type": "code",
      "metadata": {
        "id": "vxoUe8_ibNI0"
      },
      "source": [
        "def grid_best_parameter(X_train_cv,y_train,X_test_cv,y_test):\n",
        "\n",
        "  # creating pipeline\n",
        "  pipe_lr=Pipeline([('clf' , LogisticRegression(random_state=42))])\n",
        "  pipe_mnb=Pipeline([('clf', MultinomialNB())])\n",
        "  pipe_bnb=Pipeline([('clf', BernoulliNB())])\n",
        "\n",
        "\n",
        "  #creating parameter\n",
        "\n",
        "  #C= [1.0, 0.5, 0.1]\n",
        "  C=np.logspace(-50, 50, 100)\n",
        "  alpha= [0.01, 0.1, 0.5, 1.0, 10.0]\n",
        "\n",
        "  param_lr =[{'clf__penalty': ['l1', 'l2'],\n",
        "\t\t          'clf__C': C,\n",
        "\t\t          'clf__solver': ['liblinear','lbfgs']}] \n",
        "\n",
        "  param_mnb=[{'clf__alpha': alpha}]\n",
        "\n",
        "  param_bnb=[{'clf__alpha': alpha}]\n",
        "\n",
        "  # creating gridsearch\n",
        "\n",
        "  grid_lr=GridSearchCV(estimator=pipe_lr,param_grid=param_lr,scoring='accuracy',cv=10,n_jobs=-1)\n",
        "  grid_mnb=GridSearchCV(estimator=pipe_mnb,param_grid=param_mnb,cv=10,verbose=True, n_jobs=-1)\n",
        "  grid_bnb=GridSearchCV(estimator=pipe_bnb,param_grid=param_bnb,cv=10,verbose=True, n_jobs=-1)\n",
        "\n",
        "  #listing pipelines\n",
        "\n",
        "  grid=[grid_lr, grid_mnb, grid_bnb]\n",
        "\n",
        "  #dictionary of pipelines and models\n",
        "\n",
        "  grid_dict={0: 'Logistic Regression', 1: 'Multi Nomial NB', 2: 'Bernoulli NB'}\n",
        "\n",
        "  # fitting grid search \n",
        "\n",
        "  print('Performing model optimizations...')\n",
        "  best_accuracy = 0.0\n",
        "  best_model = 0\n",
        "  best_grid = ''\n",
        "\n",
        "  for i, g in enumerate(grid):\n",
        "    print('\\nEstimator: %s' % grid_dict[i])\t\n",
        "    # Fit grid search\t\n",
        "    g.fit(X_train_cv, y_train)\n",
        "    # Best params\n",
        "    print('Best params: %s' % g.best_params_)\n",
        "    # Best training data accuracy\n",
        "    print('Best training accuracy: %.3f' % g.best_score_)\n",
        "    # Predict on test data with best params\n",
        "    prediction = g.predict(X_test_cv)\n",
        "    # Test data accuracy of model with best params\n",
        "    print('Test set accuracy score for best params: %.3f ' % accuracy_score(y_test, prediction))\n",
        "    # Track best (highest test accuracy) model\n",
        "    if accuracy_score(y_test, prediction) > best_accuracy:\n",
        "      best_accuracy = accuracy_score(y_test, prediction)\n",
        "      best_model = g\n",
        "      best_grid = i\n",
        "  print('\\nClassifier with best test set accuracy: %s' % grid_dict[best_grid])\n",
        "  print('\\nAccuracy score:%s' % best_accuracy)\n",
        "\n",
        "\n",
        "  return\n",
        "\n",
        "\n",
        "#https://www.kdnuggets.com/2018/01/managing-machine-learning-workflows-scikit-learn-pipelines-part-3.html"
      ],
      "execution_count": 20,
      "outputs": []
    },
    {
      "cell_type": "code",
      "metadata": {
        "colab": {
          "base_uri": "https://localhost:8080/"
        },
        "id": "QKVUkpt3PF2H",
        "outputId": "3266fa3b-65ee-4997-fcdb-1b2ec6226253"
      },
      "source": [
        "grid_best_parameter(X_train_cv,y_train,X_test_cv,y_test)"
      ],
      "execution_count": 21,
      "outputs": [
        {
          "output_type": "stream",
          "text": [
            "Performing model optimizations...\n",
            "\n",
            "Estimator: Logistic Regression\n",
            "Best params: {'clf__C': 3.1992671377973845, 'clf__penalty': 'l2', 'clf__solver': 'liblinear'}\n",
            "Best training accuracy: 0.887\n",
            "Test set accuracy score for best params: 0.787 \n",
            "\n",
            "Estimator: Multi Nomial NB\n",
            "Fitting 10 folds for each of 5 candidates, totalling 50 fits\n"
          ],
          "name": "stdout"
        },
        {
          "output_type": "stream",
          "text": [
            "[Parallel(n_jobs=-1)]: Using backend LokyBackend with 2 concurrent workers.\n",
            "[Parallel(n_jobs=-1)]: Done  50 out of  50 | elapsed:    0.4s finished\n",
            "[Parallel(n_jobs=-1)]: Using backend LokyBackend with 2 concurrent workers.\n"
          ],
          "name": "stderr"
        },
        {
          "output_type": "stream",
          "text": [
            "Best params: {'clf__alpha': 1.0}\n",
            "Best training accuracy: 0.865\n",
            "Test set accuracy score for best params: 0.766 \n",
            "\n",
            "Estimator: Bernoulli NB\n",
            "Fitting 10 folds for each of 5 candidates, totalling 50 fits\n",
            "Best params: {'clf__alpha': 0.5}\n",
            "Best training accuracy: 0.865\n",
            "Test set accuracy score for best params: 0.755 \n",
            "\n",
            "Classifier with best test set accuracy: Logistic Regression\n",
            "\n",
            "Accuracy score:0.7869318181818182\n"
          ],
          "name": "stdout"
        },
        {
          "output_type": "stream",
          "text": [
            "[Parallel(n_jobs=-1)]: Done  50 out of  50 | elapsed:    0.5s finished\n"
          ],
          "name": "stderr"
        }
      ]
    },
    {
      "cell_type": "markdown",
      "metadata": {
        "id": "8vWgN9tAcLUZ"
      },
      "source": [
        "### Deep learning model"
      ]
    },
    {
      "cell_type": "code",
      "metadata": {
        "id": "lLhv_A33cK_G"
      },
      "source": [
        "# fitting model\n",
        "model = keras.models.Sequential()\n",
        "\n",
        "model.add(keras.layers.Dense(200, input_shape=(20000,)))\n",
        "model.add(keras.layers.BatchNormalization())\n",
        "model.add(keras.layers.Activation('relu'))\n",
        "model.add(keras.layers.Dropout(0.5))\n",
        "\n",
        "model.add(keras.layers.Dense(300))\n",
        "model.add(keras.layers.BatchNormalization())\n",
        "model.add(keras.layers.Activation('relu'))\n",
        "model.add(keras.layers.Dropout(0.5))\n",
        "\n",
        "model.add(keras.layers.Dense(100, activation='relu'))\n",
        "model.add(keras.layers.Dense(1, activation='sigmoid'))\n"
      ],
      "execution_count": 22,
      "outputs": []
    },
    {
      "cell_type": "code",
      "metadata": {
        "id": "oETPLyQrcj-s"
      },
      "source": [
        "model.compile(optimizer='adam', loss='binary_crossentropy', metrics=['accuracy'])"
      ],
      "execution_count": 23,
      "outputs": []
    },
    {
      "cell_type": "code",
      "metadata": {
        "id": "4323EmVKcl7K"
      },
      "source": [
        "#model.summary()"
      ],
      "execution_count": 24,
      "outputs": []
    },
    {
      "cell_type": "code",
      "metadata": {
        "colab": {
          "base_uri": "https://localhost:8080/"
        },
        "id": "W1bZs_V1cn6Y",
        "outputId": "e960ceea-586f-4ac9-df6e-a911dba58fe5"
      },
      "source": [
        "hist = model.fit(X_train_cv.todense(), y_train, epochs=20, batch_size=64)"
      ],
      "execution_count": 25,
      "outputs": [
        {
          "output_type": "stream",
          "text": [
            "Epoch 1/20\n",
            "84/84 [==============================] - 5s 51ms/step - loss: 0.6213 - accuracy: 0.7087\n",
            "Epoch 2/20\n",
            "84/84 [==============================] - 4s 50ms/step - loss: 0.4179 - accuracy: 0.8114\n",
            "Epoch 3/20\n",
            "84/84 [==============================] - 4s 51ms/step - loss: 0.2856 - accuracy: 0.8716\n",
            "Epoch 4/20\n",
            "84/84 [==============================] - 4s 51ms/step - loss: 0.2485 - accuracy: 0.8847\n",
            "Epoch 5/20\n",
            "84/84 [==============================] - 4s 49ms/step - loss: 0.2475 - accuracy: 0.8861\n",
            "Epoch 6/20\n",
            "84/84 [==============================] - 4s 49ms/step - loss: 0.2220 - accuracy: 0.9024\n",
            "Epoch 7/20\n",
            "84/84 [==============================] - 4s 49ms/step - loss: 0.2234 - accuracy: 0.9016\n",
            "Epoch 8/20\n",
            "84/84 [==============================] - 4s 48ms/step - loss: 0.1980 - accuracy: 0.9102\n",
            "Epoch 9/20\n",
            "84/84 [==============================] - 4s 49ms/step - loss: 0.2101 - accuracy: 0.9120\n",
            "Epoch 10/20\n",
            "84/84 [==============================] - 4s 49ms/step - loss: 0.1843 - accuracy: 0.9174\n",
            "Epoch 11/20\n",
            "84/84 [==============================] - 4s 49ms/step - loss: 0.1755 - accuracy: 0.9198\n",
            "Epoch 12/20\n",
            "84/84 [==============================] - 4s 49ms/step - loss: 0.1933 - accuracy: 0.9109\n",
            "Epoch 13/20\n",
            "84/84 [==============================] - 4s 50ms/step - loss: 0.1726 - accuracy: 0.9237\n",
            "Epoch 14/20\n",
            "84/84 [==============================] - 4s 49ms/step - loss: 0.1831 - accuracy: 0.9118\n",
            "Epoch 15/20\n",
            "84/84 [==============================] - 4s 49ms/step - loss: 0.1847 - accuracy: 0.9168\n",
            "Epoch 16/20\n",
            "84/84 [==============================] - 4s 49ms/step - loss: 0.1835 - accuracy: 0.9102\n",
            "Epoch 17/20\n",
            "84/84 [==============================] - 4s 49ms/step - loss: 0.1610 - accuracy: 0.9270\n",
            "Epoch 18/20\n",
            "84/84 [==============================] - 4s 49ms/step - loss: 0.1651 - accuracy: 0.9240\n",
            "Epoch 19/20\n",
            "84/84 [==============================] - 4s 49ms/step - loss: 0.1705 - accuracy: 0.9237\n",
            "Epoch 20/20\n",
            "84/84 [==============================] - 4s 50ms/step - loss: 0.1717 - accuracy: 0.9198\n"
          ],
          "name": "stdout"
        }
      ]
    },
    {
      "cell_type": "code",
      "metadata": {
        "colab": {
          "base_uri": "https://localhost:8080/",
          "height": 282
        },
        "id": "7KEGKpLWhtYI",
        "outputId": "b3a0d763-190a-4520-c619-5cb2a811ee6d"
      },
      "source": [
        "%matplotlib inline\n",
        "import matplotlib.pyplot as plt\n",
        "\n",
        "fig, loss_ax = plt.subplots()\n",
        "\n",
        "acc_ax = loss_ax.twinx()\n",
        "\n",
        "loss_ax.set_ylim([0.0, 1.0])\n",
        "acc_ax.set_ylim([0.0, 1.0])\n",
        "\n",
        "loss_ax.plot(hist.history['loss'], 'y', label='train loss')\n",
        "acc_ax.plot(hist.history['accuracy'], 'b', label='train acc')\n",
        "\n",
        "loss_ax.set_xlabel('epoch')\n",
        "loss_ax.set_ylabel('loss')\n",
        "acc_ax.set_ylabel('accuray')\n",
        "\n",
        "loss_ax.legend(loc='upper left')\n",
        "acc_ax.legend(loc='lower left')\n",
        "\n",
        "plt.show()\n",
        "#https://github.com/sharmaroshan/Drugs-Recommendation-using-Reviews/blob/master/DrugsAnalysis.ipynb"
      ],
      "execution_count": 35,
      "outputs": [
        {
          "output_type": "display_data",
          "data": {
            "image/png": "[encoded data removed]",
            "text/plain": [
              "<Figure size 432x288 with 2 Axes>"
            ]
          },
          "metadata": {
            "tags": [],
            "needs_background": "light"
          }
        }
      ]
    },
    {
      "cell_type": "code",
      "metadata": {
        "id": "gcbwGohGl57s"
      },
      "source": [
        "prediction = model.predict(X_test_cv,batch_size=32)\n"
      ],
      "execution_count": 44,
      "outputs": []
    },
    {
      "cell_type": "code",
      "metadata": {
        "colab": {
          "base_uri": "https://localhost:8080/"
        },
        "id": "L2MJeu4il_FH",
        "outputId": "6ed11def-af79-4687-fa34-e739b39665b9"
      },
      "source": [
        "len(list(prediction))"
      ],
      "execution_count": 45,
      "outputs": [
        {
          "output_type": "execute_result",
          "data": {
            "text/plain": [
              "1760"
            ]
          },
          "metadata": {
            "tags": []
          },
          "execution_count": 45
        }
      ]
    },
    {
      "cell_type": "code",
      "metadata": {
        "colab": {
          "base_uri": "https://localhost:8080/"
        },
        "id": "Kd4znQnVnfwp",
        "outputId": "0c4572bc-4d9c-4303-f0a5-b65a4ca08d32"
      },
      "source": [
        "len(list(y_test))"
      ],
      "execution_count": 46,
      "outputs": [
        {
          "output_type": "execute_result",
          "data": {
            "text/plain": [
              "1760"
            ]
          },
          "metadata": {
            "tags": []
          },
          "execution_count": 46
        }
      ]
    },
    {
      "cell_type": "markdown",
      "metadata": {
        "id": "XzxDnc19tslq"
      },
      "source": [
        "#### Predictions"
      ]
    },
    {
      "cell_type": "code",
      "metadata": {
        "colab": {
          "base_uri": "https://localhost:8080/",
          "height": 158
        },
        "id": "x3ZLwihvj59t",
        "outputId": "15917fe7-86b2-4899-c7db-0805409426cd"
      },
      "source": [
        "Print"
      ],
      "execution_count": 26,
      "outputs": [
        {
          "output_type": "error",
          "ename": "NameError",
          "evalue": "ignored",
          "traceback": [
            "\u001b[0;31m---------------------------------------------------------------------------\u001b[0m",
            "\u001b[0;31mNameError\u001b[0m                                 Traceback (most recent call last)",
            "\u001b[0;32m<ipython-input-26-3e40c66b1e71>\u001b[0m in \u001b[0;36m<module>\u001b[0;34m()\u001b[0m\n\u001b[0;32m----> 1\u001b[0;31m \u001b[0mPrint\u001b[0m\u001b[0;34m\u001b[0m\u001b[0;34m\u001b[0m\u001b[0m\n\u001b[0m",
            "\u001b[0;31mNameError\u001b[0m: name 'Print' is not defined"
          ]
        }
      ]
    },
    {
      "cell_type": "code",
      "metadata": {
        "id": "7qTd4tA3Fmof"
      },
      "source": [
        "def predicted_recommend(predictions,testing_data):\n",
        "\n",
        "  predict_df=pd.DataFrame(testing_data.sentiment)\n",
        "  predict_df['predicted_values']=pd.Series(predictions, index=predict_df.index)\n",
        "  recommend_index=list(predict_df[predict_df['predicted_values']=='1'].index)\n",
        "  recommend_dataframe=testing_data.loc[recommend_index]\n",
        "  recommend_dataframe_grouped=recommend_dataframe[['drugName','rating']].groupby(['drugName']).max()\n",
        "  recommend_dataframe_grouped.sort_values(by='rating', ascending=False)[:10]\n",
        "  recommend_dataframe_grouped=recommend_dataframe_grouped.reset_index()\n",
        "  recommend_dataframe_grouped=recommend_dataframe_grouped.sort_values(by='rating', ascending=False)[:10]\n",
        " \n",
        "  return recommend_dataframe_grouped"
      ],
      "execution_count": null,
      "outputs": []
    },
    {
      "cell_type": "code",
      "metadata": {
        "id": "ps0NdA9AHWZ_"
      },
      "source": [
        "predicted_recommend(predictions,testing_data)"
      ],
      "execution_count": null,
      "outputs": []
    },
    {
      "cell_type": "code",
      "metadata": {
        "id": "v4AfdMQRIqlp"
      },
      "source": [
        ""
      ],
      "execution_count": null,
      "outputs": []
    }
  ]
}