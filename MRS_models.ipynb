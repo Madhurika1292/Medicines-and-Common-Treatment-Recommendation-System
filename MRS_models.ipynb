{
  "nbformat": 4,
  "nbformat_minor": 0,
  "metadata": {
    "colab": {
      "name": "MRS models.ipynb",
      "provenance": [],
      "authorship_tag": "ABX9TyPF+w/1l2QTSPW5o1YSPfdO",
      "include_colab_link": true
    },
    "kernelspec": {
      "name": "python3",
      "display_name": "Python 3"
    },
    "language_info": {
      "name": "python"
    }
  },
  "cells": [
    {
      "cell_type": "markdown",
      "metadata": {
        "id": "view-in-github",
        "colab_type": "text"
      },
      "source": [
        "<a href=\"https://colab.research.google.com/github/Madhurika1292/Medicines-and-Common-Treatment-Recommendation-System/blob/main/MRS_models.ipynb\" target=\"_parent\"><img src=\"https://colab.research.google.com/assets/colab-badge.svg\" alt=\"Open In Colab\"/></a>"
      ]
    },
    {
      "cell_type": "markdown",
      "metadata": {
        "id": "HNJqFsJPoatg"
      },
      "source": [
        "# Medicine Recommendation System"
      ]
    },
    {
      "cell_type": "markdown",
      "metadata": {
        "id": "hji-qOi3osdn"
      },
      "source": [
        "## Loading libraries"
      ]
    },
    {
      "cell_type": "code",
      "metadata": {
        "id": "7HTxLqw6owTc"
      },
      "source": [
        "import pandas as pd\n",
        "import numpy as np\n",
        "import matplotlib.pyplot as plt\n",
        "import seaborn as sns\n",
        "from sklearn import naive_bayes\n",
        "from sklearn.linear_model import LogisticRegression\n",
        "from sklearn.neighbors import KNeighborsClassifier\n",
        "from sklearn.feature_extraction.text import CountVectorizer\n",
        "from sklearn.naive_bayes import GaussianNB\n",
        "from sklearn.metrics import precision_score, recall_score, precision_recall_curve,f1_score, fbeta_score\n",
        "from sklearn.preprocessing import StandardScaler\n",
        "from sklearn.metrics import accuracy_score, confusion_matrix, roc_curve, roc_auc_score, make_scorer\n",
        "from sklearn.pipeline import Pipeline\n",
        "from sklearn.model_selection import GridSearchCV\n",
        "from sklearn.naive_bayes import MultinomialNB, BernoulliNB\n",
        "from textblob import TextBlob\n",
        "import tensorflow as tf\n",
        "from sklearn.metrics import mean_squared_error\n",
        "import warnings\n",
        "with warnings.catch_warnings():\n",
        "    warnings.simplefilter(\"ignore\")\n",
        "    warnings.warn(\"deprecated\", DeprecationWarning)\n",
        "\n",
        "from tensorflow.python.keras.models import Sequential\n",
        "from tensorflow.python.keras.layers import Dense, Bidirectional, LSTM, BatchNormalization, Dropout\n",
        "from tensorflow.python.keras.preprocessing.sequence import pad_sequences\n",
        "import keras\n",
        "from keras.models import Sequential\n",
        "from keras.layers import Dense\n",
        "import random\n",
        "from sklearn.svm import LinearSVC\n",
        "from sklearn.tree import DecisionTreeClassifier\n",
        "from sklearn.ensemble import RandomForestClassifier\n",
        "from math import sqrt\n",
        "from sklearn.metrics import precision_score, f1_score, recall_score\n",
        "\n",
        "\n",
        "\n"
      ],
      "execution_count": 1,
      "outputs": []
    },
    {
      "cell_type": "markdown",
      "metadata": {
        "id": "u-gdkQIToq68"
      },
      "source": [
        "## Data Loading"
      ]
    },
    {
      "cell_type": "code",
      "metadata": {
        "colab": {
          "base_uri": "https://localhost:8080/"
        },
        "id": "hL8BrGe0o3EL",
        "outputId": "a0f30e4e-87db-4431-c46d-b17afe8cfe44"
      },
      "source": [
        "# Importing dataset from drive\n",
        "from google.colab import drive\n",
        "drive.mount('/content/gdrive/')\n",
        "\n",
        "import sys\n",
        "sys.path.append('/content/gdrive/My Drive/Drugscom')"
      ],
      "execution_count": 2,
      "outputs": [
        {
          "output_type": "stream",
          "text": [
            "Drive already mounted at /content/gdrive/; to attempt to forcibly remount, call drive.mount(\"/content/gdrive/\", force_remount=True).\n"
          ],
          "name": "stdout"
        }
      ]
    },
    {
      "cell_type": "code",
      "metadata": {
        "colab": {
          "base_uri": "https://localhost:8080/"
        },
        "id": "IuTfErhZpB2Y",
        "outputId": "a7d536d7-db48-47a6-9592-e366b9d2a6b3"
      },
      "source": [
        "!ls gdrive/MyDrive/Drugscom/"
      ],
      "execution_count": 3,
      "outputs": [
        {
          "output_type": "stream",
          "text": [
            "Drugscom_test.csv     Drugscom_train.csv\n",
            "drugsComTest_raw.csv  drugsComTrain_raw.csv\n"
          ],
          "name": "stdout"
        }
      ]
    },
    {
      "cell_type": "code",
      "metadata": {
        "id": "Lt9ueg3mpGKa"
      },
      "source": [
        "#Loading data\n",
        "Drugscom_train=pd.read_csv('/content/gdrive/My Drive/Drugscom/Drugscom_train.csv')\n",
        "Drugscom_test=pd.read_csv('/content/gdrive/My Drive/Drugscom/Drugscom_test.csv')"
      ],
      "execution_count": 4,
      "outputs": []
    },
    {
      "cell_type": "code",
      "metadata": {
        "colab": {
          "base_uri": "https://localhost:8080/"
        },
        "id": "YzbzM6bgp8q5",
        "outputId": "c89e1a09-e8b0-4e38-8a6c-07f6ed12294a"
      },
      "source": [
        "#Before\n",
        "# checking for null values\n",
        "Drugscom_train.isnull().sum()"
      ],
      "execution_count": 5,
      "outputs": [
        {
          "output_type": "execute_result",
          "data": {
            "text/plain": [
              "Unnamed: 0      0\n",
              "uniqueId        0\n",
              "drugName        0\n",
              "condition       0\n",
              "review          0\n",
              "rating          0\n",
              "date            0\n",
              "usefulCount     0\n",
              "treatments      0\n",
              "clean_review    6\n",
              "dtype: int64"
            ]
          },
          "metadata": {
            "tags": []
          },
          "execution_count": 5
        }
      ]
    },
    {
      "cell_type": "code",
      "metadata": {
        "colab": {
          "base_uri": "https://localhost:8080/"
        },
        "id": "pONVgsLQqAkG",
        "outputId": "f1246efd-4340-43c0-f17c-2e5cb40a64eb"
      },
      "source": [
        "# checking for null values\n",
        "Drugscom_test.isnull().sum()"
      ],
      "execution_count": 6,
      "outputs": [
        {
          "output_type": "execute_result",
          "data": {
            "text/plain": [
              "Unnamed: 0      0\n",
              "uniqueId        0\n",
              "drugName        0\n",
              "condition       0\n",
              "review          0\n",
              "rating          0\n",
              "date            0\n",
              "usefulCount     0\n",
              "treatments      0\n",
              "clean_review    2\n",
              "dtype: int64"
            ]
          },
          "metadata": {
            "tags": []
          },
          "execution_count": 6
        }
      ]
    },
    {
      "cell_type": "code",
      "metadata": {
        "id": "otmEmTlfqCnT"
      },
      "source": [
        "# Dropping null values\n",
        "Drugscom_train = Drugscom_train.dropna(axis=0)\n",
        "Drugscom_test = Drugscom_test.dropna(axis=0)"
      ],
      "execution_count": 7,
      "outputs": []
    },
    {
      "cell_type": "code",
      "metadata": {
        "colab": {
          "base_uri": "https://localhost:8080/"
        },
        "id": "pTG6fY7HqEsX",
        "outputId": "209cba39-f0e9-438d-b0e3-09c8cfe55ee1"
      },
      "source": [
        "# checking for null values\n",
        "Drugscom_train.isnull().sum()"
      ],
      "execution_count": 8,
      "outputs": [
        {
          "output_type": "execute_result",
          "data": {
            "text/plain": [
              "Unnamed: 0      0\n",
              "uniqueId        0\n",
              "drugName        0\n",
              "condition       0\n",
              "review          0\n",
              "rating          0\n",
              "date            0\n",
              "usefulCount     0\n",
              "treatments      0\n",
              "clean_review    0\n",
              "dtype: int64"
            ]
          },
          "metadata": {
            "tags": []
          },
          "execution_count": 8
        }
      ]
    },
    {
      "cell_type": "code",
      "metadata": {
        "colab": {
          "base_uri": "https://localhost:8080/"
        },
        "id": "exfBZdhCqH-E",
        "outputId": "8b6d26b0-b5ff-419c-ffc2-29a2309ce401"
      },
      "source": [
        "# checking for null values\n",
        "Drugscom_test.isnull().sum()"
      ],
      "execution_count": 9,
      "outputs": [
        {
          "output_type": "execute_result",
          "data": {
            "text/plain": [
              "Unnamed: 0      0\n",
              "uniqueId        0\n",
              "drugName        0\n",
              "condition       0\n",
              "review          0\n",
              "rating          0\n",
              "date            0\n",
              "usefulCount     0\n",
              "treatments      0\n",
              "clean_review    0\n",
              "dtype: int64"
            ]
          },
          "metadata": {
            "tags": []
          },
          "execution_count": 9
        }
      ]
    },
    {
      "cell_type": "code",
      "metadata": {
        "id": "YdDSH8WJqH34"
      },
      "source": [
        "#Changing the \"Unnamed: 0\" column to uniqueId as it represents the unique id of the drugs\n",
        "Drugscom_train=Drugscom_train.drop('Unnamed: 0', axis='columns')\n",
        "Drugscom_test=Drugscom_test.drop('Unnamed: 0', axis='columns')"
      ],
      "execution_count": 10,
      "outputs": []
    },
    {
      "cell_type": "code",
      "metadata": {
        "colab": {
          "base_uri": "https://localhost:8080/",
          "height": 281
        },
        "id": "YaB3QvtaqMOd",
        "outputId": "3eb58eb3-3033-44fb-c3f1-2929cb735b99"
      },
      "source": [
        "Drugscom_train.head()"
      ],
      "execution_count": 11,
      "outputs": [
        {
          "output_type": "execute_result",
          "data": {
            "text/html": [
              "<div>\n",
              "<style scoped>\n",
              "    .dataframe tbody tr th:only-of-type {\n",
              "        vertical-align: middle;\n",
              "    }\n",
              "\n",
              "    .dataframe tbody tr th {\n",
              "        vertical-align: top;\n",
              "    }\n",
              "\n",
              "    .dataframe thead th {\n",
              "        text-align: right;\n",
              "    }\n",
              "</style>\n",
              "<table border=\"1\" class=\"dataframe\">\n",
              "  <thead>\n",
              "    <tr style=\"text-align: right;\">\n",
              "      <th></th>\n",
              "      <th>uniqueId</th>\n",
              "      <th>drugName</th>\n",
              "      <th>condition</th>\n",
              "      <th>review</th>\n",
              "      <th>rating</th>\n",
              "      <th>date</th>\n",
              "      <th>usefulCount</th>\n",
              "      <th>treatments</th>\n",
              "      <th>clean_review</th>\n",
              "    </tr>\n",
              "  </thead>\n",
              "  <tbody>\n",
              "    <tr>\n",
              "      <th>0</th>\n",
              "      <td>131173</td>\n",
              "      <td>A / B Otic</td>\n",
              "      <td>Otitis Media</td>\n",
              "      <td>\"It numbs the pain. It makes my ear feel heavi...</td>\n",
              "      <td>10</td>\n",
              "      <td>2009-09-23</td>\n",
              "      <td>20</td>\n",
              "      <td>ANALGESICS,ANTIBIOTIC THERAPY,Tympanostomy Tub...</td>\n",
              "      <td>numb pain make ear feel heavier least throb su...</td>\n",
              "    </tr>\n",
              "    <tr>\n",
              "      <th>1</th>\n",
              "      <td>153899</td>\n",
              "      <td>Amoxicillin</td>\n",
              "      <td>Otitis Media</td>\n",
              "      <td>\"Perforation in my right tympanic membrane (ea...</td>\n",
              "      <td>8</td>\n",
              "      <td>2011-04-12</td>\n",
              "      <td>16</td>\n",
              "      <td>ANALGESICS,ANTIBIOTIC THERAPY,Tympanostomy Tub...</td>\n",
              "      <td>perfor right tympan membran eardrum linger upp...</td>\n",
              "    </tr>\n",
              "    <tr>\n",
              "      <th>2</th>\n",
              "      <td>153715</td>\n",
              "      <td>Amoxicillin</td>\n",
              "      <td>Otitis Media</td>\n",
              "      <td>\"This medication did not clear up the infectio...</td>\n",
              "      <td>2</td>\n",
              "      <td>2017-05-31</td>\n",
              "      <td>0</td>\n",
              "      <td>ANALGESICS,ANTIBIOTIC THERAPY,Tympanostomy Tub...</td>\n",
              "      <td>medic not clear infect well notic odorless dis...</td>\n",
              "    </tr>\n",
              "    <tr>\n",
              "      <th>3</th>\n",
              "      <td>153780</td>\n",
              "      <td>Amoxicillin</td>\n",
              "      <td>Otitis Media</td>\n",
              "      <td>\"My son who was 7 months old at the time was p...</td>\n",
              "      <td>1</td>\n",
              "      <td>2016-12-09</td>\n",
              "      <td>0</td>\n",
              "      <td>ANALGESICS,ANTIBIOTIC THERAPY,Tympanostomy Tub...</td>\n",
              "      <td>son month old time prescrib amoxicillin ear in...</td>\n",
              "    </tr>\n",
              "    <tr>\n",
              "      <th>4</th>\n",
              "      <td>153838</td>\n",
              "      <td>Amoxicillin</td>\n",
              "      <td>Otitis Media</td>\n",
              "      <td>\"This medication works amazingly for ear infec...</td>\n",
              "      <td>9</td>\n",
              "      <td>2013-10-02</td>\n",
              "      <td>12</td>\n",
              "      <td>ANALGESICS,ANTIBIOTIC THERAPY,Tympanostomy Tub...</td>\n",
              "      <td>medic work amaz ear infect ear infect count li...</td>\n",
              "    </tr>\n",
              "  </tbody>\n",
              "</table>\n",
              "</div>"
            ],
            "text/plain": [
              "   uniqueId  ...                                       clean_review\n",
              "0    131173  ...  numb pain make ear feel heavier least throb su...\n",
              "1    153899  ...  perfor right tympan membran eardrum linger upp...\n",
              "2    153715  ...  medic not clear infect well notic odorless dis...\n",
              "3    153780  ...  son month old time prescrib amoxicillin ear in...\n",
              "4    153838  ...  medic work amaz ear infect ear infect count li...\n",
              "\n",
              "[5 rows x 9 columns]"
            ]
          },
          "metadata": {
            "tags": []
          },
          "execution_count": 11
        }
      ]
    },
    {
      "cell_type": "markdown",
      "metadata": {
        "id": "FzJMNertPrJ1"
      },
      "source": [
        "Above dataset is huge to feed into machine learning model and its unnecessary. So filtering the data with the conditions provided by the user."
      ]
    },
    {
      "cell_type": "code",
      "metadata": {
        "id": "ug-7MkJFqRKC"
      },
      "source": [
        "#filtering the data with specific condition\n",
        "def specific_condition_data(df,condition):\n",
        "  \n",
        "  return df[df['condition']==condition]"
      ],
      "execution_count": 12,
      "outputs": []
    },
    {
      "cell_type": "markdown",
      "metadata": {
        "id": "ZRaDujZQw1Gn"
      },
      "source": [
        "## Splitting data"
      ]
    },
    {
      "cell_type": "code",
      "metadata": {
        "colab": {
          "base_uri": "https://localhost:8080/",
          "height": 436
        },
        "id": "kFCDwhZKU_VM",
        "outputId": "df1bb1d9-30a8-4b42-b9cf-d9889a8ace6b"
      },
      "source": [
        "Drugscom_train.groupby('condition').count()\n",
        "grouped = Drugscom_train.groupby('condition').count()\n",
        "grouped.sort_values('uniqueId', ascending=False)"
      ],
      "execution_count": 13,
      "outputs": [
        {
          "output_type": "execute_result",
          "data": {
            "text/html": [
              "<div>\n",
              "<style scoped>\n",
              "    .dataframe tbody tr th:only-of-type {\n",
              "        vertical-align: middle;\n",
              "    }\n",
              "\n",
              "    .dataframe tbody tr th {\n",
              "        vertical-align: top;\n",
              "    }\n",
              "\n",
              "    .dataframe thead th {\n",
              "        text-align: right;\n",
              "    }\n",
              "</style>\n",
              "<table border=\"1\" class=\"dataframe\">\n",
              "  <thead>\n",
              "    <tr style=\"text-align: right;\">\n",
              "      <th></th>\n",
              "      <th>uniqueId</th>\n",
              "      <th>drugName</th>\n",
              "      <th>review</th>\n",
              "      <th>rating</th>\n",
              "      <th>date</th>\n",
              "      <th>usefulCount</th>\n",
              "      <th>treatments</th>\n",
              "      <th>clean_review</th>\n",
              "    </tr>\n",
              "    <tr>\n",
              "      <th>condition</th>\n",
              "      <th></th>\n",
              "      <th></th>\n",
              "      <th></th>\n",
              "      <th></th>\n",
              "      <th></th>\n",
              "      <th></th>\n",
              "      <th></th>\n",
              "      <th></th>\n",
              "    </tr>\n",
              "  </thead>\n",
              "  <tbody>\n",
              "    <tr>\n",
              "      <th>Birth Control</th>\n",
              "      <td>28788</td>\n",
              "      <td>28788</td>\n",
              "      <td>28788</td>\n",
              "      <td>28788</td>\n",
              "      <td>28788</td>\n",
              "      <td>28788</td>\n",
              "      <td>28788</td>\n",
              "      <td>28788</td>\n",
              "    </tr>\n",
              "    <tr>\n",
              "      <th>Depression</th>\n",
              "      <td>9069</td>\n",
              "      <td>9069</td>\n",
              "      <td>9069</td>\n",
              "      <td>9069</td>\n",
              "      <td>9069</td>\n",
              "      <td>9069</td>\n",
              "      <td>9069</td>\n",
              "      <td>9069</td>\n",
              "    </tr>\n",
              "    <tr>\n",
              "      <th>Pain</th>\n",
              "      <td>6145</td>\n",
              "      <td>6145</td>\n",
              "      <td>6145</td>\n",
              "      <td>6145</td>\n",
              "      <td>6145</td>\n",
              "      <td>6145</td>\n",
              "      <td>6145</td>\n",
              "      <td>6145</td>\n",
              "    </tr>\n",
              "    <tr>\n",
              "      <th>Anxiety</th>\n",
              "      <td>5903</td>\n",
              "      <td>5903</td>\n",
              "      <td>5903</td>\n",
              "      <td>5903</td>\n",
              "      <td>5903</td>\n",
              "      <td>5903</td>\n",
              "      <td>5903</td>\n",
              "      <td>5903</td>\n",
              "    </tr>\n",
              "    <tr>\n",
              "      <th>Acne</th>\n",
              "      <td>5588</td>\n",
              "      <td>5588</td>\n",
              "      <td>5588</td>\n",
              "      <td>5588</td>\n",
              "      <td>5588</td>\n",
              "      <td>5588</td>\n",
              "      <td>5588</td>\n",
              "      <td>5588</td>\n",
              "    </tr>\n",
              "    <tr>\n",
              "      <th>...</th>\n",
              "      <td>...</td>\n",
              "      <td>...</td>\n",
              "      <td>...</td>\n",
              "      <td>...</td>\n",
              "      <td>...</td>\n",
              "      <td>...</td>\n",
              "      <td>...</td>\n",
              "      <td>...</td>\n",
              "    </tr>\n",
              "    <tr>\n",
              "      <th>Campylobacter Gastroenteritis</th>\n",
              "      <td>2</td>\n",
              "      <td>2</td>\n",
              "      <td>2</td>\n",
              "      <td>2</td>\n",
              "      <td>2</td>\n",
              "      <td>2</td>\n",
              "      <td>2</td>\n",
              "      <td>2</td>\n",
              "    </tr>\n",
              "    <tr>\n",
              "      <th>Hairy Cell Leukemia</th>\n",
              "      <td>2</td>\n",
              "      <td>2</td>\n",
              "      <td>2</td>\n",
              "      <td>2</td>\n",
              "      <td>2</td>\n",
              "      <td>2</td>\n",
              "      <td>2</td>\n",
              "      <td>2</td>\n",
              "    </tr>\n",
              "    <tr>\n",
              "      <th>Typhoid Fever</th>\n",
              "      <td>2</td>\n",
              "      <td>2</td>\n",
              "      <td>2</td>\n",
              "      <td>2</td>\n",
              "      <td>2</td>\n",
              "      <td>2</td>\n",
              "      <td>2</td>\n",
              "      <td>2</td>\n",
              "    </tr>\n",
              "    <tr>\n",
              "      <th>Duodenal Ulcer Prophylaxis</th>\n",
              "      <td>2</td>\n",
              "      <td>2</td>\n",
              "      <td>2</td>\n",
              "      <td>2</td>\n",
              "      <td>2</td>\n",
              "      <td>2</td>\n",
              "      <td>2</td>\n",
              "      <td>2</td>\n",
              "    </tr>\n",
              "    <tr>\n",
              "      <th>Percutaneous Coronary Intervention</th>\n",
              "      <td>2</td>\n",
              "      <td>2</td>\n",
              "      <td>2</td>\n",
              "      <td>2</td>\n",
              "      <td>2</td>\n",
              "      <td>2</td>\n",
              "      <td>2</td>\n",
              "      <td>2</td>\n",
              "    </tr>\n",
              "  </tbody>\n",
              "</table>\n",
              "<p>632 rows × 8 columns</p>\n",
              "</div>"
            ],
            "text/plain": [
              "                                    uniqueId  ...  clean_review\n",
              "condition                                     ...              \n",
              "Birth Control                          28788  ...         28788\n",
              "Depression                              9069  ...          9069\n",
              "Pain                                    6145  ...          6145\n",
              "Anxiety                                 5903  ...          5903\n",
              "Acne                                    5588  ...          5588\n",
              "...                                      ...  ...           ...\n",
              "Campylobacter Gastroenteritis              2  ...             2\n",
              "Hairy Cell Leukemia                        2  ...             2\n",
              "Typhoid Fever                              2  ...             2\n",
              "Duodenal Ulcer Prophylaxis                 2  ...             2\n",
              "Percutaneous Coronary Intervention         2  ...             2\n",
              "\n",
              "[632 rows x 8 columns]"
            ]
          },
          "metadata": {
            "tags": []
          },
          "execution_count": 13
        }
      ]
    },
    {
      "cell_type": "code",
      "metadata": {
        "id": "Hb54owvIu7Cr"
      },
      "source": [
        "#creating training and testing data set\n",
        "training_data=specific_condition_data(Drugscom_train,'Anxiety')\n",
        "testing_data=specific_condition_data(Drugscom_test,'Anxiety')"
      ],
      "execution_count": 14,
      "outputs": []
    },
    {
      "cell_type": "code",
      "metadata": {
        "id": "Bv2hOwnrgD5o"
      },
      "source": [
        "#creating textblob instance for polarity and subjectivity\n",
        "pol = lambda x: TextBlob(x).sentiment.polarity\n",
        "sub = lambda x: TextBlob(x).sentiment.subjectivity"
      ],
      "execution_count": 15,
      "outputs": []
    },
    {
      "cell_type": "code",
      "metadata": {
        "colab": {
          "base_uri": "https://localhost:8080/"
        },
        "id": "n6r7PRiugCct",
        "outputId": "3a1d9b53-7268-4d93-f24b-875116a70251"
      },
      "source": [
        "# applying polarity and subjectivity instance to reviews within data\n",
        "training_data['polarity'] = training_data[\"clean_review\"].apply(pol)\n",
        "training_data['subjectivity'] = training_data[\"clean_review\"].apply(sub)\n",
        "testing_data['polarity'] = testing_data[\"clean_review\"].apply(pol)\n",
        "testing_data['subjectivity'] = testing_data[\"clean_review\"].apply(sub)\n"
      ],
      "execution_count": 16,
      "outputs": [
        {
          "output_type": "stream",
          "text": [
            "/usr/local/lib/python3.7/dist-packages/ipykernel_launcher.py:1: SettingWithCopyWarning: \n",
            "A value is trying to be set on a copy of a slice from a DataFrame.\n",
            "Try using .loc[row_indexer,col_indexer] = value instead\n",
            "\n",
            "See the caveats in the documentation: https://pandas.pydata.org/pandas-docs/stable/user_guide/indexing.html#returning-a-view-versus-a-copy\n",
            "  \"\"\"Entry point for launching an IPython kernel.\n",
            "/usr/local/lib/python3.7/dist-packages/ipykernel_launcher.py:2: SettingWithCopyWarning: \n",
            "A value is trying to be set on a copy of a slice from a DataFrame.\n",
            "Try using .loc[row_indexer,col_indexer] = value instead\n",
            "\n",
            "See the caveats in the documentation: https://pandas.pydata.org/pandas-docs/stable/user_guide/indexing.html#returning-a-view-versus-a-copy\n",
            "  \n",
            "/usr/local/lib/python3.7/dist-packages/ipykernel_launcher.py:3: SettingWithCopyWarning: \n",
            "A value is trying to be set on a copy of a slice from a DataFrame.\n",
            "Try using .loc[row_indexer,col_indexer] = value instead\n",
            "\n",
            "See the caveats in the documentation: https://pandas.pydata.org/pandas-docs/stable/user_guide/indexing.html#returning-a-view-versus-a-copy\n",
            "  This is separate from the ipykernel package so we can avoid doing imports until\n",
            "/usr/local/lib/python3.7/dist-packages/ipykernel_launcher.py:4: SettingWithCopyWarning: \n",
            "A value is trying to be set on a copy of a slice from a DataFrame.\n",
            "Try using .loc[row_indexer,col_indexer] = value instead\n",
            "\n",
            "See the caveats in the documentation: https://pandas.pydata.org/pandas-docs/stable/user_guide/indexing.html#returning-a-view-versus-a-copy\n",
            "  after removing the cwd from sys.path.\n"
          ],
          "name": "stderr"
        }
      ]
    },
    {
      "cell_type": "code",
      "metadata": {
        "id": "5yMpbmUPgAwW"
      },
      "source": [
        "def sentiments(polarity):\n",
        " if (polarity >= 0) :\n",
        "   return 1\n",
        " elif polarity < 0:\n",
        "   return 0"
      ],
      "execution_count": 17,
      "outputs": []
    },
    {
      "cell_type": "code",
      "metadata": {
        "colab": {
          "base_uri": "https://localhost:8080/"
        },
        "id": "_DOceiZUf-hl",
        "outputId": "bd0051ec-8cd8-4a61-bd54-eb432a376089"
      },
      "source": [
        "# Add sentiments to the data\n",
        "training_data[\"sentiment\"] = training_data[\"polarity\"].apply(sentiments)\n",
        "testing_data[\"sentiment\"] = testing_data[\"polarity\"].apply(sentiments)"
      ],
      "execution_count": 18,
      "outputs": [
        {
          "output_type": "stream",
          "text": [
            "/usr/local/lib/python3.7/dist-packages/ipykernel_launcher.py:2: SettingWithCopyWarning: \n",
            "A value is trying to be set on a copy of a slice from a DataFrame.\n",
            "Try using .loc[row_indexer,col_indexer] = value instead\n",
            "\n",
            "See the caveats in the documentation: https://pandas.pydata.org/pandas-docs/stable/user_guide/indexing.html#returning-a-view-versus-a-copy\n",
            "  \n",
            "/usr/local/lib/python3.7/dist-packages/ipykernel_launcher.py:3: SettingWithCopyWarning: \n",
            "A value is trying to be set on a copy of a slice from a DataFrame.\n",
            "Try using .loc[row_indexer,col_indexer] = value instead\n",
            "\n",
            "See the caveats in the documentation: https://pandas.pydata.org/pandas-docs/stable/user_guide/indexing.html#returning-a-view-versus-a-copy\n",
            "  This is separate from the ipykernel package so we can avoid doing imports until\n"
          ],
          "name": "stderr"
        }
      ]
    },
    {
      "cell_type": "code",
      "metadata": {
        "colab": {
          "base_uri": "https://localhost:8080/"
        },
        "id": "lrUHe4KmhbUJ",
        "outputId": "979bd6e4-18f6-49d8-ba33-475f18a79602"
      },
      "source": [
        "training_data.sentiment.value_counts(normalize=True)"
      ],
      "execution_count": 19,
      "outputs": [
        {
          "output_type": "execute_result",
          "data": {
            "text/plain": [
              "1    0.729121\n",
              "0    0.270879\n",
              "Name: sentiment, dtype: float64"
            ]
          },
          "metadata": {
            "tags": []
          },
          "execution_count": 19
        }
      ]
    },
    {
      "cell_type": "code",
      "metadata": {
        "id": "rk2WzekioZoE"
      },
      "source": [
        "#splitting training and testing set\n",
        "X_train=training_data.clean_review\n",
        "y_train=training_data.sentiment\n",
        "X_test=testing_data.clean_review\n",
        "y_test=testing_data.sentiment"
      ],
      "execution_count": 20,
      "outputs": []
    },
    {
      "cell_type": "code",
      "metadata": {
        "id": "T_KDkNr_w4hW"
      },
      "source": [
        "#Creating count vectorizer instance\n",
        "cv = CountVectorizer(max_features = 8000, ngram_range = (4, 4))"
      ],
      "execution_count": 21,
      "outputs": []
    },
    {
      "cell_type": "code",
      "metadata": {
        "id": "AXTxXFYeqCfb"
      },
      "source": [
        "#Fitting count vectorizer instance to training and testing data\n",
        "X_train_cv=cv.fit_transform(X_train)\n",
        "X_test_cv=cv.transform(X_test)"
      ],
      "execution_count": 22,
      "outputs": []
    },
    {
      "cell_type": "markdown",
      "metadata": {
        "id": "jmIKapnhFISY"
      },
      "source": [
        "## Model creation"
      ]
    },
    {
      "cell_type": "markdown",
      "metadata": {
        "id": "N-WHQDXTcQgi"
      },
      "source": [
        "### Logistic regression,  Multinomial Naive Bayes, Bernoulli Naive Bayes"
      ]
    },
    {
      "cell_type": "code",
      "metadata": {
        "id": "vxoUe8_ibNI0"
      },
      "source": [
        "def grid_best_parameter(X_train_cv,y_train,X_test_cv,y_test):\n",
        "\n",
        "  #Report to carry out the metrices and scores of different models\n",
        "  report_table = [[]]\n",
        "  \n",
        "  #creating parameter\n",
        "\n",
        "  #C= [1.0, 0.5, 0.1]\n",
        "  C=np.logspace(-50, 50, 100)\n",
        "  alpha= [0.01, 0.1, 0.5, 1.0, 10.0]\n",
        "  k_range = list(range(1, 16))\n",
        "    \n",
        "\n",
        "  # creating pipeline\n",
        "  pipe_lr=Pipeline([('clf' , LogisticRegression(random_state=42))])\n",
        "  pipe_mnb=Pipeline([('clf', MultinomialNB())])\n",
        "  pipe_bnb=Pipeline([('clf', BernoulliNB())])\n",
        "  pipe_svc = Pipeline([('clf', LinearSVC())])\n",
        "  pipe_dtc = Pipeline([('clf', DecisionTreeClassifier())])\n",
        "  pipe_rfc = Pipeline([('clf', RandomForestClassifier(random_state=42))])\n",
        "\n",
        "  #creating parameter\n",
        "\n",
        "  param_lr =[{'clf__penalty': ['l1', 'l2'],\n",
        "\t\t          'clf__C': C,\n",
        "\t\t          'clf__solver': ['liblinear','lbfgs']}] \n",
        "\n",
        "  param_mnb=[{'clf__alpha': alpha}]\n",
        "\n",
        "  param_bnb=[{'clf__alpha': alpha}]\n",
        "  param_svc = {'clf__C':np.arange(0.01,100,10)}\n",
        "  param_dtc = {'clf__criterion':['gini','entropy'],'clf__max_depth':[4,5,6,7,8,9,10,11,12,15,20,30,40,50,70,90,120,150]}\n",
        "  param_rfc = { \n",
        "    'clf__n_estimators': [200, 500],\n",
        "    'clf__max_features': ['auto', 'sqrt', 'log2'],\n",
        "    'clf__max_depth' : [4,5,6,7,8],\n",
        "    'clf__criterion' :['gini', 'entropy']\n",
        "}\n",
        "\n",
        "  # creating gridsearch\n",
        "\n",
        "  grid_lr=GridSearchCV(estimator=pipe_lr,param_grid=param_lr,scoring='accuracy',cv=10,n_jobs=-1)\n",
        "  grid_mnb=GridSearchCV(estimator=pipe_mnb,param_grid=param_mnb,cv=10,verbose=True, n_jobs=-1)\n",
        "  grid_bnb=GridSearchCV(estimator=pipe_bnb,param_grid=param_bnb,cv=10,verbose=True, n_jobs=-1)\n",
        "  grid_svc = GridSearchCV(estimator=pipe_svc,param_grid=param_svc,cv=10,return_train_score=True, n_jobs=1)\n",
        "  grid_dtc = GridSearchCV(estimator=pipe_dtc,param_grid=param_dtc,cv=10, n_jobs=1)\n",
        "  grid_rfc = GridSearchCV(estimator=pipe_rfc,param_grid=param_rfc,cv=10, n_jobs=1)\n",
        "\n",
        "  #listing pipelines\n",
        "\n",
        "  grid=[grid_lr, grid_mnb, grid_bnb, grid_svc,grid_dtc, grid_rfc]\n",
        "\n",
        "  #dictionary of pipelines and models\n",
        "\n",
        "  grid_dict={0: 'Logistic Regression', 1: 'Multi Nomial NB', 2: 'Bernoulli NB', 3:'Linear SVC', 4:'DecisionTreeClassifier', 5:'RandomForestClassifier'}\n",
        "\n",
        "  # fitting grid search \n",
        "\n",
        "  print('Performing model optimizations...')\n",
        "  best_accuracy = 0.0\n",
        "  best_model = 0\n",
        "  best_grid = ''\n",
        "\n",
        "  for i, g in enumerate(grid):\n",
        "    print('\\nEstimator: %s' % grid_dict[i])\t\n",
        "    # Fit grid search\t\n",
        "    g.fit(X_train_cv, y_train)\n",
        "    # Best params\n",
        "    #print('Best params: %s' % g.best_params_)\n",
        "    # Best training data accuracy\n",
        "    #print('Best training accuracy: %.3f' % g.best_score_)\n",
        "    # Predict on train data with best params\n",
        "    train_prediction = g.predict(X_train_cv)\n",
        "    # Predict on test data with best params\n",
        "    prediction = g.predict(X_test_cv)\n",
        "    # Test data accuracy of model with best params\n",
        "    #print('Test set accuracy score for best params: %.3f ' % accuracy_score(y_test, prediction))\n",
        "    try:\n",
        "      #calculate roc_auc_score for training data\n",
        "      roc_auc_score_train=roc_auc_score(train_prediction, y_train)\n",
        "\n",
        "      #calculate roc_auc_score for testing data\n",
        "      roc_auc_score_test=roc_auc_score(prediction, y_test)\n",
        "\n",
        "      #calculate RMSE, MSE\n",
        "      rmse_score_test= sqrt(mean_squared_error(y_test, prediction))\n",
        "      mse_score_test= mean_squared_error(y_test,prediction)\n",
        "\n",
        "    except ValueError:\n",
        "      pass\n",
        "   \n",
        "    # Track best (highest test accuracy) model\n",
        "    report_table = report_table+ [[grid_dict[i], g.best_params_, g.score(X_train_cv, y_train), roc_auc_score_train,rmse_score_test,mse_score_test,precision_score(y_test,prediction),f1_score(y_test,prediction),recall_score(y_test,prediction)]]  \n",
        "    if accuracy_score(y_test, prediction) > best_accuracy:\n",
        "      best_accuracy = accuracy_score(y_test, prediction)\n",
        "      best_model = g\n",
        "      best_grid = i\n",
        "  #print('\\nClassifier with best test set accuracy: %s' % grid_dict[best_grid])\n",
        "  #print('\\nAccuracy score:%s' % best_accuracy)\n",
        "  report_table.pop(0)\n",
        "  report = pd.DataFrame(report_table,columns = ['Model name', 'Model parameter', 'Accuracy', 'ROC AUC score','RMSE score','MSE score','Precision','F1_score','Recall'])\n",
        "  return report\n",
        "\n",
        "\n",
        "#https://www.kdnuggets.com/2018/01/managing-machine-learning-workflows-scikit-learn-pipelines-part-3.html"
      ],
      "execution_count": 23,
      "outputs": []
    },
    {
      "cell_type": "code",
      "metadata": {
        "id": "QKVUkpt3PF2H"
      },
      "source": [
        "#report=grid_best_parameter(X_train_cv,y_train,X_test_cv,y_test)"
      ],
      "execution_count": 24,
      "outputs": []
    },
    {
      "cell_type": "code",
      "metadata": {
        "id": "5oB4tcargqlp"
      },
      "source": [
        "#report"
      ],
      "execution_count": 25,
      "outputs": []
    },
    {
      "cell_type": "markdown",
      "metadata": {
        "id": "8vWgN9tAcLUZ"
      },
      "source": [
        "### Deep learning model"
      ]
    },
    {
      "cell_type": "markdown",
      "metadata": {
        "id": "hApmugAUZ7Aw"
      },
      "source": [
        "#### Sequential model\n",
        "\n"
      ]
    },
    {
      "cell_type": "code",
      "metadata": {
        "id": "lLhv_A33cK_G"
      },
      "source": [
        "# fitting model\n",
        "sim_model = keras.models.Sequential()\n",
        "\n",
        "sim_model.add(keras.layers.Dense(200, input_shape=(8000,)))\n",
        "sim_model.add(keras.layers.BatchNormalization())\n",
        "sim_model.add(keras.layers.Activation('relu'))\n",
        "sim_model.add(keras.layers.Dropout(0.5))\n",
        "\n",
        "sim_model.add(keras.layers.Dense(300))\n",
        "sim_model.add(keras.layers.BatchNormalization())\n",
        "sim_model.add(keras.layers.Activation('relu'))\n",
        "sim_model.add(keras.layers.Dropout(0.5))\n",
        "\n",
        "\n",
        "sim_model.add(keras.layers.Dense(400))\n",
        "sim_model.add(keras.layers.BatchNormalization())\n",
        "sim_model.add(keras.layers.Activation('relu'))\n",
        "sim_model.add(keras.layers.Dropout(0.5))\n",
        "\n",
        "sim_model.add(keras.layers.Dense(100, activation='relu'))\n",
        "sim_model.add(keras.layers.Dense(1, activation='sigmoid'))\n"
      ],
      "execution_count": 27,
      "outputs": []
    },
    {
      "cell_type": "code",
      "metadata": {
        "id": "oETPLyQrcj-s"
      },
      "source": [
        "sim_model.compile(optimizer=tf.keras.optimizers.Adam(lr=0.001), loss='binary_crossentropy', metrics=['accuracy','mse'])"
      ],
      "execution_count": 28,
      "outputs": []
    },
    {
      "cell_type": "code",
      "metadata": {
        "id": "4323EmVKcl7K",
        "colab": {
          "base_uri": "https://localhost:8080/"
        },
        "outputId": "883a34c9-e6ad-45f0-8de6-f66b239312cd"
      },
      "source": [
        "sim_model.summary()"
      ],
      "execution_count": 29,
      "outputs": [
        {
          "output_type": "stream",
          "text": [
            "Model: \"sequential\"\n",
            "_________________________________________________________________\n",
            "Layer (type)                 Output Shape              Param #   \n",
            "=================================================================\n",
            "dense (Dense)                (None, 200)               1600200   \n",
            "_________________________________________________________________\n",
            "batch_normalization (BatchNo (None, 200)               800       \n",
            "_________________________________________________________________\n",
            "activation (Activation)      (None, 200)               0         \n",
            "_________________________________________________________________\n",
            "dropout (Dropout)            (None, 200)               0         \n",
            "_________________________________________________________________\n",
            "dense_1 (Dense)              (None, 300)               60300     \n",
            "_________________________________________________________________\n",
            "batch_normalization_1 (Batch (None, 300)               1200      \n",
            "_________________________________________________________________\n",
            "activation_1 (Activation)    (None, 300)               0         \n",
            "_________________________________________________________________\n",
            "dropout_1 (Dropout)          (None, 300)               0         \n",
            "_________________________________________________________________\n",
            "dense_2 (Dense)              (None, 400)               120400    \n",
            "_________________________________________________________________\n",
            "batch_normalization_2 (Batch (None, 400)               1600      \n",
            "_________________________________________________________________\n",
            "activation_2 (Activation)    (None, 400)               0         \n",
            "_________________________________________________________________\n",
            "dropout_2 (Dropout)          (None, 400)               0         \n",
            "_________________________________________________________________\n",
            "dense_3 (Dense)              (None, 100)               40100     \n",
            "_________________________________________________________________\n",
            "dense_4 (Dense)              (None, 1)                 101       \n",
            "=================================================================\n",
            "Total params: 1,824,701\n",
            "Trainable params: 1,822,901\n",
            "Non-trainable params: 1,800\n",
            "_________________________________________________________________\n"
          ],
          "name": "stdout"
        }
      ]
    },
    {
      "cell_type": "code",
      "metadata": {
        "colab": {
          "base_uri": "https://localhost:8080/"
        },
        "id": "W1bZs_V1cn6Y",
        "outputId": "2a33bc67-80fb-41c7-e27c-016a9ed52a3d"
      },
      "source": [
        "sim_model_train = sim_model.fit(X_train_cv.todense(), y_train, epochs=80, batch_size=100)"
      ],
      "execution_count": 30,
      "outputs": [
        {
          "output_type": "stream",
          "text": [
            "Epoch 1/80\n",
            "60/60 [==============================] - 4s 38ms/step - loss: 0.6710 - accuracy: 0.6864 - mse: 0.2245\n",
            "Epoch 2/80\n",
            "60/60 [==============================] - 3s 43ms/step - loss: 0.5913 - accuracy: 0.7236 - mse: 0.1995\n",
            "Epoch 3/80\n",
            "60/60 [==============================] - 4s 61ms/step - loss: 0.5387 - accuracy: 0.7529 - mse: 0.1783\n",
            "Epoch 4/80\n",
            "60/60 [==============================] - 2s 33ms/step - loss: 0.4036 - accuracy: 0.8300 - mse: 0.1302\n",
            "Epoch 5/80\n",
            "60/60 [==============================] - 2s 33ms/step - loss: 0.3368 - accuracy: 0.8561 - mse: 0.1084\n",
            "Epoch 6/80\n",
            "60/60 [==============================] - 2s 33ms/step - loss: 0.2991 - accuracy: 0.8743 - mse: 0.0954\n",
            "Epoch 7/80\n",
            "60/60 [==============================] - 2s 34ms/step - loss: 0.3004 - accuracy: 0.8802 - mse: 0.0935\n",
            "Epoch 8/80\n",
            "60/60 [==============================] - 2s 32ms/step - loss: 0.2858 - accuracy: 0.8831 - mse: 0.0902\n",
            "Epoch 9/80\n",
            "60/60 [==============================] - 2s 33ms/step - loss: 0.2727 - accuracy: 0.8878 - mse: 0.0860\n",
            "Epoch 10/80\n",
            "60/60 [==============================] - 2s 32ms/step - loss: 0.2593 - accuracy: 0.8865 - mse: 0.0839\n",
            "Epoch 11/80\n",
            "60/60 [==============================] - 2s 33ms/step - loss: 0.2612 - accuracy: 0.8913 - mse: 0.0841\n",
            "Epoch 12/80\n",
            "60/60 [==============================] - 2s 33ms/step - loss: 0.2426 - accuracy: 0.8956 - mse: 0.0783\n",
            "Epoch 13/80\n",
            "60/60 [==============================] - 2s 33ms/step - loss: 0.2504 - accuracy: 0.8882 - mse: 0.0818\n",
            "Epoch 14/80\n",
            "60/60 [==============================] - 2s 32ms/step - loss: 0.2425 - accuracy: 0.8967 - mse: 0.0779\n",
            "Epoch 15/80\n",
            "60/60 [==============================] - 2s 32ms/step - loss: 0.2441 - accuracy: 0.8937 - mse: 0.0791\n",
            "Epoch 16/80\n",
            "60/60 [==============================] - 2s 33ms/step - loss: 0.2471 - accuracy: 0.8969 - mse: 0.0796\n",
            "Epoch 17/80\n",
            "60/60 [==============================] - 2s 33ms/step - loss: 0.2474 - accuracy: 0.8919 - mse: 0.0810\n",
            "Epoch 18/80\n",
            "60/60 [==============================] - 2s 33ms/step - loss: 0.2422 - accuracy: 0.8996 - mse: 0.0776\n",
            "Epoch 19/80\n",
            "60/60 [==============================] - 2s 33ms/step - loss: 0.2367 - accuracy: 0.8990 - mse: 0.0771\n",
            "Epoch 20/80\n",
            "60/60 [==============================] - 2s 33ms/step - loss: 0.2405 - accuracy: 0.8946 - mse: 0.0789\n",
            "Epoch 21/80\n",
            "60/60 [==============================] - 2s 33ms/step - loss: 0.2321 - accuracy: 0.9002 - mse: 0.0752\n",
            "Epoch 22/80\n",
            "60/60 [==============================] - 2s 33ms/step - loss: 0.2315 - accuracy: 0.8984 - mse: 0.0763\n",
            "Epoch 23/80\n",
            "60/60 [==============================] - 2s 32ms/step - loss: 0.2364 - accuracy: 0.8967 - mse: 0.0778\n",
            "Epoch 24/80\n",
            "60/60 [==============================] - 2s 33ms/step - loss: 0.2366 - accuracy: 0.8950 - mse: 0.0783\n",
            "Epoch 25/80\n",
            "60/60 [==============================] - 2s 33ms/step - loss: 0.2161 - accuracy: 0.9062 - mse: 0.0706\n",
            "Epoch 26/80\n",
            "60/60 [==============================] - 2s 33ms/step - loss: 0.2385 - accuracy: 0.8937 - mse: 0.0783\n",
            "Epoch 27/80\n",
            "60/60 [==============================] - 2s 33ms/step - loss: 0.2392 - accuracy: 0.8934 - mse: 0.0787\n",
            "Epoch 28/80\n",
            "60/60 [==============================] - 2s 34ms/step - loss: 0.2344 - accuracy: 0.8943 - mse: 0.0781\n",
            "Epoch 29/80\n",
            "60/60 [==============================] - 2s 34ms/step - loss: 0.2214 - accuracy: 0.9034 - mse: 0.0731\n",
            "Epoch 30/80\n",
            "60/60 [==============================] - 2s 33ms/step - loss: 0.2197 - accuracy: 0.9027 - mse: 0.0724\n",
            "Epoch 31/80\n",
            "60/60 [==============================] - 2s 34ms/step - loss: 0.2346 - accuracy: 0.8939 - mse: 0.0778\n",
            "Epoch 32/80\n",
            "60/60 [==============================] - 2s 33ms/step - loss: 0.2254 - accuracy: 0.9021 - mse: 0.0741\n",
            "Epoch 33/80\n",
            "60/60 [==============================] - 2s 34ms/step - loss: 0.2401 - accuracy: 0.8905 - mse: 0.0799\n",
            "Epoch 34/80\n",
            "60/60 [==============================] - 2s 34ms/step - loss: 0.2243 - accuracy: 0.9014 - mse: 0.0738\n",
            "Epoch 35/80\n",
            "60/60 [==============================] - 2s 34ms/step - loss: 0.2341 - accuracy: 0.8941 - mse: 0.0770\n",
            "Epoch 36/80\n",
            "60/60 [==============================] - 2s 35ms/step - loss: 0.2256 - accuracy: 0.9019 - mse: 0.0739\n",
            "Epoch 37/80\n",
            "60/60 [==============================] - 2s 34ms/step - loss: 0.2294 - accuracy: 0.8956 - mse: 0.0765\n",
            "Epoch 38/80\n",
            "60/60 [==============================] - 2s 34ms/step - loss: 0.2201 - accuracy: 0.9046 - mse: 0.0723\n",
            "Epoch 39/80\n",
            "60/60 [==============================] - 2s 34ms/step - loss: 0.2319 - accuracy: 0.8975 - mse: 0.0762\n",
            "Epoch 40/80\n",
            "60/60 [==============================] - 2s 33ms/step - loss: 0.2202 - accuracy: 0.9035 - mse: 0.0723\n",
            "Epoch 41/80\n",
            "60/60 [==============================] - 2s 34ms/step - loss: 0.2211 - accuracy: 0.9059 - mse: 0.0719\n",
            "Epoch 42/80\n",
            "60/60 [==============================] - 2s 35ms/step - loss: 0.2270 - accuracy: 0.9007 - mse: 0.0745\n",
            "Epoch 43/80\n",
            "60/60 [==============================] - 2s 34ms/step - loss: 0.2308 - accuracy: 0.8992 - mse: 0.0757\n",
            "Epoch 44/80\n",
            "60/60 [==============================] - 2s 34ms/step - loss: 0.2155 - accuracy: 0.9058 - mse: 0.0708\n",
            "Epoch 45/80\n",
            "60/60 [==============================] - 2s 34ms/step - loss: 0.2229 - accuracy: 0.9041 - mse: 0.0729\n",
            "Epoch 46/80\n",
            "60/60 [==============================] - 2s 34ms/step - loss: 0.2311 - accuracy: 0.8964 - mse: 0.0769\n",
            "Epoch 47/80\n",
            "60/60 [==============================] - 2s 34ms/step - loss: 0.2235 - accuracy: 0.9019 - mse: 0.0738\n",
            "Epoch 48/80\n",
            "60/60 [==============================] - 2s 35ms/step - loss: 0.2199 - accuracy: 0.9040 - mse: 0.0724\n",
            "Epoch 49/80\n",
            "60/60 [==============================] - 2s 33ms/step - loss: 0.2254 - accuracy: 0.9067 - mse: 0.0716\n",
            "Epoch 50/80\n",
            "60/60 [==============================] - 2s 34ms/step - loss: 0.2163 - accuracy: 0.9060 - mse: 0.0713\n",
            "Epoch 51/80\n",
            "60/60 [==============================] - 2s 34ms/step - loss: 0.2135 - accuracy: 0.9053 - mse: 0.0705\n",
            "Epoch 52/80\n",
            "60/60 [==============================] - 2s 33ms/step - loss: 0.2190 - accuracy: 0.9050 - mse: 0.0718\n",
            "Epoch 53/80\n",
            "60/60 [==============================] - 2s 34ms/step - loss: 0.2366 - accuracy: 0.8959 - mse: 0.0781\n",
            "Epoch 54/80\n",
            "60/60 [==============================] - 2s 33ms/step - loss: 0.2172 - accuracy: 0.9042 - mse: 0.0716\n",
            "Epoch 55/80\n",
            "60/60 [==============================] - 2s 33ms/step - loss: 0.2191 - accuracy: 0.9039 - mse: 0.0722\n",
            "Epoch 56/80\n",
            "60/60 [==============================] - 2s 33ms/step - loss: 0.2284 - accuracy: 0.8998 - mse: 0.0753\n",
            "Epoch 57/80\n",
            "60/60 [==============================] - 2s 33ms/step - loss: 0.2359 - accuracy: 0.8939 - mse: 0.0779\n",
            "Epoch 58/80\n",
            "60/60 [==============================] - 2s 33ms/step - loss: 0.2240 - accuracy: 0.9011 - mse: 0.0739\n",
            "Epoch 59/80\n",
            "60/60 [==============================] - 2s 33ms/step - loss: 0.2248 - accuracy: 0.9016 - mse: 0.0740\n",
            "Epoch 60/80\n",
            "60/60 [==============================] - 2s 33ms/step - loss: 0.2148 - accuracy: 0.9080 - mse: 0.0703\n",
            "Epoch 61/80\n",
            "60/60 [==============================] - 2s 33ms/step - loss: 0.2204 - accuracy: 0.9029 - mse: 0.0726\n",
            "Epoch 62/80\n",
            "60/60 [==============================] - 2s 34ms/step - loss: 0.2246 - accuracy: 0.8990 - mse: 0.0748\n",
            "Epoch 63/80\n",
            "60/60 [==============================] - 2s 34ms/step - loss: 0.2290 - accuracy: 0.8972 - mse: 0.0761\n",
            "Epoch 64/80\n",
            "60/60 [==============================] - 2s 33ms/step - loss: 0.2228 - accuracy: 0.8998 - mse: 0.0743\n",
            "Epoch 65/80\n",
            "60/60 [==============================] - 2s 34ms/step - loss: 0.2250 - accuracy: 0.9007 - mse: 0.0747\n",
            "Epoch 66/80\n",
            "60/60 [==============================] - 2s 33ms/step - loss: 0.2193 - accuracy: 0.9081 - mse: 0.0716\n",
            "Epoch 67/80\n",
            "60/60 [==============================] - 2s 32ms/step - loss: 0.2278 - accuracy: 0.9012 - mse: 0.0746\n",
            "Epoch 68/80\n",
            "60/60 [==============================] - 2s 33ms/step - loss: 0.2203 - accuracy: 0.9020 - mse: 0.0726\n",
            "Epoch 69/80\n",
            "60/60 [==============================] - 2s 33ms/step - loss: 0.2215 - accuracy: 0.9013 - mse: 0.0730\n",
            "Epoch 70/80\n",
            "60/60 [==============================] - 2s 33ms/step - loss: 0.2309 - accuracy: 0.8922 - mse: 0.0773\n",
            "Epoch 71/80\n",
            "60/60 [==============================] - 2s 33ms/step - loss: 0.2225 - accuracy: 0.8998 - mse: 0.0745\n",
            "Epoch 72/80\n",
            "60/60 [==============================] - 2s 33ms/step - loss: 0.2153 - accuracy: 0.9065 - mse: 0.0710\n",
            "Epoch 73/80\n",
            "60/60 [==============================] - 2s 33ms/step - loss: 0.2191 - accuracy: 0.9027 - mse: 0.0728\n",
            "Epoch 74/80\n",
            "60/60 [==============================] - 2s 32ms/step - loss: 0.2314 - accuracy: 0.8978 - mse: 0.0767\n",
            "Epoch 75/80\n",
            "60/60 [==============================] - 2s 32ms/step - loss: 0.2302 - accuracy: 0.8952 - mse: 0.0772\n",
            "Epoch 76/80\n",
            "60/60 [==============================] - 2s 33ms/step - loss: 0.2225 - accuracy: 0.8999 - mse: 0.0744\n",
            "Epoch 77/80\n",
            "60/60 [==============================] - 2s 32ms/step - loss: 0.2256 - accuracy: 0.8976 - mse: 0.0749\n",
            "Epoch 78/80\n",
            "60/60 [==============================] - 2s 33ms/step - loss: 0.2172 - accuracy: 0.9036 - mse: 0.0716\n",
            "Epoch 79/80\n",
            "60/60 [==============================] - 2s 33ms/step - loss: 0.2137 - accuracy: 0.9045 - mse: 0.0710\n",
            "Epoch 80/80\n",
            "60/60 [==============================] - 2s 32ms/step - loss: 0.2263 - accuracy: 0.8966 - mse: 0.0755\n"
          ],
          "name": "stdout"
        }
      ]
    },
    {
      "cell_type": "markdown",
      "metadata": {
        "id": "1lVjjM6qN74Z"
      },
      "source": [
        "Carrying out loss vs accuracy trade off for simple sequential neural network using visuals"
      ]
    },
    {
      "cell_type": "code",
      "metadata": {
        "colab": {
          "base_uri": "https://localhost:8080/",
          "height": 294
        },
        "id": "7KEGKpLWhtYI",
        "outputId": "4286b61c-0f0d-4bd8-9134-3a4eaefb543c"
      },
      "source": [
        "%matplotlib inline\n",
        "import matplotlib.pyplot as plt\n",
        "\n",
        "fig, loss_ax = plt.subplots()\n",
        "\n",
        "acc_ax = loss_ax.twinx()\n",
        "\n",
        "loss_ax.set_ylim([0.0, 1.0])\n",
        "acc_ax.set_ylim([0.0, 1.0])\n",
        "\n",
        "loss_ax.plot(sim_model_train.history['loss'], 'y', label='loss')\n",
        "acc_ax.plot(sim_model_train.history['accuracy'], 'b', label='accuracy')\n",
        "\n",
        "loss_ax.set_xlabel('Epoch')\n",
        "loss_ax.set_ylabel('Loss')\n",
        "acc_ax.set_ylabel('Accuray')\n",
        "\n",
        "loss_ax.legend(loc='upper left')\n",
        "acc_ax.legend(loc='lower left')\n",
        "\n",
        "plt.title('Sequential Linear model accuracy and validation')\n",
        "plt.show()\n",
        "#https://github.com/sharmaroshan/Drugs-Recommendation-using-Reviews/blob/master/DrugsAnalysis.ipynb"
      ],
      "execution_count": 31,
      "outputs": [
        {
          "output_type": "display_data",
          "data": {
            "image/png": "[encoded data removed]",
            "text/plain": [
              "<Figure size 432x288 with 2 Axes>"
            ]
          },
          "metadata": {
            "tags": [],
            "needs_background": "light"
          }
        }
      ]
    },
    {
      "cell_type": "code",
      "metadata": {
        "id": "BjryalcUJuUj"
      },
      "source": [
        "def avergae_lst(lst):\n",
        "    return round((sum(lst) / len(lst)),2)"
      ],
      "execution_count": null,
      "outputs": []
    },
    {
      "cell_type": "code",
      "metadata": {
        "id": "pGlQj5-jJApS"
      },
      "source": [
        "#Adding simple sequential model data to report table-\n",
        "from math import sqrt\n",
        "\n",
        "sim_model_name='Simple Sequential Linear Neural Network'\n",
        "sim_model_acc=avergae_lst(sim_model_train.history['acc'])\n",
        "sim_rmse_score=sqrt(avergae_lst(sim_model_train.history['mse']))\n",
        "sim_mse_score=avergae_lst(sim_model_train.history['mse'])\n",
        "report=pd.concat([report,pd.DataFrame([[sim_model_name,'', sim_model_acc,0,sim_rmse_score,sim_mse_score,0,0,0]] ,columns = ['Model name', 'Model parameter', 'Accuracy', 'ROC AUC score','RMSE score','MSE score','Precision','F1_score','Recall']),axis=1)\n"
      ],
      "execution_count": null,
      "outputs": []
    },
    {
      "cell_type": "markdown",
      "metadata": {
        "id": "0cndkXqoQCaZ"
      },
      "source": [
        "#### Convolutional neural network"
      ]
    },
    {
      "cell_type": "code",
      "metadata": {
        "colab": {
          "base_uri": "https://localhost:8080/"
        },
        "id": "WjBx09wh5uDE",
        "outputId": "bd585898-0468-4038-cfa3-036f5e3fbe00"
      },
      "source": [
        "cnn_model = Sequential()\n",
        "cnn_model.add(keras.layers.Embedding(8000, 200, input_length=8000))\n",
        "cnn_model.add(keras.layers.Conv1D(128, 5, activation='relu'))\n",
        "cnn_model.add(keras.layers.GlobalMaxPooling1D())\n",
        "cnn_model.add(keras.layers.Dense(10, activation='relu'))\n",
        "cnn_model.add(keras.layers.Dense(1, activation='softmax'))\n",
        "cnn_model.compile(optimizer=tf.keras.optimizers.Adam(lr=0.001),loss='binary_crossentropy',metrics=['accuracy','mse'])\n",
        "cnn_model.summary()"
      ],
      "execution_count": 37,
      "outputs": [
        {
          "output_type": "stream",
          "text": [
            "Model: \"sequential_3\"\n",
            "_________________________________________________________________\n",
            "Layer (type)                 Output Shape              Param #   \n",
            "=================================================================\n",
            "embedding_2 (Embedding)      (None, 8000, 200)         1600000   \n",
            "_________________________________________________________________\n",
            "conv1d_2 (Conv1D)            (None, 7996, 128)         128128    \n",
            "_________________________________________________________________\n",
            "global_max_pooling1d_2 (Glob (None, 128)               0         \n",
            "_________________________________________________________________\n",
            "dense_9 (Dense)              (None, 10)                1290      \n",
            "_________________________________________________________________\n",
            "dense_10 (Dense)             (None, 1)                 11        \n",
            "=================================================================\n",
            "Total params: 1,729,429\n",
            "Trainable params: 1,729,429\n",
            "Non-trainable params: 0\n",
            "_________________________________________________________________\n"
          ],
          "name": "stdout"
        }
      ]
    },
    {
      "cell_type": "code",
      "metadata": {
        "colab": {
          "base_uri": "https://localhost:8080/"
        },
        "id": "a67it8qtrZTS",
        "outputId": "d7417e0f-eb11-4aff-b82c-381d2d5dc4da"
      },
      "source": [
        "cnn_model_train = cnn_model.fit(X_train_cv.todense(), y_train, epochs=10, batch_size=100)"
      ],
      "execution_count": null,
      "outputs": [
        {
          "output_type": "stream",
          "text": [
            "Epoch 1/10\n",
            "60/60 [==============================] - 784s 13s/step - loss: 0.5964 - accuracy: 0.7302 - mse: 0.2698\n",
            "Epoch 2/10\n",
            "60/60 [==============================] - 770s 13s/step - loss: 0.5852 - accuracy: 0.7288 - mse: 0.2712\n",
            "Epoch 3/10\n",
            "60/60 [==============================] - 775s 13s/step - loss: 0.5818 - accuracy: 0.7346 - mse: 0.2654\n",
            "Epoch 4/10\n",
            "60/60 [==============================] - 770s 13s/step - loss: 0.5926 - accuracy: 0.7236 - mse: 0.2764\n",
            "Epoch 5/10\n",
            "60/60 [==============================] - 773s 13s/step - loss: 0.5908 - accuracy: 0.7233 - mse: 0.2767\n",
            "Epoch 6/10\n",
            "15/60 [======>.......................] - ETA: 9:47 - loss: 0.6031 - accuracy: 0.7146 - mse: 0.2854 "
          ],
          "name": "stdout"
        }
      ]
    },
    {
      "cell_type": "markdown",
      "metadata": {
        "id": "WW3Yq9FiNeir"
      },
      "source": [
        "Carrying out loss vs accuracy trade off for convolutional neural network using visuals"
      ]
    },
    {
      "cell_type": "code",
      "metadata": {
        "id": "gtWNK49Pgu7Q"
      },
      "source": [
        "%matplotlib inline\n",
        "import matplotlib.pyplot as plt\n",
        "\n",
        "fig, loss_ax = plt.subplots()\n",
        "\n",
        "acc_ax = loss_ax.twinx()\n",
        "\n",
        "loss_ax.set_ylim([0.0, 1.0])\n",
        "acc_ax.set_ylim([0.0, 1.0])\n",
        "\n",
        "loss_ax.plot(cnn_model_train.history['loss'], 'y', label='loss')\n",
        "acc_ax.plot(cnn_model_train.history['accuracy'], 'b', label='accuracy')\n",
        "\n",
        "loss_ax.set_xlabel('Epoch')\n",
        "loss_ax.set_ylabel('Loss')\n",
        "acc_ax.set_ylabel('Accuray')\n",
        "\n",
        "loss_ax.legend(loc='upper left')\n",
        "acc_ax.legend(loc='lower left')\n",
        "\n",
        "plt.show()\n",
        "#https://github.com/sharmaroshan/Drugs-Recommendation-using-Reviews/blob/master/DrugsAnalysis.ipynb"
      ],
      "execution_count": null,
      "outputs": []
    },
    {
      "cell_type": "markdown",
      "metadata": {
        "id": "9QIykwVwNBdm"
      },
      "source": [
        "Visualizing the mse scores of both simple sequential and convolutional neural network."
      ]
    },
    {
      "cell_type": "code",
      "metadata": {
        "id": "qBrzz1mMNh_q"
      },
      "source": [
        "# plot metrics\n",
        "from matplotlib import pyplot\n",
        "pyplot.plot(sim_model_train.history['mse'],label='CNN MSE score')\n",
        "pyplot.plot(cnn_model_train.history['mse'],label='Sequential MSE score')\n",
        "pyplot.xlabel('Epoch')\n",
        "pyplot.ylabel('Loss')\n",
        "\n",
        "\n",
        "pyplot.legend(loc='upper right')\n",
        "pyplot.show()"
      ],
      "execution_count": null,
      "outputs": []
    },
    {
      "cell_type": "code",
      "metadata": {
        "id": "pbjtnzQwL4MV"
      },
      "source": [
        "#Adding simple sequential model data to report table-\n",
        "\n",
        "cnn_model_name='Convolutional Neural Network'\n",
        "cnn_model_acc=avergae_lst(cnn_model_train.history['acc'])\n",
        "cnn_rmse_score=sqrt(avergae_lst(cnn_model_train.history['mse']))\n",
        "cnn_mse_score=avergae_lst(cnn_model_train.history['mse'])\n",
        "report=pd.concat([report,pd.DataFrame([[cnn_model_name,'', cnn_model_acc,0,cnn_rmse_score,cnn_mse_score,0,0,0]] ,columns = ['Model name', 'Model parameter', 'Accuracy', 'ROC AUC score','RMSE score','MSE score','Precision','F1_score','Recall']),axis=1)\n"
      ],
      "execution_count": null,
      "outputs": []
    },
    {
      "cell_type": "code",
      "metadata": {
        "id": "ousvdjttMMAD"
      },
      "source": [
        "#checking for the best model for the recommendation system\n",
        "report"
      ],
      "execution_count": null,
      "outputs": []
    },
    {
      "cell_type": "markdown",
      "metadata": {
        "id": "U1v-0jYGMUTY"
      },
      "source": [
        "Looking at the above table it appears, simple sequential neural network and LinearSVC will be the best for our recommendation system based on the accuracy. Further looking into the MSE scores, It can be concluded simple sequential neural network will provide best results among all the model. \n",
        "\n",
        "Carrying out the predictions/recommendations using simple sequential neural network."
      ]
    },
    {
      "cell_type": "markdown",
      "metadata": {
        "id": "XzxDnc19tslq"
      },
      "source": [
        "#### Predictions"
      ]
    },
    {
      "cell_type": "code",
      "metadata": {
        "id": "x3ZLwihvj59t"
      },
      "source": [
        "Print"
      ],
      "execution_count": null,
      "outputs": []
    },
    {
      "cell_type": "code",
      "metadata": {
        "id": "7qTd4tA3Fmof"
      },
      "source": [
        "def predicted_recommend(predictions,testing_data):\n",
        "\n",
        "  predict_df=pd.DataFrame(testing_data.sentiment)\n",
        "  predict_df['predicted_values']=pd.Series(predictions, index=predict_df.index)\n",
        "  recommend_index=list(predict_df[predict_df['predicted_values']=='1'].index)\n",
        "  recommend_dataframe=testing_data.loc[recommend_index]\n",
        "  recommend_dataframe_grouped=recommend_dataframe[['drugName','rating']].groupby(['drugName']).max()\n",
        "  recommend_dataframe_grouped.sort_values(by='rating', ascending=False)[:10]\n",
        "  recommend_dataframe_grouped=recommend_dataframe_grouped.reset_index()\n",
        "  recommend_dataframe_grouped=recommend_dataframe_grouped.sort_values(by='rating', ascending=False)[:10]\n",
        " \n",
        "  return recommend_dataframe_grouped"
      ],
      "execution_count": null,
      "outputs": []
    },
    {
      "cell_type": "code",
      "metadata": {
        "id": "ps0NdA9AHWZ_"
      },
      "source": [
        "predicted_recommend(predictions,testing_data)"
      ],
      "execution_count": null,
      "outputs": []
    },
    {
      "cell_type": "code",
      "metadata": {
        "id": "v4AfdMQRIqlp"
      },
      "source": [
        ""
      ],
      "execution_count": null,
      "outputs": []
    }
  ]
}