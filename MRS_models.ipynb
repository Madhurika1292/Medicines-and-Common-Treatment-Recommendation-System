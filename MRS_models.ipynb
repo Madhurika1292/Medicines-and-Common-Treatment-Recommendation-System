{
  "nbformat": 4,
  "nbformat_minor": 0,
  "metadata": {
    "colab": {
      "name": "MRS models.ipynb",
      "provenance": [],
      "authorship_tag": "ABX9TyOY/FBhetcdTgauUFjf+6Zb",
      "include_colab_link": true
    },
    "kernelspec": {
      "name": "python3",
      "display_name": "Python 3"
    },
    "language_info": {
      "name": "python"
    }
  },
  "cells": [
    {
      "cell_type": "markdown",
      "metadata": {
        "id": "view-in-github",
        "colab_type": "text"
      },
      "source": [
        "<a href=\"https://colab.research.google.com/github/Madhurika1292/Medicines-and-Common-Treatment-Recommendation-System/blob/main/MRS_models.ipynb\" target=\"_parent\"><img src=\"https://colab.research.google.com/assets/colab-badge.svg\" alt=\"Open In Colab\"/></a>"
      ]
    },
    {
      "cell_type": "markdown",
      "metadata": {
        "id": "HNJqFsJPoatg"
      },
      "source": [
        "# Medicine Recommendation System"
      ]
    },
    {
      "cell_type": "markdown",
      "metadata": {
        "id": "hji-qOi3osdn"
      },
      "source": [
        "## Loading libraries"
      ]
    },
    {
      "cell_type": "code",
      "metadata": {
        "id": "7HTxLqw6owTc"
      },
      "source": [
        "import pandas as pd\n",
        "import numpy as np\n",
        "import matplotlib.pyplot as plt\n",
        "import surprise\n",
        "import seaborn as sns\n",
        "from sklearn import naive_bayes\n",
        "from sklearn.linear_model import LogisticRegression\n",
        "from sklearn.neighbors import KNeighborsClassifier\n",
        "from sklearn.feature_extraction.text import CountVectorizer\n",
        "from sklearn.naive_bayes import GaussianNB\n",
        "from sklearn.metrics import precision_score, recall_score, precision_recall_curve,f1_score, fbeta_score\n",
        "from sklearn.preprocessing import StandardScaler\n",
        "from sklearn.metrics import accuracy_score, confusion_matrix, roc_curve, roc_auc_score, make_scorer\n",
        "from sklearn.pipeline import Pipeline\n",
        "from sklearn.model_selection import GridSearchCV\n",
        "from sklearn.naive_bayes import MultinomialNB, BernoulliNB\n",
        "from surprise import SVD\n",
        "from textblob import TextBlob\n",
        "\n",
        "\n",
        "import warnings\n",
        "with warnings.catch_warnings():\n",
        "    warnings.simplefilter(\"ignore\")\n",
        "    warnings.warn(\"deprecated\", DeprecationWarning)\n",
        "\n",
        "from tensorflow.python.keras.models import Sequential\n",
        "from tensorflow.python.keras.layers import Dense, Bidirectional, LSTM, BatchNormalization, Dropout\n",
        "from tensorflow.python.keras.preprocessing.sequence import pad_sequences\n",
        "import keras\n",
        "from keras.models import Sequential\n",
        "from keras.layers import Dense\n",
        "import random\n",
        "\n",
        "from sklearn.svm import LinearSVC\n",
        "from sklearn.tree import DecisionTreeClassifier\n",
        "from sklearn.ensemble import RandomForestClassifier\n",
        "\n"
      ],
      "execution_count": 1,
      "outputs": []
    },
    {
      "cell_type": "markdown",
      "metadata": {
        "id": "u-gdkQIToq68"
      },
      "source": [
        "## Data Loading"
      ]
    },
    {
      "cell_type": "code",
      "metadata": {
        "colab": {
          "base_uri": "https://localhost:8080/"
        },
        "id": "hL8BrGe0o3EL",
        "outputId": "8b1b8d29-e5d0-4e0c-cdc4-d26bfb1348b4"
      },
      "source": [
        "# Importing dataset from drive\n",
        "from google.colab import drive\n",
        "drive.mount('/content/gdrive/')\n",
        "\n",
        "import sys\n",
        "sys.path.append('/content/gdrive/My Drive/Drugscom')"
      ],
      "execution_count": 2,
      "outputs": [
        {
          "output_type": "stream",
          "text": [
            "Drive already mounted at /content/gdrive/; to attempt to forcibly remount, call drive.mount(\"/content/gdrive/\", force_remount=True).\n"
          ],
          "name": "stdout"
        }
      ]
    },
    {
      "cell_type": "code",
      "metadata": {
        "colab": {
          "base_uri": "https://localhost:8080/"
        },
        "id": "IuTfErhZpB2Y",
        "outputId": "4d5d4fb7-49b3-4897-ad97-adc8dc9c128f"
      },
      "source": [
        "!ls gdrive/MyDrive/Drugscom/"
      ],
      "execution_count": 3,
      "outputs": [
        {
          "output_type": "stream",
          "text": [
            "Drugscom_test.csv     Drugscom_train.csv\n",
            "drugsComTest_raw.csv  drugsComTrain_raw.csv\n"
          ],
          "name": "stdout"
        }
      ]
    },
    {
      "cell_type": "code",
      "metadata": {
        "id": "Lt9ueg3mpGKa"
      },
      "source": [
        "#Loading data\n",
        "Drugscom_train=pd.read_csv('/content/gdrive/My Drive/Drugscom/Drugscom_train.csv')\n",
        "Drugscom_test=pd.read_csv('/content/gdrive/My Drive/Drugscom/Drugscom_test.csv')"
      ],
      "execution_count": 4,
      "outputs": []
    },
    {
      "cell_type": "code",
      "metadata": {
        "colab": {
          "base_uri": "https://localhost:8080/"
        },
        "id": "YzbzM6bgp8q5",
        "outputId": "0de1deda-c5bb-463f-cced-3d378bec066a"
      },
      "source": [
        "#Before\n",
        "# checking for null values\n",
        "Drugscom_train.isnull().sum()"
      ],
      "execution_count": 5,
      "outputs": [
        {
          "output_type": "execute_result",
          "data": {
            "text/plain": [
              "Unnamed: 0      0\n",
              "uniqueId        0\n",
              "drugName        0\n",
              "condition       0\n",
              "review          0\n",
              "rating          0\n",
              "date            0\n",
              "usefulCount     0\n",
              "treatments      0\n",
              "clean_review    6\n",
              "dtype: int64"
            ]
          },
          "metadata": {
            "tags": []
          },
          "execution_count": 5
        }
      ]
    },
    {
      "cell_type": "code",
      "metadata": {
        "colab": {
          "base_uri": "https://localhost:8080/"
        },
        "id": "pONVgsLQqAkG",
        "outputId": "6f8d8fff-6b03-4549-c39c-83530c1d5679"
      },
      "source": [
        "# checking for null values\n",
        "Drugscom_test.isnull().sum()"
      ],
      "execution_count": 6,
      "outputs": [
        {
          "output_type": "execute_result",
          "data": {
            "text/plain": [
              "Unnamed: 0      0\n",
              "uniqueId        0\n",
              "drugName        0\n",
              "condition       0\n",
              "review          0\n",
              "rating          0\n",
              "date            0\n",
              "usefulCount     0\n",
              "treatments      0\n",
              "clean_review    2\n",
              "dtype: int64"
            ]
          },
          "metadata": {
            "tags": []
          },
          "execution_count": 6
        }
      ]
    },
    {
      "cell_type": "code",
      "metadata": {
        "id": "otmEmTlfqCnT"
      },
      "source": [
        "# Dropping null values\n",
        "Drugscom_train = Drugscom_train.dropna(axis=0)\n",
        "Drugscom_test = Drugscom_test.dropna(axis=0)"
      ],
      "execution_count": 7,
      "outputs": []
    },
    {
      "cell_type": "code",
      "metadata": {
        "colab": {
          "base_uri": "https://localhost:8080/"
        },
        "id": "pTG6fY7HqEsX",
        "outputId": "24421aef-4a68-4769-b317-72ff28d18341"
      },
      "source": [
        "# checking for null values\n",
        "Drugscom_train.isnull().sum()"
      ],
      "execution_count": 8,
      "outputs": [
        {
          "output_type": "execute_result",
          "data": {
            "text/plain": [
              "Unnamed: 0      0\n",
              "uniqueId        0\n",
              "drugName        0\n",
              "condition       0\n",
              "review          0\n",
              "rating          0\n",
              "date            0\n",
              "usefulCount     0\n",
              "treatments      0\n",
              "clean_review    0\n",
              "dtype: int64"
            ]
          },
          "metadata": {
            "tags": []
          },
          "execution_count": 8
        }
      ]
    },
    {
      "cell_type": "code",
      "metadata": {
        "colab": {
          "base_uri": "https://localhost:8080/"
        },
        "id": "exfBZdhCqH-E",
        "outputId": "8a389f6e-cd1d-4944-bcf3-bb3fcda9f937"
      },
      "source": [
        "# checking for null values\n",
        "Drugscom_test.isnull().sum()"
      ],
      "execution_count": 9,
      "outputs": [
        {
          "output_type": "execute_result",
          "data": {
            "text/plain": [
              "Unnamed: 0      0\n",
              "uniqueId        0\n",
              "drugName        0\n",
              "condition       0\n",
              "review          0\n",
              "rating          0\n",
              "date            0\n",
              "usefulCount     0\n",
              "treatments      0\n",
              "clean_review    0\n",
              "dtype: int64"
            ]
          },
          "metadata": {
            "tags": []
          },
          "execution_count": 9
        }
      ]
    },
    {
      "cell_type": "code",
      "metadata": {
        "id": "YdDSH8WJqH34"
      },
      "source": [
        "#Changing the \"Unnamed: 0\" column to uniqueId as it represents the unique id of the drugs\n",
        "Drugscom_train=Drugscom_train.drop('Unnamed: 0', axis='columns')\n",
        "Drugscom_test=Drugscom_test.drop('Unnamed: 0', axis='columns')"
      ],
      "execution_count": 10,
      "outputs": []
    },
    {
      "cell_type": "code",
      "metadata": {
        "id": "toO0BFtOqMV8"
      },
      "source": [
        "#Drugscom_train=Drugscom_train.drop(Drugscom_train[(Drugscom_train['rating'] > 4.0) & (Drugscom_train['rating'] < 6.0)].index)\n",
        "#Drugscom_test=Drugscom_test.drop(Drugscom_test[(Drugscom_test['rating'] > 4.0) & (Drugscom_test['rating'] < 6.0)].index)"
      ],
      "execution_count": 11,
      "outputs": []
    },
    {
      "cell_type": "code",
      "metadata": {
        "id": "kqplEy9uqMRm"
      },
      "source": [
        "#Drugscom_train['sentiment'] = np.where(Drugscom_train['rating'] >= 7, 1, 0)\n",
        "#Drugscom_test['sentiment'] = np.where(Drugscom_test['rating'] >= 7, 1, 0)"
      ],
      "execution_count": 12,
      "outputs": []
    },
    {
      "cell_type": "code",
      "metadata": {
        "colab": {
          "base_uri": "https://localhost:8080/",
          "height": 202
        },
        "id": "YaB3QvtaqMOd",
        "outputId": "50cd9613-4fa2-4624-ba52-f685d57a2842"
      },
      "source": [
        "Drugscom_train.head()"
      ],
      "execution_count": 13,
      "outputs": [
        {
          "output_type": "execute_result",
          "data": {
            "text/html": [
              "<div>\n",
              "<style scoped>\n",
              "    .dataframe tbody tr th:only-of-type {\n",
              "        vertical-align: middle;\n",
              "    }\n",
              "\n",
              "    .dataframe tbody tr th {\n",
              "        vertical-align: top;\n",
              "    }\n",
              "\n",
              "    .dataframe thead th {\n",
              "        text-align: right;\n",
              "    }\n",
              "</style>\n",
              "<table border=\"1\" class=\"dataframe\">\n",
              "  <thead>\n",
              "    <tr style=\"text-align: right;\">\n",
              "      <th></th>\n",
              "      <th>uniqueId</th>\n",
              "      <th>drugName</th>\n",
              "      <th>condition</th>\n",
              "      <th>review</th>\n",
              "      <th>rating</th>\n",
              "      <th>date</th>\n",
              "      <th>usefulCount</th>\n",
              "      <th>treatments</th>\n",
              "      <th>clean_review</th>\n",
              "      <th>sentiment</th>\n",
              "    </tr>\n",
              "  </thead>\n",
              "  <tbody>\n",
              "    <tr>\n",
              "      <th>0</th>\n",
              "      <td>131173</td>\n",
              "      <td>A / B Otic</td>\n",
              "      <td>Otitis Media</td>\n",
              "      <td>\"It numbs the pain. It makes my ear feel heavi...</td>\n",
              "      <td>10</td>\n",
              "      <td>2009-09-23</td>\n",
              "      <td>20</td>\n",
              "      <td>ANALGESICS,ANTIBIOTIC THERAPY,Tympanostomy Tub...</td>\n",
              "      <td>numb pain make ear feel heavier least throb su...</td>\n",
              "      <td>1</td>\n",
              "    </tr>\n",
              "    <tr>\n",
              "      <th>1</th>\n",
              "      <td>153899</td>\n",
              "      <td>Amoxicillin</td>\n",
              "      <td>Otitis Media</td>\n",
              "      <td>\"Perforation in my right tympanic membrane (ea...</td>\n",
              "      <td>8</td>\n",
              "      <td>2011-04-12</td>\n",
              "      <td>16</td>\n",
              "      <td>ANALGESICS,ANTIBIOTIC THERAPY,Tympanostomy Tub...</td>\n",
              "      <td>perfor right tympan membran eardrum linger upp...</td>\n",
              "      <td>1</td>\n",
              "    </tr>\n",
              "    <tr>\n",
              "      <th>2</th>\n",
              "      <td>153715</td>\n",
              "      <td>Amoxicillin</td>\n",
              "      <td>Otitis Media</td>\n",
              "      <td>\"This medication did not clear up the infectio...</td>\n",
              "      <td>2</td>\n",
              "      <td>2017-05-31</td>\n",
              "      <td>0</td>\n",
              "      <td>ANALGESICS,ANTIBIOTIC THERAPY,Tympanostomy Tub...</td>\n",
              "      <td>medic not clear infect well notic odorless dis...</td>\n",
              "      <td>0</td>\n",
              "    </tr>\n",
              "    <tr>\n",
              "      <th>3</th>\n",
              "      <td>153780</td>\n",
              "      <td>Amoxicillin</td>\n",
              "      <td>Otitis Media</td>\n",
              "      <td>\"My son who was 7 months old at the time was p...</td>\n",
              "      <td>1</td>\n",
              "      <td>2016-12-09</td>\n",
              "      <td>0</td>\n",
              "      <td>ANALGESICS,ANTIBIOTIC THERAPY,Tympanostomy Tub...</td>\n",
              "      <td>son month old time prescrib amoxicillin ear in...</td>\n",
              "      <td>0</td>\n",
              "    </tr>\n",
              "    <tr>\n",
              "      <th>4</th>\n",
              "      <td>153838</td>\n",
              "      <td>Amoxicillin</td>\n",
              "      <td>Otitis Media</td>\n",
              "      <td>\"This medication works amazingly for ear infec...</td>\n",
              "      <td>9</td>\n",
              "      <td>2013-10-02</td>\n",
              "      <td>12</td>\n",
              "      <td>ANALGESICS,ANTIBIOTIC THERAPY,Tympanostomy Tub...</td>\n",
              "      <td>medic work amaz ear infect ear infect count li...</td>\n",
              "      <td>1</td>\n",
              "    </tr>\n",
              "  </tbody>\n",
              "</table>\n",
              "</div>"
            ],
            "text/plain": [
              "   uniqueId  ... sentiment\n",
              "0    131173  ...         1\n",
              "1    153899  ...         1\n",
              "2    153715  ...         0\n",
              "3    153780  ...         0\n",
              "4    153838  ...         1\n",
              "\n",
              "[5 rows x 10 columns]"
            ]
          },
          "metadata": {
            "tags": []
          },
          "execution_count": 13
        }
      ]
    },
    {
      "cell_type": "code",
      "metadata": {
        "colab": {
          "base_uri": "https://localhost:8080/"
        },
        "id": "hIQm67epqMHs",
        "outputId": "4cf4d25c-865a-435c-c5e5-ee6f4cbdc454"
      },
      "source": [
        "Drugscom_train.sentiment.value_counts(normalize=True)"
      ],
      "execution_count": 14,
      "outputs": [
        {
          "output_type": "execute_result",
          "data": {
            "text/plain": [
              "1    0.696646\n",
              "0    0.303354\n",
              "Name: sentiment, dtype: float64"
            ]
          },
          "metadata": {
            "tags": []
          },
          "execution_count": 14
        }
      ]
    },
    {
      "cell_type": "code",
      "metadata": {
        "id": "ug-7MkJFqRKC"
      },
      "source": [
        "def specific_condition_data(df,condition):\n",
        "  \n",
        "  return df[df['condition']==condition]"
      ],
      "execution_count": 15,
      "outputs": []
    },
    {
      "cell_type": "markdown",
      "metadata": {
        "id": "ZRaDujZQw1Gn"
      },
      "source": [
        "## Splitting data"
      ]
    },
    {
      "cell_type": "code",
      "metadata": {
        "id": "Hb54owvIu7Cr"
      },
      "source": [
        "training_data=specific_condition_data(Drugscom_train,'Acne')\n",
        "testing_data=specific_condition_data(Drugscom_test,'Acne')"
      ],
      "execution_count": 16,
      "outputs": []
    },
    {
      "cell_type": "code",
      "metadata": {
        "id": "Bv2hOwnrgD5o"
      },
      "source": [
        "pol = lambda x: TextBlob(x).sentiment.polarity\n",
        "sub = lambda x: TextBlob(x).sentiment.subjectivity"
      ],
      "execution_count": null,
      "outputs": []
    },
    {
      "cell_type": "code",
      "metadata": {
        "id": "n6r7PRiugCct"
      },
      "source": [
        "training_data['polarity'] = training_data[\"clean_review\"].apply(pol)\n",
        "training_data['subjectivity'] = training_data[\"clean_review\"].apply(sub)\n",
        "testing_data['polarity'] = testing_data[\"clean_review\"].apply(pol)\n",
        "testing_data['subjectivity'] = testing_data[\"clean_review\"].apply(sub)\n"
      ],
      "execution_count": null,
      "outputs": []
    },
    {
      "cell_type": "code",
      "metadata": {
        "id": "5yMpbmUPgAwW"
      },
      "source": [
        "def sentiments(polarity):\n",
        " if (polarity >= 0) :\n",
        "   return 1\n",
        " elif polarity < 0:\n",
        "   return 0"
      ],
      "execution_count": null,
      "outputs": []
    },
    {
      "cell_type": "code",
      "metadata": {
        "id": "_DOceiZUf-hl"
      },
      "source": [
        "# Add sentiments to the data\n",
        "training_data[\"sentiment\"] = training_data[\"polarity\"].apply(sentiments)\n",
        "testing_data[\"sentiment\"] = testing_data[\"polarity\"].apply(sentiments)"
      ],
      "execution_count": null,
      "outputs": []
    },
    {
      "cell_type": "code",
      "metadata": {
        "id": "rk2WzekioZoE"
      },
      "source": [
        "X_train=training_data.clean_review\n",
        "y_train=training_data.sentiment\n",
        "X_test=testing_data.clean_review\n",
        "y_test=testing_data.sentiment"
      ],
      "execution_count": 17,
      "outputs": []
    },
    {
      "cell_type": "code",
      "metadata": {
        "id": "T_KDkNr_w4hW"
      },
      "source": [
        "cv = CountVectorizer(max_features = 8000, ngram_range = (4, 4))"
      ],
      "execution_count": 18,
      "outputs": []
    },
    {
      "cell_type": "code",
      "metadata": {
        "id": "AXTxXFYeqCfb"
      },
      "source": [
        "X_train_cv=cv.fit_transform(X_train)\n",
        "X_test_cv=cv.transform(X_test)"
      ],
      "execution_count": 19,
      "outputs": []
    },
    {
      "cell_type": "markdown",
      "metadata": {
        "id": "jmIKapnhFISY"
      },
      "source": [
        "## Model creation"
      ]
    },
    {
      "cell_type": "markdown",
      "metadata": {
        "id": "N-WHQDXTcQgi"
      },
      "source": [
        "### Logistic regression,  Multinomial Naive Bayes, Bernoulli Naive Bayes"
      ]
    },
    {
      "cell_type": "code",
      "metadata": {
        "id": "vxoUe8_ibNI0"
      },
      "source": [
        "def grid_best_parameter(X_train_cv,y_train,X_test_cv,y_test):\n",
        "\n",
        "  #Report to carry out the metrices and scores of different models\n",
        "  report_table = [[]]\n",
        "  \n",
        "  #creating parameter\n",
        "\n",
        "  #C= [1.0, 0.5, 0.1]\n",
        "  C=np.logspace(-50, 50, 100)\n",
        "  alpha= [0.01, 0.1, 0.5, 1.0, 10.0]\n",
        "  k_range = list(range(1, 16))\n",
        "  \n",
        "  \n",
        "\n",
        "  # creating pipeline\n",
        "  pipe_lr=Pipeline([('clf' , LogisticRegression(random_state=42))])\n",
        "  pipe_mnb=Pipeline([('clf', MultinomialNB())])\n",
        "  pipe_bnb=Pipeline([('clf', BernoulliNB())])\n",
        "  pipe_svc = Pipeline([('clf', LinearSVC())])\n",
        "  pipe_dtc = Pipeline([('clf', DecisionTreeClassifier())])\n",
        "  pipe_rfc = Pipeline([('clf', RandomForestClassifier(random_state=42))])\n",
        "\n",
        "\n",
        "\n",
        "\n",
        "  #creating parameter\n",
        "\n",
        "  param_lr =[{'clf__penalty': ['l1', 'l2'],\n",
        "\t\t          'clf__C': C,\n",
        "\t\t          'clf__solver': ['liblinear','lbfgs']}] \n",
        "\n",
        "  param_mnb=[{'clf__alpha': alpha}]\n",
        "\n",
        "  param_bnb=[{'clf__alpha': alpha}]\n",
        "  param_svc = {'clf__C':np.arange(0.01,100,10)}\n",
        "  param_dtc = {'clf__criterion':['gini','entropy'],'clf__max_depth':[4,5,6,7,8,9,10,11,12,15,20,30,40,50,70,90,120,150]}\n",
        "  param_rfc = { \n",
        "    'clf__n_estimators': [200, 500],\n",
        "    'clf__max_features': ['auto', 'sqrt', 'log2'],\n",
        "    'clf__max_depth' : [4,5,6,7,8],\n",
        "    'clf__criterion' :['gini', 'entropy']\n",
        "}\n",
        "\n",
        "\n",
        "\n",
        "\n",
        "\n",
        "  # creating gridsearch\n",
        "\n",
        "  grid_lr=GridSearchCV(estimator=pipe_lr,param_grid=param_lr,scoring='accuracy',cv=10,n_jobs=-1)\n",
        "  grid_mnb=GridSearchCV(estimator=pipe_mnb,param_grid=param_mnb,cv=10,verbose=True, n_jobs=-1)\n",
        "  grid_bnb=GridSearchCV(estimator=pipe_bnb,param_grid=param_bnb,cv=10,verbose=True, n_jobs=-1)\n",
        "  grid_svc = GridSearchCV(estimator=pipe_svc,param_grid=param_svc,cv=10,return_train_score=True, n_jobs=1)\n",
        "  grid_dtc = GridSearchCV(estimator=pipe_dtc,param_grid=param_dtc,cv=10, n_jobs=1)\n",
        "  grid_rfc = GridSearchCV(estimator=pipe_rfc,param_grid=param_rfc,cv=10, n_jobs=1)\n",
        "\n",
        "\n",
        "\n",
        "\n",
        "  #listing pipelines\n",
        "\n",
        "  grid=[grid_lr, grid_mnb, grid_bnb, grid_svc,grid_dtc, grid_rfc]\n",
        "\n",
        "  #dictionary of pipelines and models\n",
        "\n",
        "  grid_dict={0: 'Logistic Regression', 1: 'Multi Nomial NB', 2: 'Bernoulli NB', 3:'Linear SVC', 4:'DecisionTreeClassifier', 5:'RandomForestClassifier'}\n",
        "\n",
        "  # fitting grid search \n",
        "\n",
        "  print('Performing model optimizations...')\n",
        "  best_accuracy = 0.0\n",
        "  best_model = 0\n",
        "  best_grid = ''\n",
        "\n",
        "  for i, g in enumerate(grid):\n",
        "    print('\\nEstimator: %s' % grid_dict[i])\t\n",
        "    # Fit grid search\t\n",
        "    g.fit(X_train_cv, y_train)\n",
        "    # Best params\n",
        "    #print('Best params: %s' % g.best_params_)\n",
        "    # Best training data accuracy\n",
        "    #print('Best training accuracy: %.3f' % g.best_score_)\n",
        "    # Predict on train data with best params\n",
        "    train_prediction = g.predict(X_train_cv)\n",
        "    # Predict on test data with best params\n",
        "    prediction = g.predict(X_test_cv)\n",
        "    # Test data accuracy of model with best params\n",
        "    #print('Test set accuracy score for best params: %.3f ' % accuracy_score(y_test, prediction))\n",
        "    try:\n",
        "      #calculate roc_auc_score for training data\n",
        "      roc_auc_score_train=roc_auc_score(train_prediction, y_train)\n",
        "\n",
        "      #calculate roc_auc_score for testing data\n",
        "      roc_auc_score_test=roc_auc_score(prediction, y_test)\n",
        "\n",
        "    except ValueError:\n",
        "      pass\n",
        "   \n",
        "    # Track best (highest test accuracy) model\n",
        "    report_table = report_table+ [[grid_dict[i], g.best_params_, g.score(X_train_cv, y_train), g.score(X_test_cv, y_test), roc_auc_score_train, roc_auc_score_test]]  \n",
        "    if accuracy_score(y_test, prediction) > best_accuracy:\n",
        "      best_accuracy = accuracy_score(y_test, prediction)\n",
        "      best_model = g\n",
        "      best_grid = i\n",
        "  #print('\\nClassifier with best test set accuracy: %s' % grid_dict[best_grid])\n",
        "  #print('\\nAccuracy score:%s' % best_accuracy)\n",
        "  report_table.pop(0)\n",
        "  report = pd.DataFrame(report_table,columns = ['Model name', 'Model parameter', 'Train accuracy', 'Test accuracy', 'Train auc score', 'Test auc score'])\n",
        "  return report\n",
        "\n",
        "\n",
        "#https://www.kdnuggets.com/2018/01/managing-machine-learning-workflows-scikit-learn-pipelines-part-3.html"
      ],
      "execution_count": 20,
      "outputs": []
    },
    {
      "cell_type": "code",
      "metadata": {
        "id": "QKVUkpt3PF2H"
      },
      "source": [
        "#grid_best_parameter(X_train_cv,y_train,X_test_cv,y_test)"
      ],
      "execution_count": 21,
      "outputs": []
    },
    {
      "cell_type": "markdown",
      "metadata": {
        "id": "8vWgN9tAcLUZ"
      },
      "source": [
        "### Deep learning model"
      ]
    },
    {
      "cell_type": "markdown",
      "metadata": {
        "id": "hApmugAUZ7Aw"
      },
      "source": [
        "#### Sequential model"
      ]
    },
    {
      "cell_type": "code",
      "metadata": {
        "colab": {
          "base_uri": "https://localhost:8080/",
          "height": 165
        },
        "id": "DmbYVECTfOuT",
        "outputId": "b2138ead-49ee-4b72-b345-f516da723fa0"
      },
      "source": [
        "Print"
      ],
      "execution_count": 22,
      "outputs": [
        {
          "output_type": "error",
          "ename": "NameError",
          "evalue": "ignored",
          "traceback": [
            "\u001b[0;31m---------------------------------------------------------------------------\u001b[0m",
            "\u001b[0;31mNameError\u001b[0m                                 Traceback (most recent call last)",
            "\u001b[0;32m<ipython-input-22-3e40c66b1e71>\u001b[0m in \u001b[0;36m<module>\u001b[0;34m()\u001b[0m\n\u001b[0;32m----> 1\u001b[0;31m \u001b[0mPrint\u001b[0m\u001b[0;34m\u001b[0m\u001b[0;34m\u001b[0m\u001b[0m\n\u001b[0m",
            "\u001b[0;31mNameError\u001b[0m: name 'Print' is not defined"
          ]
        }
      ]
    },
    {
      "cell_type": "code",
      "metadata": {
        "id": "lLhv_A33cK_G"
      },
      "source": [
        "# fitting model\n",
        "model1 = keras.models.Sequential()\n",
        "\n",
        "model1.add(keras.layers.Dense(200, input_shape=(8000,)))\n",
        "model1.add(keras.layers.BatchNormalization())\n",
        "model1.add(keras.layers.Activation('relu'))\n",
        "model1.add(keras.layers.Dropout(0.5))\n",
        "\n",
        "model1.add(keras.layers.Dense(300))\n",
        "model1.add(keras.layers.BatchNormalization())\n",
        "model1.add(keras.layers.Activation('relu'))\n",
        "model1.add(keras.layers.Dropout(0.5))\n",
        "\n",
        "\n",
        "model1.add(keras.layers.Dense(400))\n",
        "model1.add(keras.layers.BatchNormalization())\n",
        "model1.add(keras.layers.Activation('relu'))\n",
        "model1.add(keras.layers.Dropout(0.5))\n",
        "\n",
        "model1.add(keras.layers.Dense(100, activation='relu'))\n",
        "model1.add(keras.layers.Dense(1, activation='sigmoid'))\n"
      ],
      "execution_count": 24,
      "outputs": []
    },
    {
      "cell_type": "code",
      "metadata": {
        "id": "oETPLyQrcj-s"
      },
      "source": [
        "model1.compile(optimizer='adam', loss='binary_crossentropy', metrics=['accuracy','mse'])"
      ],
      "execution_count": 28,
      "outputs": []
    },
    {
      "cell_type": "code",
      "metadata": {
        "id": "4323EmVKcl7K",
        "colab": {
          "base_uri": "https://localhost:8080/"
        },
        "outputId": "28113846-c993-4174-cf3e-ae636d054822"
      },
      "source": [
        "model1.summary()"
      ],
      "execution_count": 29,
      "outputs": [
        {
          "output_type": "stream",
          "text": [
            "Model: \"sequential\"\n",
            "_________________________________________________________________\n",
            "Layer (type)                 Output Shape              Param #   \n",
            "=================================================================\n",
            "dense (Dense)                (None, 200)               1600200   \n",
            "_________________________________________________________________\n",
            "batch_normalization (BatchNo (None, 200)               800       \n",
            "_________________________________________________________________\n",
            "activation (Activation)      (None, 200)               0         \n",
            "_________________________________________________________________\n",
            "dropout (Dropout)            (None, 200)               0         \n",
            "_________________________________________________________________\n",
            "dense_1 (Dense)              (None, 300)               60300     \n",
            "_________________________________________________________________\n",
            "batch_normalization_1 (Batch (None, 300)               1200      \n",
            "_________________________________________________________________\n",
            "activation_1 (Activation)    (None, 300)               0         \n",
            "_________________________________________________________________\n",
            "dropout_1 (Dropout)          (None, 300)               0         \n",
            "_________________________________________________________________\n",
            "dense_2 (Dense)              (None, 400)               120400    \n",
            "_________________________________________________________________\n",
            "batch_normalization_2 (Batch (None, 400)               1600      \n",
            "_________________________________________________________________\n",
            "activation_2 (Activation)    (None, 400)               0         \n",
            "_________________________________________________________________\n",
            "dropout_2 (Dropout)          (None, 400)               0         \n",
            "_________________________________________________________________\n",
            "dense_3 (Dense)              (None, 100)               40100     \n",
            "_________________________________________________________________\n",
            "dense_4 (Dense)              (None, 1)                 101       \n",
            "=================================================================\n",
            "Total params: 1,824,701\n",
            "Trainable params: 1,822,901\n",
            "Non-trainable params: 1,800\n",
            "_________________________________________________________________\n"
          ],
          "name": "stdout"
        }
      ]
    },
    {
      "cell_type": "code",
      "metadata": {
        "colab": {
          "base_uri": "https://localhost:8080/"
        },
        "id": "W1bZs_V1cn6Y",
        "outputId": "e25f4cb6-c634-484c-d715-33a0da39368a"
      },
      "source": [
        "model1_train = model1.fit(X_train_cv.todense(), y_train, epochs=20, batch_size=100)"
      ],
      "execution_count": 30,
      "outputs": [
        {
          "output_type": "stream",
          "text": [
            "Epoch 1/20\n",
            "54/54 [==============================] - 3s 33ms/step - loss: 0.6427 - accuracy: 0.7039 - mse: 0.2115\n",
            "Epoch 2/20\n",
            "54/54 [==============================] - 2s 35ms/step - loss: 0.5374 - accuracy: 0.7570 - mse: 0.1780\n",
            "Epoch 3/20\n",
            "54/54 [==============================] - 2s 33ms/step - loss: 0.4588 - accuracy: 0.7769 - mse: 0.1523\n",
            "Epoch 4/20\n",
            "54/54 [==============================] - 2s 33ms/step - loss: 0.3217 - accuracy: 0.8590 - mse: 0.1024\n",
            "Epoch 5/20\n",
            "54/54 [==============================] - 2s 32ms/step - loss: 0.2703 - accuracy: 0.8743 - mse: 0.0877\n",
            "Epoch 6/20\n",
            "54/54 [==============================] - 2s 32ms/step - loss: 0.2360 - accuracy: 0.8892 - mse: 0.0770\n",
            "Epoch 7/20\n",
            "54/54 [==============================] - 2s 32ms/step - loss: 0.2377 - accuracy: 0.8897 - mse: 0.0766\n",
            "Epoch 8/20\n",
            "54/54 [==============================] - 2s 32ms/step - loss: 0.2268 - accuracy: 0.8959 - mse: 0.0738\n",
            "Epoch 9/20\n",
            "54/54 [==============================] - 2s 33ms/step - loss: 0.2168 - accuracy: 0.8953 - mse: 0.0727\n",
            "Epoch 10/20\n",
            "54/54 [==============================] - 2s 32ms/step - loss: 0.1972 - accuracy: 0.9058 - mse: 0.0656\n",
            "Epoch 11/20\n",
            "54/54 [==============================] - 2s 32ms/step - loss: 0.2002 - accuracy: 0.9046 - mse: 0.0669\n",
            "Epoch 12/20\n",
            "54/54 [==============================] - 2s 33ms/step - loss: 0.2003 - accuracy: 0.9095 - mse: 0.0660\n",
            "Epoch 13/20\n",
            "54/54 [==============================] - 2s 33ms/step - loss: 0.1821 - accuracy: 0.9100 - mse: 0.0605\n",
            "Epoch 14/20\n",
            "54/54 [==============================] - 2s 33ms/step - loss: 0.1810 - accuracy: 0.9144 - mse: 0.0600\n",
            "Epoch 15/20\n",
            "54/54 [==============================] - 2s 33ms/step - loss: 0.1883 - accuracy: 0.9072 - mse: 0.0627\n",
            "Epoch 16/20\n",
            "54/54 [==============================] - 2s 32ms/step - loss: 0.1911 - accuracy: 0.9139 - mse: 0.0627\n",
            "Epoch 17/20\n",
            "54/54 [==============================] - 2s 33ms/step - loss: 0.1757 - accuracy: 0.9148 - mse: 0.0593\n",
            "Epoch 18/20\n",
            "54/54 [==============================] - 2s 32ms/step - loss: 0.1812 - accuracy: 0.9151 - mse: 0.0594\n",
            "Epoch 19/20\n",
            "54/54 [==============================] - 2s 33ms/step - loss: 0.1696 - accuracy: 0.9158 - mse: 0.0580\n",
            "Epoch 20/20\n",
            "54/54 [==============================] - 2s 33ms/step - loss: 0.1822 - accuracy: 0.9139 - mse: 0.0615\n"
          ],
          "name": "stdout"
        }
      ]
    },
    {
      "cell_type": "code",
      "metadata": {
        "id": "nBG_W5pmwuDQ"
      },
      "source": [
        "X_train_cv.todense().shape"
      ],
      "execution_count": null,
      "outputs": []
    },
    {
      "cell_type": "code",
      "metadata": {
        "id": "7KEGKpLWhtYI"
      },
      "source": [
        "%matplotlib inline\n",
        "import matplotlib.pyplot as plt\n",
        "\n",
        "fig, loss_ax = plt.subplots()\n",
        "\n",
        "acc_ax = loss_ax.twinx()\n",
        "\n",
        "loss_ax.set_ylim([0.0, 1.0])\n",
        "acc_ax.set_ylim([0.0, 1.0])\n",
        "\n",
        "loss_ax.plot(model1_train.history['loss'], 'y', label='train loss')\n",
        "acc_ax.plot(model1_train.history['accuracy'], 'b', label='train acc')\n",
        "\n",
        "loss_ax.set_xlabel('Epoch')\n",
        "loss_ax.set_ylabel('Loss')\n",
        "acc_ax.set_ylabel('Accuray')\n",
        "\n",
        "loss_ax.legend(loc='upper left')\n",
        "acc_ax.legend(loc='lower left')\n",
        "\n",
        "plt.show()\n",
        "#https://github.com/sharmaroshan/Drugs-Recommendation-using-Reviews/blob/master/DrugsAnalysis.ipynb"
      ],
      "execution_count": null,
      "outputs": []
    },
    {
      "cell_type": "code",
      "metadata": {
        "id": "gcbwGohGl57s"
      },
      "source": [
        "prediction_model1 = model1.predict(X_test_cv,batch_size=32)\n"
      ],
      "execution_count": null,
      "outputs": []
    },
    {
      "cell_type": "code",
      "metadata": {
        "id": "rbywpIk2TZDq"
      },
      "source": [
        "X_train.head()"
      ],
      "execution_count": null,
      "outputs": []
    },
    {
      "cell_type": "code",
      "metadata": {
        "id": "As4CZ0JMTMt3"
      },
      "source": [
        "X_train_cv.shape\n"
      ],
      "execution_count": null,
      "outputs": []
    },
    {
      "cell_type": "code",
      "metadata": {
        "id": "WjBx09wh5uDE"
      },
      "source": [
        "model3 = Sequential()\n",
        "model3.add(keras.layers.Embedding(5348, 100, input_length=8000))\n",
        "model3.add(keras.layers.Conv1D(128, 5, activation='softmax'))\n",
        "model3.add(keras.layers.GlobalMaxPooling1D())\n",
        "model3.add(keras.layers.Dense(10, activation='softmax'))\n",
        "model3.add(keras.layers.Dense(1, activation='softmax'))\n",
        "model3.compile(optimizer='adam',\n",
        "              loss='binary_crossentropy',\n",
        "              metrics=['accuracy'])\n",
        "model3.summary()"
      ],
      "execution_count": null,
      "outputs": []
    },
    {
      "cell_type": "code",
      "metadata": {
        "id": "a67it8qtrZTS"
      },
      "source": [
        "model3_train = model3.fit(X_train_cv.todense(), y_train, epochs=10, batch_size=150)"
      ],
      "execution_count": null,
      "outputs": []
    },
    {
      "cell_type": "markdown",
      "metadata": {
        "id": "XzxDnc19tslq"
      },
      "source": [
        "#### Predictions"
      ]
    },
    {
      "cell_type": "code",
      "metadata": {
        "id": "x3ZLwihvj59t"
      },
      "source": [
        "Print"
      ],
      "execution_count": null,
      "outputs": []
    },
    {
      "cell_type": "code",
      "metadata": {
        "id": "7qTd4tA3Fmof"
      },
      "source": [
        "def predicted_recommend(predictions,testing_data):\n",
        "\n",
        "  predict_df=pd.DataFrame(testing_data.sentiment)\n",
        "  predict_df['predicted_values']=pd.Series(predictions, index=predict_df.index)\n",
        "  recommend_index=list(predict_df[predict_df['predicted_values']=='1'].index)\n",
        "  recommend_dataframe=testing_data.loc[recommend_index]\n",
        "  recommend_dataframe_grouped=recommend_dataframe[['drugName','rating']].groupby(['drugName']).max()\n",
        "  recommend_dataframe_grouped.sort_values(by='rating', ascending=False)[:10]\n",
        "  recommend_dataframe_grouped=recommend_dataframe_grouped.reset_index()\n",
        "  recommend_dataframe_grouped=recommend_dataframe_grouped.sort_values(by='rating', ascending=False)[:10]\n",
        " \n",
        "  return recommend_dataframe_grouped"
      ],
      "execution_count": null,
      "outputs": []
    },
    {
      "cell_type": "code",
      "metadata": {
        "id": "ps0NdA9AHWZ_"
      },
      "source": [
        "predicted_recommend(predictions,testing_data)"
      ],
      "execution_count": null,
      "outputs": []
    },
    {
      "cell_type": "code",
      "metadata": {
        "id": "v4AfdMQRIqlp"
      },
      "source": [
        ""
      ],
      "execution_count": null,
      "outputs": []
    }
  ]
}