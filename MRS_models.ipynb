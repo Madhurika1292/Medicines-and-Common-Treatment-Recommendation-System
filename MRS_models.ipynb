{
  "nbformat": 4,
  "nbformat_minor": 0,
  "metadata": {
    "accelerator": "GPU",
    "colab": {
      "name": "MRS models.ipynb",
      "provenance": [],
      "collapsed_sections": [
        "hApmugAUZ7Aw"
      ],
      "machine_shape": "hm",
      "authorship_tag": "ABX9TyPFq80kY5ZSl3/+hBLrFiP9",
      "include_colab_link": true
    },
    "kernelspec": {
      "display_name": "Python 3",
      "name": "python3"
    },
    "language_info": {
      "name": "python"
    }
  },
  "cells": [
    {
      "cell_type": "markdown",
      "metadata": {
        "id": "view-in-github",
        "colab_type": "text"
      },
      "source": [
        "<a href=\"https://colab.research.google.com/github/Madhurika1292/Medicines-and-Common-Treatment-Recommendation-System/blob/main/MRS_models.ipynb\" target=\"_parent\"><img src=\"https://colab.research.google.com/assets/colab-badge.svg\" alt=\"Open In Colab\"/></a>"
      ]
    },
    {
      "cell_type": "markdown",
      "metadata": {
        "id": "HNJqFsJPoatg"
      },
      "source": [
        "# Medicine Recommendation System"
      ]
    },
    {
      "cell_type": "markdown",
      "metadata": {
        "id": "hji-qOi3osdn"
      },
      "source": [
        "## Loading libraries"
      ]
    },
    {
      "cell_type": "code",
      "metadata": {
        "id": "7HTxLqw6owTc",
        "colab": {
          "base_uri": "https://localhost:8080/"
        },
        "outputId": "c704de0f-bab4-4725-af50-9925ceb17d19"
      },
      "source": [
        "import pandas as pd\n",
        "import numpy as np\n",
        "import matplotlib.pyplot as plt\n",
        "import seaborn as sns\n",
        "from sklearn import naive_bayes\n",
        "from sklearn.linear_model import LogisticRegression\n",
        "from sklearn.neighbors import KNeighborsClassifier\n",
        "from sklearn.feature_extraction.text import CountVectorizer\n",
        "from sklearn.naive_bayes import GaussianNB\n",
        "from sklearn.metrics import precision_score, recall_score, precision_recall_curve,f1_score, fbeta_score\n",
        "from sklearn.preprocessing import StandardScaler\n",
        "from sklearn.metrics import accuracy_score, confusion_matrix, roc_curve, roc_auc_score, make_scorer\n",
        "from sklearn.pipeline import Pipeline\n",
        "from sklearn.model_selection import GridSearchCV\n",
        "from sklearn.naive_bayes import MultinomialNB, BernoulliNB\n",
        "from textblob import TextBlob\n",
        "import tensorflow as tf\n",
        "from sklearn.metrics import mean_squared_error\n",
        "import warnings\n",
        "with warnings.catch_warnings():\n",
        "    warnings.simplefilter(\"ignore\")\n",
        "    warnings.warn(\"deprecated\", DeprecationWarning)\n",
        "\n",
        "from tensorflow.python.keras.models import Sequential\n",
        "from tensorflow.python.keras.layers import Dense, Bidirectional, LSTM, BatchNormalization, Dropout\n",
        "from tensorflow.python.keras.preprocessing.sequence import pad_sequences\n",
        "import keras\n",
        "from keras.models import Sequential\n",
        "from keras.layers import Dense\n",
        "import random\n",
        "from sklearn.svm import LinearSVC\n",
        "from sklearn.tree import DecisionTreeClassifier\n",
        "from sklearn.ensemble import RandomForestClassifier\n",
        "from math import sqrt\n",
        "from sklearn.metrics import precision_score, f1_score, recall_score\n",
        "import sys\n",
        "sys.float_info.epsilon\n",
        "\n",
        "\n",
        "\n"
      ],
      "execution_count": 51,
      "outputs": [
        {
          "output_type": "execute_result",
          "data": {
            "text/plain": [
              "2.220446049250313e-16"
            ]
          },
          "metadata": {
            "tags": []
          },
          "execution_count": 51
        }
      ]
    },
    {
      "cell_type": "markdown",
      "metadata": {
        "id": "u-gdkQIToq68"
      },
      "source": [
        "## Data Loading"
      ]
    },
    {
      "cell_type": "code",
      "metadata": {
        "colab": {
          "base_uri": "https://localhost:8080/"
        },
        "id": "hL8BrGe0o3EL",
        "outputId": "24ce0cc2-b582-45c9-80c5-57dd311fe155"
      },
      "source": [
        "# Importing dataset from drive\n",
        "from google.colab import drive\n",
        "drive.mount('/content/gdrive/')\n",
        "\n",
        "import sys\n",
        "sys.path.append('/content/gdrive/My Drive/Drugscom')"
      ],
      "execution_count": null,
      "outputs": [
        {
          "output_type": "stream",
          "text": [
            "Drive already mounted at /content/gdrive/; to attempt to forcibly remount, call drive.mount(\"/content/gdrive/\", force_remount=True).\n"
          ],
          "name": "stdout"
        }
      ]
    },
    {
      "cell_type": "code",
      "metadata": {
        "colab": {
          "base_uri": "https://localhost:8080/"
        },
        "id": "IuTfErhZpB2Y",
        "outputId": "2760d34d-7c3e-4801-a2ef-bc5b2dc4442e"
      },
      "source": [
        "!ls gdrive/MyDrive/Drugscom/"
      ],
      "execution_count": null,
      "outputs": [
        {
          "output_type": "stream",
          "text": [
            "Drugscom_test.csv     Drugscom_train.csv\n",
            "drugsComTest_raw.csv  drugsComTrain_raw.csv\n"
          ],
          "name": "stdout"
        }
      ]
    },
    {
      "cell_type": "code",
      "metadata": {
        "id": "Lt9ueg3mpGKa"
      },
      "source": [
        "#Loading data\n",
        "Drugscom_train=pd.read_csv('/content/gdrive/My Drive/Drugscom/Drugscom_train.csv')\n",
        "Drugscom_test=pd.read_csv('/content/gdrive/My Drive/Drugscom/Drugscom_test.csv')"
      ],
      "execution_count": null,
      "outputs": []
    },
    {
      "cell_type": "code",
      "metadata": {
        "colab": {
          "base_uri": "https://localhost:8080/"
        },
        "id": "YzbzM6bgp8q5",
        "outputId": "8b27e641-383b-4c4b-a583-51e9301a9b12"
      },
      "source": [
        "#Before\n",
        "# checking for null values\n",
        "Drugscom_train.isnull().sum()"
      ],
      "execution_count": null,
      "outputs": [
        {
          "output_type": "execute_result",
          "data": {
            "text/plain": [
              "Unnamed: 0      0\n",
              "uniqueId        0\n",
              "drugName        0\n",
              "condition       0\n",
              "review          0\n",
              "rating          0\n",
              "date            0\n",
              "usefulCount     0\n",
              "treatments      0\n",
              "clean_review    6\n",
              "dtype: int64"
            ]
          },
          "metadata": {
            "tags": []
          },
          "execution_count": 5
        }
      ]
    },
    {
      "cell_type": "code",
      "metadata": {
        "colab": {
          "base_uri": "https://localhost:8080/"
        },
        "id": "pONVgsLQqAkG",
        "outputId": "be099225-c7a2-4a2f-ed06-4c0b889541bd"
      },
      "source": [
        "# checking for null values\n",
        "Drugscom_test.isnull().sum()"
      ],
      "execution_count": null,
      "outputs": [
        {
          "output_type": "execute_result",
          "data": {
            "text/plain": [
              "Unnamed: 0      0\n",
              "uniqueId        0\n",
              "drugName        0\n",
              "condition       0\n",
              "review          0\n",
              "rating          0\n",
              "date            0\n",
              "usefulCount     0\n",
              "treatments      0\n",
              "clean_review    2\n",
              "dtype: int64"
            ]
          },
          "metadata": {
            "tags": []
          },
          "execution_count": 6
        }
      ]
    },
    {
      "cell_type": "code",
      "metadata": {
        "id": "otmEmTlfqCnT"
      },
      "source": [
        "# Dropping null values\n",
        "Drugscom_train = Drugscom_train.dropna(axis=0)\n",
        "Drugscom_test = Drugscom_test.dropna(axis=0)"
      ],
      "execution_count": null,
      "outputs": []
    },
    {
      "cell_type": "code",
      "metadata": {
        "colab": {
          "base_uri": "https://localhost:8080/"
        },
        "id": "pTG6fY7HqEsX",
        "outputId": "c7046dbe-37af-4dc2-c05d-4059c477fd70"
      },
      "source": [
        "# checking for null values\n",
        "Drugscom_train.isnull().sum()"
      ],
      "execution_count": null,
      "outputs": [
        {
          "output_type": "execute_result",
          "data": {
            "text/plain": [
              "Unnamed: 0      0\n",
              "uniqueId        0\n",
              "drugName        0\n",
              "condition       0\n",
              "review          0\n",
              "rating          0\n",
              "date            0\n",
              "usefulCount     0\n",
              "treatments      0\n",
              "clean_review    0\n",
              "dtype: int64"
            ]
          },
          "metadata": {
            "tags": []
          },
          "execution_count": 8
        }
      ]
    },
    {
      "cell_type": "code",
      "metadata": {
        "colab": {
          "base_uri": "https://localhost:8080/"
        },
        "id": "exfBZdhCqH-E",
        "outputId": "4254ad1f-f92c-42ad-aa5e-e641343b0b99"
      },
      "source": [
        "# checking for null values\n",
        "Drugscom_test.isnull().sum()"
      ],
      "execution_count": null,
      "outputs": [
        {
          "output_type": "execute_result",
          "data": {
            "text/plain": [
              "Unnamed: 0      0\n",
              "uniqueId        0\n",
              "drugName        0\n",
              "condition       0\n",
              "review          0\n",
              "rating          0\n",
              "date            0\n",
              "usefulCount     0\n",
              "treatments      0\n",
              "clean_review    0\n",
              "dtype: int64"
            ]
          },
          "metadata": {
            "tags": []
          },
          "execution_count": 9
        }
      ]
    },
    {
      "cell_type": "code",
      "metadata": {
        "id": "YdDSH8WJqH34"
      },
      "source": [
        "#Changing the \"Unnamed: 0\" column to uniqueId as it represents the unique id of the drugs\n",
        "Drugscom_train=Drugscom_train.drop('Unnamed: 0', axis='columns')\n",
        "Drugscom_test=Drugscom_test.drop('Unnamed: 0', axis='columns')"
      ],
      "execution_count": null,
      "outputs": []
    },
    {
      "cell_type": "code",
      "metadata": {
        "colab": {
          "base_uri": "https://localhost:8080/",
          "height": 191
        },
        "id": "YaB3QvtaqMOd",
        "outputId": "02662fa1-e4b0-4e09-e675-636c49d3a62a"
      },
      "source": [
        "Drugscom_train.head()"
      ],
      "execution_count": null,
      "outputs": [
        {
          "output_type": "execute_result",
          "data": {
            "text/html": [
              "<div>\n",
              "<style scoped>\n",
              "    .dataframe tbody tr th:only-of-type {\n",
              "        vertical-align: middle;\n",
              "    }\n",
              "\n",
              "    .dataframe tbody tr th {\n",
              "        vertical-align: top;\n",
              "    }\n",
              "\n",
              "    .dataframe thead th {\n",
              "        text-align: right;\n",
              "    }\n",
              "</style>\n",
              "<table border=\"1\" class=\"dataframe\">\n",
              "  <thead>\n",
              "    <tr style=\"text-align: right;\">\n",
              "      <th></th>\n",
              "      <th>uniqueId</th>\n",
              "      <th>drugName</th>\n",
              "      <th>condition</th>\n",
              "      <th>review</th>\n",
              "      <th>rating</th>\n",
              "      <th>date</th>\n",
              "      <th>usefulCount</th>\n",
              "      <th>treatments</th>\n",
              "      <th>clean_review</th>\n",
              "    </tr>\n",
              "  </thead>\n",
              "  <tbody>\n",
              "    <tr>\n",
              "      <th>0</th>\n",
              "      <td>131173</td>\n",
              "      <td>A / B Otic</td>\n",
              "      <td>Otitis Media</td>\n",
              "      <td>\"It numbs the pain. It makes my ear feel heavi...</td>\n",
              "      <td>10</td>\n",
              "      <td>2009-09-23</td>\n",
              "      <td>20</td>\n",
              "      <td>ANALGESICS,ANTIBIOTIC THERAPY,Tympanostomy Tub...</td>\n",
              "      <td>numb pain make ear feel heavier least throb su...</td>\n",
              "    </tr>\n",
              "    <tr>\n",
              "      <th>1</th>\n",
              "      <td>153899</td>\n",
              "      <td>Amoxicillin</td>\n",
              "      <td>Otitis Media</td>\n",
              "      <td>\"Perforation in my right tympanic membrane (ea...</td>\n",
              "      <td>8</td>\n",
              "      <td>2011-04-12</td>\n",
              "      <td>16</td>\n",
              "      <td>ANALGESICS,ANTIBIOTIC THERAPY,Tympanostomy Tub...</td>\n",
              "      <td>perfor right tympan membran eardrum linger upp...</td>\n",
              "    </tr>\n",
              "    <tr>\n",
              "      <th>2</th>\n",
              "      <td>153715</td>\n",
              "      <td>Amoxicillin</td>\n",
              "      <td>Otitis Media</td>\n",
              "      <td>\"This medication did not clear up the infectio...</td>\n",
              "      <td>2</td>\n",
              "      <td>2017-05-31</td>\n",
              "      <td>0</td>\n",
              "      <td>ANALGESICS,ANTIBIOTIC THERAPY,Tympanostomy Tub...</td>\n",
              "      <td>medic not clear infect well notic odorless dis...</td>\n",
              "    </tr>\n",
              "    <tr>\n",
              "      <th>3</th>\n",
              "      <td>153780</td>\n",
              "      <td>Amoxicillin</td>\n",
              "      <td>Otitis Media</td>\n",
              "      <td>\"My son who was 7 months old at the time was p...</td>\n",
              "      <td>1</td>\n",
              "      <td>2016-12-09</td>\n",
              "      <td>0</td>\n",
              "      <td>ANALGESICS,ANTIBIOTIC THERAPY,Tympanostomy Tub...</td>\n",
              "      <td>son month old time prescrib amoxicillin ear in...</td>\n",
              "    </tr>\n",
              "    <tr>\n",
              "      <th>4</th>\n",
              "      <td>153838</td>\n",
              "      <td>Amoxicillin</td>\n",
              "      <td>Otitis Media</td>\n",
              "      <td>\"This medication works amazingly for ear infec...</td>\n",
              "      <td>9</td>\n",
              "      <td>2013-10-02</td>\n",
              "      <td>12</td>\n",
              "      <td>ANALGESICS,ANTIBIOTIC THERAPY,Tympanostomy Tub...</td>\n",
              "      <td>medic work amaz ear infect ear infect count li...</td>\n",
              "    </tr>\n",
              "  </tbody>\n",
              "</table>\n",
              "</div>"
            ],
            "text/plain": [
              "   uniqueId  ...                                       clean_review\n",
              "0    131173  ...  numb pain make ear feel heavier least throb su...\n",
              "1    153899  ...  perfor right tympan membran eardrum linger upp...\n",
              "2    153715  ...  medic not clear infect well notic odorless dis...\n",
              "3    153780  ...  son month old time prescrib amoxicillin ear in...\n",
              "4    153838  ...  medic work amaz ear infect ear infect count li...\n",
              "\n",
              "[5 rows x 9 columns]"
            ]
          },
          "metadata": {
            "tags": []
          },
          "execution_count": 11
        }
      ]
    },
    {
      "cell_type": "markdown",
      "metadata": {
        "id": "FzJMNertPrJ1"
      },
      "source": [
        "Above dataset is huge to feed into machine learning model and its unnecessary. So filtering the data with the conditions provided by the user."
      ]
    },
    {
      "cell_type": "code",
      "metadata": {
        "id": "ug-7MkJFqRKC"
      },
      "source": [
        "#filtering the data with specific condition\n",
        "def specific_condition_data(df,condition):\n",
        "  \n",
        "  return df[df['condition']==condition]"
      ],
      "execution_count": null,
      "outputs": []
    },
    {
      "cell_type": "markdown",
      "metadata": {
        "id": "ZRaDujZQw1Gn"
      },
      "source": [
        "## Splitting data"
      ]
    },
    {
      "cell_type": "code",
      "metadata": {
        "colab": {
          "base_uri": "https://localhost:8080/",
          "height": 420
        },
        "id": "kFCDwhZKU_VM",
        "outputId": "3e74da94-513f-4812-b6db-e06e22d6ae84"
      },
      "source": [
        "Drugscom_train.groupby('condition').count()\n",
        "grouped = Drugscom_train.groupby('condition').count()\n",
        "grouped.sort_values('uniqueId', ascending=False)"
      ],
      "execution_count": null,
      "outputs": [
        {
          "output_type": "execute_result",
          "data": {
            "text/html": [
              "<div>\n",
              "<style scoped>\n",
              "    .dataframe tbody tr th:only-of-type {\n",
              "        vertical-align: middle;\n",
              "    }\n",
              "\n",
              "    .dataframe tbody tr th {\n",
              "        vertical-align: top;\n",
              "    }\n",
              "\n",
              "    .dataframe thead th {\n",
              "        text-align: right;\n",
              "    }\n",
              "</style>\n",
              "<table border=\"1\" class=\"dataframe\">\n",
              "  <thead>\n",
              "    <tr style=\"text-align: right;\">\n",
              "      <th></th>\n",
              "      <th>uniqueId</th>\n",
              "      <th>drugName</th>\n",
              "      <th>review</th>\n",
              "      <th>rating</th>\n",
              "      <th>date</th>\n",
              "      <th>usefulCount</th>\n",
              "      <th>treatments</th>\n",
              "      <th>clean_review</th>\n",
              "    </tr>\n",
              "    <tr>\n",
              "      <th>condition</th>\n",
              "      <th></th>\n",
              "      <th></th>\n",
              "      <th></th>\n",
              "      <th></th>\n",
              "      <th></th>\n",
              "      <th></th>\n",
              "      <th></th>\n",
              "      <th></th>\n",
              "    </tr>\n",
              "  </thead>\n",
              "  <tbody>\n",
              "    <tr>\n",
              "      <th>Birth Control</th>\n",
              "      <td>28788</td>\n",
              "      <td>28788</td>\n",
              "      <td>28788</td>\n",
              "      <td>28788</td>\n",
              "      <td>28788</td>\n",
              "      <td>28788</td>\n",
              "      <td>28788</td>\n",
              "      <td>28788</td>\n",
              "    </tr>\n",
              "    <tr>\n",
              "      <th>Depression</th>\n",
              "      <td>9069</td>\n",
              "      <td>9069</td>\n",
              "      <td>9069</td>\n",
              "      <td>9069</td>\n",
              "      <td>9069</td>\n",
              "      <td>9069</td>\n",
              "      <td>9069</td>\n",
              "      <td>9069</td>\n",
              "    </tr>\n",
              "    <tr>\n",
              "      <th>Pain</th>\n",
              "      <td>6145</td>\n",
              "      <td>6145</td>\n",
              "      <td>6145</td>\n",
              "      <td>6145</td>\n",
              "      <td>6145</td>\n",
              "      <td>6145</td>\n",
              "      <td>6145</td>\n",
              "      <td>6145</td>\n",
              "    </tr>\n",
              "    <tr>\n",
              "      <th>Anxiety</th>\n",
              "      <td>5903</td>\n",
              "      <td>5903</td>\n",
              "      <td>5903</td>\n",
              "      <td>5903</td>\n",
              "      <td>5903</td>\n",
              "      <td>5903</td>\n",
              "      <td>5903</td>\n",
              "      <td>5903</td>\n",
              "    </tr>\n",
              "    <tr>\n",
              "      <th>Acne</th>\n",
              "      <td>5588</td>\n",
              "      <td>5588</td>\n",
              "      <td>5588</td>\n",
              "      <td>5588</td>\n",
              "      <td>5588</td>\n",
              "      <td>5588</td>\n",
              "      <td>5588</td>\n",
              "      <td>5588</td>\n",
              "    </tr>\n",
              "    <tr>\n",
              "      <th>...</th>\n",
              "      <td>...</td>\n",
              "      <td>...</td>\n",
              "      <td>...</td>\n",
              "      <td>...</td>\n",
              "      <td>...</td>\n",
              "      <td>...</td>\n",
              "      <td>...</td>\n",
              "      <td>...</td>\n",
              "    </tr>\n",
              "    <tr>\n",
              "      <th>Campylobacter Gastroenteritis</th>\n",
              "      <td>2</td>\n",
              "      <td>2</td>\n",
              "      <td>2</td>\n",
              "      <td>2</td>\n",
              "      <td>2</td>\n",
              "      <td>2</td>\n",
              "      <td>2</td>\n",
              "      <td>2</td>\n",
              "    </tr>\n",
              "    <tr>\n",
              "      <th>Hairy Cell Leukemia</th>\n",
              "      <td>2</td>\n",
              "      <td>2</td>\n",
              "      <td>2</td>\n",
              "      <td>2</td>\n",
              "      <td>2</td>\n",
              "      <td>2</td>\n",
              "      <td>2</td>\n",
              "      <td>2</td>\n",
              "    </tr>\n",
              "    <tr>\n",
              "      <th>Typhoid Fever</th>\n",
              "      <td>2</td>\n",
              "      <td>2</td>\n",
              "      <td>2</td>\n",
              "      <td>2</td>\n",
              "      <td>2</td>\n",
              "      <td>2</td>\n",
              "      <td>2</td>\n",
              "      <td>2</td>\n",
              "    </tr>\n",
              "    <tr>\n",
              "      <th>Duodenal Ulcer Prophylaxis</th>\n",
              "      <td>2</td>\n",
              "      <td>2</td>\n",
              "      <td>2</td>\n",
              "      <td>2</td>\n",
              "      <td>2</td>\n",
              "      <td>2</td>\n",
              "      <td>2</td>\n",
              "      <td>2</td>\n",
              "    </tr>\n",
              "    <tr>\n",
              "      <th>Percutaneous Coronary Intervention</th>\n",
              "      <td>2</td>\n",
              "      <td>2</td>\n",
              "      <td>2</td>\n",
              "      <td>2</td>\n",
              "      <td>2</td>\n",
              "      <td>2</td>\n",
              "      <td>2</td>\n",
              "      <td>2</td>\n",
              "    </tr>\n",
              "  </tbody>\n",
              "</table>\n",
              "<p>632 rows × 8 columns</p>\n",
              "</div>"
            ],
            "text/plain": [
              "                                    uniqueId  ...  clean_review\n",
              "condition                                     ...              \n",
              "Birth Control                          28788  ...         28788\n",
              "Depression                              9069  ...          9069\n",
              "Pain                                    6145  ...          6145\n",
              "Anxiety                                 5903  ...          5903\n",
              "Acne                                    5588  ...          5588\n",
              "...                                      ...  ...           ...\n",
              "Campylobacter Gastroenteritis              2  ...             2\n",
              "Hairy Cell Leukemia                        2  ...             2\n",
              "Typhoid Fever                              2  ...             2\n",
              "Duodenal Ulcer Prophylaxis                 2  ...             2\n",
              "Percutaneous Coronary Intervention         2  ...             2\n",
              "\n",
              "[632 rows x 8 columns]"
            ]
          },
          "metadata": {
            "tags": []
          },
          "execution_count": 13
        }
      ]
    },
    {
      "cell_type": "code",
      "metadata": {
        "id": "Hb54owvIu7Cr"
      },
      "source": [
        "#creating training and testing data set\n",
        "training_data=specific_condition_data(Drugscom_train,'Anxiety')\n",
        "testing_data=specific_condition_data(Drugscom_test,'Anxiety')"
      ],
      "execution_count": null,
      "outputs": []
    },
    {
      "cell_type": "code",
      "metadata": {
        "id": "Bv2hOwnrgD5o"
      },
      "source": [
        "#creating textblob instance for polarity and subjectivity\n",
        "pol = lambda x: TextBlob(x).sentiment.polarity\n",
        "sub = lambda x: TextBlob(x).sentiment.subjectivity"
      ],
      "execution_count": null,
      "outputs": []
    },
    {
      "cell_type": "code",
      "metadata": {
        "colab": {
          "base_uri": "https://localhost:8080/"
        },
        "id": "n6r7PRiugCct",
        "outputId": "8c6c0f7c-197c-448d-d04c-6193e1557e6c"
      },
      "source": [
        "# applying polarity and subjectivity instance to reviews within data\n",
        "training_data['polarity'] = training_data[\"clean_review\"].apply(pol)\n",
        "training_data['subjectivity'] = training_data[\"clean_review\"].apply(sub)\n",
        "testing_data['polarity'] = testing_data[\"clean_review\"].apply(pol)\n",
        "testing_data['subjectivity'] = testing_data[\"clean_review\"].apply(sub)\n"
      ],
      "execution_count": null,
      "outputs": [
        {
          "output_type": "stream",
          "text": [
            "/usr/local/lib/python3.7/dist-packages/ipykernel_launcher.py:2: SettingWithCopyWarning: \n",
            "A value is trying to be set on a copy of a slice from a DataFrame.\n",
            "Try using .loc[row_indexer,col_indexer] = value instead\n",
            "\n",
            "See the caveats in the documentation: https://pandas.pydata.org/pandas-docs/stable/user_guide/indexing.html#returning-a-view-versus-a-copy\n",
            "  \n",
            "/usr/local/lib/python3.7/dist-packages/ipykernel_launcher.py:3: SettingWithCopyWarning: \n",
            "A value is trying to be set on a copy of a slice from a DataFrame.\n",
            "Try using .loc[row_indexer,col_indexer] = value instead\n",
            "\n",
            "See the caveats in the documentation: https://pandas.pydata.org/pandas-docs/stable/user_guide/indexing.html#returning-a-view-versus-a-copy\n",
            "  This is separate from the ipykernel package so we can avoid doing imports until\n",
            "/usr/local/lib/python3.7/dist-packages/ipykernel_launcher.py:4: SettingWithCopyWarning: \n",
            "A value is trying to be set on a copy of a slice from a DataFrame.\n",
            "Try using .loc[row_indexer,col_indexer] = value instead\n",
            "\n",
            "See the caveats in the documentation: https://pandas.pydata.org/pandas-docs/stable/user_guide/indexing.html#returning-a-view-versus-a-copy\n",
            "  after removing the cwd from sys.path.\n",
            "/usr/local/lib/python3.7/dist-packages/ipykernel_launcher.py:5: SettingWithCopyWarning: \n",
            "A value is trying to be set on a copy of a slice from a DataFrame.\n",
            "Try using .loc[row_indexer,col_indexer] = value instead\n",
            "\n",
            "See the caveats in the documentation: https://pandas.pydata.org/pandas-docs/stable/user_guide/indexing.html#returning-a-view-versus-a-copy\n",
            "  \"\"\"\n"
          ],
          "name": "stderr"
        }
      ]
    },
    {
      "cell_type": "code",
      "metadata": {
        "id": "5yMpbmUPgAwW"
      },
      "source": [
        "def sentiments(polarity):\n",
        " if (polarity >= 0) :\n",
        "   return 1\n",
        " elif polarity < 0:\n",
        "   return 0"
      ],
      "execution_count": null,
      "outputs": []
    },
    {
      "cell_type": "code",
      "metadata": {
        "colab": {
          "base_uri": "https://localhost:8080/"
        },
        "id": "_DOceiZUf-hl",
        "outputId": "8a6afd4b-7996-4b06-9fac-d48d86916689"
      },
      "source": [
        "# Add sentiments to the data\n",
        "training_data[\"sentiment\"] = training_data[\"polarity\"].apply(sentiments)\n",
        "testing_data[\"sentiment\"] = testing_data[\"polarity\"].apply(sentiments)"
      ],
      "execution_count": null,
      "outputs": [
        {
          "output_type": "stream",
          "text": [
            "/usr/local/lib/python3.7/dist-packages/ipykernel_launcher.py:2: SettingWithCopyWarning: \n",
            "A value is trying to be set on a copy of a slice from a DataFrame.\n",
            "Try using .loc[row_indexer,col_indexer] = value instead\n",
            "\n",
            "See the caveats in the documentation: https://pandas.pydata.org/pandas-docs/stable/user_guide/indexing.html#returning-a-view-versus-a-copy\n",
            "  \n",
            "/usr/local/lib/python3.7/dist-packages/ipykernel_launcher.py:3: SettingWithCopyWarning: \n",
            "A value is trying to be set on a copy of a slice from a DataFrame.\n",
            "Try using .loc[row_indexer,col_indexer] = value instead\n",
            "\n",
            "See the caveats in the documentation: https://pandas.pydata.org/pandas-docs/stable/user_guide/indexing.html#returning-a-view-versus-a-copy\n",
            "  This is separate from the ipykernel package so we can avoid doing imports until\n"
          ],
          "name": "stderr"
        }
      ]
    },
    {
      "cell_type": "code",
      "metadata": {
        "colab": {
          "base_uri": "https://localhost:8080/"
        },
        "id": "lrUHe4KmhbUJ",
        "outputId": "fae8b8c4-44ba-4917-ee58-973881927ad8"
      },
      "source": [
        "training_data.sentiment.value_counts(normalize=True)"
      ],
      "execution_count": null,
      "outputs": [
        {
          "output_type": "execute_result",
          "data": {
            "text/plain": [
              "1    0.729121\n",
              "0    0.270879\n",
              "Name: sentiment, dtype: float64"
            ]
          },
          "metadata": {
            "tags": []
          },
          "execution_count": 19
        }
      ]
    },
    {
      "cell_type": "code",
      "metadata": {
        "id": "rk2WzekioZoE"
      },
      "source": [
        "#splitting training and testing set\n",
        "X_train=training_data.clean_review\n",
        "y_train=training_data.sentiment\n",
        "X_test=testing_data.clean_review\n",
        "y_test=testing_data.sentiment"
      ],
      "execution_count": null,
      "outputs": []
    },
    {
      "cell_type": "code",
      "metadata": {
        "id": "T_KDkNr_w4hW"
      },
      "source": [
        "#Creating count vectorizer instance\n",
        "cv = CountVectorizer(max_features = 8000, ngram_range = (4, 4))"
      ],
      "execution_count": null,
      "outputs": []
    },
    {
      "cell_type": "code",
      "metadata": {
        "id": "AXTxXFYeqCfb"
      },
      "source": [
        "#Fitting count vectorizer instance to training and testing data\n",
        "X_train_cv=cv.fit_transform(X_train)\n",
        "X_test_cv=cv.transform(X_test)"
      ],
      "execution_count": null,
      "outputs": []
    },
    {
      "cell_type": "markdown",
      "metadata": {
        "id": "jmIKapnhFISY"
      },
      "source": [
        "## Model creation"
      ]
    },
    {
      "cell_type": "markdown",
      "metadata": {
        "id": "N-WHQDXTcQgi"
      },
      "source": [
        "### Logistic regression,  Multinomial Naive Bayes, Bernoulli Naive Bayes"
      ]
    },
    {
      "cell_type": "code",
      "metadata": {
        "id": "vxoUe8_ibNI0"
      },
      "source": [
        "def grid_best_parameter(X_train_cv,y_train,X_test_cv,y_test):\n",
        "\n",
        "  #Report to carry out the metrices and scores of different models\n",
        "  report_table = [[]]\n",
        "  \n",
        "  #creating parameter\n",
        "\n",
        "  #C= [1.0, 0.5, 0.1]\n",
        "  C=np.logspace(-50, 50, 100)\n",
        "  alpha= [0.01, 0.1, 0.5, 1.0, 10.0]\n",
        "  k_range = list(range(1, 16))\n",
        "    \n",
        "\n",
        "  # creating pipeline\n",
        "  pipe_lr=Pipeline([('clf' , LogisticRegression(random_state=42))])\n",
        "  pipe_mnb=Pipeline([('clf', MultinomialNB())])\n",
        "  pipe_bnb=Pipeline([('clf', BernoulliNB())])\n",
        "  pipe_svc = Pipeline([('clf', LinearSVC())])\n",
        "  pipe_dtc = Pipeline([('clf', DecisionTreeClassifier())])\n",
        "  pipe_rfc = Pipeline([('clf', RandomForestClassifier(random_state=42))])\n",
        "\n",
        "  #creating parameter\n",
        "\n",
        "  param_lr =[{'clf__penalty': ['l1', 'l2'],\n",
        "\t\t          'clf__C': C,\n",
        "\t\t          'clf__solver': ['liblinear','lbfgs']}] \n",
        "\n",
        "  param_mnb=[{'clf__alpha': alpha}]\n",
        "\n",
        "  param_bnb=[{'clf__alpha': alpha}]\n",
        "  param_svc = {'clf__C':np.arange(0.01,100,10)}\n",
        "  param_dtc = {'clf__criterion':['gini','entropy'],'clf__max_depth':[4,5,6,7,8,9,10,11,12,15,20,30,40,50,70,90,120,150]}\n",
        "  param_rfc = { \n",
        "    'clf__n_estimators': [200, 500],\n",
        "    'clf__max_features': ['auto', 'sqrt', 'log2'],\n",
        "    'clf__max_depth' : [4,5,6,7,8],\n",
        "    'clf__criterion' :['gini', 'entropy']\n",
        "}\n",
        "\n",
        "  # creating gridsearch\n",
        "\n",
        "  grid_lr=GridSearchCV(estimator=pipe_lr,param_grid=param_lr,scoring='accuracy',cv=10,n_jobs=-1)\n",
        "  grid_mnb=GridSearchCV(estimator=pipe_mnb,param_grid=param_mnb,cv=10,verbose=True, n_jobs=-1)\n",
        "  grid_bnb=GridSearchCV(estimator=pipe_bnb,param_grid=param_bnb,cv=10,verbose=True, n_jobs=-1)\n",
        "  grid_svc = GridSearchCV(estimator=pipe_svc,param_grid=param_svc,cv=10,return_train_score=True, n_jobs=1)\n",
        "  grid_dtc = GridSearchCV(estimator=pipe_dtc,param_grid=param_dtc,cv=10, n_jobs=1)\n",
        "  grid_rfc = GridSearchCV(estimator=pipe_rfc,param_grid=param_rfc,cv=10, n_jobs=1)\n",
        "\n",
        "  #listing pipelines\n",
        "\n",
        "  grid=[grid_lr, grid_mnb, grid_bnb, grid_svc,grid_dtc, grid_rfc]\n",
        "\n",
        "  #dictionary of pipelines and models\n",
        "\n",
        "  grid_dict={0: 'Logistic Regression', 1: 'Multi Nomial NB', 2: 'Bernoulli NB', 3:'Linear SVC', 4:'DecisionTreeClassifier', 5:'RandomForestClassifier'}\n",
        "\n",
        "  # fitting grid search \n",
        "\n",
        "  print('Performing model optimizations...')\n",
        "  best_accuracy = 0.0\n",
        "  best_model = 0\n",
        "  best_grid = ''\n",
        "\n",
        "  for i, g in enumerate(grid):\n",
        "    print('\\nEstimator: %s' % grid_dict[i])\t\n",
        "    # Fit grid search\t\n",
        "    g.fit(X_train_cv, y_train)\n",
        "    # Best params\n",
        "    #print('Best params: %s' % g.best_params_)\n",
        "    # Best training data accuracy\n",
        "    #print('Best training accuracy: %.3f' % g.best_score_)\n",
        "    # Predict on train data with best params\n",
        "    train_prediction = g.predict(X_train_cv)\n",
        "    # Predict on test data with best params\n",
        "    prediction = g.predict(X_test_cv)\n",
        "    # Test data accuracy of model with best params\n",
        "    #print('Test set accuracy score for best params: %.3f ' % accuracy_score(y_test, prediction))\n",
        "    try:\n",
        "      #calculate roc_auc_score for training data\n",
        "      roc_auc_score_train=roc_auc_score(train_prediction, y_train)\n",
        "\n",
        "      #calculate roc_auc_score for testing data\n",
        "      roc_auc_score_test=roc_auc_score(prediction, y_test)\n",
        "\n",
        "      #calculate RMSE, MSE\n",
        "      rmse_score_test= sqrt(mean_squared_error(y_test, prediction))\n",
        "      mse_score_test= mean_squared_error(y_test,prediction)\n",
        "\n",
        "    except ValueError:\n",
        "      pass\n",
        "   \n",
        "    # Track best (highest test accuracy) model\n",
        "    report_table = report_table+ [[grid_dict[i], g.best_params_, g.score(X_train_cv, y_train), roc_auc_score_train,rmse_score_test,mse_score_test,precision_score(y_test,prediction),f1_score(y_test,prediction),recall_score(y_test,prediction)]]  \n",
        "    if accuracy_score(y_test, prediction) > best_accuracy:\n",
        "      best_accuracy = accuracy_score(y_test, prediction)\n",
        "      best_model = g\n",
        "      best_grid = i\n",
        "  #print('\\nClassifier with best test set accuracy: %s' % grid_dict[best_grid])\n",
        "  #print('\\nAccuracy score:%s' % best_accuracy)\n",
        "  report_table.pop(0)\n",
        "  report = pd.DataFrame(report_table,columns = ['Model name', 'Model parameter', 'Accuracy', 'ROC AUC score','RMSE score','MSE score','Precision','F1_score','Recall'])\n",
        "  return report\n",
        "\n",
        "\n",
        "#https://www.kdnuggets.com/2018/01/managing-machine-learning-workflows-scikit-learn-pipelines-part-3.html"
      ],
      "execution_count": null,
      "outputs": []
    },
    {
      "cell_type": "code",
      "metadata": {
        "colab": {
          "base_uri": "https://localhost:8080/"
        },
        "id": "QKVUkpt3PF2H",
        "outputId": "6c0b8977-b2ad-48e5-f1ca-b977d9c31345"
      },
      "source": [
        "report=grid_best_parameter(X_train_cv,y_train,X_test_cv,y_test)"
      ],
      "execution_count": null,
      "outputs": [
        {
          "output_type": "stream",
          "text": [
            "Performing model optimizations...\n",
            "\n",
            "Estimator: Logistic Regression\n",
            "\n",
            "Estimator: Multi Nomial NB\n",
            "Fitting 10 folds for each of 5 candidates, totalling 50 fits\n",
            "\n",
            "Estimator: Bernoulli NB\n",
            "Fitting 10 folds for each of 5 candidates, totalling 50 fits\n"
          ],
          "name": "stdout"
        },
        {
          "output_type": "stream",
          "text": [
            "[Parallel(n_jobs=-1)]: Using backend LokyBackend with 4 concurrent workers.\n",
            "[Parallel(n_jobs=-1)]: Done  50 out of  50 | elapsed:    0.2s finished\n",
            "[Parallel(n_jobs=-1)]: Using backend LokyBackend with 4 concurrent workers.\n",
            "[Parallel(n_jobs=-1)]: Done  50 out of  50 | elapsed:    0.2s finished\n"
          ],
          "name": "stderr"
        },
        {
          "output_type": "stream",
          "text": [
            "\n",
            "Estimator: Linear SVC\n"
          ],
          "name": "stdout"
        },
        {
          "output_type": "stream",
          "text": [
            "/usr/local/lib/python3.7/dist-packages/sklearn/svm/_base.py:947: ConvergenceWarning: Liblinear failed to converge, increase the number of iterations.\n",
            "  \"the number of iterations.\", ConvergenceWarning)\n"
          ],
          "name": "stderr"
        },
        {
          "output_type": "stream",
          "text": [
            "\n",
            "Estimator: DecisionTreeClassifier\n",
            "\n",
            "Estimator: RandomForestClassifier\n"
          ],
          "name": "stdout"
        }
      ]
    },
    {
      "cell_type": "code",
      "metadata": {
        "colab": {
          "base_uri": "https://localhost:8080/",
          "height": 220
        },
        "id": "5oB4tcargqlp",
        "outputId": "7bdb31ff-64c3-4c9a-e8f1-15ed2d7d74b9"
      },
      "source": [
        "report"
      ],
      "execution_count": null,
      "outputs": [
        {
          "output_type": "execute_result",
          "data": {
            "text/html": [
              "<div>\n",
              "<style scoped>\n",
              "    .dataframe tbody tr th:only-of-type {\n",
              "        vertical-align: middle;\n",
              "    }\n",
              "\n",
              "    .dataframe tbody tr th {\n",
              "        vertical-align: top;\n",
              "    }\n",
              "\n",
              "    .dataframe thead th {\n",
              "        text-align: right;\n",
              "    }\n",
              "</style>\n",
              "<table border=\"1\" class=\"dataframe\">\n",
              "  <thead>\n",
              "    <tr style=\"text-align: right;\">\n",
              "      <th></th>\n",
              "      <th>Model name</th>\n",
              "      <th>Model parameter</th>\n",
              "      <th>Accuracy</th>\n",
              "      <th>ROC AUC score</th>\n",
              "      <th>RMSE score</th>\n",
              "      <th>MSE score</th>\n",
              "      <th>Precision</th>\n",
              "      <th>F1_score</th>\n",
              "      <th>Recall</th>\n",
              "    </tr>\n",
              "  </thead>\n",
              "  <tbody>\n",
              "    <tr>\n",
              "      <th>0</th>\n",
              "      <td>Logistic Regression</td>\n",
              "      <td>{'clf__C': 3.1992671377973845, 'clf__penalty':...</td>\n",
              "      <td>0.885651</td>\n",
              "      <td>0.928547</td>\n",
              "      <td>0.509347</td>\n",
              "      <td>0.259434</td>\n",
              "      <td>0.738965</td>\n",
              "      <td>0.845650</td>\n",
              "      <td>0.988338</td>\n",
              "    </tr>\n",
              "    <tr>\n",
              "      <th>1</th>\n",
              "      <td>Multi Nomial NB</td>\n",
              "      <td>{'clf__alpha': 0.01}</td>\n",
              "      <td>0.872099</td>\n",
              "      <td>0.891613</td>\n",
              "      <td>0.520542</td>\n",
              "      <td>0.270964</td>\n",
              "      <td>0.736318</td>\n",
              "      <td>0.837472</td>\n",
              "      <td>0.970845</td>\n",
              "    </tr>\n",
              "    <tr>\n",
              "      <th>2</th>\n",
              "      <td>Bernoulli NB</td>\n",
              "      <td>{'clf__alpha': 0.01}</td>\n",
              "      <td>0.871421</td>\n",
              "      <td>0.893583</td>\n",
              "      <td>0.520542</td>\n",
              "      <td>0.270964</td>\n",
              "      <td>0.735278</td>\n",
              "      <td>0.837880</td>\n",
              "      <td>0.973761</td>\n",
              "    </tr>\n",
              "    <tr>\n",
              "      <th>3</th>\n",
              "      <td>Linear SVC</td>\n",
              "      <td>{'clf__C': 10.01}</td>\n",
              "      <td>0.901406</td>\n",
              "      <td>0.934455</td>\n",
              "      <td>0.492076</td>\n",
              "      <td>0.242138</td>\n",
              "      <td>0.757062</td>\n",
              "      <td>0.852960</td>\n",
              "      <td>0.976676</td>\n",
              "    </tr>\n",
              "    <tr>\n",
              "      <th>4</th>\n",
              "      <td>DecisionTreeClassifier</td>\n",
              "      <td>{'clf__criterion': 'entropy', 'clf__max_depth'...</td>\n",
              "      <td>0.797052</td>\n",
              "      <td>0.889941</td>\n",
              "      <td>0.522552</td>\n",
              "      <td>0.273061</td>\n",
              "      <td>0.725729</td>\n",
              "      <td>0.840037</td>\n",
              "      <td>0.997085</td>\n",
              "    </tr>\n",
              "    <tr>\n",
              "      <th>5</th>\n",
              "      <td>RandomForestClassifier</td>\n",
              "      <td>{'clf__criterion': 'gini', 'clf__max_depth': 4...</td>\n",
              "      <td>0.729798</td>\n",
              "      <td>0.864808</td>\n",
              "      <td>0.522552</td>\n",
              "      <td>0.273061</td>\n",
              "      <td>0.719078</td>\n",
              "      <td>0.836585</td>\n",
              "      <td>1.000000</td>\n",
              "    </tr>\n",
              "  </tbody>\n",
              "</table>\n",
              "</div>"
            ],
            "text/plain": [
              "               Model name  ...    Recall\n",
              "0     Logistic Regression  ...  0.988338\n",
              "1         Multi Nomial NB  ...  0.970845\n",
              "2            Bernoulli NB  ...  0.973761\n",
              "3              Linear SVC  ...  0.976676\n",
              "4  DecisionTreeClassifier  ...  0.997085\n",
              "5  RandomForestClassifier  ...  1.000000\n",
              "\n",
              "[6 rows x 9 columns]"
            ]
          },
          "metadata": {
            "tags": []
          },
          "execution_count": 25
        }
      ]
    },
    {
      "cell_type": "markdown",
      "metadata": {
        "id": "C3lvhxIRV2lE"
      },
      "source": [
        "Visualizing report table"
      ]
    },
    {
      "cell_type": "code",
      "metadata": {
        "colab": {
          "base_uri": "https://localhost:8080/",
          "height": 542
        },
        "id": "6cXS4AxDVxTc",
        "outputId": "3528303a-2d0c-42fe-82e5-0c8289a54de0"
      },
      "source": [
        "import plotly.graph_objects as go\n",
        "\n",
        "fig = go.Figure()\n",
        "fig.add_trace(go.Bar(\n",
        "    x=list(report['Model name']),\n",
        "    y=list(report['Accuracy']),\n",
        "    name='Accuracy',\n",
        "))\n",
        "fig.add_trace(go.Bar(\n",
        "    x=list(report['Model name']),\n",
        "    y=list(report['ROC AUC score']),\n",
        "    name='ROC AUC score',\n",
        "))\n",
        "fig.add_trace(go.Bar(\n",
        "    x=list(report['Model name']),\n",
        "    y=list(report['RMSE score']),\n",
        "    name='RMSE score',\n",
        "))\n",
        "fig.add_trace(go.Bar(\n",
        "    x=list(report['Model name']),\n",
        "    y=list(report['MSE score']),\n",
        "    name='MSE score',\n",
        "))\n",
        "fig.add_trace(go.Bar(\n",
        "    x=list(report['Model name']),\n",
        "    y=list(report['Precision']),\n",
        "    name='Precision',\n",
        "))\n",
        "fig.add_trace(go.Bar(\n",
        "    x=list(report['Model name']),\n",
        "    y=list(report['F1_score']),\n",
        "    name='F1_score',\n",
        "))\n",
        "fig.add_trace(go.Bar(\n",
        "    x=list(report['Model name']),\n",
        "    y=list(report['Recall']),\n",
        "    name='Recall',\n",
        "))\n",
        "\n",
        "# Here we modify the tickangle of the xaxis, resulting in rotated labels.\n",
        "fig.update_layout(barmode='group', xaxis_tickangle=-45,title_text='Multiple metrics scores for different algorithm')\n",
        "fig.show()"
      ],
      "execution_count": null,
      "outputs": [
        {
          "output_type": "display_data",
          "data": {
            "text/html": [
              "<html>\n",
              "<head><meta charset=\"utf-8\" /></head>\n",
              "<body>\n",
              "    <div>\n",
              "            <script src=\"https://cdnjs.cloudflare.com/ajax/libs/mathjax/2.7.5/MathJax.js?config=TeX-AMS-MML_SVG\"></script><script type=\"text/javascript\">if (window.MathJax) {MathJax.Hub.Config({SVG: {font: \"STIX-Web\"}});}</script>\n",
              "                <script type=\"text/javascript\">window.PlotlyConfig = {MathJaxConfig: 'local'};</script>\n",
              "        <script src=\"https://cdn.plot.ly/plotly-latest.min.js\"></script>    \n",
              "            <div id=\"8d981951-d5c6-4b9b-b86c-c7f176685d7a\" class=\"plotly-graph-div\" style=\"height:525px; width:100%;\"></div>\n",
              "            <script type=\"text/javascript\">\n",
              "                \n",
              "                    window.PLOTLYENV=window.PLOTLYENV || {};\n",
              "                    \n",
              "                if (document.getElementById(\"8d981951-d5c6-4b9b-b86c-c7f176685d7a\")) {\n",
              "                    Plotly.newPlot(\n",
              "                        '8d981951-d5c6-4b9b-b86c-c7f176685d7a',\n",
              "                        [{\"name\": \"Accuracy\", \"type\": \"bar\", \"x\": [\"Logistic Regression\", \"Multi Nomial NB\", \"Bernoulli NB\", \"Linear SVC\", \"DecisionTreeClassifier\", \"RandomForestClassifier\"], \"y\": [0.8856513637133661, 0.8720989327460613, 0.8714213111976961, 0.9014060647128579, 0.7970523462646112, 0.7297984075893613]}, {\"name\": \"ROC AUC score\", \"type\": \"bar\", \"x\": [\"Logistic Regression\", \"Multi Nomial NB\", \"Bernoulli NB\", \"Linear SVC\", \"DecisionTreeClassifier\", \"RandomForestClassifier\"], \"y\": [0.9285474211291215, 0.8916133250739899, 0.8935833676287567, 0.9344552923627404, 0.8899411233927363, 0.8648075945075436]}, {\"name\": \"RMSE score\", \"type\": \"bar\", \"x\": [\"Logistic Regression\", \"Multi Nomial NB\", \"Bernoulli NB\", \"Linear SVC\", \"DecisionTreeClassifier\", \"RandomForestClassifier\"], \"y\": [0.5093466032714373, 0.520542371557784, 0.520542371557784, 0.4920755681598856, 0.5225521951400667, 0.5225521951400667]}, {\"name\": \"MSE score\", \"type\": \"bar\", \"x\": [\"Logistic Regression\", \"Multi Nomial NB\", \"Bernoulli NB\", \"Linear SVC\", \"DecisionTreeClassifier\", \"RandomForestClassifier\"], \"y\": [0.25943396226415094, 0.2709643605870021, 0.2709643605870021, 0.24213836477987422, 0.2730607966457023, 0.2730607966457023]}, {\"name\": \"Precision\", \"type\": \"bar\", \"x\": [\"Logistic Regression\", \"Multi Nomial NB\", \"Bernoulli NB\", \"Linear SVC\", \"DecisionTreeClassifier\", \"RandomForestClassifier\"], \"y\": [0.7389645776566758, 0.736318407960199, 0.7352779306549257, 0.7570621468926554, 0.7257294429708223, 0.7190775681341719]}, {\"name\": \"F1_score\", \"type\": \"bar\", \"x\": [\"Logistic Regression\", \"Multi Nomial NB\", \"Bernoulli NB\", \"Linear SVC\", \"DecisionTreeClassifier\", \"RandomForestClassifier\"], \"y\": [0.8456501403180543, 0.8374724929267525, 0.8378802132329884, 0.8529598981540419, 0.8400368437212159, 0.8365853658536585]}, {\"name\": \"Recall\", \"type\": \"bar\", \"x\": [\"Logistic Regression\", \"Multi Nomial NB\", \"Bernoulli NB\", \"Linear SVC\", \"DecisionTreeClassifier\", \"RandomForestClassifier\"], \"y\": [0.9883381924198251, 0.9708454810495627, 0.9737609329446064, 0.9766763848396501, 0.9970845481049563, 1.0]}],\n",
              "                        {\"barmode\": \"group\", \"template\": {\"data\": {\"bar\": [{\"error_x\": {\"color\": \"#2a3f5f\"}, \"error_y\": {\"color\": \"#2a3f5f\"}, \"marker\": {\"line\": {\"color\": \"#E5ECF6\", \"width\": 0.5}}, \"type\": \"bar\"}], \"barpolar\": [{\"marker\": {\"line\": {\"color\": \"#E5ECF6\", \"width\": 0.5}}, \"type\": \"barpolar\"}], \"carpet\": [{\"aaxis\": {\"endlinecolor\": \"#2a3f5f\", \"gridcolor\": \"white\", \"linecolor\": \"white\", \"minorgridcolor\": \"white\", \"startlinecolor\": \"#2a3f5f\"}, \"baxis\": {\"endlinecolor\": \"#2a3f5f\", \"gridcolor\": \"white\", \"linecolor\": \"white\", \"minorgridcolor\": \"white\", \"startlinecolor\": \"#2a3f5f\"}, \"type\": \"carpet\"}], \"choropleth\": [{\"colorbar\": {\"outlinewidth\": 0, \"ticks\": \"\"}, \"type\": \"choropleth\"}], \"contour\": [{\"colorbar\": {\"outlinewidth\": 0, \"ticks\": \"\"}, \"colorscale\": [[0.0, \"#0d0887\"], [0.1111111111111111, \"#46039f\"], [0.2222222222222222, \"#7201a8\"], [0.3333333333333333, \"#9c179e\"], [0.4444444444444444, \"#bd3786\"], [0.5555555555555556, \"#d8576b\"], [0.6666666666666666, \"#ed7953\"], [0.7777777777777778, \"#fb9f3a\"], [0.8888888888888888, \"#fdca26\"], [1.0, \"#f0f921\"]], \"type\": \"contour\"}], \"contourcarpet\": [{\"colorbar\": {\"outlinewidth\": 0, \"ticks\": \"\"}, \"type\": \"contourcarpet\"}], \"heatmap\": [{\"colorbar\": {\"outlinewidth\": 0, \"ticks\": \"\"}, \"colorscale\": [[0.0, \"#0d0887\"], [0.1111111111111111, \"#46039f\"], [0.2222222222222222, \"#7201a8\"], [0.3333333333333333, \"#9c179e\"], [0.4444444444444444, \"#bd3786\"], [0.5555555555555556, \"#d8576b\"], [0.6666666666666666, \"#ed7953\"], [0.7777777777777778, \"#fb9f3a\"], [0.8888888888888888, \"#fdca26\"], [1.0, \"#f0f921\"]], \"type\": \"heatmap\"}], \"heatmapgl\": [{\"colorbar\": {\"outlinewidth\": 0, \"ticks\": \"\"}, \"colorscale\": [[0.0, \"#0d0887\"], [0.1111111111111111, \"#46039f\"], [0.2222222222222222, \"#7201a8\"], [0.3333333333333333, \"#9c179e\"], [0.4444444444444444, \"#bd3786\"], [0.5555555555555556, \"#d8576b\"], [0.6666666666666666, \"#ed7953\"], [0.7777777777777778, \"#fb9f3a\"], [0.8888888888888888, \"#fdca26\"], [1.0, \"#f0f921\"]], \"type\": \"heatmapgl\"}], \"histogram\": [{\"marker\": {\"colorbar\": {\"outlinewidth\": 0, \"ticks\": \"\"}}, \"type\": \"histogram\"}], \"histogram2d\": [{\"colorbar\": {\"outlinewidth\": 0, \"ticks\": \"\"}, \"colorscale\": [[0.0, \"#0d0887\"], [0.1111111111111111, \"#46039f\"], [0.2222222222222222, \"#7201a8\"], [0.3333333333333333, \"#9c179e\"], [0.4444444444444444, \"#bd3786\"], [0.5555555555555556, \"#d8576b\"], [0.6666666666666666, \"#ed7953\"], [0.7777777777777778, \"#fb9f3a\"], [0.8888888888888888, \"#fdca26\"], [1.0, \"#f0f921\"]], \"type\": \"histogram2d\"}], \"histogram2dcontour\": [{\"colorbar\": {\"outlinewidth\": 0, \"ticks\": \"\"}, \"colorscale\": [[0.0, \"#0d0887\"], [0.1111111111111111, \"#46039f\"], [0.2222222222222222, \"#7201a8\"], [0.3333333333333333, \"#9c179e\"], [0.4444444444444444, \"#bd3786\"], [0.5555555555555556, \"#d8576b\"], [0.6666666666666666, \"#ed7953\"], [0.7777777777777778, \"#fb9f3a\"], [0.8888888888888888, \"#fdca26\"], [1.0, \"#f0f921\"]], \"type\": \"histogram2dcontour\"}], \"mesh3d\": [{\"colorbar\": {\"outlinewidth\": 0, \"ticks\": \"\"}, \"type\": \"mesh3d\"}], \"parcoords\": [{\"line\": {\"colorbar\": {\"outlinewidth\": 0, \"ticks\": \"\"}}, \"type\": \"parcoords\"}], \"pie\": [{\"automargin\": true, \"type\": \"pie\"}], \"scatter\": [{\"marker\": {\"colorbar\": {\"outlinewidth\": 0, \"ticks\": \"\"}}, \"type\": \"scatter\"}], \"scatter3d\": [{\"line\": {\"colorbar\": {\"outlinewidth\": 0, \"ticks\": \"\"}}, \"marker\": {\"colorbar\": {\"outlinewidth\": 0, \"ticks\": \"\"}}, \"type\": \"scatter3d\"}], \"scattercarpet\": [{\"marker\": {\"colorbar\": {\"outlinewidth\": 0, \"ticks\": \"\"}}, \"type\": \"scattercarpet\"}], \"scattergeo\": [{\"marker\": {\"colorbar\": {\"outlinewidth\": 0, \"ticks\": \"\"}}, \"type\": \"scattergeo\"}], \"scattergl\": [{\"marker\": {\"colorbar\": {\"outlinewidth\": 0, \"ticks\": \"\"}}, \"type\": \"scattergl\"}], \"scattermapbox\": [{\"marker\": {\"colorbar\": {\"outlinewidth\": 0, \"ticks\": \"\"}}, \"type\": \"scattermapbox\"}], \"scatterpolar\": [{\"marker\": {\"colorbar\": {\"outlinewidth\": 0, \"ticks\": \"\"}}, \"type\": \"scatterpolar\"}], \"scatterpolargl\": [{\"marker\": {\"colorbar\": {\"outlinewidth\": 0, \"ticks\": \"\"}}, \"type\": \"scatterpolargl\"}], \"scatterternary\": [{\"marker\": {\"colorbar\": {\"outlinewidth\": 0, \"ticks\": \"\"}}, \"type\": \"scatterternary\"}], \"surface\": [{\"colorbar\": {\"outlinewidth\": 0, \"ticks\": \"\"}, \"colorscale\": [[0.0, \"#0d0887\"], [0.1111111111111111, \"#46039f\"], [0.2222222222222222, \"#7201a8\"], [0.3333333333333333, \"#9c179e\"], [0.4444444444444444, \"#bd3786\"], [0.5555555555555556, \"#d8576b\"], [0.6666666666666666, \"#ed7953\"], [0.7777777777777778, \"#fb9f3a\"], [0.8888888888888888, \"#fdca26\"], [1.0, \"#f0f921\"]], \"type\": \"surface\"}], \"table\": [{\"cells\": {\"fill\": {\"color\": \"#EBF0F8\"}, \"line\": {\"color\": \"white\"}}, \"header\": {\"fill\": {\"color\": \"#C8D4E3\"}, \"line\": {\"color\": \"white\"}}, \"type\": \"table\"}]}, \"layout\": {\"annotationdefaults\": {\"arrowcolor\": \"#2a3f5f\", \"arrowhead\": 0, \"arrowwidth\": 1}, \"coloraxis\": {\"colorbar\": {\"outlinewidth\": 0, \"ticks\": \"\"}}, \"colorscale\": {\"diverging\": [[0, \"#8e0152\"], [0.1, \"#c51b7d\"], [0.2, \"#de77ae\"], [0.3, \"#f1b6da\"], [0.4, \"#fde0ef\"], [0.5, \"#f7f7f7\"], [0.6, \"#e6f5d0\"], [0.7, \"#b8e186\"], [0.8, \"#7fbc41\"], [0.9, \"#4d9221\"], [1, \"#276419\"]], \"sequential\": [[0.0, \"#0d0887\"], [0.1111111111111111, \"#46039f\"], [0.2222222222222222, \"#7201a8\"], [0.3333333333333333, \"#9c179e\"], [0.4444444444444444, \"#bd3786\"], [0.5555555555555556, \"#d8576b\"], [0.6666666666666666, \"#ed7953\"], [0.7777777777777778, \"#fb9f3a\"], [0.8888888888888888, \"#fdca26\"], [1.0, \"#f0f921\"]], \"sequentialminus\": [[0.0, \"#0d0887\"], [0.1111111111111111, \"#46039f\"], [0.2222222222222222, \"#7201a8\"], [0.3333333333333333, \"#9c179e\"], [0.4444444444444444, \"#bd3786\"], [0.5555555555555556, \"#d8576b\"], [0.6666666666666666, \"#ed7953\"], [0.7777777777777778, \"#fb9f3a\"], [0.8888888888888888, \"#fdca26\"], [1.0, \"#f0f921\"]]}, \"colorway\": [\"#636efa\", \"#EF553B\", \"#00cc96\", \"#ab63fa\", \"#FFA15A\", \"#19d3f3\", \"#FF6692\", \"#B6E880\", \"#FF97FF\", \"#FECB52\"], \"font\": {\"color\": \"#2a3f5f\"}, \"geo\": {\"bgcolor\": \"white\", \"lakecolor\": \"white\", \"landcolor\": \"#E5ECF6\", \"showlakes\": true, \"showland\": true, \"subunitcolor\": \"white\"}, \"hoverlabel\": {\"align\": \"left\"}, \"hovermode\": \"closest\", \"mapbox\": {\"style\": \"light\"}, \"paper_bgcolor\": \"white\", \"plot_bgcolor\": \"#E5ECF6\", \"polar\": {\"angularaxis\": {\"gridcolor\": \"white\", \"linecolor\": \"white\", \"ticks\": \"\"}, \"bgcolor\": \"#E5ECF6\", \"radialaxis\": {\"gridcolor\": \"white\", \"linecolor\": \"white\", \"ticks\": \"\"}}, \"scene\": {\"xaxis\": {\"backgroundcolor\": \"#E5ECF6\", \"gridcolor\": \"white\", \"gridwidth\": 2, \"linecolor\": \"white\", \"showbackground\": true, \"ticks\": \"\", \"zerolinecolor\": \"white\"}, \"yaxis\": {\"backgroundcolor\": \"#E5ECF6\", \"gridcolor\": \"white\", \"gridwidth\": 2, \"linecolor\": \"white\", \"showbackground\": true, \"ticks\": \"\", \"zerolinecolor\": \"white\"}, \"zaxis\": {\"backgroundcolor\": \"#E5ECF6\", \"gridcolor\": \"white\", \"gridwidth\": 2, \"linecolor\": \"white\", \"showbackground\": true, \"ticks\": \"\", \"zerolinecolor\": \"white\"}}, \"shapedefaults\": {\"line\": {\"color\": \"#2a3f5f\"}}, \"ternary\": {\"aaxis\": {\"gridcolor\": \"white\", \"linecolor\": \"white\", \"ticks\": \"\"}, \"baxis\": {\"gridcolor\": \"white\", \"linecolor\": \"white\", \"ticks\": \"\"}, \"bgcolor\": \"#E5ECF6\", \"caxis\": {\"gridcolor\": \"white\", \"linecolor\": \"white\", \"ticks\": \"\"}}, \"title\": {\"x\": 0.05}, \"xaxis\": {\"automargin\": true, \"gridcolor\": \"white\", \"linecolor\": \"white\", \"ticks\": \"\", \"title\": {\"standoff\": 15}, \"zerolinecolor\": \"white\", \"zerolinewidth\": 2}, \"yaxis\": {\"automargin\": true, \"gridcolor\": \"white\", \"linecolor\": \"white\", \"ticks\": \"\", \"title\": {\"standoff\": 15}, \"zerolinecolor\": \"white\", \"zerolinewidth\": 2}}}, \"title\": {\"text\": \"Multiple metrics scores for different algorithm\"}, \"xaxis\": {\"tickangle\": -45}},\n",
              "                        {\"responsive\": true}\n",
              "                    ).then(function(){\n",
              "                            \n",
              "var gd = document.getElementById('8d981951-d5c6-4b9b-b86c-c7f176685d7a');\n",
              "var x = new MutationObserver(function (mutations, observer) {{\n",
              "        var display = window.getComputedStyle(gd).display;\n",
              "        if (!display || display === 'none') {{\n",
              "            console.log([gd, 'removed!']);\n",
              "            Plotly.purge(gd);\n",
              "            observer.disconnect();\n",
              "        }}\n",
              "}});\n",
              "\n",
              "// Listen for the removal of the full notebook cells\n",
              "var notebookContainer = gd.closest('#notebook-container');\n",
              "if (notebookContainer) {{\n",
              "    x.observe(notebookContainer, {childList: true});\n",
              "}}\n",
              "\n",
              "// Listen for the clearing of the current output cell\n",
              "var outputEl = gd.closest('.output');\n",
              "if (outputEl) {{\n",
              "    x.observe(outputEl, {childList: true});\n",
              "}}\n",
              "\n",
              "                        })\n",
              "                };\n",
              "                \n",
              "            </script>\n",
              "        </div>\n",
              "</body>\n",
              "</html>"
            ]
          },
          "metadata": {
            "tags": []
          }
        }
      ]
    },
    {
      "cell_type": "markdown",
      "metadata": {
        "id": "8vWgN9tAcLUZ"
      },
      "source": [
        "### Deep learning model"
      ]
    },
    {
      "cell_type": "markdown",
      "metadata": {
        "id": "hApmugAUZ7Aw"
      },
      "source": [
        "#### Sequential model\n",
        "\n"
      ]
    },
    {
      "cell_type": "code",
      "metadata": {
        "id": "lLhv_A33cK_G"
      },
      "source": [
        "# fitting model\n",
        "sim_model = keras.models.Sequential()\n",
        "\n",
        "sim_model.add(keras.layers.Dense(200, input_shape=(8000,)))\n",
        "sim_model.add(keras.layers.BatchNormalization())\n",
        "sim_model.add(keras.layers.Activation('relu'))\n",
        "sim_model.add(keras.layers.Dropout(0.5))\n",
        "\n",
        "sim_model.add(keras.layers.Dense(300))\n",
        "sim_model.add(keras.layers.BatchNormalization())\n",
        "sim_model.add(keras.layers.Activation('relu'))\n",
        "sim_model.add(keras.layers.Dropout(0.5))\n",
        "\n",
        "\n",
        "sim_model.add(keras.layers.Dense(400))\n",
        "sim_model.add(keras.layers.BatchNormalization())\n",
        "sim_model.add(keras.layers.Activation('relu'))\n",
        "sim_model.add(keras.layers.Dropout(0.5))\n",
        "\n",
        "sim_model.add(keras.layers.Dense(100, activation='relu'))\n",
        "sim_model.add(keras.layers.Dense(1, activation='sigmoid'))\n"
      ],
      "execution_count": null,
      "outputs": []
    },
    {
      "cell_type": "code",
      "metadata": {
        "id": "oETPLyQrcj-s"
      },
      "source": [
        "sim_model.compile(optimizer=tf.keras.optimizers.Adam(lr=0.001), loss='binary_crossentropy', metrics=['accuracy','mse'])"
      ],
      "execution_count": null,
      "outputs": []
    },
    {
      "cell_type": "code",
      "metadata": {
        "colab": {
          "base_uri": "https://localhost:8080/"
        },
        "id": "4323EmVKcl7K",
        "outputId": "94ca09df-a9f6-479e-f409-ac043f2aea8f"
      },
      "source": [
        "sim_model.summary()"
      ],
      "execution_count": null,
      "outputs": [
        {
          "output_type": "stream",
          "text": [
            "Model: \"sequential\"\n",
            "_________________________________________________________________\n",
            "Layer (type)                 Output Shape              Param #   \n",
            "=================================================================\n",
            "dense (Dense)                (None, 200)               1600200   \n",
            "_________________________________________________________________\n",
            "batch_normalization (BatchNo (None, 200)               800       \n",
            "_________________________________________________________________\n",
            "activation (Activation)      (None, 200)               0         \n",
            "_________________________________________________________________\n",
            "dropout (Dropout)            (None, 200)               0         \n",
            "_________________________________________________________________\n",
            "dense_1 (Dense)              (None, 300)               60300     \n",
            "_________________________________________________________________\n",
            "batch_normalization_1 (Batch (None, 300)               1200      \n",
            "_________________________________________________________________\n",
            "activation_1 (Activation)    (None, 300)               0         \n",
            "_________________________________________________________________\n",
            "dropout_1 (Dropout)          (None, 300)               0         \n",
            "_________________________________________________________________\n",
            "dense_2 (Dense)              (None, 400)               120400    \n",
            "_________________________________________________________________\n",
            "batch_normalization_2 (Batch (None, 400)               1600      \n",
            "_________________________________________________________________\n",
            "activation_2 (Activation)    (None, 400)               0         \n",
            "_________________________________________________________________\n",
            "dropout_2 (Dropout)          (None, 400)               0         \n",
            "_________________________________________________________________\n",
            "dense_3 (Dense)              (None, 100)               40100     \n",
            "_________________________________________________________________\n",
            "dense_4 (Dense)              (None, 1)                 101       \n",
            "=================================================================\n",
            "Total params: 1,824,701\n",
            "Trainable params: 1,822,901\n",
            "Non-trainable params: 1,800\n",
            "_________________________________________________________________\n"
          ],
          "name": "stdout"
        }
      ]
    },
    {
      "cell_type": "code",
      "metadata": {
        "colab": {
          "base_uri": "https://localhost:8080/"
        },
        "id": "W1bZs_V1cn6Y",
        "outputId": "bc756ef6-7a5c-4bd3-9d70-b2393ce70455"
      },
      "source": [
        "sim_model_train = sim_model.fit(X_train_cv.todense(), y_train, epochs=80, batch_size=100)"
      ],
      "execution_count": null,
      "outputs": [
        {
          "output_type": "stream",
          "text": [
            "Epoch 1/80\n",
            "60/60 [==============================] - 2s 7ms/step - loss: 0.6538 - accuracy: 0.6999 - mse: 0.2168\n",
            "Epoch 2/80\n",
            "60/60 [==============================] - 0s 7ms/step - loss: 0.5822 - accuracy: 0.7337 - mse: 0.1943\n",
            "Epoch 3/80\n",
            "60/60 [==============================] - 0s 7ms/step - loss: 0.5044 - accuracy: 0.7696 - mse: 0.1660\n",
            "Epoch 4/80\n",
            "60/60 [==============================] - 0s 7ms/step - loss: 0.3811 - accuracy: 0.8426 - mse: 0.1218\n",
            "Epoch 5/80\n",
            "60/60 [==============================] - 0s 7ms/step - loss: 0.3269 - accuracy: 0.8647 - mse: 0.1035\n",
            "Epoch 6/80\n",
            "60/60 [==============================] - 0s 7ms/step - loss: 0.3068 - accuracy: 0.8679 - mse: 0.0982\n",
            "Epoch 7/80\n",
            "60/60 [==============================] - 0s 7ms/step - loss: 0.2875 - accuracy: 0.8851 - mse: 0.0902\n",
            "Epoch 8/80\n",
            "60/60 [==============================] - 0s 7ms/step - loss: 0.2869 - accuracy: 0.8843 - mse: 0.0901\n",
            "Epoch 9/80\n",
            "60/60 [==============================] - 0s 7ms/step - loss: 0.2570 - accuracy: 0.8876 - mse: 0.0829\n",
            "Epoch 10/80\n",
            "60/60 [==============================] - 0s 7ms/step - loss: 0.2520 - accuracy: 0.8948 - mse: 0.0802\n",
            "Epoch 11/80\n",
            "60/60 [==============================] - 0s 7ms/step - loss: 0.2599 - accuracy: 0.8822 - mse: 0.0841\n",
            "Epoch 12/80\n",
            "60/60 [==============================] - 0s 7ms/step - loss: 0.2456 - accuracy: 0.8985 - mse: 0.0790\n",
            "Epoch 13/80\n",
            "60/60 [==============================] - 0s 7ms/step - loss: 0.2522 - accuracy: 0.8917 - mse: 0.0816\n",
            "Epoch 14/80\n",
            "60/60 [==============================] - 0s 7ms/step - loss: 0.2491 - accuracy: 0.8946 - mse: 0.0804\n",
            "Epoch 15/80\n",
            "60/60 [==============================] - 0s 7ms/step - loss: 0.2591 - accuracy: 0.8888 - mse: 0.0837\n",
            "Epoch 16/80\n",
            "60/60 [==============================] - 0s 7ms/step - loss: 0.2567 - accuracy: 0.8947 - mse: 0.0812\n",
            "Epoch 17/80\n",
            "60/60 [==============================] - 0s 7ms/step - loss: 0.2347 - accuracy: 0.9020 - mse: 0.0753\n",
            "Epoch 18/80\n",
            "60/60 [==============================] - 0s 7ms/step - loss: 0.2416 - accuracy: 0.8947 - mse: 0.0790\n",
            "Epoch 19/80\n",
            "60/60 [==============================] - 0s 7ms/step - loss: 0.2445 - accuracy: 0.8931 - mse: 0.0795\n",
            "Epoch 20/80\n",
            "60/60 [==============================] - 0s 7ms/step - loss: 0.2312 - accuracy: 0.9011 - mse: 0.0751\n",
            "Epoch 21/80\n",
            "60/60 [==============================] - 0s 7ms/step - loss: 0.2401 - accuracy: 0.9025 - mse: 0.0768\n",
            "Epoch 22/80\n",
            "60/60 [==============================] - 0s 7ms/step - loss: 0.2361 - accuracy: 0.8988 - mse: 0.0769\n",
            "Epoch 23/80\n",
            "60/60 [==============================] - 0s 7ms/step - loss: 0.2288 - accuracy: 0.9035 - mse: 0.0745\n",
            "Epoch 24/80\n",
            "60/60 [==============================] - 0s 7ms/step - loss: 0.2216 - accuracy: 0.9046 - mse: 0.0723\n",
            "Epoch 25/80\n",
            "60/60 [==============================] - 0s 7ms/step - loss: 0.2309 - accuracy: 0.9003 - mse: 0.0752\n",
            "Epoch 26/80\n",
            "60/60 [==============================] - 0s 7ms/step - loss: 0.2259 - accuracy: 0.9047 - mse: 0.0731\n",
            "Epoch 27/80\n",
            "60/60 [==============================] - 0s 7ms/step - loss: 0.2353 - accuracy: 0.8969 - mse: 0.0771\n",
            "Epoch 28/80\n",
            "60/60 [==============================] - 0s 7ms/step - loss: 0.2254 - accuracy: 0.9034 - mse: 0.0737\n",
            "Epoch 29/80\n",
            "60/60 [==============================] - 0s 7ms/step - loss: 0.2244 - accuracy: 0.8987 - mse: 0.0742\n",
            "Epoch 30/80\n",
            "60/60 [==============================] - 0s 7ms/step - loss: 0.2270 - accuracy: 0.8997 - mse: 0.0749\n",
            "Epoch 31/80\n",
            "60/60 [==============================] - 0s 7ms/step - loss: 0.2363 - accuracy: 0.8933 - mse: 0.0781\n",
            "Epoch 32/80\n",
            "60/60 [==============================] - 0s 7ms/step - loss: 0.2194 - accuracy: 0.9026 - mse: 0.0722\n",
            "Epoch 33/80\n",
            "60/60 [==============================] - 0s 7ms/step - loss: 0.2365 - accuracy: 0.8983 - mse: 0.0774\n",
            "Epoch 34/80\n",
            "60/60 [==============================] - 0s 7ms/step - loss: 0.2257 - accuracy: 0.9049 - mse: 0.0735\n",
            "Epoch 35/80\n",
            "60/60 [==============================] - 0s 7ms/step - loss: 0.2351 - accuracy: 0.8965 - mse: 0.0770\n",
            "Epoch 36/80\n",
            "60/60 [==============================] - 0s 7ms/step - loss: 0.2230 - accuracy: 0.9023 - mse: 0.0737\n",
            "Epoch 37/80\n",
            "60/60 [==============================] - 0s 7ms/step - loss: 0.2253 - accuracy: 0.9024 - mse: 0.0742\n",
            "Epoch 38/80\n",
            "60/60 [==============================] - 0s 7ms/step - loss: 0.2230 - accuracy: 0.9045 - mse: 0.0721\n",
            "Epoch 39/80\n",
            "60/60 [==============================] - 0s 7ms/step - loss: 0.2237 - accuracy: 0.9010 - mse: 0.0738\n",
            "Epoch 40/80\n",
            "60/60 [==============================] - 0s 7ms/step - loss: 0.2280 - accuracy: 0.8979 - mse: 0.0758\n",
            "Epoch 41/80\n",
            "60/60 [==============================] - 0s 7ms/step - loss: 0.2172 - accuracy: 0.9051 - mse: 0.0714\n",
            "Epoch 42/80\n",
            "60/60 [==============================] - 0s 7ms/step - loss: 0.2312 - accuracy: 0.9008 - mse: 0.0740\n",
            "Epoch 43/80\n",
            "60/60 [==============================] - 0s 7ms/step - loss: 0.2158 - accuracy: 0.9043 - mse: 0.0714\n",
            "Epoch 44/80\n",
            "60/60 [==============================] - 0s 7ms/step - loss: 0.2284 - accuracy: 0.8968 - mse: 0.0762\n",
            "Epoch 45/80\n",
            "60/60 [==============================] - 0s 7ms/step - loss: 0.2238 - accuracy: 0.9000 - mse: 0.0743\n",
            "Epoch 46/80\n",
            "60/60 [==============================] - 0s 7ms/step - loss: 0.2236 - accuracy: 0.9007 - mse: 0.0742\n",
            "Epoch 47/80\n",
            "60/60 [==============================] - 0s 6ms/step - loss: 0.2153 - accuracy: 0.9089 - mse: 0.0701\n",
            "Epoch 48/80\n",
            "60/60 [==============================] - 0s 7ms/step - loss: 0.2226 - accuracy: 0.9060 - mse: 0.0726\n",
            "Epoch 49/80\n",
            "60/60 [==============================] - 0s 7ms/step - loss: 0.2260 - accuracy: 0.9035 - mse: 0.0739\n",
            "Epoch 50/80\n",
            "60/60 [==============================] - 0s 7ms/step - loss: 0.2213 - accuracy: 0.9048 - mse: 0.0723\n",
            "Epoch 51/80\n",
            "60/60 [==============================] - 0s 7ms/step - loss: 0.2249 - accuracy: 0.8995 - mse: 0.0745\n",
            "Epoch 52/80\n",
            "60/60 [==============================] - 0s 7ms/step - loss: 0.2220 - accuracy: 0.9020 - mse: 0.0733\n",
            "Epoch 53/80\n",
            "60/60 [==============================] - 0s 7ms/step - loss: 0.2260 - accuracy: 0.9018 - mse: 0.0740\n",
            "Epoch 54/80\n",
            "60/60 [==============================] - 0s 7ms/step - loss: 0.2240 - accuracy: 0.9001 - mse: 0.0742\n",
            "Epoch 55/80\n",
            "60/60 [==============================] - 0s 7ms/step - loss: 0.2194 - accuracy: 0.9027 - mse: 0.0726\n",
            "Epoch 56/80\n",
            "60/60 [==============================] - 0s 7ms/step - loss: 0.2171 - accuracy: 0.9029 - mse: 0.0722\n",
            "Epoch 57/80\n",
            "60/60 [==============================] - 0s 7ms/step - loss: 0.2151 - accuracy: 0.9076 - mse: 0.0707\n",
            "Epoch 58/80\n",
            "60/60 [==============================] - 0s 7ms/step - loss: 0.2273 - accuracy: 0.8950 - mse: 0.0765\n",
            "Epoch 59/80\n",
            "60/60 [==============================] - 0s 7ms/step - loss: 0.2129 - accuracy: 0.9059 - mse: 0.0703\n",
            "Epoch 60/80\n",
            "60/60 [==============================] - 0s 7ms/step - loss: 0.2194 - accuracy: 0.9047 - mse: 0.0723\n",
            "Epoch 61/80\n",
            "60/60 [==============================] - 0s 7ms/step - loss: 0.2183 - accuracy: 0.9059 - mse: 0.0718\n",
            "Epoch 62/80\n",
            "60/60 [==============================] - 0s 7ms/step - loss: 0.2346 - accuracy: 0.8973 - mse: 0.0779\n",
            "Epoch 63/80\n",
            "60/60 [==============================] - 0s 7ms/step - loss: 0.2136 - accuracy: 0.9038 - mse: 0.0705\n",
            "Epoch 64/80\n",
            "60/60 [==============================] - 0s 7ms/step - loss: 0.2052 - accuracy: 0.9130 - mse: 0.0667\n",
            "Epoch 65/80\n",
            "60/60 [==============================] - 0s 7ms/step - loss: 0.2284 - accuracy: 0.8995 - mse: 0.0758\n",
            "Epoch 66/80\n",
            "60/60 [==============================] - 0s 7ms/step - loss: 0.2267 - accuracy: 0.9060 - mse: 0.0729\n",
            "Epoch 67/80\n",
            "60/60 [==============================] - 0s 7ms/step - loss: 0.2201 - accuracy: 0.9061 - mse: 0.0712\n",
            "Epoch 68/80\n",
            "60/60 [==============================] - 0s 7ms/step - loss: 0.2192 - accuracy: 0.9027 - mse: 0.0727\n",
            "Epoch 69/80\n",
            "60/60 [==============================] - 0s 7ms/step - loss: 0.2237 - accuracy: 0.8982 - mse: 0.0750\n",
            "Epoch 70/80\n",
            "60/60 [==============================] - 0s 7ms/step - loss: 0.2232 - accuracy: 0.8996 - mse: 0.0748\n",
            "Epoch 71/80\n",
            "60/60 [==============================] - 0s 7ms/step - loss: 0.2182 - accuracy: 0.9043 - mse: 0.0723\n",
            "Epoch 72/80\n",
            "60/60 [==============================] - 0s 7ms/step - loss: 0.2186 - accuracy: 0.9058 - mse: 0.0718\n",
            "Epoch 73/80\n",
            "60/60 [==============================] - 0s 7ms/step - loss: 0.2333 - accuracy: 0.8929 - mse: 0.0781\n",
            "Epoch 74/80\n",
            "60/60 [==============================] - 0s 7ms/step - loss: 0.2313 - accuracy: 0.8950 - mse: 0.0776\n",
            "Epoch 75/80\n",
            "60/60 [==============================] - 0s 7ms/step - loss: 0.2283 - accuracy: 0.9012 - mse: 0.0750\n",
            "Epoch 76/80\n",
            "60/60 [==============================] - 0s 7ms/step - loss: 0.2264 - accuracy: 0.9019 - mse: 0.0741\n",
            "Epoch 77/80\n",
            "60/60 [==============================] - 0s 7ms/step - loss: 0.2238 - accuracy: 0.9007 - mse: 0.0739\n",
            "Epoch 78/80\n",
            "60/60 [==============================] - 0s 7ms/step - loss: 0.2306 - accuracy: 0.8960 - mse: 0.0767\n",
            "Epoch 79/80\n",
            "60/60 [==============================] - 0s 7ms/step - loss: 0.2225 - accuracy: 0.8977 - mse: 0.0746\n",
            "Epoch 80/80\n",
            "60/60 [==============================] - 0s 7ms/step - loss: 0.2285 - accuracy: 0.8985 - mse: 0.0757\n"
          ],
          "name": "stdout"
        }
      ]
    },
    {
      "cell_type": "markdown",
      "metadata": {
        "id": "1lVjjM6qN74Z"
      },
      "source": [
        "Carrying out loss vs accuracy trade off for simple sequential neural network using visuals"
      ]
    },
    {
      "cell_type": "code",
      "metadata": {
        "colab": {
          "base_uri": "https://localhost:8080/",
          "height": 295
        },
        "id": "7KEGKpLWhtYI",
        "outputId": "c3f1fadb-8f57-4c43-9da8-c282cf7a323c"
      },
      "source": [
        "%matplotlib inline\n",
        "import matplotlib.pyplot as plt\n",
        "\n",
        "fig, loss_ax = plt.subplots()\n",
        "\n",
        "acc_ax = loss_ax.twinx()\n",
        "\n",
        "loss_ax.set_ylim([0.0, 1.0])\n",
        "acc_ax.set_ylim([0.0, 1.0])\n",
        "\n",
        "loss_ax.plot(sim_model_train.history['loss'], 'y', label='loss')\n",
        "acc_ax.plot(sim_model_train.history['accuracy'], 'b', label='accuracy')\n",
        "\n",
        "loss_ax.set_xlabel('Epoch')\n",
        "loss_ax.set_ylabel('Loss')\n",
        "acc_ax.set_ylabel('Accuray')\n",
        "\n",
        "loss_ax.legend(loc='upper left')\n",
        "acc_ax.legend(loc='lower left')\n",
        "\n",
        "plt.title('Sequential Linear model accuracy and validation')\n",
        "plt.show()\n",
        "#https://github.com/sharmaroshan/Drugs-Recommendation-using-Reviews/blob/master/DrugsAnalysis.ipynb"
      ],
      "execution_count": null,
      "outputs": [
        {
          "output_type": "display_data",
          "data": {
            "image/png": "[encoded data removed]",
            "text/plain": [
              "<Figure size 432x288 with 2 Axes>"
            ]
          },
          "metadata": {
            "tags": []
          }
        }
      ]
    },
    {
      "cell_type": "code",
      "metadata": {
        "id": "BjryalcUJuUj"
      },
      "source": [
        "def avergae_lst(lst):\n",
        "    return round((sum(lst) / len(lst)),2)"
      ],
      "execution_count": null,
      "outputs": []
    },
    {
      "cell_type": "code",
      "metadata": {
        "id": "pGlQj5-jJApS"
      },
      "source": [
        "#Adding simple sequential model data to report table-\n",
        "from math import sqrt\n",
        "\n",
        "sim_model_name='Simple Sequential Linear Neural Network'\n",
        "sim_model_acc=avergae_lst(sim_model_train.history['accuracy'])\n",
        "sim_rmse_score=sqrt(avergae_lst(sim_model_train.history['mse']))\n",
        "sim_mse_score=avergae_lst(sim_model_train.history['mse'])\n",
        "report=pd.concat([report,pd.DataFrame([[sim_model_name,'', sim_model_acc,0,sim_rmse_score,sim_mse_score,0,0,0]] ,columns = ['Model name', 'Model parameter', 'Accuracy', 'ROC AUC score','RMSE score','MSE score','Precision','F1_score','Recall'])])\n"
      ],
      "execution_count": null,
      "outputs": []
    },
    {
      "cell_type": "markdown",
      "metadata": {
        "id": "0cndkXqoQCaZ"
      },
      "source": [
        "#### Convolutional neural network"
      ]
    },
    {
      "cell_type": "code",
      "metadata": {
        "colab": {
          "base_uri": "https://localhost:8080/"
        },
        "id": "WjBx09wh5uDE",
        "outputId": "9bcf358b-5de6-4a78-f7a0-30d368998096"
      },
      "source": [
        "cnn_model = Sequential()\n",
        "cnn_model.add(keras.layers.Embedding(8000, 200, input_length=8000))\n",
        "cnn_model.add(keras.layers.Conv1D(128, 5, activation='relu'))\n",
        "cnn_model.add(keras.layers.GlobalMaxPooling1D())\n",
        "cnn_model.add(keras.layers.Dense(10, activation='relu'))\n",
        "cnn_model.add(keras.layers.Dense(1, activation='softmax'))\n",
        "cnn_model.compile(optimizer=tf.keras.optimizers.Adam(lr=0.001),loss='binary_crossentropy',metrics=['accuracy','mse'])\n",
        "cnn_model.summary()"
      ],
      "execution_count": null,
      "outputs": [
        {
          "output_type": "stream",
          "text": [
            "Model: \"sequential_1\"\n",
            "_________________________________________________________________\n",
            "Layer (type)                 Output Shape              Param #   \n",
            "=================================================================\n",
            "embedding (Embedding)        (None, 8000, 200)         1600000   \n",
            "_________________________________________________________________\n",
            "conv1d (Conv1D)              (None, 7996, 128)         128128    \n",
            "_________________________________________________________________\n",
            "global_max_pooling1d (Global (None, 128)               0         \n",
            "_________________________________________________________________\n",
            "dense_5 (Dense)              (None, 10)                1290      \n",
            "_________________________________________________________________\n",
            "dense_6 (Dense)              (None, 1)                 11        \n",
            "=================================================================\n",
            "Total params: 1,729,429\n",
            "Trainable params: 1,729,429\n",
            "Non-trainable params: 0\n",
            "_________________________________________________________________\n"
          ],
          "name": "stdout"
        }
      ]
    },
    {
      "cell_type": "code",
      "metadata": {
        "colab": {
          "background_save": true,
          "base_uri": "https://localhost:8080/"
        },
        "id": "a67it8qtrZTS",
        "outputId": "27da02e1-9bf6-40be-f7e7-ab1328bb85b3"
      },
      "source": [
        "cnn_model_train = cnn_model.fit(X_train_cv.todense(), y_train, epochs=20, batch_size=100)"
      ],
      "execution_count": null,
      "outputs": [
        {
          "output_type": "stream",
          "text": [
            "Epoch 1/10\n",
            "60/60 [==============================] - 784s 13s/step - loss: 0.5964 - accuracy: 0.7302 - mse: 0.2698\n",
            "Epoch 2/10\n",
            "60/60 [==============================] - 770s 13s/step - loss: 0.5852 - accuracy: 0.7288 - mse: 0.2712\n",
            "Epoch 3/10\n",
            "60/60 [==============================] - 775s 13s/step - loss: 0.5818 - accuracy: 0.7346 - mse: 0.2654\n",
            "Epoch 4/10\n",
            "60/60 [==============================] - 770s 13s/step - loss: 0.5926 - accuracy: 0.7236 - mse: 0.2764\n",
            "Epoch 5/10\n",
            "60/60 [==============================] - 773s 13s/step - loss: 0.5908 - accuracy: 0.7233 - mse: 0.2767\n",
            "Epoch 6/10\n",
            "60/60 [==============================] - 769s 13s/step - loss: 0.5909 - accuracy: 0.7247 - mse: 0.2753\n",
            "Epoch 7/10\n",
            "60/60 [==============================] - 767s 13s/step - loss: 0.5803 - accuracy: 0.7334 - mse: 0.2666\n",
            "Epoch 8/10\n",
            "60/60 [==============================] - 770s 13s/step - loss: 0.5936 - accuracy: 0.7283 - mse: 0.2717\n",
            "Epoch 9/10\n",
            "60/60 [==============================] - 769s 13s/step - loss: 0.5859 - accuracy: 0.7288 - mse: 0.2712\n",
            "Epoch 10/10\n",
            "60/60 [==============================] - 769s 13s/step - loss: 0.5891 - accuracy: 0.7260 - mse: 0.2740\n"
          ],
          "name": "stdout"
        }
      ]
    },
    {
      "cell_type": "markdown",
      "metadata": {
        "id": "WW3Yq9FiNeir"
      },
      "source": [
        "Carrying out loss vs accuracy trade off for convolutional neural network using visuals"
      ]
    },
    {
      "cell_type": "code",
      "metadata": {
        "colab": {
          "base_uri": "https://localhost:8080/",
          "height": 295
        },
        "id": "gtWNK49Pgu7Q",
        "outputId": "47089354-bb23-4c21-ffa1-c97c634c3c3a"
      },
      "source": [
        "%matplotlib inline\n",
        "import matplotlib.pyplot as plt\n",
        "\n",
        "fig, loss_ax = plt.subplots()\n",
        "\n",
        "acc_ax = loss_ax.twinx()\n",
        "\n",
        "loss_ax.set_ylim([0.0, 1.0])\n",
        "acc_ax.set_ylim([0.0, 1.0])\n",
        "\n",
        "loss_ax.plot(cnn_model_train.history['loss'], 'y', label='loss')\n",
        "acc_ax.plot(cnn_model_train.history['accuracy'], 'b', label='accuracy')\n",
        "\n",
        "loss_ax.set_xlabel('Epoch')\n",
        "loss_ax.set_ylabel('Loss')\n",
        "acc_ax.set_ylabel('Accuray')\n",
        "\n",
        "loss_ax.legend(loc='upper left')\n",
        "acc_ax.legend(loc='lower left')\n",
        "plt.title('Convolutional neural network model accuracy and validation')\n",
        "\n",
        "\n",
        "\n",
        "plt.show()\n",
        "#https://github.com/sharmaroshan/Drugs-Recommendation-using-Reviews/blob/master/DrugsAnalysis.ipynb"
      ],
      "execution_count": null,
      "outputs": [
        {
          "output_type": "display_data",
          "data": {
            "image/png": "[encoded data removed]",
            "text/plain": [
              "<Figure size 432x288 with 2 Axes>"
            ]
          },
          "metadata": {
            "tags": []
          }
        }
      ]
    },
    {
      "cell_type": "markdown",
      "metadata": {
        "id": "9QIykwVwNBdm"
      },
      "source": [
        "Visualizing the mse scores of both simple sequential and convolutional neural network."
      ]
    },
    {
      "cell_type": "code",
      "metadata": {
        "colab": {
          "base_uri": "https://localhost:8080/",
          "height": 295
        },
        "id": "qBrzz1mMNh_q",
        "outputId": "70c8a933-8029-4841-c415-3d1222b7008a"
      },
      "source": [
        "# plot metrics\n",
        "from matplotlib import pyplot\n",
        "pyplot.plot(sim_model_train.history['mse'],label='CNN MSE score')\n",
        "pyplot.plot(cnn_model_train.history['mse'],label='Sequential MSE score')\n",
        "pyplot.xlabel('Epoch')\n",
        "pyplot.ylabel('Loss')\n",
        "pyplot.title('CNN MSE vs Sequential MSE trade off')\n",
        "\n",
        "pyplot.legend(loc='upper right')\n",
        "pyplot.show()"
      ],
      "execution_count": null,
      "outputs": [
        {
          "output_type": "display_data",
          "data": {
            "image/png": "[encoded data removed]",
            "text/plain": [
              "<Figure size 432x288 with 1 Axes>"
            ]
          },
          "metadata": {
            "tags": []
          }
        }
      ]
    },
    {
      "cell_type": "code",
      "metadata": {
        "id": "pbjtnzQwL4MV"
      },
      "source": [
        "#Adding simple sequential model data to report table-\n",
        "\n",
        "cnn_model_name='Convolutional Neural Network'\n",
        "cnn_model_acc=avergae_lst(cnn_model_train.history['accuracy'])\n",
        "cnn_rmse_score=sqrt(avergae_lst(cnn_model_train.history['mse']))\n",
        "cnn_mse_score=avergae_lst(cnn_model_train.history['mse'])\n",
        "report=pd.concat([report,pd.DataFrame([[cnn_model_name,'', cnn_model_acc,0,cnn_rmse_score,cnn_mse_score,0,0,0]] ,columns = ['Model name', 'Model parameter', 'Accuracy', 'ROC AUC score','RMSE score','MSE score','Precision','F1_score','Recall'])])\n"
      ],
      "execution_count": null,
      "outputs": []
    },
    {
      "cell_type": "code",
      "metadata": {
        "colab": {
          "base_uri": "https://localhost:8080/",
          "height": 297
        },
        "id": "ousvdjttMMAD",
        "outputId": "f3fb931b-2f72-4e44-f756-1f76f090ebd6"
      },
      "source": [
        "#checking for the best model for the recommendation system\n",
        "report"
      ],
      "execution_count": null,
      "outputs": [
        {
          "output_type": "execute_result",
          "data": {
            "text/html": [
              "<div>\n",
              "<style scoped>\n",
              "    .dataframe tbody tr th:only-of-type {\n",
              "        vertical-align: middle;\n",
              "    }\n",
              "\n",
              "    .dataframe tbody tr th {\n",
              "        vertical-align: top;\n",
              "    }\n",
              "\n",
              "    .dataframe thead th {\n",
              "        text-align: right;\n",
              "    }\n",
              "</style>\n",
              "<table border=\"1\" class=\"dataframe\">\n",
              "  <thead>\n",
              "    <tr style=\"text-align: right;\">\n",
              "      <th></th>\n",
              "      <th>Model name</th>\n",
              "      <th>Model parameter</th>\n",
              "      <th>Accuracy</th>\n",
              "      <th>ROC AUC score</th>\n",
              "      <th>RMSE score</th>\n",
              "      <th>MSE score</th>\n",
              "      <th>Precision</th>\n",
              "      <th>F1_score</th>\n",
              "      <th>Recall</th>\n",
              "    </tr>\n",
              "  </thead>\n",
              "  <tbody>\n",
              "    <tr>\n",
              "      <th>0</th>\n",
              "      <td>Logistic Regression</td>\n",
              "      <td>{'clf__C': 3.1992671377973845, 'clf__penalty':...</td>\n",
              "      <td>0.885651</td>\n",
              "      <td>0.928547</td>\n",
              "      <td>0.509347</td>\n",
              "      <td>0.259434</td>\n",
              "      <td>0.738965</td>\n",
              "      <td>0.845650</td>\n",
              "      <td>0.988338</td>\n",
              "    </tr>\n",
              "    <tr>\n",
              "      <th>1</th>\n",
              "      <td>Multi Nomial NB</td>\n",
              "      <td>{'clf__alpha': 0.01}</td>\n",
              "      <td>0.872099</td>\n",
              "      <td>0.891613</td>\n",
              "      <td>0.520542</td>\n",
              "      <td>0.270964</td>\n",
              "      <td>0.736318</td>\n",
              "      <td>0.837472</td>\n",
              "      <td>0.970845</td>\n",
              "    </tr>\n",
              "    <tr>\n",
              "      <th>2</th>\n",
              "      <td>Bernoulli NB</td>\n",
              "      <td>{'clf__alpha': 0.01}</td>\n",
              "      <td>0.871421</td>\n",
              "      <td>0.893583</td>\n",
              "      <td>0.520542</td>\n",
              "      <td>0.270964</td>\n",
              "      <td>0.735278</td>\n",
              "      <td>0.837880</td>\n",
              "      <td>0.973761</td>\n",
              "    </tr>\n",
              "    <tr>\n",
              "      <th>3</th>\n",
              "      <td>Linear SVC</td>\n",
              "      <td>{'clf__C': 10.01}</td>\n",
              "      <td>0.901406</td>\n",
              "      <td>0.934455</td>\n",
              "      <td>0.492076</td>\n",
              "      <td>0.242138</td>\n",
              "      <td>0.757062</td>\n",
              "      <td>0.852960</td>\n",
              "      <td>0.976676</td>\n",
              "    </tr>\n",
              "    <tr>\n",
              "      <th>4</th>\n",
              "      <td>DecisionTreeClassifier</td>\n",
              "      <td>{'clf__criterion': 'entropy', 'clf__max_depth'...</td>\n",
              "      <td>0.797052</td>\n",
              "      <td>0.889941</td>\n",
              "      <td>0.522552</td>\n",
              "      <td>0.273061</td>\n",
              "      <td>0.725729</td>\n",
              "      <td>0.840037</td>\n",
              "      <td>0.997085</td>\n",
              "    </tr>\n",
              "    <tr>\n",
              "      <th>5</th>\n",
              "      <td>RandomForestClassifier</td>\n",
              "      <td>{'clf__criterion': 'gini', 'clf__max_depth': 4...</td>\n",
              "      <td>0.729798</td>\n",
              "      <td>0.864808</td>\n",
              "      <td>0.522552</td>\n",
              "      <td>0.273061</td>\n",
              "      <td>0.719078</td>\n",
              "      <td>0.836585</td>\n",
              "      <td>1.000000</td>\n",
              "    </tr>\n",
              "    <tr>\n",
              "      <th>0</th>\n",
              "      <td>Simple Sequential Linear Neural Network</td>\n",
              "      <td></td>\n",
              "      <td>0.890000</td>\n",
              "      <td>0.000000</td>\n",
              "      <td>0.282843</td>\n",
              "      <td>0.080000</td>\n",
              "      <td>0.000000</td>\n",
              "      <td>0.000000</td>\n",
              "      <td>0.000000</td>\n",
              "    </tr>\n",
              "    <tr>\n",
              "      <th>0</th>\n",
              "      <td>Convolutional Neural Network</td>\n",
              "      <td></td>\n",
              "      <td>0.730000</td>\n",
              "      <td>0.000000</td>\n",
              "      <td>0.519615</td>\n",
              "      <td>0.270000</td>\n",
              "      <td>0.000000</td>\n",
              "      <td>0.000000</td>\n",
              "      <td>0.000000</td>\n",
              "    </tr>\n",
              "  </tbody>\n",
              "</table>\n",
              "</div>"
            ],
            "text/plain": [
              "                                Model name  ...    Recall\n",
              "0                      Logistic Regression  ...  0.988338\n",
              "1                          Multi Nomial NB  ...  0.970845\n",
              "2                             Bernoulli NB  ...  0.973761\n",
              "3                               Linear SVC  ...  0.976676\n",
              "4                   DecisionTreeClassifier  ...  0.997085\n",
              "5                   RandomForestClassifier  ...  1.000000\n",
              "0  Simple Sequential Linear Neural Network  ...  0.000000\n",
              "0             Convolutional Neural Network  ...  0.000000\n",
              "\n",
              "[8 rows x 9 columns]"
            ]
          },
          "metadata": {
            "tags": []
          },
          "execution_count": 39
        }
      ]
    },
    {
      "cell_type": "code",
      "metadata": {
        "colab": {
          "base_uri": "https://localhost:8080/",
          "height": 542
        },
        "id": "CtSTc5b8V9Gt",
        "outputId": "c7d55baa-1f5e-4010-fba5-3c2b48f8afea"
      },
      "source": [
        "import plotly.graph_objects as go\n",
        "\n",
        "fig = go.Figure()\n",
        "fig.add_trace(go.Bar(\n",
        "    x=list(report['Model name']),\n",
        "    y=list(report['Accuracy']),\n",
        "    name='Accuracy',\n",
        "))\n",
        "fig.add_trace(go.Bar(\n",
        "    x=list(report['Model name']),\n",
        "    y=list(report['ROC AUC score']),\n",
        "    name='ROC AUC score',\n",
        "))\n",
        "fig.add_trace(go.Bar(\n",
        "    x=list(report['Model name']),\n",
        "    y=list(report['RMSE score']),\n",
        "    name='RMSE score',\n",
        "))\n",
        "fig.add_trace(go.Bar(\n",
        "    x=list(report['Model name']),\n",
        "    y=list(report['MSE score']),\n",
        "    name='MSE score',\n",
        "))\n",
        "fig.add_trace(go.Bar(\n",
        "    x=list(report['Model name']),\n",
        "    y=list(report['Precision']),\n",
        "    name='Precision',\n",
        "))\n",
        "fig.add_trace(go.Bar(\n",
        "    x=list(report['Model name']),\n",
        "    y=list(report['F1_score']),\n",
        "    name='F1_score',\n",
        "))\n",
        "fig.add_trace(go.Bar(\n",
        "    x=list(report['Model name']),\n",
        "    y=list(report['Recall']),\n",
        "    name='Recall',\n",
        "))\n",
        "\n",
        "# Here we modify the tickangle of the xaxis, resulting in rotated labels.\n",
        "fig.update_layout(barmode='group', xaxis_tickangle=-45,title_text='Multiple metrics scores for different algorithm')\n",
        "fig.show()"
      ],
      "execution_count": null,
      "outputs": [
        {
          "output_type": "display_data",
          "data": {
            "text/html": [
              "<html>\n",
              "<head><meta charset=\"utf-8\" /></head>\n",
              "<body>\n",
              "    <div>\n",
              "            <script src=\"https://cdnjs.cloudflare.com/ajax/libs/mathjax/2.7.5/MathJax.js?config=TeX-AMS-MML_SVG\"></script><script type=\"text/javascript\">if (window.MathJax) {MathJax.Hub.Config({SVG: {font: \"STIX-Web\"}});}</script>\n",
              "                <script type=\"text/javascript\">window.PlotlyConfig = {MathJaxConfig: 'local'};</script>\n",
              "        <script src=\"https://cdn.plot.ly/plotly-latest.min.js\"></script>    \n",
              "            <div id=\"a70120fe-6107-477a-9290-6c24c246d09d\" class=\"plotly-graph-div\" style=\"height:525px; width:100%;\"></div>\n",
              "            <script type=\"text/javascript\">\n",
              "                \n",
              "                    window.PLOTLYENV=window.PLOTLYENV || {};\n",
              "                    \n",
              "                if (document.getElementById(\"a70120fe-6107-477a-9290-6c24c246d09d\")) {\n",
              "                    Plotly.newPlot(\n",
              "                        'a70120fe-6107-477a-9290-6c24c246d09d',\n",
              "                        [{\"name\": \"Accuracy\", \"type\": \"bar\", \"x\": [\"Logistic Regression\", \"Multi Nomial NB\", \"Bernoulli NB\", \"Linear SVC\", \"DecisionTreeClassifier\", \"RandomForestClassifier\", \"Simple Sequential Linear Neural Network\", \"Convolutional Neural Network\"], \"y\": [0.8856513637133661, 0.8720989327460613, 0.8714213111976961, 0.9014060647128579, 0.7970523462646112, 0.7297984075893613, 0.89, 0.73]}, {\"name\": \"ROC AUC score\", \"type\": \"bar\", \"x\": [\"Logistic Regression\", \"Multi Nomial NB\", \"Bernoulli NB\", \"Linear SVC\", \"DecisionTreeClassifier\", \"RandomForestClassifier\", \"Simple Sequential Linear Neural Network\", \"Convolutional Neural Network\"], \"y\": [0.9285474211291215, 0.8916133250739899, 0.8935833676287567, 0.9344552923627404, 0.8899411233927363, 0.8648075945075436, 0.0, 0.0]}, {\"name\": \"RMSE score\", \"type\": \"bar\", \"x\": [\"Logistic Regression\", \"Multi Nomial NB\", \"Bernoulli NB\", \"Linear SVC\", \"DecisionTreeClassifier\", \"RandomForestClassifier\", \"Simple Sequential Linear Neural Network\", \"Convolutional Neural Network\"], \"y\": [0.5093466032714373, 0.520542371557784, 0.520542371557784, 0.4920755681598856, 0.5225521951400667, 0.5225521951400667, 0.282842712474619, 0.5196152422706632]}, {\"name\": \"MSE score\", \"type\": \"bar\", \"x\": [\"Logistic Regression\", \"Multi Nomial NB\", \"Bernoulli NB\", \"Linear SVC\", \"DecisionTreeClassifier\", \"RandomForestClassifier\", \"Simple Sequential Linear Neural Network\", \"Convolutional Neural Network\"], \"y\": [0.25943396226415094, 0.2709643605870021, 0.2709643605870021, 0.24213836477987422, 0.2730607966457023, 0.2730607966457023, 0.08, 0.27]}, {\"name\": \"Precision\", \"type\": \"bar\", \"x\": [\"Logistic Regression\", \"Multi Nomial NB\", \"Bernoulli NB\", \"Linear SVC\", \"DecisionTreeClassifier\", \"RandomForestClassifier\", \"Simple Sequential Linear Neural Network\", \"Convolutional Neural Network\"], \"y\": [0.7389645776566758, 0.736318407960199, 0.7352779306549257, 0.7570621468926554, 0.7257294429708223, 0.7190775681341719, 0.0, 0.0]}, {\"name\": \"F1_score\", \"type\": \"bar\", \"x\": [\"Logistic Regression\", \"Multi Nomial NB\", \"Bernoulli NB\", \"Linear SVC\", \"DecisionTreeClassifier\", \"RandomForestClassifier\", \"Simple Sequential Linear Neural Network\", \"Convolutional Neural Network\"], \"y\": [0.8456501403180543, 0.8374724929267525, 0.8378802132329884, 0.8529598981540419, 0.8400368437212159, 0.8365853658536585, 0.0, 0.0]}, {\"name\": \"Recall\", \"type\": \"bar\", \"x\": [\"Logistic Regression\", \"Multi Nomial NB\", \"Bernoulli NB\", \"Linear SVC\", \"DecisionTreeClassifier\", \"RandomForestClassifier\", \"Simple Sequential Linear Neural Network\", \"Convolutional Neural Network\"], \"y\": [0.9883381924198251, 0.9708454810495627, 0.9737609329446064, 0.9766763848396501, 0.9970845481049563, 1.0, 0.0, 0.0]}],\n",
              "                        {\"barmode\": \"group\", \"template\": {\"data\": {\"bar\": [{\"error_x\": {\"color\": \"#2a3f5f\"}, \"error_y\": {\"color\": \"#2a3f5f\"}, \"marker\": {\"line\": {\"color\": \"#E5ECF6\", \"width\": 0.5}}, \"type\": \"bar\"}], \"barpolar\": [{\"marker\": {\"line\": {\"color\": \"#E5ECF6\", \"width\": 0.5}}, \"type\": \"barpolar\"}], \"carpet\": [{\"aaxis\": {\"endlinecolor\": \"#2a3f5f\", \"gridcolor\": \"white\", \"linecolor\": \"white\", \"minorgridcolor\": \"white\", \"startlinecolor\": \"#2a3f5f\"}, \"baxis\": {\"endlinecolor\": \"#2a3f5f\", \"gridcolor\": \"white\", \"linecolor\": \"white\", \"minorgridcolor\": \"white\", \"startlinecolor\": \"#2a3f5f\"}, \"type\": \"carpet\"}], \"choropleth\": [{\"colorbar\": {\"outlinewidth\": 0, \"ticks\": \"\"}, \"type\": \"choropleth\"}], \"contour\": [{\"colorbar\": {\"outlinewidth\": 0, \"ticks\": \"\"}, \"colorscale\": [[0.0, \"#0d0887\"], [0.1111111111111111, \"#46039f\"], [0.2222222222222222, \"#7201a8\"], [0.3333333333333333, \"#9c179e\"], [0.4444444444444444, \"#bd3786\"], [0.5555555555555556, \"#d8576b\"], [0.6666666666666666, \"#ed7953\"], [0.7777777777777778, \"#fb9f3a\"], [0.8888888888888888, \"#fdca26\"], [1.0, \"#f0f921\"]], \"type\": \"contour\"}], \"contourcarpet\": [{\"colorbar\": {\"outlinewidth\": 0, \"ticks\": \"\"}, \"type\": \"contourcarpet\"}], \"heatmap\": [{\"colorbar\": {\"outlinewidth\": 0, \"ticks\": \"\"}, \"colorscale\": [[0.0, \"#0d0887\"], [0.1111111111111111, \"#46039f\"], [0.2222222222222222, \"#7201a8\"], [0.3333333333333333, \"#9c179e\"], [0.4444444444444444, \"#bd3786\"], [0.5555555555555556, \"#d8576b\"], [0.6666666666666666, \"#ed7953\"], [0.7777777777777778, \"#fb9f3a\"], [0.8888888888888888, \"#fdca26\"], [1.0, \"#f0f921\"]], \"type\": \"heatmap\"}], \"heatmapgl\": [{\"colorbar\": {\"outlinewidth\": 0, \"ticks\": \"\"}, \"colorscale\": [[0.0, \"#0d0887\"], [0.1111111111111111, \"#46039f\"], [0.2222222222222222, \"#7201a8\"], [0.3333333333333333, \"#9c179e\"], [0.4444444444444444, \"#bd3786\"], [0.5555555555555556, \"#d8576b\"], [0.6666666666666666, \"#ed7953\"], [0.7777777777777778, \"#fb9f3a\"], [0.8888888888888888, \"#fdca26\"], [1.0, \"#f0f921\"]], \"type\": \"heatmapgl\"}], \"histogram\": [{\"marker\": {\"colorbar\": {\"outlinewidth\": 0, \"ticks\": \"\"}}, \"type\": \"histogram\"}], \"histogram2d\": [{\"colorbar\": {\"outlinewidth\": 0, \"ticks\": \"\"}, \"colorscale\": [[0.0, \"#0d0887\"], [0.1111111111111111, \"#46039f\"], [0.2222222222222222, \"#7201a8\"], [0.3333333333333333, \"#9c179e\"], [0.4444444444444444, \"#bd3786\"], [0.5555555555555556, \"#d8576b\"], [0.6666666666666666, \"#ed7953\"], [0.7777777777777778, \"#fb9f3a\"], [0.8888888888888888, \"#fdca26\"], [1.0, \"#f0f921\"]], \"type\": \"histogram2d\"}], \"histogram2dcontour\": [{\"colorbar\": {\"outlinewidth\": 0, \"ticks\": \"\"}, \"colorscale\": [[0.0, \"#0d0887\"], [0.1111111111111111, \"#46039f\"], [0.2222222222222222, \"#7201a8\"], [0.3333333333333333, \"#9c179e\"], [0.4444444444444444, \"#bd3786\"], [0.5555555555555556, \"#d8576b\"], [0.6666666666666666, \"#ed7953\"], [0.7777777777777778, \"#fb9f3a\"], [0.8888888888888888, \"#fdca26\"], [1.0, \"#f0f921\"]], \"type\": \"histogram2dcontour\"}], \"mesh3d\": [{\"colorbar\": {\"outlinewidth\": 0, \"ticks\": \"\"}, \"type\": \"mesh3d\"}], \"parcoords\": [{\"line\": {\"colorbar\": {\"outlinewidth\": 0, \"ticks\": \"\"}}, \"type\": \"parcoords\"}], \"pie\": [{\"automargin\": true, \"type\": \"pie\"}], \"scatter\": [{\"marker\": {\"colorbar\": {\"outlinewidth\": 0, \"ticks\": \"\"}}, \"type\": \"scatter\"}], \"scatter3d\": [{\"line\": {\"colorbar\": {\"outlinewidth\": 0, \"ticks\": \"\"}}, \"marker\": {\"colorbar\": {\"outlinewidth\": 0, \"ticks\": \"\"}}, \"type\": \"scatter3d\"}], \"scattercarpet\": [{\"marker\": {\"colorbar\": {\"outlinewidth\": 0, \"ticks\": \"\"}}, \"type\": \"scattercarpet\"}], \"scattergeo\": [{\"marker\": {\"colorbar\": {\"outlinewidth\": 0, \"ticks\": \"\"}}, \"type\": \"scattergeo\"}], \"scattergl\": [{\"marker\": {\"colorbar\": {\"outlinewidth\": 0, \"ticks\": \"\"}}, \"type\": \"scattergl\"}], \"scattermapbox\": [{\"marker\": {\"colorbar\": {\"outlinewidth\": 0, \"ticks\": \"\"}}, \"type\": \"scattermapbox\"}], \"scatterpolar\": [{\"marker\": {\"colorbar\": {\"outlinewidth\": 0, \"ticks\": \"\"}}, \"type\": \"scatterpolar\"}], \"scatterpolargl\": [{\"marker\": {\"colorbar\": {\"outlinewidth\": 0, \"ticks\": \"\"}}, \"type\": \"scatterpolargl\"}], \"scatterternary\": [{\"marker\": {\"colorbar\": {\"outlinewidth\": 0, \"ticks\": \"\"}}, \"type\": \"scatterternary\"}], \"surface\": [{\"colorbar\": {\"outlinewidth\": 0, \"ticks\": \"\"}, \"colorscale\": [[0.0, \"#0d0887\"], [0.1111111111111111, \"#46039f\"], [0.2222222222222222, \"#7201a8\"], [0.3333333333333333, \"#9c179e\"], [0.4444444444444444, \"#bd3786\"], [0.5555555555555556, \"#d8576b\"], [0.6666666666666666, \"#ed7953\"], [0.7777777777777778, \"#fb9f3a\"], [0.8888888888888888, \"#fdca26\"], [1.0, \"#f0f921\"]], \"type\": \"surface\"}], \"table\": [{\"cells\": {\"fill\": {\"color\": \"#EBF0F8\"}, \"line\": {\"color\": \"white\"}}, \"header\": {\"fill\": {\"color\": \"#C8D4E3\"}, \"line\": {\"color\": \"white\"}}, \"type\": \"table\"}]}, \"layout\": {\"annotationdefaults\": {\"arrowcolor\": \"#2a3f5f\", \"arrowhead\": 0, \"arrowwidth\": 1}, \"coloraxis\": {\"colorbar\": {\"outlinewidth\": 0, \"ticks\": \"\"}}, \"colorscale\": {\"diverging\": [[0, \"#8e0152\"], [0.1, \"#c51b7d\"], [0.2, \"#de77ae\"], [0.3, \"#f1b6da\"], [0.4, \"#fde0ef\"], [0.5, \"#f7f7f7\"], [0.6, \"#e6f5d0\"], [0.7, \"#b8e186\"], [0.8, \"#7fbc41\"], [0.9, \"#4d9221\"], [1, \"#276419\"]], \"sequential\": [[0.0, \"#0d0887\"], [0.1111111111111111, \"#46039f\"], [0.2222222222222222, \"#7201a8\"], [0.3333333333333333, \"#9c179e\"], [0.4444444444444444, \"#bd3786\"], [0.5555555555555556, \"#d8576b\"], [0.6666666666666666, \"#ed7953\"], [0.7777777777777778, \"#fb9f3a\"], [0.8888888888888888, \"#fdca26\"], [1.0, \"#f0f921\"]], \"sequentialminus\": [[0.0, \"#0d0887\"], [0.1111111111111111, \"#46039f\"], [0.2222222222222222, \"#7201a8\"], [0.3333333333333333, \"#9c179e\"], [0.4444444444444444, \"#bd3786\"], [0.5555555555555556, \"#d8576b\"], [0.6666666666666666, \"#ed7953\"], [0.7777777777777778, \"#fb9f3a\"], [0.8888888888888888, \"#fdca26\"], [1.0, \"#f0f921\"]]}, \"colorway\": [\"#636efa\", \"#EF553B\", \"#00cc96\", \"#ab63fa\", \"#FFA15A\", \"#19d3f3\", \"#FF6692\", \"#B6E880\", \"#FF97FF\", \"#FECB52\"], \"font\": {\"color\": \"#2a3f5f\"}, \"geo\": {\"bgcolor\": \"white\", \"lakecolor\": \"white\", \"landcolor\": \"#E5ECF6\", \"showlakes\": true, \"showland\": true, \"subunitcolor\": \"white\"}, \"hoverlabel\": {\"align\": \"left\"}, \"hovermode\": \"closest\", \"mapbox\": {\"style\": \"light\"}, \"paper_bgcolor\": \"white\", \"plot_bgcolor\": \"#E5ECF6\", \"polar\": {\"angularaxis\": {\"gridcolor\": \"white\", \"linecolor\": \"white\", \"ticks\": \"\"}, \"bgcolor\": \"#E5ECF6\", \"radialaxis\": {\"gridcolor\": \"white\", \"linecolor\": \"white\", \"ticks\": \"\"}}, \"scene\": {\"xaxis\": {\"backgroundcolor\": \"#E5ECF6\", \"gridcolor\": \"white\", \"gridwidth\": 2, \"linecolor\": \"white\", \"showbackground\": true, \"ticks\": \"\", \"zerolinecolor\": \"white\"}, \"yaxis\": {\"backgroundcolor\": \"#E5ECF6\", \"gridcolor\": \"white\", \"gridwidth\": 2, \"linecolor\": \"white\", \"showbackground\": true, \"ticks\": \"\", \"zerolinecolor\": \"white\"}, \"zaxis\": {\"backgroundcolor\": \"#E5ECF6\", \"gridcolor\": \"white\", \"gridwidth\": 2, \"linecolor\": \"white\", \"showbackground\": true, \"ticks\": \"\", \"zerolinecolor\": \"white\"}}, \"shapedefaults\": {\"line\": {\"color\": \"#2a3f5f\"}}, \"ternary\": {\"aaxis\": {\"gridcolor\": \"white\", \"linecolor\": \"white\", \"ticks\": \"\"}, \"baxis\": {\"gridcolor\": \"white\", \"linecolor\": \"white\", \"ticks\": \"\"}, \"bgcolor\": \"#E5ECF6\", \"caxis\": {\"gridcolor\": \"white\", \"linecolor\": \"white\", \"ticks\": \"\"}}, \"title\": {\"x\": 0.05}, \"xaxis\": {\"automargin\": true, \"gridcolor\": \"white\", \"linecolor\": \"white\", \"ticks\": \"\", \"title\": {\"standoff\": 15}, \"zerolinecolor\": \"white\", \"zerolinewidth\": 2}, \"yaxis\": {\"automargin\": true, \"gridcolor\": \"white\", \"linecolor\": \"white\", \"ticks\": \"\", \"title\": {\"standoff\": 15}, \"zerolinecolor\": \"white\", \"zerolinewidth\": 2}}}, \"title\": {\"text\": \"Multiple metrics scores for different algorithm\"}, \"xaxis\": {\"tickangle\": -45}},\n",
              "                        {\"responsive\": true}\n",
              "                    ).then(function(){\n",
              "                            \n",
              "var gd = document.getElementById('a70120fe-6107-477a-9290-6c24c246d09d');\n",
              "var x = new MutationObserver(function (mutations, observer) {{\n",
              "        var display = window.getComputedStyle(gd).display;\n",
              "        if (!display || display === 'none') {{\n",
              "            console.log([gd, 'removed!']);\n",
              "            Plotly.purge(gd);\n",
              "            observer.disconnect();\n",
              "        }}\n",
              "}});\n",
              "\n",
              "// Listen for the removal of the full notebook cells\n",
              "var notebookContainer = gd.closest('#notebook-container');\n",
              "if (notebookContainer) {{\n",
              "    x.observe(notebookContainer, {childList: true});\n",
              "}}\n",
              "\n",
              "// Listen for the clearing of the current output cell\n",
              "var outputEl = gd.closest('.output');\n",
              "if (outputEl) {{\n",
              "    x.observe(outputEl, {childList: true});\n",
              "}}\n",
              "\n",
              "                        })\n",
              "                };\n",
              "                \n",
              "            </script>\n",
              "        </div>\n",
              "</body>\n",
              "</html>"
            ]
          },
          "metadata": {
            "tags": []
          }
        }
      ]
    },
    {
      "cell_type": "markdown",
      "metadata": {
        "id": "U1v-0jYGMUTY"
      },
      "source": [
        "Looking at the above table it appears, simple sequential neural network and LinearSVC will be the best for our recommendation system based on the accuracy. Further looking into the MSE scores, It can be concluded simple sequential neural network will provide best results among all the model. \n",
        "\n",
        "Carrying out the predictions/recommendations using simple sequential neural network."
      ]
    },
    {
      "cell_type": "markdown",
      "metadata": {
        "id": "XzxDnc19tslq"
      },
      "source": [
        "#### Predictions"
      ]
    },
    {
      "cell_type": "code",
      "metadata": {
        "id": "7qTd4tA3Fmof"
      },
      "source": [
        "def predicted_recommend(predictions,testing_data):\n",
        "\n",
        "  #carrying out predictions\n",
        "  predictions = sim_model.predict(X_test_cv).flatten()\n",
        "  predictions=[float(e) for e in predictions]\n",
        "  df_prediction=pd.DataFrame(predictions,columns=['predicted_prob'])\n",
        "\n",
        "  #merging y_test to predictions dataframe\n",
        "  actual_df=pd.DataFrame(y_test).reset_index()\n",
        "  df_prediction=pd.concat([actual_df, df_prediction], axis=1)\n",
        "\n",
        "  #sorting the dataframe based on high probability\n",
        "  df_prediction=df_prediction.sort_values(by=['predicted_prob'], ascending=False)\n",
        "  df_prediction=df_prediction.head()\n",
        "\n",
        "  #carrying out index from prediction dataframe to carryout the drug name\n",
        "  recommend_index=list(df_prediction['index'])\n",
        "\n",
        "  recommend_dataframe=testing_data.loc[recommend_index]\n",
        "  recommend_dataframe=recommend_dataframe.reset_index()\n",
        "  recommend_dataframe=pd.merge(recommend_dataframe,df_prediction[['predicted_prob','index']],on='index')\n",
        "  recommend_dataframe=recommend_dataframe.sort_values(by='rating', ascending=False)\n",
        "\n",
        "  #Carrying out treatment for this condition\n",
        "\n",
        "  print('Recommended treatments for condition %s are \"%s\"\\n\\n'%(recommend_dataframe['condition'][0],recommend_dataframe['treatments'][0]))\n",
        "\n",
        "\n",
        "  recommend_dataframe=recommend_dataframe[['drugName','rating','predicted_prob','condition','treatments']]\n",
        "  recommend_dataframe=recommend_dataframe.rename(columns={'drugName':'Recommended Drug','predicted_prob':'predicted probabilty'})\n",
        "  recommend_dataframe=recommend_dataframe.reset_index(drop=True)\n",
        "\n",
        "\n",
        "\n",
        "  return recommend_dataframe"
      ],
      "execution_count": 128,
      "outputs": []
    },
    {
      "cell_type": "code",
      "metadata": {
        "id": "ps0NdA9AHWZ_",
        "colab": {
          "base_uri": "https://localhost:8080/",
          "height": 255
        },
        "outputId": "13e39469-e254-47d7-a5d6-1e7660a23631"
      },
      "source": [
        "predicted_recommend(predictions,testing_data)"
      ],
      "execution_count": 129,
      "outputs": [
        {
          "output_type": "stream",
          "text": [
            "Recommended treatments for condition Anxiety are \"Psychotherapy, Medications\"\n",
            "\n",
            "\n"
          ],
          "name": "stdout"
        },
        {
          "output_type": "execute_result",
          "data": {
            "text/html": [
              "<div>\n",
              "<style scoped>\n",
              "    .dataframe tbody tr th:only-of-type {\n",
              "        vertical-align: middle;\n",
              "    }\n",
              "\n",
              "    .dataframe tbody tr th {\n",
              "        vertical-align: top;\n",
              "    }\n",
              "\n",
              "    .dataframe thead th {\n",
              "        text-align: right;\n",
              "    }\n",
              "</style>\n",
              "<table border=\"1\" class=\"dataframe\">\n",
              "  <thead>\n",
              "    <tr style=\"text-align: right;\">\n",
              "      <th></th>\n",
              "      <th>Recommended Drug</th>\n",
              "      <th>rating</th>\n",
              "      <th>predicted probabilty</th>\n",
              "      <th>condition</th>\n",
              "      <th>treatments</th>\n",
              "    </tr>\n",
              "  </thead>\n",
              "  <tbody>\n",
              "    <tr>\n",
              "      <th>0</th>\n",
              "      <td>Buspirone</td>\n",
              "      <td>10</td>\n",
              "      <td>0.999998</td>\n",
              "      <td>Anxiety</td>\n",
              "      <td>Psychotherapy, Medications</td>\n",
              "    </tr>\n",
              "    <tr>\n",
              "      <th>1</th>\n",
              "      <td>Hydroxyzine</td>\n",
              "      <td>10</td>\n",
              "      <td>0.999992</td>\n",
              "      <td>Anxiety</td>\n",
              "      <td>Psychotherapy, Medications</td>\n",
              "    </tr>\n",
              "    <tr>\n",
              "      <th>2</th>\n",
              "      <td>Clonazepam</td>\n",
              "      <td>10</td>\n",
              "      <td>0.999992</td>\n",
              "      <td>Anxiety</td>\n",
              "      <td>Psychotherapy, Medications</td>\n",
              "    </tr>\n",
              "    <tr>\n",
              "      <th>3</th>\n",
              "      <td>Klonopin</td>\n",
              "      <td>10</td>\n",
              "      <td>0.999992</td>\n",
              "      <td>Anxiety</td>\n",
              "      <td>Psychotherapy, Medications</td>\n",
              "    </tr>\n",
              "    <tr>\n",
              "      <th>4</th>\n",
              "      <td>Paroxetine</td>\n",
              "      <td>8</td>\n",
              "      <td>0.999996</td>\n",
              "      <td>Anxiety</td>\n",
              "      <td>Psychotherapy, Medications</td>\n",
              "    </tr>\n",
              "  </tbody>\n",
              "</table>\n",
              "</div>"
            ],
            "text/plain": [
              "  Recommended Drug  rating  ...  condition                  treatments\n",
              "0        Buspirone      10  ...    Anxiety  Psychotherapy, Medications\n",
              "1      Hydroxyzine      10  ...    Anxiety  Psychotherapy, Medications\n",
              "2       Clonazepam      10  ...    Anxiety  Psychotherapy, Medications\n",
              "3         Klonopin      10  ...    Anxiety  Psychotherapy, Medications\n",
              "4       Paroxetine       8  ...    Anxiety  Psychotherapy, Medications\n",
              "\n",
              "[5 rows x 5 columns]"
            ]
          },
          "metadata": {
            "tags": []
          },
          "execution_count": 129
        }
      ]
    },
    {
      "cell_type": "code",
      "metadata": {
        "id": "v4AfdMQRIqlp"
      },
      "source": [
        ""
      ],
      "execution_count": null,
      "outputs": []
    }
  ]
}