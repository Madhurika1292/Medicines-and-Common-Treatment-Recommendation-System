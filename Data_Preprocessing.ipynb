{
  "nbformat": 4,
  "nbformat_minor": 0,
  "metadata": {
    "colab": {
      "name": "Data Preprocessing.ipynb",
      "provenance": [],
      "authorship_tag": "ABX9TyMbBhC+LRLZ6mjW6nf7xFgm",
      "include_colab_link": true
    },
    "kernelspec": {
      "name": "python3",
      "display_name": "Python 3"
    },
    "language_info": {
      "name": "python"
    }
  },
  "cells": [
    {
      "cell_type": "markdown",
      "metadata": {
        "id": "view-in-github",
        "colab_type": "text"
      },
      "source": [
        "<a href=\"https://colab.research.google.com/github/Madhurika1292/Medicines-and-Common-Treatment-Recommendation-System/blob/main/Data_Preprocessing.ipynb\" target=\"_parent\"><img src=\"https://colab.research.google.com/assets/colab-badge.svg\" alt=\"Open In Colab\"/></a>"
      ]
    },
    {
      "cell_type": "markdown",
      "metadata": {
        "id": "pKyLKEUjXh6M"
      },
      "source": [
        "#Data Preprocessing"
      ]
    },
    {
      "cell_type": "markdown",
      "metadata": {
        "id": "mrk1GBzhXwKM"
      },
      "source": [
        "### Data Loading"
      ]
    },
    {
      "cell_type": "code",
      "metadata": {
        "id": "Di0mcjc1IBYW"
      },
      "source": [
        "#Loading libraries\n",
        "import pandas as pd\n",
        "import numpy as np\n",
        "import plotly.express as px\n",
        "import seaborn as sns \n",
        "import matplotlib.pyplot as plt\n",
        "from matplotlib import style; style.use('ggplot')"
      ],
      "execution_count": 1,
      "outputs": []
    },
    {
      "cell_type": "code",
      "metadata": {
        "colab": {
          "base_uri": "https://localhost:8080/"
        },
        "id": "g26p4Cw9X6It",
        "outputId": "087eef14-9dbf-4524-b6d0-9461eb452dbc"
      },
      "source": [
        "#Cloning Git repository\n",
        "!git clone https://github.com/Madhurika1292/Medicines-and-Common-Treatment-Recommendation-System.git"
      ],
      "execution_count": 2,
      "outputs": [
        {
          "output_type": "stream",
          "text": [
            "fatal: destination path 'Medicines-and-Common-Treatment-Recommendation-System' already exists and is not an empty directory.\n"
          ],
          "name": "stdout"
        }
      ]
    },
    {
      "cell_type": "code",
      "metadata": {
        "colab": {
          "base_uri": "https://localhost:8080/"
        },
        "id": "JSedLHgQX8M7",
        "outputId": "4a0c117d-8933-44f3-b145-2d2a47ce05f7"
      },
      "source": [
        "!ls Medicines-and-Common-Treatment-Recommendation-System/Drugscom"
      ],
      "execution_count": 3,
      "outputs": [
        {
          "output_type": "stream",
          "text": [
            " drugsComTest_raw.tsv   drugsComTrain_raw.tsv  'drugscom train treatments.xlsx'\n"
          ],
          "name": "stdout"
        }
      ]
    },
    {
      "cell_type": "code",
      "metadata": {
        "id": "UqguGxMrX9rd"
      },
      "source": [
        "#Loading Data\n",
        "Drugscom_train = pd.read_csv('Medicines-and-Common-Treatment-Recommendation-System/Drugscom/drugsComTrain_raw.tsv',sep='\\t',parse_dates=['date'])\n",
        "Drugscom_test = pd.read_csv('Medicines-and-Common-Treatment-Recommendation-System/Drugscom/drugsComTest_raw.tsv',sep='\\t',parse_dates=['date'])"
      ],
      "execution_count": 4,
      "outputs": []
    },
    {
      "cell_type": "code",
      "metadata": {
        "colab": {
          "base_uri": "https://localhost:8080/"
        },
        "id": "rBAIUBVFYBMW",
        "outputId": "3f747c9a-c795-4970-d27c-83e83e5bd0b5"
      },
      "source": [
        "#Data set shape\n",
        "print(\"Drugscom Train shape :\" ,Drugscom_train.shape)\n",
        "print(\"Drugscom Test shape :\", Drugscom_test.shape)"
      ],
      "execution_count": 5,
      "outputs": [
        {
          "output_type": "stream",
          "text": [
            "Drugscom Train shape : (161297, 7)\n",
            "Drugscom Test shape : (53766, 7)\n"
          ],
          "name": "stdout"
        }
      ]
    },
    {
      "cell_type": "markdown",
      "metadata": {
        "id": "7tPK5A72HJuY"
      },
      "source": [
        "Currently the size of the training and testing dataset is huge which is causing the processor to crash. Therefore reducing the training and test data to 65%"
      ]
    },
    {
      "cell_type": "code",
      "metadata": {
        "id": "dInl4yY8HCST"
      },
      "source": [
        "# Reducing the data to 65%\n",
        "\n",
        "#Drugscom_train=Drugscom_train.head(56500)\n",
        "#Drugscom_test=Drugscom_test.head(18818)"
      ],
      "execution_count": 6,
      "outputs": []
    },
    {
      "cell_type": "code",
      "metadata": {
        "colab": {
          "base_uri": "https://localhost:8080/"
        },
        "id": "yKiriYPIYDFY",
        "outputId": "610d3a44-3e96-4656-c0ec-ac880a010f3a"
      },
      "source": [
        "#Data information\n",
        "print(\"Training Data information :\")\n",
        "Drugscom_train.info()"
      ],
      "execution_count": 7,
      "outputs": [
        {
          "output_type": "stream",
          "text": [
            "Training Data information :\n",
            "<class 'pandas.core.frame.DataFrame'>\n",
            "RangeIndex: 56500 entries, 0 to 56499\n",
            "Data columns (total 7 columns):\n",
            " #   Column       Non-Null Count  Dtype         \n",
            "---  ------       --------------  -----         \n",
            " 0   Unnamed: 0   56500 non-null  int64         \n",
            " 1   drugName     56500 non-null  object        \n",
            " 2   condition    56152 non-null  object        \n",
            " 3   review       56500 non-null  object        \n",
            " 4   rating       56500 non-null  float64       \n",
            " 5   date         56500 non-null  datetime64[ns]\n",
            " 6   usefulCount  56500 non-null  int64         \n",
            "dtypes: datetime64[ns](1), float64(1), int64(2), object(3)\n",
            "memory usage: 3.0+ MB\n"
          ],
          "name": "stdout"
        }
      ]
    },
    {
      "cell_type": "code",
      "metadata": {
        "colab": {
          "base_uri": "https://localhost:8080/"
        },
        "id": "sWipAMQQYFDs",
        "outputId": "11a991d0-2bf5-47e0-d41d-6dea41fdd288"
      },
      "source": [
        "print(\"Test Data information :\")\n",
        "Drugscom_test.info()"
      ],
      "execution_count": 8,
      "outputs": [
        {
          "output_type": "stream",
          "text": [
            "Test Data information :\n",
            "<class 'pandas.core.frame.DataFrame'>\n",
            "RangeIndex: 18818 entries, 0 to 18817\n",
            "Data columns (total 7 columns):\n",
            " #   Column       Non-Null Count  Dtype         \n",
            "---  ------       --------------  -----         \n",
            " 0   Unnamed: 0   18818 non-null  int64         \n",
            " 1   drugName     18818 non-null  object        \n",
            " 2   condition    18725 non-null  object        \n",
            " 3   review       18818 non-null  object        \n",
            " 4   rating       18818 non-null  float64       \n",
            " 5   date         18818 non-null  datetime64[ns]\n",
            " 6   usefulCount  18818 non-null  int64         \n",
            "dtypes: datetime64[ns](1), float64(1), int64(2), object(3)\n",
            "memory usage: 1.0+ MB\n"
          ],
          "name": "stdout"
        }
      ]
    },
    {
      "cell_type": "code",
      "metadata": {
        "id": "gOKQdlm2YGd4"
      },
      "source": [
        "#Changing the \"Unnamed: 0\" column to uniqueId as it represents the unique id of the drugs\n",
        "Drugscom_train=Drugscom_train.rename(columns={'Unnamed: 0' : 'uniqueId'})\n",
        "Drugscom_test=Drugscom_test.rename(columns={'Unnamed: 0' : 'uniqueId'})"
      ],
      "execution_count": 9,
      "outputs": []
    },
    {
      "cell_type": "markdown",
      "metadata": {
        "id": "ffBu5EjPYMB_"
      },
      "source": [
        "### Data Cleaning"
      ]
    },
    {
      "cell_type": "markdown",
      "metadata": {
        "id": "wGXChwkzYVuq"
      },
      "source": [
        "#### 1. Checking for missing values"
      ]
    },
    {
      "cell_type": "code",
      "metadata": {
        "colab": {
          "base_uri": "https://localhost:8080/"
        },
        "id": "vwOhc5QeYJTA",
        "outputId": "ae3d6479-8674-4984-abcf-6cd370bcf934"
      },
      "source": [
        "# Checking for training data null values\n",
        "Drugscom_train.isnull().sum()"
      ],
      "execution_count": 10,
      "outputs": [
        {
          "output_type": "execute_result",
          "data": {
            "text/plain": [
              "uniqueId         0\n",
              "drugName         0\n",
              "condition      348\n",
              "review           0\n",
              "rating           0\n",
              "date             0\n",
              "usefulCount      0\n",
              "dtype: int64"
            ]
          },
          "metadata": {
            "tags": []
          },
          "execution_count": 10
        }
      ]
    },
    {
      "cell_type": "code",
      "metadata": {
        "colab": {
          "base_uri": "https://localhost:8080/",
          "height": 613
        },
        "id": "XYYyagvdY2Co",
        "outputId": "9e14d66c-a12a-464b-8c98-87925218bcc5"
      },
      "source": [
        "#visualization for training data null values(Visualization)\n",
        "fig, ax = plt.subplots(figsize=(20,10))         # Sample figsize in inches\n",
        "sns.heatmap(Drugscom_train.isnull(),yticklabels=False,cbar=True,cmap='viridis', ax=ax)"
      ],
      "execution_count": 11,
      "outputs": [
        {
          "output_type": "execute_result",
          "data": {
            "text/plain": [
              "<matplotlib.axes._subplots.AxesSubplot at 0x7f6c5fbe52d0>"
            ]
          },
          "metadata": {
            "tags": []
          },
          "execution_count": 11
        },
        {
          "output_type": "display_data",
          "data": {
            "image/png": "[encoded data removed]",
            "text/plain": [
              "<Figure size 1440x720 with 2 Axes>"
            ]
          },
          "metadata": {
            "tags": [],
            "needs_background": "light"
          }
        }
      ]
    },
    {
      "cell_type": "code",
      "metadata": {
        "colab": {
          "base_uri": "https://localhost:8080/"
        },
        "id": "Qb2M805MYqqA",
        "outputId": "719bce2e-85c5-473d-e64e-156dc72e6ab2"
      },
      "source": [
        "# Checking for testing data null values\n",
        "Drugscom_test.isnull().sum()"
      ],
      "execution_count": 12,
      "outputs": [
        {
          "output_type": "execute_result",
          "data": {
            "text/plain": [
              "uniqueId        0\n",
              "drugName        0\n",
              "condition      93\n",
              "review          0\n",
              "rating          0\n",
              "date            0\n",
              "usefulCount     0\n",
              "dtype: int64"
            ]
          },
          "metadata": {
            "tags": []
          },
          "execution_count": 12
        }
      ]
    },
    {
      "cell_type": "code",
      "metadata": {
        "colab": {
          "base_uri": "https://localhost:8080/",
          "height": 613
        },
        "id": "zsYg9GpDYutk",
        "outputId": "f03f3475-1935-4606-8e99-723c19e5e106"
      },
      "source": [
        "#visualization for testing data null values\n",
        "fig, ax = plt.subplots(figsize=(20,10))         # Sample figsize in inches\n",
        "sns.heatmap(Drugscom_test.isnull(),yticklabels=False,cbar=True,cmap='viridis', ax=ax)"
      ],
      "execution_count": 13,
      "outputs": [
        {
          "output_type": "execute_result",
          "data": {
            "text/plain": [
              "<matplotlib.axes._subplots.AxesSubplot at 0x7f6c5ef64590>"
            ]
          },
          "metadata": {
            "tags": []
          },
          "execution_count": 13
        },
        {
          "output_type": "display_data",
          "data": {
            "image/png": "[encoded data removed]",
            "text/plain": [
              "<Figure size 1440x720 with 2 Axes>"
            ]
          },
          "metadata": {
            "tags": [],
            "needs_background": "light"
          }
        }
      ]
    },
    {
      "cell_type": "markdown",
      "metadata": {
        "id": "0lWyBr4rZvdf"
      },
      "source": [
        "It seems both the training and testing data have null values. Dropping the null values."
      ]
    },
    {
      "cell_type": "code",
      "metadata": {
        "id": "aDw1Lz9-Zeoy"
      },
      "source": [
        "# Dropping null values\n",
        "Drugscom_train = Drugscom_train.dropna(axis=0)\n",
        "Drugscom_test = Drugscom_test.dropna(axis=0)"
      ],
      "execution_count": 14,
      "outputs": []
    },
    {
      "cell_type": "code",
      "metadata": {
        "colab": {
          "base_uri": "https://localhost:8080/",
          "height": 613
        },
        "id": "5jkxqKYDaKCO",
        "outputId": "bc54a84c-0d2b-41e1-b375-561d55a09036"
      },
      "source": [
        "#visualization for training data null values\n",
        "fig, ax = plt.subplots(figsize=(20,10))         # Sample figsize in inches\n",
        "sns.heatmap(Drugscom_train.isnull(),yticklabels=False,cbar=True,cmap='viridis', ax=ax)"
      ],
      "execution_count": 15,
      "outputs": [
        {
          "output_type": "execute_result",
          "data": {
            "text/plain": [
              "<matplotlib.axes._subplots.AxesSubplot at 0x7f6c5f971810>"
            ]
          },
          "metadata": {
            "tags": []
          },
          "execution_count": 15
        },
        {
          "output_type": "display_data",
          "data": {
            "image/png": "[encoded data removed]",
            "text/plain": [
              "<Figure size 1440x720 with 2 Axes>"
            ]
          },
          "metadata": {
            "tags": [],
            "needs_background": "light"
          }
        }
      ]
    },
    {
      "cell_type": "code",
      "metadata": {
        "colab": {
          "base_uri": "https://localhost:8080/",
          "height": 613
        },
        "id": "FL3QNQEyaMga",
        "outputId": "e7b0964f-3ba4-4cca-f432-e4ec8b8741fb"
      },
      "source": [
        "#visualization for testing data null values\n",
        "fig, ax = plt.subplots(figsize=(20,10))         # Sample figsize in inches\n",
        "sns.heatmap(Drugscom_test.isnull(),yticklabels=False,cbar=True,cmap='viridis', ax=ax)"
      ],
      "execution_count": 16,
      "outputs": [
        {
          "output_type": "execute_result",
          "data": {
            "text/plain": [
              "<matplotlib.axes._subplots.AxesSubplot at 0x7f6c5fc5cc90>"
            ]
          },
          "metadata": {
            "tags": []
          },
          "execution_count": 16
        },
        {
          "output_type": "display_data",
          "data": {
            "image/png": "[encoded data removed]",
            "text/plain": [
              "<Figure size 1440x720 with 2 Axes>"
            ]
          },
          "metadata": {
            "tags": [],
            "needs_background": "light"
          }
        }
      ]
    },
    {
      "cell_type": "markdown",
      "metadata": {
        "id": "ajfVnPnBavxk"
      },
      "source": [
        "Now, there are no null values present in the training and testing data."
      ]
    },
    {
      "cell_type": "markdown",
      "metadata": {
        "id": "BO2OeAlea8TD"
      },
      "source": [
        "#### 2. Conditions Preprocessing "
      ]
    },
    {
      "cell_type": "markdown",
      "metadata": {
        "id": "dgsSXuUjbIKs"
      },
      "source": [
        "Looking into the conditions column"
      ]
    },
    {
      "cell_type": "code",
      "metadata": {
        "colab": {
          "base_uri": "https://localhost:8080/"
        },
        "id": "5o9tJPSYbD5U",
        "outputId": "00c8ecc1-767a-4c00-c471-20b0530402e2"
      },
      "source": [
        "# Conditions for training data\n",
        "Drugscom_train.condition.sort_values()"
      ],
      "execution_count": 17,
      "outputs": [
        {
          "output_type": "execute_result",
          "data": {
            "text/plain": [
              "571      0</span> users found this comment helpful.\n",
              "42822    0</span> users found this comment helpful.\n",
              "12332    0</span> users found this comment helpful.\n",
              "6337     0</span> users found this comment helpful.\n",
              "10659    0</span> users found this comment helpful.\n",
              "                            ...                    \n",
              "48887                      von Willebrand's Disease\n",
              "43023                      von Willebrand's Disease\n",
              "13280                                   zen Shoulde\n",
              "49920                                   zen Shoulde\n",
              "49083                                   zen Shoulde\n",
              "Name: condition, Length: 56152, dtype: object"
            ]
          },
          "metadata": {
            "tags": []
          },
          "execution_count": 17
        }
      ]
    },
    {
      "cell_type": "markdown",
      "metadata": {
        "id": "yeiOGsOOb7MI"
      },
      "source": [
        "From above output we can see that there are some irrelevant conditions such as \"0 < /span> users found this comment helpful.\", which are not useful for recommednation system. Therefore, removing such conditions from the data."
      ]
    },
    {
      "cell_type": "code",
      "metadata": {
        "id": "5LrZCSsSbrZv"
      },
      "source": [
        "def eliminate_span(df):\n",
        "  # getting the index of data\n",
        "  index_list = set(df.index)\n",
        "  # Below list will store the index for the conditions that </span> in it.\n",
        "  spanlist = []\n",
        "  for i,j in enumerate(df['condition']):\n",
        "      if '</span>' in j:\n",
        "          spanlist.append(i)\n",
        "\n",
        "  #Creating new index list that does not contain the spanlist indexes.\n",
        "  new_idx_list = index_list.difference(set(spanlist))\n",
        "  df = df.loc[list(new_idx_list)].reset_index()\n",
        "  del df['index']\n",
        "  return df"
      ],
      "execution_count": 18,
      "outputs": []
    },
    {
      "cell_type": "code",
      "metadata": {
        "id": "odiG_nD_dS2O"
      },
      "source": [
        "Drugscom_train=eliminate_span(Drugscom_train)\n",
        "Drugscom_test=eliminate_span(Drugscom_test)"
      ],
      "execution_count": 19,
      "outputs": []
    },
    {
      "cell_type": "markdown",
      "metadata": {
        "id": "BGDHyVMEvtbA"
      },
      "source": [
        "Now checking for the conditions that contains only one drug."
      ]
    },
    {
      "cell_type": "code",
      "metadata": {
        "colab": {
          "base_uri": "https://localhost:8080/",
          "height": 662
        },
        "id": "REW6Bz_lv5qe",
        "outputId": "1bea74f5-d18e-4c23-fc74-e76b04f210d4"
      },
      "source": [
        " pd.DataFrame(Drugscom_train.groupby(['condition'])['drugName'].nunique().sort_values(ascending=False)).reset_index().tail(20)"
      ],
      "execution_count": 20,
      "outputs": [
        {
          "output_type": "execute_result",
          "data": {
            "text/html": [
              "<div>\n",
              "<style scoped>\n",
              "    .dataframe tbody tr th:only-of-type {\n",
              "        vertical-align: middle;\n",
              "    }\n",
              "\n",
              "    .dataframe tbody tr th {\n",
              "        vertical-align: top;\n",
              "    }\n",
              "\n",
              "    .dataframe thead th {\n",
              "        text-align: right;\n",
              "    }\n",
              "</style>\n",
              "<table border=\"1\" class=\"dataframe\">\n",
              "  <thead>\n",
              "    <tr style=\"text-align: right;\">\n",
              "      <th></th>\n",
              "      <th>condition</th>\n",
              "      <th>drugName</th>\n",
              "    </tr>\n",
              "  </thead>\n",
              "  <tbody>\n",
              "    <tr>\n",
              "      <th>688</th>\n",
              "      <td>Neurosis</td>\n",
              "      <td>1</td>\n",
              "    </tr>\n",
              "    <tr>\n",
              "      <th>689</th>\n",
              "      <td>Gastritis/Duodenitis</td>\n",
              "      <td>1</td>\n",
              "    </tr>\n",
              "    <tr>\n",
              "      <th>690</th>\n",
              "      <td>Lipodystrophy</td>\n",
              "      <td>1</td>\n",
              "    </tr>\n",
              "    <tr>\n",
              "      <th>691</th>\n",
              "      <td>Gastrointestinal Stromal Tum</td>\n",
              "      <td>1</td>\n",
              "    </tr>\n",
              "    <tr>\n",
              "      <th>692</th>\n",
              "      <td>Cardiovascular Risk Reduction</td>\n",
              "      <td>1</td>\n",
              "    </tr>\n",
              "    <tr>\n",
              "      <th>693</th>\n",
              "      <td>Gaucher Disease</td>\n",
              "      <td>1</td>\n",
              "    </tr>\n",
              "    <tr>\n",
              "      <th>694</th>\n",
              "      <td>Niacin Deficiency</td>\n",
              "      <td>1</td>\n",
              "    </tr>\n",
              "    <tr>\n",
              "      <th>695</th>\n",
              "      <td>Giant Cell Tumor of Bone</td>\n",
              "      <td>1</td>\n",
              "    </tr>\n",
              "    <tr>\n",
              "      <th>696</th>\n",
              "      <td>Cachexia</td>\n",
              "      <td>1</td>\n",
              "    </tr>\n",
              "    <tr>\n",
              "      <th>697</th>\n",
              "      <td>Urinary Retention</td>\n",
              "      <td>1</td>\n",
              "    </tr>\n",
              "    <tr>\n",
              "      <th>698</th>\n",
              "      <td>Surgical Prophylaxis</td>\n",
              "      <td>1</td>\n",
              "    </tr>\n",
              "    <tr>\n",
              "      <th>699</th>\n",
              "      <td>Nightmares</td>\n",
              "      <td>1</td>\n",
              "    </tr>\n",
              "    <tr>\n",
              "      <th>700</th>\n",
              "      <td>Glaucoma/Intraocular Hypertension</td>\n",
              "      <td>1</td>\n",
              "    </tr>\n",
              "    <tr>\n",
              "      <th>701</th>\n",
              "      <td>Reiter's Syndrome</td>\n",
              "      <td>1</td>\n",
              "    </tr>\n",
              "    <tr>\n",
              "      <th>702</th>\n",
              "      <td>Noninfectious Colitis</td>\n",
              "      <td>1</td>\n",
              "    </tr>\n",
              "    <tr>\n",
              "      <th>703</th>\n",
              "      <td>Radionuclide Myocardial Perfusion Study</td>\n",
              "      <td>1</td>\n",
              "    </tr>\n",
              "    <tr>\n",
              "      <th>704</th>\n",
              "      <td>Q Feve</td>\n",
              "      <td>1</td>\n",
              "    </tr>\n",
              "    <tr>\n",
              "      <th>705</th>\n",
              "      <td>Breast Cancer, Prevention</td>\n",
              "      <td>1</td>\n",
              "    </tr>\n",
              "    <tr>\n",
              "      <th>706</th>\n",
              "      <td>Ocular Rosacea</td>\n",
              "      <td>1</td>\n",
              "    </tr>\n",
              "    <tr>\n",
              "      <th>707</th>\n",
              "      <td>Ichthyosis</td>\n",
              "      <td>1</td>\n",
              "    </tr>\n",
              "  </tbody>\n",
              "</table>\n",
              "</div>"
            ],
            "text/plain": [
              "                                   condition  drugName\n",
              "688                                 Neurosis         1\n",
              "689                     Gastritis/Duodenitis         1\n",
              "690                            Lipodystrophy         1\n",
              "691             Gastrointestinal Stromal Tum         1\n",
              "692            Cardiovascular Risk Reduction         1\n",
              "693                          Gaucher Disease         1\n",
              "694                        Niacin Deficiency         1\n",
              "695                 Giant Cell Tumor of Bone         1\n",
              "696                                 Cachexia         1\n",
              "697                        Urinary Retention         1\n",
              "698                     Surgical Prophylaxis         1\n",
              "699                               Nightmares         1\n",
              "700        Glaucoma/Intraocular Hypertension         1\n",
              "701                        Reiter's Syndrome         1\n",
              "702                    Noninfectious Colitis         1\n",
              "703  Radionuclide Myocardial Perfusion Study         1\n",
              "704                                   Q Feve         1\n",
              "705                Breast Cancer, Prevention         1\n",
              "706                           Ocular Rosacea         1\n",
              "707                               Ichthyosis         1"
            ]
          },
          "metadata": {
            "tags": []
          },
          "execution_count": 20
        }
      ]
    },
    {
      "cell_type": "markdown",
      "metadata": {
        "id": "3p22nxx63Xd0"
      },
      "source": [
        "We will  remove the conditions that have only one drug available as recommendation system will recommend the same medicine and it won't be based on the customer reviews."
      ]
    },
    {
      "cell_type": "code",
      "metadata": {
        "id": "ZieS6euQwBha"
      },
      "source": [
        "def eliminate_single_drug(df):\n",
        "\n",
        "  df_single_drug=pd.DataFrame(df.groupby(['condition'])['drugName'].nunique().sort_values(ascending=False))\n",
        "  df_single_drug=df_single_drug.reset_index()\n",
        "\n",
        "  df_single_condition=df_single_drug[df_single_drug['drugName']== 1]\n",
        "  df_single_condition=df_single_condition.reset_index()\n",
        "\n",
        "  # getting the index of data\n",
        "  index_list=set(df.index)\n",
        "\n",
        "  # Below list will store the index for the conditions that have single drug\n",
        "  cond_list=[]\n",
        "\n",
        "  for i,j in enumerate(df['condition']):\n",
        "    for c in list(df_single_condition['condition']):\n",
        "        if j == c:\n",
        "            cond_list.append(i)\n",
        "  #Creating new index list that does not contain the spanlist indexes.\n",
        "  new_idx_list = index_list.difference(set(cond_list))\n",
        "  df = df.loc[list(new_idx_list)].reset_index()\n",
        "  del df['index']\n",
        "  return df"
      ],
      "execution_count": 21,
      "outputs": []
    },
    {
      "cell_type": "code",
      "metadata": {
        "id": "vEL4Rw3t4D_8"
      },
      "source": [
        "Drugscom_train=eliminate_single_drug(Drugscom_train)\n",
        "Drugscom_test=eliminate_single_drug(Drugscom_test)\n"
      ],
      "execution_count": 22,
      "outputs": []
    },
    {
      "cell_type": "code",
      "metadata": {
        "colab": {
          "base_uri": "https://localhost:8080/"
        },
        "id": "G5ecKgHVJcuw",
        "outputId": "98c043fb-e042-4ac0-dbc8-37f245550549"
      },
      "source": [
        "#New dataframe size \n",
        "\n",
        "#Data set shape\n",
        "print(\"Drugscom Train shape :\" ,Drugscom_train.shape)\n",
        "print(\"Drugscom Test shape :\", Drugscom_test.shape)"
      ],
      "execution_count": 23,
      "outputs": [
        {
          "output_type": "stream",
          "text": [
            "Drugscom Train shape : (55488, 7)\n",
            "Drugscom Test shape : (18358, 7)\n"
          ],
          "name": "stdout"
        }
      ]
    },
    {
      "cell_type": "markdown",
      "metadata": {
        "id": "H1FKLP8MSMpJ"
      },
      "source": [
        "#### 3. Reviews Preprocessing"
      ]
    },
    {
      "cell_type": "code",
      "metadata": {
        "colab": {
          "base_uri": "https://localhost:8080/"
        },
        "id": "jDDc37vISUDc",
        "outputId": "ef383b76-0db5-4afa-9fa7-a5476827aa56"
      },
      "source": [
        "#Loading additional libraties\n",
        "import nltk\n",
        "nltk.download('stopwords')\n",
        "from nltk.corpus import stopwords\n",
        "from nltk.stem.snowball import SnowballStemmer\n",
        "from bs4 import BeautifulSoup\n",
        "import re\n"
      ],
      "execution_count": 37,
      "outputs": [
        {
          "output_type": "stream",
          "text": [
            "[nltk_data] Downloading package stopwords to /root/nltk_data...\n",
            "[nltk_data]   Package stopwords is already up-to-date!\n"
          ],
          "name": "stdout"
        }
      ]
    },
    {
      "cell_type": "code",
      "metadata": {
        "id": "ReYJ9GPkTVB7"
      },
      "source": [
        "stop_words=set(stopwords.words('english'))"
      ],
      "execution_count": 38,
      "outputs": []
    },
    {
      "cell_type": "markdown",
      "metadata": {
        "id": "-i1LaYHdT77N"
      },
      "source": [
        "There are also terms that contain the word \"not,\" such as \"needn't.\" Since these terms are essential components of emotional analysis, we will delete them from the list of stopwords."
      ]
    },
    {
      "cell_type": "code",
      "metadata": {
        "id": "Xay1nsSaTgCf"
      },
      "source": [
        "remove_stopwords = [\"isn't\",\"mightn't\",\"mustn't\",\"needn't\",\"no\",\"nor\",\"not\",\"shan't\",\"shouldn't\",\"wasn't\",\"weren't\",\"wouldn't\",\"aren't\",\"couldn't\",\"didn't\",\"doesn't\",\"don't\",\"hadn't\",\"hasn't\",\"haven't\"]\n",
        "for i in remove_stopwords:\n",
        "    stop_words.remove(i)"
      ],
      "execution_count": 39,
      "outputs": []
    },
    {
      "cell_type": "markdown",
      "metadata": {
        "id": "i_3t0TpfUocA"
      },
      "source": [
        "##### Stemming \n",
        "\n"
      ]
    },
    {
      "cell_type": "markdown",
      "metadata": {
        "id": "0E1_9R4TU4ii"
      },
      "source": [
        "Stemming is the process of reducing a word to its base word or stem in such a manner that related words are grouped together under a single stem. Here, I am using snowball stemmer from nltk also known as Porter2 stemmer which is a better version of Porter Stemmer."
      ]
    },
    {
      "cell_type": "code",
      "metadata": {
        "id": "zkrOW1lbUPWp"
      },
      "source": [
        "stemmer = SnowballStemmer('english')"
      ],
      "execution_count": 40,
      "outputs": []
    },
    {
      "cell_type": "code",
      "metadata": {
        "id": "kjOrQiqoVa9K"
      },
      "source": [
        "def clean_review(review):\n",
        "\n",
        "\n",
        "    # Delete html content \n",
        "    text = BeautifulSoup(review, 'html.parser').get_text()\n",
        "\n",
        "    # inserting space\n",
        "    text = re.sub('[^a-zA-Z]', ' ', text)\n",
        "\n",
        "    # changing into lower case\n",
        "    text = text.lower().split()\n",
        "\n",
        "    # removing stopwords \n",
        "    text = [w for w in text if not w in stop_words]\n",
        "\n",
        "    # stemming words\n",
        "    stem_words = [stemmer.stem(w) for w in text]\n",
        "\n",
        "    # joining words with space\n",
        "    stem_words=' '.join(stem_words)\n",
        "\n",
        "    return stem_words"
      ],
      "execution_count": 43,
      "outputs": []
    },
    {
      "cell_type": "code",
      "metadata": {
        "id": "CJNxRS1nWdtq"
      },
      "source": [
        "Drugscom_train['clean_review']=Drugscom_train['review'].apply(clean_review)\n",
        "Drugscom_test['clean_review']=Drugscom_test['review'].apply(clean_review)"
      ],
      "execution_count": 44,
      "outputs": []
    },
    {
      "cell_type": "code",
      "metadata": {
        "id": "GP7-S552W1Wd"
      },
      "source": [
        "#Saving preprocessed training and testing data to github repository\n",
        "Drugscom_train.to_csv('Medicines-and-Common-Treatment-Recommendation-System/Drugscom_train.csv')\n",
        "Drugscom_test.to_csv('Medicines-and-Common-Treatment-Recommendation-System/Drugscom_test.csv')"
      ],
      "execution_count": 46,
      "outputs": []
    },
    {
      "cell_type": "code",
      "metadata": {
        "colab": {
          "base_uri": "https://localhost:8080/"
        },
        "id": "9jogvYC6YA0z",
        "outputId": "fb32a883-9d05-43d9-f59d-b747f3a67d71"
      },
      "source": [
        "ls Medicines-and-Common-Treatment-Recommendation-System/\n"
      ],
      "execution_count": 48,
      "outputs": [
        {
          "output_type": "stream",
          "text": [
            "'Druglib_com Data Exploration.ipynb'   Drugscom_train.csv\n",
            " Druglib_com.ipynb                     \u001b[0m\u001b[01;34mDrugsLib\u001b[0m/\n",
            " \u001b[01;34mDrugscom\u001b[0m/                             README.md\n",
            " Drugscom_data_exploration.ipynb       Webmd_Data_Exploration.ipynb\n",
            " Drugscom_test.csv\n"
          ],
          "name": "stdout"
        }
      ]
    },
    {
      "cell_type": "code",
      "metadata": {
        "id": "RBk-0CNRYCTS"
      },
      "source": [
        ""
      ],
      "execution_count": null,
      "outputs": []
    }
  ]
}