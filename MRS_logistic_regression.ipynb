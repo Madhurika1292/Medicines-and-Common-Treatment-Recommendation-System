{
  "nbformat": 4,
  "nbformat_minor": 0,
  "metadata": {
    "colab": {
      "name": "MRS logistic regression.ipynb",
      "provenance": [],
      "authorship_tag": "ABX9TyNANmDb8azX24vULKB3ij8y",
      "include_colab_link": true
    },
    "kernelspec": {
      "name": "python3",
      "display_name": "Python 3"
    },
    "language_info": {
      "name": "python"
    }
  },
  "cells": [
    {
      "cell_type": "markdown",
      "metadata": {
        "id": "view-in-github",
        "colab_type": "text"
      },
      "source": [
        "<a href=\"https://colab.research.google.com/github/Madhurika1292/Medicines-and-Common-Treatment-Recommendation-System/blob/main/MRS_logistic_regression.ipynb\" target=\"_parent\"><img src=\"https://colab.research.google.com/assets/colab-badge.svg\" alt=\"Open In Colab\"/></a>"
      ]
    },
    {
      "cell_type": "markdown",
      "metadata": {
        "id": "HNJqFsJPoatg"
      },
      "source": [
        "# Medicine Recommendation System"
      ]
    },
    {
      "cell_type": "markdown",
      "metadata": {
        "id": "hji-qOi3osdn"
      },
      "source": [
        "## Loading libraries"
      ]
    },
    {
      "cell_type": "code",
      "metadata": {
        "id": "7HTxLqw6owTc"
      },
      "source": [
        "import pandas as pd\n",
        "import numpy as np\n",
        "import matplotlib.pyplot as plt\n",
        "import seaborn as sns\n",
        "from sklearn import naive_bayes\n",
        "from sklearn.linear_model import LogisticRegression\n",
        "from sklearn.feature_extraction.text import CountVectorizer\n",
        "from sklearn.naive_bayes import GaussianNB\n",
        "from sklearn.metrics import precision_score, recall_score, precision_recall_curve,f1_score, fbeta_score\n",
        "from sklearn.preprocessing import StandardScaler\n",
        "from sklearn.metrics import accuracy_score, confusion_matrix, roc_curve, roc_auc_score, make_scorer\n",
        "from sklearn.pipeline import Pipeline\n",
        "from sklearn.model_selection import GridSearchCV\n",
        "from sklearn.naive_bayes import MultinomialNB\n",
        "\n"
      ],
      "execution_count": 1,
      "outputs": []
    },
    {
      "cell_type": "markdown",
      "metadata": {
        "id": "u-gdkQIToq68"
      },
      "source": [
        "## Data Loading"
      ]
    },
    {
      "cell_type": "code",
      "metadata": {
        "colab": {
          "base_uri": "https://localhost:8080/"
        },
        "id": "hL8BrGe0o3EL",
        "outputId": "2d5008dc-427a-4e20-fb3e-f398f11803a4"
      },
      "source": [
        "# Importing dataset from drive\n",
        "from google.colab import drive\n",
        "drive.mount('/content/gdrive/')\n",
        "\n",
        "import sys\n",
        "sys.path.append('/content/gdrive/My Drive/Drugscom')"
      ],
      "execution_count": 2,
      "outputs": [
        {
          "output_type": "stream",
          "text": [
            "Drive already mounted at /content/gdrive/; to attempt to forcibly remount, call drive.mount(\"/content/gdrive/\", force_remount=True).\n"
          ],
          "name": "stdout"
        }
      ]
    },
    {
      "cell_type": "code",
      "metadata": {
        "colab": {
          "base_uri": "https://localhost:8080/"
        },
        "id": "IuTfErhZpB2Y",
        "outputId": "3c11e286-bfc7-4bf1-a611-ce66bbc998a4"
      },
      "source": [
        "!ls gdrive/MyDrive/Drugscom/"
      ],
      "execution_count": 3,
      "outputs": [
        {
          "output_type": "stream",
          "text": [
            "Drugscom_test.csv     Drugscom_train.csv\n",
            "drugsComTest_raw.csv  drugsComTrain_raw.csv\n"
          ],
          "name": "stdout"
        }
      ]
    },
    {
      "cell_type": "code",
      "metadata": {
        "id": "Lt9ueg3mpGKa"
      },
      "source": [
        "#Loading data\n",
        "Drugscom_train=pd.read_csv('/content/gdrive/My Drive/Drugscom/Drugscom_train.csv')\n",
        "Drugscom_test=pd.read_csv('/content/gdrive/My Drive/Drugscom/Drugscom_test.csv')"
      ],
      "execution_count": 4,
      "outputs": []
    },
    {
      "cell_type": "code",
      "metadata": {
        "colab": {
          "base_uri": "https://localhost:8080/"
        },
        "id": "YzbzM6bgp8q5",
        "outputId": "103d32c3-c165-4b94-d839-8b3d214ec986"
      },
      "source": [
        "#Before\n",
        "# checking for null values\n",
        "Drugscom_train.isnull().sum()"
      ],
      "execution_count": 5,
      "outputs": [
        {
          "output_type": "execute_result",
          "data": {
            "text/plain": [
              "Unnamed: 0      0\n",
              "uniqueId        0\n",
              "drugName        0\n",
              "condition       0\n",
              "review          0\n",
              "rating          0\n",
              "date            0\n",
              "usefulCount     0\n",
              "treatments      0\n",
              "clean_review    6\n",
              "dtype: int64"
            ]
          },
          "metadata": {
            "tags": []
          },
          "execution_count": 5
        }
      ]
    },
    {
      "cell_type": "code",
      "metadata": {
        "colab": {
          "base_uri": "https://localhost:8080/"
        },
        "id": "pONVgsLQqAkG",
        "outputId": "53e8c3fb-f076-4eea-836f-6da127c91af0"
      },
      "source": [
        "# checking for null values\n",
        "Drugscom_test.isnull().sum()"
      ],
      "execution_count": 6,
      "outputs": [
        {
          "output_type": "execute_result",
          "data": {
            "text/plain": [
              "Unnamed: 0      0\n",
              "uniqueId        0\n",
              "drugName        0\n",
              "condition       0\n",
              "review          0\n",
              "rating          0\n",
              "date            0\n",
              "usefulCount     0\n",
              "treatments      0\n",
              "clean_review    2\n",
              "dtype: int64"
            ]
          },
          "metadata": {
            "tags": []
          },
          "execution_count": 6
        }
      ]
    },
    {
      "cell_type": "code",
      "metadata": {
        "id": "otmEmTlfqCnT"
      },
      "source": [
        "# Dropping null values\n",
        "Drugscom_train = Drugscom_train.dropna(axis=0)\n",
        "Drugscom_test = Drugscom_test.dropna(axis=0)"
      ],
      "execution_count": 7,
      "outputs": []
    },
    {
      "cell_type": "code",
      "metadata": {
        "colab": {
          "base_uri": "https://localhost:8080/"
        },
        "id": "pTG6fY7HqEsX",
        "outputId": "85b7e0d0-833a-4ac2-b7ef-556625c53030"
      },
      "source": [
        "# checking for null values\n",
        "Drugscom_train.isnull().sum()"
      ],
      "execution_count": 8,
      "outputs": [
        {
          "output_type": "execute_result",
          "data": {
            "text/plain": [
              "Unnamed: 0      0\n",
              "uniqueId        0\n",
              "drugName        0\n",
              "condition       0\n",
              "review          0\n",
              "rating          0\n",
              "date            0\n",
              "usefulCount     0\n",
              "treatments      0\n",
              "clean_review    0\n",
              "dtype: int64"
            ]
          },
          "metadata": {
            "tags": []
          },
          "execution_count": 8
        }
      ]
    },
    {
      "cell_type": "code",
      "metadata": {
        "colab": {
          "base_uri": "https://localhost:8080/"
        },
        "id": "exfBZdhCqH-E",
        "outputId": "0fd79e60-8206-4977-e330-9a71251fcb0f"
      },
      "source": [
        "# checking for null values\n",
        "Drugscom_test.isnull().sum()"
      ],
      "execution_count": 9,
      "outputs": [
        {
          "output_type": "execute_result",
          "data": {
            "text/plain": [
              "Unnamed: 0      0\n",
              "uniqueId        0\n",
              "drugName        0\n",
              "condition       0\n",
              "review          0\n",
              "rating          0\n",
              "date            0\n",
              "usefulCount     0\n",
              "treatments      0\n",
              "clean_review    0\n",
              "dtype: int64"
            ]
          },
          "metadata": {
            "tags": []
          },
          "execution_count": 9
        }
      ]
    },
    {
      "cell_type": "code",
      "metadata": {
        "id": "YdDSH8WJqH34"
      },
      "source": [
        "#Changing the \"Unnamed: 0\" column to uniqueId as it represents the unique id of the drugs\n",
        "Drugscom_train=Drugscom_train.drop('Unnamed: 0', axis='columns')\n",
        "Drugscom_test=Drugscom_test.drop('Unnamed: 0', axis='columns')"
      ],
      "execution_count": 10,
      "outputs": []
    },
    {
      "cell_type": "code",
      "metadata": {
        "id": "toO0BFtOqMV8"
      },
      "source": [
        "Drugscom_train=Drugscom_train.drop(Drugscom_train[(Drugscom_train['rating'] > 4.0) & (Drugscom_train['rating'] < 6.0)].index)\n",
        "Drugscom_test=Drugscom_test.drop(Drugscom_test[(Drugscom_test['rating'] > 4.0) & (Drugscom_test['rating'] < 6.0)].index)"
      ],
      "execution_count": 11,
      "outputs": []
    },
    {
      "cell_type": "code",
      "metadata": {
        "id": "kqplEy9uqMRm"
      },
      "source": [
        "Drugscom_train['sentiment'] = np.where(Drugscom_train['rating'] >= 7, '1', '0')\n",
        "Drugscom_test['sentiment'] = np.where(Drugscom_test['rating'] >= 7, '1', '0')"
      ],
      "execution_count": 12,
      "outputs": []
    },
    {
      "cell_type": "code",
      "metadata": {
        "colab": {
          "base_uri": "https://localhost:8080/",
          "height": 272
        },
        "id": "YaB3QvtaqMOd",
        "outputId": "1c341a09-f70f-41fb-c4ff-28797ac6959f"
      },
      "source": [
        "Drugscom_train.head()"
      ],
      "execution_count": 13,
      "outputs": [
        {
          "output_type": "execute_result",
          "data": {
            "text/html": [
              "<div>\n",
              "<style scoped>\n",
              "    .dataframe tbody tr th:only-of-type {\n",
              "        vertical-align: middle;\n",
              "    }\n",
              "\n",
              "    .dataframe tbody tr th {\n",
              "        vertical-align: top;\n",
              "    }\n",
              "\n",
              "    .dataframe thead th {\n",
              "        text-align: right;\n",
              "    }\n",
              "</style>\n",
              "<table border=\"1\" class=\"dataframe\">\n",
              "  <thead>\n",
              "    <tr style=\"text-align: right;\">\n",
              "      <th></th>\n",
              "      <th>uniqueId</th>\n",
              "      <th>drugName</th>\n",
              "      <th>condition</th>\n",
              "      <th>review</th>\n",
              "      <th>rating</th>\n",
              "      <th>date</th>\n",
              "      <th>usefulCount</th>\n",
              "      <th>treatments</th>\n",
              "      <th>clean_review</th>\n",
              "      <th>sentiment</th>\n",
              "    </tr>\n",
              "  </thead>\n",
              "  <tbody>\n",
              "    <tr>\n",
              "      <th>0</th>\n",
              "      <td>131173</td>\n",
              "      <td>A / B Otic</td>\n",
              "      <td>Otitis Media</td>\n",
              "      <td>\"It numbs the pain. It makes my ear feel heavi...</td>\n",
              "      <td>10</td>\n",
              "      <td>2009-09-23</td>\n",
              "      <td>20</td>\n",
              "      <td>ANALGESICS,ANTIBIOTIC THERAPY,Tympanostomy Tub...</td>\n",
              "      <td>numb pain make ear feel heavier least throb su...</td>\n",
              "      <td>1</td>\n",
              "    </tr>\n",
              "    <tr>\n",
              "      <th>1</th>\n",
              "      <td>153899</td>\n",
              "      <td>Amoxicillin</td>\n",
              "      <td>Otitis Media</td>\n",
              "      <td>\"Perforation in my right tympanic membrane (ea...</td>\n",
              "      <td>8</td>\n",
              "      <td>2011-04-12</td>\n",
              "      <td>16</td>\n",
              "      <td>ANALGESICS,ANTIBIOTIC THERAPY,Tympanostomy Tub...</td>\n",
              "      <td>perfor right tympan membran eardrum linger upp...</td>\n",
              "      <td>1</td>\n",
              "    </tr>\n",
              "    <tr>\n",
              "      <th>2</th>\n",
              "      <td>153715</td>\n",
              "      <td>Amoxicillin</td>\n",
              "      <td>Otitis Media</td>\n",
              "      <td>\"This medication did not clear up the infectio...</td>\n",
              "      <td>2</td>\n",
              "      <td>2017-05-31</td>\n",
              "      <td>0</td>\n",
              "      <td>ANALGESICS,ANTIBIOTIC THERAPY,Tympanostomy Tub...</td>\n",
              "      <td>medic not clear infect well notic odorless dis...</td>\n",
              "      <td>0</td>\n",
              "    </tr>\n",
              "    <tr>\n",
              "      <th>3</th>\n",
              "      <td>153780</td>\n",
              "      <td>Amoxicillin</td>\n",
              "      <td>Otitis Media</td>\n",
              "      <td>\"My son who was 7 months old at the time was p...</td>\n",
              "      <td>1</td>\n",
              "      <td>2016-12-09</td>\n",
              "      <td>0</td>\n",
              "      <td>ANALGESICS,ANTIBIOTIC THERAPY,Tympanostomy Tub...</td>\n",
              "      <td>son month old time prescrib amoxicillin ear in...</td>\n",
              "      <td>0</td>\n",
              "    </tr>\n",
              "    <tr>\n",
              "      <th>4</th>\n",
              "      <td>153838</td>\n",
              "      <td>Amoxicillin</td>\n",
              "      <td>Otitis Media</td>\n",
              "      <td>\"This medication works amazingly for ear infec...</td>\n",
              "      <td>9</td>\n",
              "      <td>2013-10-02</td>\n",
              "      <td>12</td>\n",
              "      <td>ANALGESICS,ANTIBIOTIC THERAPY,Tympanostomy Tub...</td>\n",
              "      <td>medic work amaz ear infect ear infect count li...</td>\n",
              "      <td>1</td>\n",
              "    </tr>\n",
              "  </tbody>\n",
              "</table>\n",
              "</div>"
            ],
            "text/plain": [
              "   uniqueId  ... sentiment\n",
              "0    131173  ...         1\n",
              "1    153899  ...         1\n",
              "2    153715  ...         0\n",
              "3    153780  ...         0\n",
              "4    153838  ...         1\n",
              "\n",
              "[5 rows x 10 columns]"
            ]
          },
          "metadata": {
            "tags": []
          },
          "execution_count": 13
        }
      ]
    },
    {
      "cell_type": "code",
      "metadata": {
        "colab": {
          "base_uri": "https://localhost:8080/"
        },
        "id": "hIQm67epqMHs",
        "outputId": "da45be0c-e844-4ea8-e774-52020deff6f6"
      },
      "source": [
        "Drugscom_train.sentiment.value_counts(normalize=True)"
      ],
      "execution_count": 14,
      "outputs": [
        {
          "output_type": "execute_result",
          "data": {
            "text/plain": [
              "1    0.696646\n",
              "0    0.303354\n",
              "Name: sentiment, dtype: float64"
            ]
          },
          "metadata": {
            "tags": []
          },
          "execution_count": 14
        }
      ]
    },
    {
      "cell_type": "code",
      "metadata": {
        "id": "ug-7MkJFqRKC"
      },
      "source": [
        "def specific_condition_data(df,condition):\n",
        "  \n",
        "  return df[df['condition']==condition]"
      ],
      "execution_count": 15,
      "outputs": []
    },
    {
      "cell_type": "markdown",
      "metadata": {
        "id": "ZRaDujZQw1Gn"
      },
      "source": [
        "## Splitting data"
      ]
    },
    {
      "cell_type": "code",
      "metadata": {
        "id": "Hb54owvIu7Cr"
      },
      "source": [
        "training_data=specific_condition_data(Drugscom_train,'Acne')\n",
        "testing_data=specific_condition_data(Drugscom_test,'Acne')"
      ],
      "execution_count": 16,
      "outputs": []
    },
    {
      "cell_type": "code",
      "metadata": {
        "id": "rk2WzekioZoE"
      },
      "source": [
        "X_train=training_data.clean_review\n",
        "y_train=training_data.sentiment\n",
        "X_test=testing_data.clean_review\n",
        "y_test=testing_data.sentiment"
      ],
      "execution_count": 17,
      "outputs": []
    },
    {
      "cell_type": "code",
      "metadata": {
        "id": "T_KDkNr_w4hW"
      },
      "source": [
        "cv = CountVectorizer(max_features = 20000, ngram_range = (4, 4))"
      ],
      "execution_count": 18,
      "outputs": []
    },
    {
      "cell_type": "code",
      "metadata": {
        "id": "AXTxXFYeqCfb"
      },
      "source": [
        "X_train_cv=cv.fit_transform(X_train)\n",
        "X_test_cv=cv.transform(X_test)"
      ],
      "execution_count": 19,
      "outputs": []
    },
    {
      "cell_type": "markdown",
      "metadata": {
        "id": "jmIKapnhFISY"
      },
      "source": [
        "## Model creation"
      ]
    },
    {
      "cell_type": "markdown",
      "metadata": {
        "id": "yP6F-81uJdA7"
      },
      "source": [
        "### Logistic Regression"
      ]
    },
    {
      "cell_type": "code",
      "metadata": {
        "id": "aP9CXustHxCH"
      },
      "source": [
        "def grid_best_parameter(X_train_cv, y_train):\n",
        "\n",
        "  pipe = Pipeline([('classifier' , LogisticRegression())])\n",
        "\n",
        "  param_grid = [\n",
        "    {'classifier' : [LogisticRegression()],\n",
        "     'classifier__penalty' : ['l1', 'l2'],\n",
        "    #'classifier__C' : np.logspace(-20, 20, 50),\n",
        "     'classifier__C' : np.logspace(-50, 50, 100),\n",
        "    'classifier__solver' : ['liblinear','lbfgs']}]\n",
        "\n",
        "  clf = GridSearchCV(pipe, param_grid = param_grid, cv = 50, verbose=True, n_jobs=-1)\n",
        "  best_clf = clf.fit(X_train_cv, y_train)\n",
        "  bp= best_clf.best_estimator_\n",
        "\n",
        "  return bp"
      ],
      "execution_count": 20,
      "outputs": []
    },
    {
      "cell_type": "code",
      "metadata": {
        "colab": {
          "base_uri": "https://localhost:8080/"
        },
        "id": "_Dn7wai-OH1g",
        "outputId": "8108f862-ec20-40ee-ebc8-658236275c5b"
      },
      "source": [
        "grid_best_parameter(X_train_cv,y_train)"
      ],
      "execution_count": 21,
      "outputs": [
        {
          "output_type": "stream",
          "text": [
            "Fitting 50 folds for each of 400 candidates, totalling 20000 fits\n"
          ],
          "name": "stdout"
        },
        {
          "output_type": "stream",
          "text": [
            "[Parallel(n_jobs=-1)]: Using backend LokyBackend with 2 concurrent workers.\n",
            "[Parallel(n_jobs=-1)]: Done 522 tasks      | elapsed:    7.3s\n",
            "[Parallel(n_jobs=-1)]: Done 5322 tasks      | elapsed:  1.1min\n",
            "[Parallel(n_jobs=-1)]: Done 10080 tasks      | elapsed:  2.3min\n",
            "[Parallel(n_jobs=-1)]: Done 11192 tasks      | elapsed:  3.8min\n",
            "[Parallel(n_jobs=-1)]: Done 12396 tasks      | elapsed:  5.4min\n",
            "[Parallel(n_jobs=-1)]: Done 13824 tasks      | elapsed:  7.4min\n",
            "[Parallel(n_jobs=-1)]: Done 15655 tasks      | elapsed:  9.9min\n",
            "[Parallel(n_jobs=-1)]: Done 17810 tasks      | elapsed: 12.9min\n",
            "[Parallel(n_jobs=-1)]: Done 20000 out of 20000 | elapsed: 16.0min finished\n"
          ],
          "name": "stderr"
        },
        {
          "output_type": "execute_result",
          "data": {
            "text/plain": [
              "Pipeline(memory=None,\n",
              "         steps=[('classifier',\n",
              "                 LogisticRegression(C=3.1992671377973845, class_weight=None,\n",
              "                                    dual=False, fit_intercept=True,\n",
              "                                    intercept_scaling=1, l1_ratio=None,\n",
              "                                    max_iter=100, multi_class='auto',\n",
              "                                    n_jobs=None, penalty='l2',\n",
              "                                    random_state=None, solver='liblinear',\n",
              "                                    tol=0.0001, verbose=0, warm_start=False))],\n",
              "         verbose=False)"
            ]
          },
          "metadata": {
            "tags": []
          },
          "execution_count": 21
        }
      ]
    },
    {
      "cell_type": "code",
      "metadata": {
        "id": "RVJqpwyGOGCM"
      },
      "source": [
        "model_lr=LogisticRegression(solver='liblinear',max_iter=100,multi_class='auto',penalty='l2',C=3.2)\n"
      ],
      "execution_count": 22,
      "outputs": []
    },
    {
      "cell_type": "code",
      "metadata": {
        "colab": {
          "base_uri": "https://localhost:8080/"
        },
        "id": "x_II54H5INPh",
        "outputId": "c813f17a-9495-4995-94ae-4dd84eacf2b8"
      },
      "source": [
        "model_lr.fit(X_train_cv, y_train)"
      ],
      "execution_count": 23,
      "outputs": [
        {
          "output_type": "execute_result",
          "data": {
            "text/plain": [
              "LogisticRegression(C=3.2, class_weight=None, dual=False, fit_intercept=True,\n",
              "                   intercept_scaling=1, l1_ratio=None, max_iter=100,\n",
              "                   multi_class='auto', n_jobs=None, penalty='l2',\n",
              "                   random_state=None, solver='liblinear', tol=0.0001, verbose=0,\n",
              "                   warm_start=False)"
            ]
          },
          "metadata": {
            "tags": []
          },
          "execution_count": 23
        }
      ]
    },
    {
      "cell_type": "code",
      "metadata": {
        "id": "gzLI5ifwIbzU"
      },
      "source": [
        "predictions=model_lr.predict(X_test_cv)"
      ],
      "execution_count": 24,
      "outputs": []
    },
    {
      "cell_type": "code",
      "metadata": {
        "colab": {
          "base_uri": "https://localhost:8080/"
        },
        "id": "vVuqAPTZUhFa",
        "outputId": "3a307766-364a-485d-972c-af572ccd40f0"
      },
      "source": [
        "accuracy_score(y_test,predictions)"
      ],
      "execution_count": 25,
      "outputs": [
        {
          "output_type": "execute_result",
          "data": {
            "text/plain": [
              "0.7869318181818182"
            ]
          },
          "metadata": {
            "tags": []
          },
          "execution_count": 25
        }
      ]
    },
    {
      "cell_type": "markdown",
      "metadata": {
        "id": "XzxDnc19tslq"
      },
      "source": [
        "#### Predictions"
      ]
    },
    {
      "cell_type": "code",
      "metadata": {
        "id": "7qTd4tA3Fmof"
      },
      "source": [
        "def predicted_recommend(predictions,testing_data):\n",
        "\n",
        "  predict_df=pd.DataFrame(testing_data.sentiment)\n",
        "  predict_df['predicted_values']=pd.Series(predictions, index=predict_df.index)\n",
        "  recommend_index=list(predict_df[predict_df['predicted_values']=='1'].index)\n",
        "  recommend_dataframe=testing_data.loc[recommend_index]\n",
        "  recommend_dataframe_grouped=recommend_dataframe[['drugName','rating']].groupby(['drugName']).max()\n",
        "  recommend_dataframe_grouped.sort_values(by='rating', ascending=False)[:10]\n",
        "  recommend_dataframe_grouped=recommend_dataframe_grouped.reset_index()\n",
        "  recommend_dataframe_grouped=recommend_dataframe_grouped.sort_values(by='rating', ascending=False)[:10]\n",
        " \n",
        "  return recommend_dataframe_grouped"
      ],
      "execution_count": 26,
      "outputs": []
    },
    {
      "cell_type": "code",
      "metadata": {
        "colab": {
          "base_uri": "https://localhost:8080/",
          "height": 335
        },
        "id": "ps0NdA9AHWZ_",
        "outputId": "aec65281-a416-486e-a0cc-d948c037338d"
      },
      "source": [
        "predicted_recommend(predictions,testing_data)"
      ],
      "execution_count": 27,
      "outputs": [
        {
          "output_type": "execute_result",
          "data": {
            "text/html": [
              "<div>\n",
              "<style scoped>\n",
              "    .dataframe tbody tr th:only-of-type {\n",
              "        vertical-align: middle;\n",
              "    }\n",
              "\n",
              "    .dataframe tbody tr th {\n",
              "        vertical-align: top;\n",
              "    }\n",
              "\n",
              "    .dataframe thead th {\n",
              "        text-align: right;\n",
              "    }\n",
              "</style>\n",
              "<table border=\"1\" class=\"dataframe\">\n",
              "  <thead>\n",
              "    <tr style=\"text-align: right;\">\n",
              "      <th></th>\n",
              "      <th>drugName</th>\n",
              "      <th>rating</th>\n",
              "    </tr>\n",
              "  </thead>\n",
              "  <tbody>\n",
              "    <tr>\n",
              "      <th>44</th>\n",
              "      <td>Gildess Fe 1.5 / 30</td>\n",
              "      <td>10</td>\n",
              "    </tr>\n",
              "    <tr>\n",
              "      <th>77</th>\n",
              "      <td>Tretinoin</td>\n",
              "      <td>10</td>\n",
              "    </tr>\n",
              "    <tr>\n",
              "      <th>35</th>\n",
              "      <td>Drospirenone / ethinyl estradiol / levomefolat...</td>\n",
              "      <td>10</td>\n",
              "    </tr>\n",
              "    <tr>\n",
              "      <th>36</th>\n",
              "      <td>Duac</td>\n",
              "      <td>10</td>\n",
              "    </tr>\n",
              "    <tr>\n",
              "      <th>37</th>\n",
              "      <td>Epiduo</td>\n",
              "      <td>10</td>\n",
              "    </tr>\n",
              "    <tr>\n",
              "      <th>82</th>\n",
              "      <td>Veltin</td>\n",
              "      <td>10</td>\n",
              "    </tr>\n",
              "    <tr>\n",
              "      <th>39</th>\n",
              "      <td>Ethinyl estradiol / norethindrone</td>\n",
              "      <td>10</td>\n",
              "    </tr>\n",
              "    <tr>\n",
              "      <th>40</th>\n",
              "      <td>Ethinyl estradiol / norgestimate</td>\n",
              "      <td>10</td>\n",
              "    </tr>\n",
              "    <tr>\n",
              "      <th>41</th>\n",
              "      <td>Finacea</td>\n",
              "      <td>10</td>\n",
              "    </tr>\n",
              "    <tr>\n",
              "      <th>42</th>\n",
              "      <td>Gianvi</td>\n",
              "      <td>10</td>\n",
              "    </tr>\n",
              "  </tbody>\n",
              "</table>\n",
              "</div>"
            ],
            "text/plain": [
              "                                             drugName  rating\n",
              "44                                Gildess Fe 1.5 / 30      10\n",
              "77                                          Tretinoin      10\n",
              "35  Drospirenone / ethinyl estradiol / levomefolat...      10\n",
              "36                                               Duac      10\n",
              "37                                             Epiduo      10\n",
              "82                                             Veltin      10\n",
              "39                  Ethinyl estradiol / norethindrone      10\n",
              "40                   Ethinyl estradiol / norgestimate      10\n",
              "41                                            Finacea      10\n",
              "42                                             Gianvi      10"
            ]
          },
          "metadata": {
            "tags": []
          },
          "execution_count": 27
        }
      ]
    },
    {
      "cell_type": "code",
      "metadata": {
        "id": "v4AfdMQRIqlp"
      },
      "source": [
        ""
      ],
      "execution_count": 27,
      "outputs": []
    },
    {
      "cell_type": "markdown",
      "metadata": {
        "id": "5iy-ix9qJkkn"
      },
      "source": [
        "### Naive Bayes Algorithmn"
      ]
    },
    {
      "cell_type": "code",
      "metadata": {
        "colab": {
          "base_uri": "https://localhost:8080/"
        },
        "id": "sDpzrxq_KuA0",
        "outputId": "5bc96e22-7ea4-4666-d8b3-eae9e24fa59c"
      },
      "source": [
        "pipe_1 = Pipeline([('classifier' , MultinomialNB())])\n",
        "\n",
        "param_grid_mnb = [\n",
        "    {'classifier' : [MultinomialNB()],\n",
        "     #'classifier__alpha' :[1, 0.1, 0.01, 0.001, 0.0001, 0.00001]\n",
        "     'classifier__alpha': [0.01, 0.1, 0.5, 1.0, 10.0]\n",
        "    }]\n",
        "\n",
        "clf = GridSearchCV(pipe_1, param_grid = param_grid_mnb, cv = 50, verbose=True, n_jobs=-1)\n",
        "best_clf_1 = clf.fit(X_train_cv, y_train)\n",
        "bp_1= best_clf_1.best_estimator_"
      ],
      "execution_count": 28,
      "outputs": [
        {
          "output_type": "stream",
          "text": [
            "Fitting 50 folds for each of 5 candidates, totalling 250 fits\n"
          ],
          "name": "stdout"
        },
        {
          "output_type": "stream",
          "text": [
            "[Parallel(n_jobs=-1)]: Using backend LokyBackend with 2 concurrent workers.\n",
            "[Parallel(n_jobs=-1)]: Done 164 tasks      | elapsed:    2.9s\n",
            "[Parallel(n_jobs=-1)]: Done 250 out of 250 | elapsed:    4.3s finished\n"
          ],
          "name": "stderr"
        }
      ]
    },
    {
      "cell_type": "code",
      "metadata": {
        "colab": {
          "base_uri": "https://localhost:8080/"
        },
        "id": "3Wobxah4MnHF",
        "outputId": "f06bf54f-540e-49c3-a1c7-ec00f2c53599"
      },
      "source": [
        "bp_1"
      ],
      "execution_count": 29,
      "outputs": [
        {
          "output_type": "execute_result",
          "data": {
            "text/plain": [
              "Pipeline(memory=None,\n",
              "         steps=[('classifier',\n",
              "                 MultinomialNB(alpha=1.0, class_prior=None, fit_prior=True))],\n",
              "         verbose=False)"
            ]
          },
          "metadata": {
            "tags": []
          },
          "execution_count": 29
        }
      ]
    },
    {
      "cell_type": "code",
      "metadata": {
        "id": "sE6s2ZMyKUcT"
      },
      "source": [
        "model_mnb = MultinomialNB(alpha=1)\n"
      ],
      "execution_count": 30,
      "outputs": []
    },
    {
      "cell_type": "code",
      "metadata": {
        "colab": {
          "base_uri": "https://localhost:8080/"
        },
        "id": "p3u85WJLKWHG",
        "outputId": "d2f20b49-fc91-4ba6-bbe1-703b774de071"
      },
      "source": [
        "model_mnb.fit(X_train_cv, y_train)\n"
      ],
      "execution_count": 31,
      "outputs": [
        {
          "output_type": "execute_result",
          "data": {
            "text/plain": [
              "MultinomialNB(alpha=1, class_prior=None, fit_prior=True)"
            ]
          },
          "metadata": {
            "tags": []
          },
          "execution_count": 31
        }
      ]
    },
    {
      "cell_type": "code",
      "metadata": {
        "id": "-pkkdBn6KZxW"
      },
      "source": [
        "predictions_mnb=model_mnb.predict(X_test_cv)"
      ],
      "execution_count": 32,
      "outputs": []
    },
    {
      "cell_type": "code",
      "metadata": {
        "colab": {
          "base_uri": "https://localhost:8080/"
        },
        "id": "mdNh0b_kKmJd",
        "outputId": "2fa5cf8c-4923-441e-f3f8-ecf35d0cbe83"
      },
      "source": [
        "accuracy_score(predictions_mnb,y_test)"
      ],
      "execution_count": 33,
      "outputs": [
        {
          "output_type": "execute_result",
          "data": {
            "text/plain": [
              "0.7659090909090909"
            ]
          },
          "metadata": {
            "tags": []
          },
          "execution_count": 33
        }
      ]
    },
    {
      "cell_type": "code",
      "metadata": {
        "id": "74g5CQWpMt6y"
      },
      "source": [
        ""
      ],
      "execution_count": 33,
      "outputs": []
    }
  ]
}