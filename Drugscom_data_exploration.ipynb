{
  "nbformat": 4,
  "nbformat_minor": 0,
  "metadata": {
    "colab": {
      "name": "Drugscom data exploration.ipynb",
      "provenance": [],
      "collapsed_sections": [],
      "authorship_tag": "ABX9TyMV589fC5E7lKnwhqdZfRD0",
      "include_colab_link": true
    },
    "kernelspec": {
      "name": "python3",
      "display_name": "Python 3"
    }
  },
  "cells": [
    {
      "cell_type": "markdown",
      "metadata": {
        "id": "view-in-github",
        "colab_type": "text"
      },
      "source": [
        "<a href=\"https://colab.research.google.com/github/Madhurika1292/Medicines-and-Common-Treatment-Recommendation-System/blob/main/Drugscom_data_exploration.ipynb\" target=\"_parent\"><img src=\"https://colab.research.google.com/assets/colab-badge.svg\" alt=\"Open In Colab\"/></a>"
      ]
    },
    {
      "cell_type": "markdown",
      "metadata": {
        "id": "jUbn9xHwR3Qp"
      },
      "source": [
        "#Drugs.com Data Exploration\r\n",
        "\r\n",
        "Description - \r\n",
        "\r\n",
        "Attribute Information:\r\n",
        "\r\n",
        "1. drugName (categorical): name of drug\r\n",
        "2. condition (categorical): name of condition\r\n",
        "3. review (text): patient review\r\n",
        "4. rating (numerical): 10 star patient rating\r\n",
        "5. date (date): date of review entry\r\n",
        "6. usefulCount (numerical): number of users who found review useful"
      ]
    },
    {
      "cell_type": "code",
      "metadata": {
        "id": "hQ85IUKzQTnN"
      },
      "source": [
        "#Loading necessary libraries\r\n",
        "import pandas as pd\r\n",
        "import numpy as np\r\n"
      ],
      "execution_count": 2,
      "outputs": []
    },
    {
      "cell_type": "code",
      "metadata": {
        "colab": {
          "base_uri": "https://localhost:8080/"
        },
        "id": "b98Jw36DUMNN",
        "outputId": "bad5d0d8-a549-44a1-aae5-c7528b4b3065"
      },
      "source": [
        "#Cloning Git repository\r\n",
        "!git clone https://github.com/Madhurika1292/Medicines-and-Common-Treatment-Recommendation-System.git"
      ],
      "execution_count": 8,
      "outputs": [
        {
          "output_type": "stream",
          "text": [
            "Cloning into 'Medicines-and-Common-Treatment-Recommendation-System'...\n",
            "remote: Enumerating objects: 28, done.\u001b[K\n",
            "remote: Counting objects: 100% (28/28), done.\u001b[K\n",
            "remote: Compressing objects: 100% (20/20), done.\u001b[K\n",
            "remote: Total 28 (delta 5), reused 16 (delta 2), pack-reused 0\u001b[K\n",
            "Unpacking objects: 100% (28/28), done.\n"
          ],
          "name": "stdout"
        }
      ]
    },
    {
      "cell_type": "code",
      "metadata": {
        "colab": {
          "base_uri": "https://localhost:8080/"
        },
        "id": "_oElpvcPZCq9",
        "outputId": "65c0f2d6-9dad-437f-865b-6eee1a8222c0"
      },
      "source": [
        "!ls Medicines-and-Common-Treatment-Recommendation-System/Drugscom"
      ],
      "execution_count": 11,
      "outputs": [
        {
          "output_type": "stream",
          "text": [
            "drugsComTest_raw.tsv  drugsComTrain_raw.tsv\n"
          ],
          "name": "stdout"
        }
      ]
    },
    {
      "cell_type": "markdown",
      "metadata": {
        "id": "NfgPlx4Xlwuo"
      },
      "source": [
        "## Data Loading"
      ]
    },
    {
      "cell_type": "code",
      "metadata": {
        "id": "BWFa9zoHS_y0"
      },
      "source": [
        "#Loading Data\r\n",
        "Drugscom_train = pd.read_csv('Medicines-and-Common-Treatment-Recommendation-System/Drugscom/drugsComTrain_raw.tsv',sep='\\t',parse_dates=['date'])\r\n",
        "Drugscom_test = pd.read_csv('Medicines-and-Common-Treatment-Recommendation-System/Drugscom/drugsComTest_raw.tsv',sep='\\t',parse_dates=['date'])\r\n"
      ],
      "execution_count": 19,
      "outputs": []
    },
    {
      "cell_type": "code",
      "metadata": {
        "colab": {
          "base_uri": "https://localhost:8080/"
        },
        "id": "ht5ylZnEaXo8",
        "outputId": "04c93f87-c08a-4a58-efe6-e1750587b3bd"
      },
      "source": [
        "#Data set shape\r\n",
        "print(\"Drugscom Train shape :\" ,Drugscom_train.shape)\r\n",
        "print(\"Drugscom Test shape :\", Drugscom_test.shape)"
      ],
      "execution_count": 20,
      "outputs": [
        {
          "output_type": "stream",
          "text": [
            "Train shape : (161297, 7)\n",
            "Test shape : (53766, 7)\n"
          ],
          "name": "stdout"
        }
      ]
    },
    {
      "cell_type": "code",
      "metadata": {
        "colab": {
          "base_uri": "https://localhost:8080/"
        },
        "id": "dVd5Hh3Zadyi",
        "outputId": "8151af40-f793-431f-9d88-66c4fe1da5c4"
      },
      "source": [
        "#Data information\r\n",
        "print(\"Training Data information :\")\r\n",
        "Drugscom_train.info()\r\n"
      ],
      "execution_count": 24,
      "outputs": [
        {
          "output_type": "stream",
          "text": [
            "Training Data information :\n",
            "<class 'pandas.core.frame.DataFrame'>\n",
            "RangeIndex: 161297 entries, 0 to 161296\n",
            "Data columns (total 7 columns):\n",
            " #   Column       Non-Null Count   Dtype         \n",
            "---  ------       --------------   -----         \n",
            " 0   Unnamed: 0   161297 non-null  int64         \n",
            " 1   drugName     161297 non-null  object        \n",
            " 2   condition    160398 non-null  object        \n",
            " 3   review       161297 non-null  object        \n",
            " 4   rating       161297 non-null  float64       \n",
            " 5   date         161297 non-null  datetime64[ns]\n",
            " 6   usefulCount  161297 non-null  int64         \n",
            "dtypes: datetime64[ns](1), float64(1), int64(2), object(3)\n",
            "memory usage: 8.6+ MB\n"
          ],
          "name": "stdout"
        }
      ]
    },
    {
      "cell_type": "code",
      "metadata": {
        "colab": {
          "base_uri": "https://localhost:8080/"
        },
        "id": "26o6CfxTisSi",
        "outputId": "5b68920f-3617-4ff8-b479-9b35f0c224f0"
      },
      "source": [
        "print(\"Test Data information :\")\r\n",
        "Drugscom_test.info()"
      ],
      "execution_count": 25,
      "outputs": [
        {
          "output_type": "stream",
          "text": [
            "Test Data information :\n",
            "<class 'pandas.core.frame.DataFrame'>\n",
            "RangeIndex: 53766 entries, 0 to 53765\n",
            "Data columns (total 7 columns):\n",
            " #   Column       Non-Null Count  Dtype         \n",
            "---  ------       --------------  -----         \n",
            " 0   Unnamed: 0   53766 non-null  int64         \n",
            " 1   drugName     53766 non-null  object        \n",
            " 2   condition    53471 non-null  object        \n",
            " 3   review       53766 non-null  object        \n",
            " 4   rating       53766 non-null  float64       \n",
            " 5   date         53766 non-null  datetime64[ns]\n",
            " 6   usefulCount  53766 non-null  int64         \n",
            "dtypes: datetime64[ns](1), float64(1), int64(2), object(3)\n",
            "memory usage: 2.9+ MB\n"
          ],
          "name": "stdout"
        }
      ]
    },
    {
      "cell_type": "code",
      "metadata": {
        "id": "_EWCcbClivBB"
      },
      "source": [
        "#Changing the \"Unnamed: 0\" column to uniqueId as it represents the unique id of the drugs\r\n",
        "Drugscom_train=Drugscom_train.rename(columns={'Unnamed: 0' : 'uniqueId'})\r\n",
        "Drugscom_test=Drugscom_test.rename(columns={'Unnamed: 0' : 'uniqueId'})"
      ],
      "execution_count": 26,
      "outputs": []
    },
    {
      "cell_type": "code",
      "metadata": {
        "colab": {
          "base_uri": "https://localhost:8080/"
        },
        "id": "vPYBU8R8lgYu",
        "outputId": "0ba3d4a4-c4ff-43e0-853d-a94f671db174"
      },
      "source": [
        "print(\"Drugscom Train shape :\" ,Drugscom_train.columns)\r\n",
        "print(\"Drugscom Test shape :\", Drugscom_test.columns)"
      ],
      "execution_count": 27,
      "outputs": [
        {
          "output_type": "stream",
          "text": [
            "Drugscom Train shape : Index(['uniqueId', 'drugName', 'condition', 'review', 'rating', 'date',\n",
            "       'usefulCount'],\n",
            "      dtype='object')\n",
            "Drugscom Test shape : Index(['uniqueId', 'drugName', 'condition', 'review', 'rating', 'date',\n",
            "       'usefulCount'],\n",
            "      dtype='object')\n"
          ],
          "name": "stdout"
        }
      ]
    },
    {
      "cell_type": "markdown",
      "metadata": {
        "id": "lQ82-aV4lza0"
      },
      "source": [
        "## Data understanding"
      ]
    },
    {
      "cell_type": "markdown",
      "metadata": {
        "id": "3ab6g3KHl8aj"
      },
      "source": [
        "### Checking if there are multiple reviews by the customer for particular medicine."
      ]
    },
    {
      "cell_type": "code",
      "metadata": {
        "colab": {
          "base_uri": "https://localhost:8080/"
        },
        "id": "MJtz9pwGl33z",
        "outputId": "1ff83079-e70f-493a-bdd8-378c5b148479"
      },
      "source": [
        "print(\"Unique IDs in Drugscom training set : \" ,len(set(Drugscom_train['uniqueId'].values)))\r\n",
        "print(\"Total length of Drugscom training set  : \" ,Drugscom_train.shape[0])"
      ],
      "execution_count": 29,
      "outputs": [
        {
          "output_type": "stream",
          "text": [
            "Unique IDs in Drugscom training set :  161297\n",
            "Total length of Drugscom training set  :  161297\n"
          ],
          "name": "stdout"
        }
      ]
    },
    {
      "cell_type": "markdown",
      "metadata": {
        "id": "8cyeJs4qnVPn"
      },
      "source": [
        "It appears there is only one review by each customer."
      ]
    },
    {
      "cell_type": "markdown",
      "metadata": {
        "id": "oXbQ3KMJno3s"
      },
      "source": [
        "## Checking the number of Drugs for each condition\r\n",
        "\r\n",
        "For this analysis, I have combined the training set and testing set."
      ]
    },
    {
      "cell_type": "code",
      "metadata": {
        "id": "jJ9rOu0vnQHQ"
      },
      "source": [
        ""
      ],
      "execution_count": null,
      "outputs": []
    }
  ]
}