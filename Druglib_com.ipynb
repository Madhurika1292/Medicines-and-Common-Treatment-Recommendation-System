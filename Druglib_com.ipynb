{
  "nbformat": 4,
  "nbformat_minor": 0,
  "metadata": {
    "colab": {
      "name": "Druglib.com.ipynb",
      "provenance": [],
      "collapsed_sections": [],
      "include_colab_link": true
    },
    "kernelspec": {
      "name": "python3",
      "display_name": "Python 3"
    }
  },
  "cells": [
    {
      "cell_type": "markdown",
      "metadata": {
        "id": "view-in-github",
        "colab_type": "text"
      },
      "source": [
        "<a href=\"https://colab.research.google.com/github/Madhurika1292/Medicines-and-Common-Treatment-Recommendation-System/blob/main/Druglib_com.ipynb\" target=\"_parent\"><img src=\"https://colab.research.google.com/assets/colab-badge.svg\" alt=\"Open In Colab\"/></a>"
      ]
    },
    {
      "cell_type": "markdown",
      "metadata": {
        "id": "TgYOOBegYMbn"
      },
      "source": [
        "# Druglib.com Data Exploration\n",
        "\n",
        "Description -\n",
        "\n",
        "Attribute Information:\n",
        "\n",
        "drugName (categorical): name of drug\n",
        "condition (categorical): name of condition\n",
        "review (text): patient review\n",
        "rating (numerical): 10 star patient rating\n",
        "date (date): date of review entry\n",
        "usefulCount (numerical): number of users who found review useful"
      ]
    },
    {
      "cell_type": "code",
      "metadata": {
        "id": "QO6qeeTlRnHH"
      },
      "source": [
        "#Loading necessary libraries\n",
        "import pandas as pd\n",
        "import numpy as np\n",
        "import plotly.express as px\n",
        "import seaborn as sns \n",
        "import matplotlib.pyplot as plt\n",
        "from matplotlib import style; style.use('ggplot')\n",
        "from wordcloud import WordCloud\n",
        "%matplotlib inline\n"
      ],
      "execution_count": 1,
      "outputs": []
    },
    {
      "cell_type": "code",
      "metadata": {
        "colab": {
          "base_uri": "https://localhost:8080/"
        },
        "id": "X5sLSMrpYwiK",
        "outputId": "c89642ad-587e-4266-a854-80b0da67872f"
      },
      "source": [
        "#Cloning Git repository\n",
        "!git clone https://github.com/Madhurika1292/Medicines-and-Common-Treatment-Recommendation-System.git"
      ],
      "execution_count": 2,
      "outputs": [
        {
          "output_type": "stream",
          "text": [
            "Cloning into 'Medicines-and-Common-Treatment-Recommendation-System'...\n",
            "remote: Enumerating objects: 91, done.\u001b[K\n",
            "remote: Counting objects: 100% (91/91), done.\u001b[K\n",
            "remote: Compressing objects: 100% (77/77), done.\u001b[K\n",
            "remote: Total 91 (delta 45), reused 28 (delta 8), pack-reused 0\u001b[K\n",
            "Unpacking objects: 100% (91/91), done.\n",
            "Checking out files: 100% (13/13), done.\n"
          ],
          "name": "stdout"
        }
      ]
    },
    {
      "cell_type": "code",
      "metadata": {
        "colab": {
          "base_uri": "https://localhost:8080/"
        },
        "id": "mwmbjW23Y67S",
        "outputId": "623f735e-f483-47a7-ff7d-9243d32b770a"
      },
      "source": [
        "!ls Medicines-and-Common-Treatment-Recommendation-System/DrugsLib\n"
      ],
      "execution_count": 3,
      "outputs": [
        {
          "output_type": "stream",
          "text": [
            "drugLibTest_raw.tsv  drugLibTrain_raw.tsv\n"
          ],
          "name": "stdout"
        }
      ]
    },
    {
      "cell_type": "markdown",
      "metadata": {
        "id": "wxFtAF7dijoH"
      },
      "source": [
        "## Data Loading"
      ]
    },
    {
      "cell_type": "code",
      "metadata": {
        "id": "9s-jCOiYht9L"
      },
      "source": [
        "#Loading Data\n",
        "Drugslib_train = pd.read_csv('Medicines-and-Common-Treatment-Recommendation-System/DrugsLib/drugLibTrain_raw.tsv',sep='\\t')\n",
        "Drugslib_test = pd.read_csv('Medicines-and-Common-Treatment-Recommendation-System/DrugsLib/drugLibTest_raw.tsv',sep='\\t')"
      ],
      "execution_count": 4,
      "outputs": []
    },
    {
      "cell_type": "code",
      "metadata": {
        "colab": {
          "base_uri": "https://localhost:8080/"
        },
        "id": "vK6wQdR5iszT",
        "outputId": "9070f20f-4f06-424c-b990-4e1f88b398dd"
      },
      "source": [
        "#Data set shape\n",
        "print(\"DrugsLib Train shape :\" ,Drugslib_train.shape)\n",
        "print(\"DrugsLib Test shape :\", Drugslib_test.shape)"
      ],
      "execution_count": 5,
      "outputs": [
        {
          "output_type": "stream",
          "text": [
            "DrugsLib Train shape : (3107, 9)\n",
            "DrugsLib Test shape : (1036, 9)\n"
          ],
          "name": "stdout"
        }
      ]
    },
    {
      "cell_type": "code",
      "metadata": {
        "colab": {
          "base_uri": "https://localhost:8080/"
        },
        "id": "h5C8fUr8jHfC",
        "outputId": "2bdacaa3-4111-419b-f93d-be87c6a46554"
      },
      "source": [
        "#Data information\n",
        "print(\"Training Data information :\")\n",
        "Drugslib_train.info()"
      ],
      "execution_count": 6,
      "outputs": [
        {
          "output_type": "stream",
          "text": [
            "Training Data information :\n",
            "<class 'pandas.core.frame.DataFrame'>\n",
            "RangeIndex: 3107 entries, 0 to 3106\n",
            "Data columns (total 9 columns):\n",
            " #   Column             Non-Null Count  Dtype \n",
            "---  ------             --------------  ----- \n",
            " 0   Unnamed: 0         3107 non-null   int64 \n",
            " 1   urlDrugName        3107 non-null   object\n",
            " 2   rating             3107 non-null   int64 \n",
            " 3   effectiveness      3107 non-null   object\n",
            " 4   sideEffects        3107 non-null   object\n",
            " 5   condition          3106 non-null   object\n",
            " 6   benefitsReview     3107 non-null   object\n",
            " 7   sideEffectsReview  3105 non-null   object\n",
            " 8   commentsReview     3099 non-null   object\n",
            "dtypes: int64(2), object(7)\n",
            "memory usage: 218.6+ KB\n"
          ],
          "name": "stdout"
        }
      ]
    },
    {
      "cell_type": "code",
      "metadata": {
        "colab": {
          "base_uri": "https://localhost:8080/"
        },
        "id": "klzzeP7KjNE7",
        "outputId": "06622781-39c5-42e2-d6d2-eda6bb5918c8"
      },
      "source": [
        "print(\"Test Data information :\")\n",
        "Drugslib_test.info()"
      ],
      "execution_count": 7,
      "outputs": [
        {
          "output_type": "stream",
          "text": [
            "Test Data information :\n",
            "<class 'pandas.core.frame.DataFrame'>\n",
            "RangeIndex: 1036 entries, 0 to 1035\n",
            "Data columns (total 9 columns):\n",
            " #   Column             Non-Null Count  Dtype \n",
            "---  ------             --------------  ----- \n",
            " 0   Unnamed: 0         1036 non-null   int64 \n",
            " 1   urlDrugName        1036 non-null   object\n",
            " 2   rating             1036 non-null   int64 \n",
            " 3   effectiveness      1036 non-null   object\n",
            " 4   sideEffects        1036 non-null   object\n",
            " 5   condition          1036 non-null   object\n",
            " 6   benefitsReview     1036 non-null   object\n",
            " 7   sideEffectsReview  1036 non-null   object\n",
            " 8   commentsReview     1036 non-null   object\n",
            "dtypes: int64(2), object(7)\n",
            "memory usage: 73.0+ KB\n"
          ],
          "name": "stdout"
        }
      ]
    },
    {
      "cell_type": "code",
      "metadata": {
        "id": "ZjZ01Rkijajd"
      },
      "source": [
        "#Changing the \"Unnamed: 0\" column to uniqueId as it represents the unique id of the drugs\n",
        "Drugslib_train=Drugslib_train.rename(columns={'Unnamed: 0' : 'uniqueId'})\n",
        "Drugslib_test=Drugslib_test.rename(columns={'Unnamed: 0' : 'uniqueId'})"
      ],
      "execution_count": 8,
      "outputs": []
    },
    {
      "cell_type": "code",
      "metadata": {
        "colab": {
          "base_uri": "https://localhost:8080/"
        },
        "id": "D43gfQtzjkBE",
        "outputId": "ad7a8473-08e1-4603-cb84-1d900984fbd7"
      },
      "source": [
        "print(\"DrugsLib Train shape :\" ,Drugslib_train.columns)\n",
        "print(\"DrugsLib Test shape :\", Drugslib_test.columns)"
      ],
      "execution_count": 9,
      "outputs": [
        {
          "output_type": "stream",
          "text": [
            "DrugsLib Train shape : Index(['uniqueId', 'urlDrugName', 'rating', 'effectiveness', 'sideEffects',\n",
            "       'condition', 'benefitsReview', 'sideEffectsReview', 'commentsReview'],\n",
            "      dtype='object')\n",
            "DrugsLib Test shape : Index(['uniqueId', 'urlDrugName', 'rating', 'effectiveness', 'sideEffects',\n",
            "       'condition', 'benefitsReview', 'sideEffectsReview', 'commentsReview'],\n",
            "      dtype='object')\n"
          ],
          "name": "stdout"
        }
      ]
    },
    {
      "cell_type": "markdown",
      "metadata": {
        "id": "INR--RsrjwzA"
      },
      "source": [
        "## Data Understanding"
      ]
    },
    {
      "cell_type": "markdown",
      "metadata": {
        "id": "ag0bxY8ej-IE"
      },
      "source": [
        "### Checking the number of Drugs for each condition\n",
        "For this analysis, I have combined the training set and testing set."
      ]
    },
    {
      "cell_type": "code",
      "metadata": {
        "id": "OJaIncl7j5fl"
      },
      "source": [
        "#Combining training and testing data\n",
        "DrugsLib_combined=pd.concat([Drugslib_train,Drugslib_test])"
      ],
      "execution_count": 10,
      "outputs": []
    },
    {
      "cell_type": "code",
      "metadata": {
        "colab": {
          "base_uri": "https://localhost:8080/",
          "height": 272
        },
        "id": "ncyra6bojvSB",
        "outputId": "f00a40d4-2bea-4dcd-908e-07a5cc8a513f"
      },
      "source": [
        "DrugsLib_combined.head()\n"
      ],
      "execution_count": 11,
      "outputs": [
        {
          "output_type": "execute_result",
          "data": {
            "text/html": [
              "<div>\n",
              "<style scoped>\n",
              "    .dataframe tbody tr th:only-of-type {\n",
              "        vertical-align: middle;\n",
              "    }\n",
              "\n",
              "    .dataframe tbody tr th {\n",
              "        vertical-align: top;\n",
              "    }\n",
              "\n",
              "    .dataframe thead th {\n",
              "        text-align: right;\n",
              "    }\n",
              "</style>\n",
              "<table border=\"1\" class=\"dataframe\">\n",
              "  <thead>\n",
              "    <tr style=\"text-align: right;\">\n",
              "      <th></th>\n",
              "      <th>uniqueId</th>\n",
              "      <th>urlDrugName</th>\n",
              "      <th>rating</th>\n",
              "      <th>effectiveness</th>\n",
              "      <th>sideEffects</th>\n",
              "      <th>condition</th>\n",
              "      <th>benefitsReview</th>\n",
              "      <th>sideEffectsReview</th>\n",
              "      <th>commentsReview</th>\n",
              "    </tr>\n",
              "  </thead>\n",
              "  <tbody>\n",
              "    <tr>\n",
              "      <th>0</th>\n",
              "      <td>2202</td>\n",
              "      <td>enalapril</td>\n",
              "      <td>4</td>\n",
              "      <td>Highly Effective</td>\n",
              "      <td>Mild Side Effects</td>\n",
              "      <td>management of congestive heart failure</td>\n",
              "      <td>slowed the progression of left ventricular dys...</td>\n",
              "      <td>cough, hypotension , proteinuria, impotence , ...</td>\n",
              "      <td>monitor blood pressure , weight and asses for ...</td>\n",
              "    </tr>\n",
              "    <tr>\n",
              "      <th>1</th>\n",
              "      <td>3117</td>\n",
              "      <td>ortho-tri-cyclen</td>\n",
              "      <td>1</td>\n",
              "      <td>Highly Effective</td>\n",
              "      <td>Severe Side Effects</td>\n",
              "      <td>birth prevention</td>\n",
              "      <td>Although this type of birth control has more c...</td>\n",
              "      <td>Heavy Cycle, Cramps, Hot Flashes, Fatigue, Lon...</td>\n",
              "      <td>I Hate This Birth Control, I Would Not Suggest...</td>\n",
              "    </tr>\n",
              "    <tr>\n",
              "      <th>2</th>\n",
              "      <td>1146</td>\n",
              "      <td>ponstel</td>\n",
              "      <td>10</td>\n",
              "      <td>Highly Effective</td>\n",
              "      <td>No Side Effects</td>\n",
              "      <td>menstrual cramps</td>\n",
              "      <td>I was used to having cramps so badly that they...</td>\n",
              "      <td>Heavier bleeding and clotting than normal.</td>\n",
              "      <td>I took 2 pills at the onset of my menstrual cr...</td>\n",
              "    </tr>\n",
              "    <tr>\n",
              "      <th>3</th>\n",
              "      <td>3947</td>\n",
              "      <td>prilosec</td>\n",
              "      <td>3</td>\n",
              "      <td>Marginally Effective</td>\n",
              "      <td>Mild Side Effects</td>\n",
              "      <td>acid reflux</td>\n",
              "      <td>The acid reflux went away for a few months aft...</td>\n",
              "      <td>Constipation, dry mouth and some mild dizzines...</td>\n",
              "      <td>I was given Prilosec prescription at a dose of...</td>\n",
              "    </tr>\n",
              "    <tr>\n",
              "      <th>4</th>\n",
              "      <td>1951</td>\n",
              "      <td>lyrica</td>\n",
              "      <td>2</td>\n",
              "      <td>Marginally Effective</td>\n",
              "      <td>Severe Side Effects</td>\n",
              "      <td>fibromyalgia</td>\n",
              "      <td>I think that the Lyrica was starting to help w...</td>\n",
              "      <td>I felt extremely drugged and dopey.  Could not...</td>\n",
              "      <td>See above</td>\n",
              "    </tr>\n",
              "  </tbody>\n",
              "</table>\n",
              "</div>"
            ],
            "text/plain": [
              "   uniqueId  ...                                     commentsReview\n",
              "0      2202  ...  monitor blood pressure , weight and asses for ...\n",
              "1      3117  ...  I Hate This Birth Control, I Would Not Suggest...\n",
              "2      1146  ...  I took 2 pills at the onset of my menstrual cr...\n",
              "3      3947  ...  I was given Prilosec prescription at a dose of...\n",
              "4      1951  ...                                          See above\n",
              "\n",
              "[5 rows x 9 columns]"
            ]
          },
          "metadata": {
            "tags": []
          },
          "execution_count": 11
        }
      ]
    },
    {
      "cell_type": "code",
      "metadata": {
        "colab": {
          "base_uri": "https://localhost:8080/"
        },
        "id": "E6Ic2ri2kQEs",
        "outputId": "d7552dd5-a87b-45d1-a1c4-c10f6ae542a6"
      },
      "source": [
        "DrugsLib_combined.shape\n"
      ],
      "execution_count": 12,
      "outputs": [
        {
          "output_type": "execute_result",
          "data": {
            "text/plain": [
              "(4143, 9)"
            ]
          },
          "metadata": {
            "tags": []
          },
          "execution_count": 12
        }
      ]
    },
    {
      "cell_type": "markdown",
      "metadata": {
        "id": "OZfLWyD8kcR6"
      },
      "source": [
        "### Number of drugs available for top conditions\n"
      ]
    },
    {
      "cell_type": "code",
      "metadata": {
        "colab": {
          "base_uri": "https://localhost:8080/",
          "height": 542
        },
        "id": "zjArMlkzkS7C",
        "outputId": "fdf46b49-1552-4ba6-b86c-87666e52cc41"
      },
      "source": [
        "analysis1 = DrugsLib_combined.groupby(['condition'])['urlDrugName'].nunique().sort_values(ascending = False).reset_index().head(30)\n",
        "\n",
        "analysis1=analysis1.rename(columns={'urlDrugName':'Count of Drugs'})\n",
        "\n",
        "fig = px.bar(analysis1, x='condition', y='Count of Drugs',\n",
        "             hover_data=['condition', 'Count of Drugs'], color='Count of Drugs', title='Drugs Count for Top Conditions')\n",
        "fig.show()"
      ],
      "execution_count": 24,
      "outputs": [
        {
          "output_type": "display_data",
          "data": {
            "text/html": [
              "<html>\n",
              "<head><meta charset=\"utf-8\" /></head>\n",
              "<body>\n",
              "    <div>\n",
              "            <script src=\"https://cdnjs.cloudflare.com/ajax/libs/mathjax/2.7.5/MathJax.js?config=TeX-AMS-MML_SVG\"></script><script type=\"text/javascript\">if (window.MathJax) {MathJax.Hub.Config({SVG: {font: \"STIX-Web\"}});}</script>\n",
              "                <script type=\"text/javascript\">window.PlotlyConfig = {MathJaxConfig: 'local'};</script>\n",
              "        <script src=\"https://cdn.plot.ly/plotly-latest.min.js\"></script>    \n",
              "            <div id=\"acc2788d-d2f6-4876-9963-a1fe8d98eacb\" class=\"plotly-graph-div\" style=\"height:525px; width:100%;\"></div>\n",
              "            <script type=\"text/javascript\">\n",
              "                \n",
              "                    window.PLOTLYENV=window.PLOTLYENV || {};\n",
              "                    \n",
              "                if (document.getElementById(\"acc2788d-d2f6-4876-9963-a1fe8d98eacb\")) {\n",
              "                    Plotly.newPlot(\n",
              "                        'acc2788d-d2f6-4876-9963-a1fe8d98eacb',\n",
              "                        [{\"alignmentgroup\": \"True\", \"customdata\": [[\"acne\", 38], [\"depression\", 30], [\"high blood pressure\", 28], [\"anxiety\", 27], [\"insomnia\", 20], [\"hypertension\", 20], [\"migraines\", 15], [\"add\", 14], [\"allergies\", 14], [\"asthma\", 14], [\"bipolar disorder\", 12], [\"depression/anxiety\", 12], [\"pain\", 12], [\"migraine\", 11], [\"birth control\", 11], [\"sinus infection\", 11], [\"sinusitis\", 10], [\"arthritis\", 10], [\"menopause\", 10], [\"adhd\", 10], [\"rheumatoid arthritis\", 9], [\"fibromyalgia\", 9], [\"back pain\", 8], [\"anxiety and depression\", 8], [\"anxiety/depression\", 8], [\"panic attacks\", 8], [\"acid reflux\", 8], [\"depression and anxiety\", 8], [\"bronchitis\", 8], [\"high cholesterol\", 8]], \"hoverlabel\": {\"namelength\": 0}, \"hovertemplate\": \"condition=%{customdata[0]}<br>Count of Drugs=%{marker.color}\", \"legendgroup\": \"\", \"marker\": {\"color\": [38, 30, 28, 27, 20, 20, 15, 14, 14, 14, 12, 12, 12, 11, 11, 11, 10, 10, 10, 10, 9, 9, 8, 8, 8, 8, 8, 8, 8, 8], \"coloraxis\": \"coloraxis\"}, \"name\": \"\", \"offsetgroup\": \"\", \"orientation\": \"v\", \"showlegend\": false, \"textposition\": \"auto\", \"type\": \"bar\", \"x\": [\"acne\", \"depression\", \"high blood pressure\", \"anxiety\", \"insomnia\", \"hypertension\", \"migraines\", \"add\", \"allergies\", \"asthma\", \"bipolar disorder\", \"depression/anxiety\", \"pain\", \"migraine\", \"birth control\", \"sinus infection\", \"sinusitis\", \"arthritis\", \"menopause\", \"adhd\", \"rheumatoid arthritis\", \"fibromyalgia\", \"back pain\", \"anxiety and depression\", \"anxiety/depression\", \"panic attacks\", \"acid reflux\", \"depression and anxiety\", \"bronchitis\", \"high cholesterol\"], \"xaxis\": \"x\", \"y\": [38, 30, 28, 27, 20, 20, 15, 14, 14, 14, 12, 12, 12, 11, 11, 11, 10, 10, 10, 10, 9, 9, 8, 8, 8, 8, 8, 8, 8, 8], \"yaxis\": \"y\"}],\n",
              "                        {\"barmode\": \"relative\", \"coloraxis\": {\"colorbar\": {\"title\": {\"text\": \"Count of Drugs\"}}, \"colorscale\": [[0.0, \"#0d0887\"], [0.1111111111111111, \"#46039f\"], [0.2222222222222222, \"#7201a8\"], [0.3333333333333333, \"#9c179e\"], [0.4444444444444444, \"#bd3786\"], [0.5555555555555556, \"#d8576b\"], [0.6666666666666666, \"#ed7953\"], [0.7777777777777778, \"#fb9f3a\"], [0.8888888888888888, \"#fdca26\"], [1.0, \"#f0f921\"]]}, \"legend\": {\"tracegroupgap\": 0}, \"template\": {\"data\": {\"bar\": [{\"error_x\": {\"color\": \"#2a3f5f\"}, \"error_y\": {\"color\": \"#2a3f5f\"}, \"marker\": {\"line\": {\"color\": \"#E5ECF6\", \"width\": 0.5}}, \"type\": \"bar\"}], \"barpolar\": [{\"marker\": {\"line\": {\"color\": \"#E5ECF6\", \"width\": 0.5}}, \"type\": \"barpolar\"}], \"carpet\": [{\"aaxis\": {\"endlinecolor\": \"#2a3f5f\", \"gridcolor\": \"white\", \"linecolor\": \"white\", \"minorgridcolor\": \"white\", \"startlinecolor\": \"#2a3f5f\"}, \"baxis\": {\"endlinecolor\": \"#2a3f5f\", \"gridcolor\": \"white\", \"linecolor\": \"white\", \"minorgridcolor\": \"white\", \"startlinecolor\": \"#2a3f5f\"}, \"type\": \"carpet\"}], \"choropleth\": [{\"colorbar\": {\"outlinewidth\": 0, \"ticks\": \"\"}, \"type\": \"choropleth\"}], \"contour\": [{\"colorbar\": {\"outlinewidth\": 0, \"ticks\": \"\"}, \"colorscale\": [[0.0, \"#0d0887\"], [0.1111111111111111, \"#46039f\"], [0.2222222222222222, \"#7201a8\"], [0.3333333333333333, \"#9c179e\"], [0.4444444444444444, \"#bd3786\"], [0.5555555555555556, \"#d8576b\"], [0.6666666666666666, \"#ed7953\"], [0.7777777777777778, \"#fb9f3a\"], [0.8888888888888888, \"#fdca26\"], [1.0, \"#f0f921\"]], \"type\": \"contour\"}], \"contourcarpet\": [{\"colorbar\": {\"outlinewidth\": 0, \"ticks\": \"\"}, \"type\": \"contourcarpet\"}], \"heatmap\": [{\"colorbar\": {\"outlinewidth\": 0, \"ticks\": \"\"}, \"colorscale\": [[0.0, \"#0d0887\"], [0.1111111111111111, \"#46039f\"], [0.2222222222222222, \"#7201a8\"], [0.3333333333333333, \"#9c179e\"], [0.4444444444444444, \"#bd3786\"], [0.5555555555555556, \"#d8576b\"], [0.6666666666666666, \"#ed7953\"], [0.7777777777777778, \"#fb9f3a\"], [0.8888888888888888, \"#fdca26\"], [1.0, \"#f0f921\"]], \"type\": \"heatmap\"}], \"heatmapgl\": [{\"colorbar\": {\"outlinewidth\": 0, \"ticks\": \"\"}, \"colorscale\": [[0.0, \"#0d0887\"], [0.1111111111111111, \"#46039f\"], [0.2222222222222222, \"#7201a8\"], [0.3333333333333333, \"#9c179e\"], [0.4444444444444444, \"#bd3786\"], [0.5555555555555556, \"#d8576b\"], [0.6666666666666666, \"#ed7953\"], [0.7777777777777778, \"#fb9f3a\"], [0.8888888888888888, \"#fdca26\"], [1.0, \"#f0f921\"]], \"type\": \"heatmapgl\"}], \"histogram\": [{\"marker\": {\"colorbar\": {\"outlinewidth\": 0, \"ticks\": \"\"}}, \"type\": \"histogram\"}], \"histogram2d\": [{\"colorbar\": {\"outlinewidth\": 0, \"ticks\": \"\"}, \"colorscale\": [[0.0, \"#0d0887\"], [0.1111111111111111, \"#46039f\"], [0.2222222222222222, \"#7201a8\"], [0.3333333333333333, \"#9c179e\"], [0.4444444444444444, \"#bd3786\"], [0.5555555555555556, \"#d8576b\"], [0.6666666666666666, \"#ed7953\"], [0.7777777777777778, \"#fb9f3a\"], [0.8888888888888888, \"#fdca26\"], [1.0, \"#f0f921\"]], \"type\": \"histogram2d\"}], \"histogram2dcontour\": [{\"colorbar\": {\"outlinewidth\": 0, \"ticks\": \"\"}, \"colorscale\": [[0.0, \"#0d0887\"], [0.1111111111111111, \"#46039f\"], [0.2222222222222222, \"#7201a8\"], [0.3333333333333333, \"#9c179e\"], [0.4444444444444444, \"#bd3786\"], [0.5555555555555556, \"#d8576b\"], [0.6666666666666666, \"#ed7953\"], [0.7777777777777778, \"#fb9f3a\"], [0.8888888888888888, \"#fdca26\"], [1.0, \"#f0f921\"]], \"type\": \"histogram2dcontour\"}], \"mesh3d\": [{\"colorbar\": {\"outlinewidth\": 0, \"ticks\": \"\"}, \"type\": \"mesh3d\"}], \"parcoords\": [{\"line\": {\"colorbar\": {\"outlinewidth\": 0, \"ticks\": \"\"}}, \"type\": \"parcoords\"}], \"pie\": [{\"automargin\": true, \"type\": \"pie\"}], \"scatter\": [{\"marker\": {\"colorbar\": {\"outlinewidth\": 0, \"ticks\": \"\"}}, \"type\": \"scatter\"}], \"scatter3d\": [{\"line\": {\"colorbar\": {\"outlinewidth\": 0, \"ticks\": \"\"}}, \"marker\": {\"colorbar\": {\"outlinewidth\": 0, \"ticks\": \"\"}}, \"type\": \"scatter3d\"}], \"scattercarpet\": [{\"marker\": {\"colorbar\": {\"outlinewidth\": 0, \"ticks\": \"\"}}, \"type\": \"scattercarpet\"}], \"scattergeo\": [{\"marker\": {\"colorbar\": {\"outlinewidth\": 0, \"ticks\": \"\"}}, \"type\": \"scattergeo\"}], \"scattergl\": [{\"marker\": {\"colorbar\": {\"outlinewidth\": 0, \"ticks\": \"\"}}, \"type\": \"scattergl\"}], \"scattermapbox\": [{\"marker\": {\"colorbar\": {\"outlinewidth\": 0, \"ticks\": \"\"}}, \"type\": \"scattermapbox\"}], \"scatterpolar\": [{\"marker\": {\"colorbar\": {\"outlinewidth\": 0, \"ticks\": \"\"}}, \"type\": \"scatterpolar\"}], \"scatterpolargl\": [{\"marker\": {\"colorbar\": {\"outlinewidth\": 0, \"ticks\": \"\"}}, \"type\": \"scatterpolargl\"}], \"scatterternary\": [{\"marker\": {\"colorbar\": {\"outlinewidth\": 0, \"ticks\": \"\"}}, \"type\": \"scatterternary\"}], \"surface\": [{\"colorbar\": {\"outlinewidth\": 0, \"ticks\": \"\"}, \"colorscale\": [[0.0, \"#0d0887\"], [0.1111111111111111, \"#46039f\"], [0.2222222222222222, \"#7201a8\"], [0.3333333333333333, \"#9c179e\"], [0.4444444444444444, \"#bd3786\"], [0.5555555555555556, \"#d8576b\"], [0.6666666666666666, \"#ed7953\"], [0.7777777777777778, \"#fb9f3a\"], [0.8888888888888888, \"#fdca26\"], [1.0, \"#f0f921\"]], \"type\": \"surface\"}], \"table\": [{\"cells\": {\"fill\": {\"color\": \"#EBF0F8\"}, \"line\": {\"color\": \"white\"}}, \"header\": {\"fill\": {\"color\": \"#C8D4E3\"}, \"line\": {\"color\": \"white\"}}, \"type\": \"table\"}]}, \"layout\": {\"annotationdefaults\": {\"arrowcolor\": \"#2a3f5f\", \"arrowhead\": 0, \"arrowwidth\": 1}, \"coloraxis\": {\"colorbar\": {\"outlinewidth\": 0, \"ticks\": \"\"}}, \"colorscale\": {\"diverging\": [[0, \"#8e0152\"], [0.1, \"#c51b7d\"], [0.2, \"#de77ae\"], [0.3, \"#f1b6da\"], [0.4, \"#fde0ef\"], [0.5, \"#f7f7f7\"], [0.6, \"#e6f5d0\"], [0.7, \"#b8e186\"], [0.8, \"#7fbc41\"], [0.9, \"#4d9221\"], [1, \"#276419\"]], \"sequential\": [[0.0, \"#0d0887\"], [0.1111111111111111, \"#46039f\"], [0.2222222222222222, \"#7201a8\"], [0.3333333333333333, \"#9c179e\"], [0.4444444444444444, \"#bd3786\"], [0.5555555555555556, \"#d8576b\"], [0.6666666666666666, \"#ed7953\"], [0.7777777777777778, \"#fb9f3a\"], [0.8888888888888888, \"#fdca26\"], [1.0, \"#f0f921\"]], \"sequentialminus\": [[0.0, \"#0d0887\"], [0.1111111111111111, \"#46039f\"], [0.2222222222222222, \"#7201a8\"], [0.3333333333333333, \"#9c179e\"], [0.4444444444444444, \"#bd3786\"], [0.5555555555555556, \"#d8576b\"], [0.6666666666666666, \"#ed7953\"], [0.7777777777777778, \"#fb9f3a\"], [0.8888888888888888, \"#fdca26\"], [1.0, \"#f0f921\"]]}, \"colorway\": [\"#636efa\", \"#EF553B\", \"#00cc96\", \"#ab63fa\", \"#FFA15A\", \"#19d3f3\", \"#FF6692\", \"#B6E880\", \"#FF97FF\", \"#FECB52\"], \"font\": {\"color\": \"#2a3f5f\"}, \"geo\": {\"bgcolor\": \"white\", \"lakecolor\": \"white\", \"landcolor\": \"#E5ECF6\", \"showlakes\": true, \"showland\": true, \"subunitcolor\": \"white\"}, \"hoverlabel\": {\"align\": \"left\"}, \"hovermode\": \"closest\", \"mapbox\": {\"style\": \"light\"}, \"paper_bgcolor\": \"white\", \"plot_bgcolor\": \"#E5ECF6\", \"polar\": {\"angularaxis\": {\"gridcolor\": \"white\", \"linecolor\": \"white\", \"ticks\": \"\"}, \"bgcolor\": \"#E5ECF6\", \"radialaxis\": {\"gridcolor\": \"white\", \"linecolor\": \"white\", \"ticks\": \"\"}}, \"scene\": {\"xaxis\": {\"backgroundcolor\": \"#E5ECF6\", \"gridcolor\": \"white\", \"gridwidth\": 2, \"linecolor\": \"white\", \"showbackground\": true, \"ticks\": \"\", \"zerolinecolor\": \"white\"}, \"yaxis\": {\"backgroundcolor\": \"#E5ECF6\", \"gridcolor\": \"white\", \"gridwidth\": 2, \"linecolor\": \"white\", \"showbackground\": true, \"ticks\": \"\", \"zerolinecolor\": \"white\"}, \"zaxis\": {\"backgroundcolor\": \"#E5ECF6\", \"gridcolor\": \"white\", \"gridwidth\": 2, \"linecolor\": \"white\", \"showbackground\": true, \"ticks\": \"\", \"zerolinecolor\": \"white\"}}, \"shapedefaults\": {\"line\": {\"color\": \"#2a3f5f\"}}, \"ternary\": {\"aaxis\": {\"gridcolor\": \"white\", \"linecolor\": \"white\", \"ticks\": \"\"}, \"baxis\": {\"gridcolor\": \"white\", \"linecolor\": \"white\", \"ticks\": \"\"}, \"bgcolor\": \"#E5ECF6\", \"caxis\": {\"gridcolor\": \"white\", \"linecolor\": \"white\", \"ticks\": \"\"}}, \"title\": {\"x\": 0.05}, \"xaxis\": {\"automargin\": true, \"gridcolor\": \"white\", \"linecolor\": \"white\", \"ticks\": \"\", \"title\": {\"standoff\": 15}, \"zerolinecolor\": \"white\", \"zerolinewidth\": 2}, \"yaxis\": {\"automargin\": true, \"gridcolor\": \"white\", \"linecolor\": \"white\", \"ticks\": \"\", \"title\": {\"standoff\": 15}, \"zerolinecolor\": \"white\", \"zerolinewidth\": 2}}}, \"title\": {\"text\": \"Drugs Count for Top Conditions\"}, \"xaxis\": {\"anchor\": \"y\", \"domain\": [0.0, 1.0], \"title\": {\"text\": \"condition\"}}, \"yaxis\": {\"anchor\": \"x\", \"domain\": [0.0, 1.0], \"title\": {\"text\": \"Count of Drugs\"}}},\n",
              "                        {\"responsive\": true}\n",
              "                    ).then(function(){\n",
              "                            \n",
              "var gd = document.getElementById('acc2788d-d2f6-4876-9963-a1fe8d98eacb');\n",
              "var x = new MutationObserver(function (mutations, observer) {{\n",
              "        var display = window.getComputedStyle(gd).display;\n",
              "        if (!display || display === 'none') {{\n",
              "            console.log([gd, 'removed!']);\n",
              "            Plotly.purge(gd);\n",
              "            observer.disconnect();\n",
              "        }}\n",
              "}});\n",
              "\n",
              "// Listen for the removal of the full notebook cells\n",
              "var notebookContainer = gd.closest('#notebook-container');\n",
              "if (notebookContainer) {{\n",
              "    x.observe(notebookContainer, {childList: true});\n",
              "}}\n",
              "\n",
              "// Listen for the clearing of the current output cell\n",
              "var outputEl = gd.closest('.output');\n",
              "if (outputEl) {{\n",
              "    x.observe(outputEl, {childList: true});\n",
              "}}\n",
              "\n",
              "                        })\n",
              "                };\n",
              "                \n",
              "            </script>\n",
              "        </div>\n",
              "</body>\n",
              "</html>"
            ]
          },
          "metadata": {
            "tags": []
          }
        }
      ]
    },
    {
      "cell_type": "markdown",
      "metadata": {
        "id": "oAtYpn1xlFCm"
      },
      "source": [
        "### Number of conditions present per drug"
      ]
    },
    {
      "cell_type": "code",
      "metadata": {
        "colab": {
          "base_uri": "https://localhost:8080/",
          "height": 542
        },
        "id": "_n7_KCIqkl-v",
        "outputId": "8c5afc2d-9303-4687-bc0d-c81aa2481385"
      },
      "source": [
        "analysis2 = DrugsLib_combined.groupby(['urlDrugName'])['condition'].nunique().sort_values(ascending = False).reset_index().head(30)\n",
        "\n",
        "analysis2=analysis2.rename(columns={'urlDrugName':'Drug Name','condition':'Count of conditions'})\n",
        "fig = px.bar(analysis2, x='Drug Name', y='Count of conditions',\n",
        "            hover_data=['Drug Name', 'Count of conditions'], color='Count of conditions', title='Conditions present per Drug',color_continuous_scale=px.colors.sequential.Viridis)\n",
        "fig.show()"
      ],
      "execution_count": 33,
      "outputs": [
        {
          "output_type": "display_data",
          "data": {
            "text/html": [
              "<html>\n",
              "<head><meta charset=\"utf-8\" /></head>\n",
              "<body>\n",
              "    <div>\n",
              "            <script src=\"https://cdnjs.cloudflare.com/ajax/libs/mathjax/2.7.5/MathJax.js?config=TeX-AMS-MML_SVG\"></script><script type=\"text/javascript\">if (window.MathJax) {MathJax.Hub.Config({SVG: {font: \"STIX-Web\"}});}</script>\n",
              "                <script type=\"text/javascript\">window.PlotlyConfig = {MathJaxConfig: 'local'};</script>\n",
              "        <script src=\"https://cdn.plot.ly/plotly-latest.min.js\"></script>    \n",
              "            <div id=\"038d251a-44dc-40bd-8c45-ac2084e14f87\" class=\"plotly-graph-div\" style=\"height:525px; width:100%;\"></div>\n",
              "            <script type=\"text/javascript\">\n",
              "                \n",
              "                    window.PLOTLYENV=window.PLOTLYENV || {};\n",
              "                    \n",
              "                if (document.getElementById(\"038d251a-44dc-40bd-8c45-ac2084e14f87\")) {\n",
              "                    Plotly.newPlot(\n",
              "                        '038d251a-44dc-40bd-8c45-ac2084e14f87',\n",
              "                        [{\"alignmentgroup\": \"True\", \"customdata\": [[\"neurontin\", 36], [\"retin-a\", 33], [\"lexapro\", 29], [\"tramadol\", 27], [\"synthroid\", 27], [\"paxil\", 25], [\"provigil\", 25], [\"nexium\", 23], [\"cymbalta\", 23], [\"seroquel\", 23], [\"prednisone\", 23], [\"doxycycline\", 23], [\"vicodin\", 22], [\"mobic\", 22], [\"zoloft\", 22], [\"zyrtec\", 21], [\"amoxil\", 21], [\"flonase\", 21], [\"lamictal\", 20], [\"tazorac\", 20], [\"flexeril\", 20], [\"effexor\", 19], [\"effexor-xr\", 19], [\"topamax\", 19], [\"augmentin\", 19], [\"renova\", 19], [\"premarin\", 18], [\"lipitor\", 18], [\"retin-a-micro\", 18], [\"citalopram\", 17]], \"hoverlabel\": {\"namelength\": 0}, \"hovertemplate\": \"Drug Name=%{customdata[0]}<br>Count of conditions=%{marker.color}\", \"legendgroup\": \"\", \"marker\": {\"color\": [36, 33, 29, 27, 27, 25, 25, 23, 23, 23, 23, 23, 22, 22, 22, 21, 21, 21, 20, 20, 20, 19, 19, 19, 19, 19, 18, 18, 18, 17], \"coloraxis\": \"coloraxis\"}, \"name\": \"\", \"offsetgroup\": \"\", \"orientation\": \"v\", \"showlegend\": false, \"textposition\": \"auto\", \"type\": \"bar\", \"x\": [\"neurontin\", \"retin-a\", \"lexapro\", \"tramadol\", \"synthroid\", \"paxil\", \"provigil\", \"nexium\", \"cymbalta\", \"seroquel\", \"prednisone\", \"doxycycline\", \"vicodin\", \"mobic\", \"zoloft\", \"zyrtec\", \"amoxil\", \"flonase\", \"lamictal\", \"tazorac\", \"flexeril\", \"effexor\", \"effexor-xr\", \"topamax\", \"augmentin\", \"renova\", \"premarin\", \"lipitor\", \"retin-a-micro\", \"citalopram\"], \"xaxis\": \"x\", \"y\": [36, 33, 29, 27, 27, 25, 25, 23, 23, 23, 23, 23, 22, 22, 22, 21, 21, 21, 20, 20, 20, 19, 19, 19, 19, 19, 18, 18, 18, 17], \"yaxis\": \"y\"}],\n",
              "                        {\"barmode\": \"relative\", \"coloraxis\": {\"colorbar\": {\"title\": {\"text\": \"Count of conditions\"}}, \"colorscale\": [[0.0, \"#440154\"], [0.1111111111111111, \"#482878\"], [0.2222222222222222, \"#3e4989\"], [0.3333333333333333, \"#31688e\"], [0.4444444444444444, \"#26828e\"], [0.5555555555555556, \"#1f9e89\"], [0.6666666666666666, \"#35b779\"], [0.7777777777777778, \"#6ece58\"], [0.8888888888888888, \"#b5de2b\"], [1.0, \"#fde725\"]]}, \"legend\": {\"tracegroupgap\": 0}, \"template\": {\"data\": {\"bar\": [{\"error_x\": {\"color\": \"#2a3f5f\"}, \"error_y\": {\"color\": \"#2a3f5f\"}, \"marker\": {\"line\": {\"color\": \"#E5ECF6\", \"width\": 0.5}}, \"type\": \"bar\"}], \"barpolar\": [{\"marker\": {\"line\": {\"color\": \"#E5ECF6\", \"width\": 0.5}}, \"type\": \"barpolar\"}], \"carpet\": [{\"aaxis\": {\"endlinecolor\": \"#2a3f5f\", \"gridcolor\": \"white\", \"linecolor\": \"white\", \"minorgridcolor\": \"white\", \"startlinecolor\": \"#2a3f5f\"}, \"baxis\": {\"endlinecolor\": \"#2a3f5f\", \"gridcolor\": \"white\", \"linecolor\": \"white\", \"minorgridcolor\": \"white\", \"startlinecolor\": \"#2a3f5f\"}, \"type\": \"carpet\"}], \"choropleth\": [{\"colorbar\": {\"outlinewidth\": 0, \"ticks\": \"\"}, \"type\": \"choropleth\"}], \"contour\": [{\"colorbar\": {\"outlinewidth\": 0, \"ticks\": \"\"}, \"colorscale\": [[0.0, \"#0d0887\"], [0.1111111111111111, \"#46039f\"], [0.2222222222222222, \"#7201a8\"], [0.3333333333333333, \"#9c179e\"], [0.4444444444444444, \"#bd3786\"], [0.5555555555555556, \"#d8576b\"], [0.6666666666666666, \"#ed7953\"], [0.7777777777777778, \"#fb9f3a\"], [0.8888888888888888, \"#fdca26\"], [1.0, \"#f0f921\"]], \"type\": \"contour\"}], \"contourcarpet\": [{\"colorbar\": {\"outlinewidth\": 0, \"ticks\": \"\"}, \"type\": \"contourcarpet\"}], \"heatmap\": [{\"colorbar\": {\"outlinewidth\": 0, \"ticks\": \"\"}, \"colorscale\": [[0.0, \"#0d0887\"], [0.1111111111111111, \"#46039f\"], [0.2222222222222222, \"#7201a8\"], [0.3333333333333333, \"#9c179e\"], [0.4444444444444444, \"#bd3786\"], [0.5555555555555556, \"#d8576b\"], [0.6666666666666666, \"#ed7953\"], [0.7777777777777778, \"#fb9f3a\"], [0.8888888888888888, \"#fdca26\"], [1.0, \"#f0f921\"]], \"type\": \"heatmap\"}], \"heatmapgl\": [{\"colorbar\": {\"outlinewidth\": 0, \"ticks\": \"\"}, \"colorscale\": [[0.0, \"#0d0887\"], [0.1111111111111111, \"#46039f\"], [0.2222222222222222, \"#7201a8\"], [0.3333333333333333, \"#9c179e\"], [0.4444444444444444, \"#bd3786\"], [0.5555555555555556, \"#d8576b\"], [0.6666666666666666, \"#ed7953\"], [0.7777777777777778, \"#fb9f3a\"], [0.8888888888888888, \"#fdca26\"], [1.0, \"#f0f921\"]], \"type\": \"heatmapgl\"}], \"histogram\": [{\"marker\": {\"colorbar\": {\"outlinewidth\": 0, \"ticks\": \"\"}}, \"type\": \"histogram\"}], \"histogram2d\": [{\"colorbar\": {\"outlinewidth\": 0, \"ticks\": \"\"}, \"colorscale\": [[0.0, \"#0d0887\"], [0.1111111111111111, \"#46039f\"], [0.2222222222222222, \"#7201a8\"], [0.3333333333333333, \"#9c179e\"], [0.4444444444444444, \"#bd3786\"], [0.5555555555555556, \"#d8576b\"], [0.6666666666666666, \"#ed7953\"], [0.7777777777777778, \"#fb9f3a\"], [0.8888888888888888, \"#fdca26\"], [1.0, \"#f0f921\"]], \"type\": \"histogram2d\"}], \"histogram2dcontour\": [{\"colorbar\": {\"outlinewidth\": 0, \"ticks\": \"\"}, \"colorscale\": [[0.0, \"#0d0887\"], [0.1111111111111111, \"#46039f\"], [0.2222222222222222, \"#7201a8\"], [0.3333333333333333, \"#9c179e\"], [0.4444444444444444, \"#bd3786\"], [0.5555555555555556, \"#d8576b\"], [0.6666666666666666, \"#ed7953\"], [0.7777777777777778, \"#fb9f3a\"], [0.8888888888888888, \"#fdca26\"], [1.0, \"#f0f921\"]], \"type\": \"histogram2dcontour\"}], \"mesh3d\": [{\"colorbar\": {\"outlinewidth\": 0, \"ticks\": \"\"}, \"type\": \"mesh3d\"}], \"parcoords\": [{\"line\": {\"colorbar\": {\"outlinewidth\": 0, \"ticks\": \"\"}}, \"type\": \"parcoords\"}], \"pie\": [{\"automargin\": true, \"type\": \"pie\"}], \"scatter\": [{\"marker\": {\"colorbar\": {\"outlinewidth\": 0, \"ticks\": \"\"}}, \"type\": \"scatter\"}], \"scatter3d\": [{\"line\": {\"colorbar\": {\"outlinewidth\": 0, \"ticks\": \"\"}}, \"marker\": {\"colorbar\": {\"outlinewidth\": 0, \"ticks\": \"\"}}, \"type\": \"scatter3d\"}], \"scattercarpet\": [{\"marker\": {\"colorbar\": {\"outlinewidth\": 0, \"ticks\": \"\"}}, \"type\": \"scattercarpet\"}], \"scattergeo\": [{\"marker\": {\"colorbar\": {\"outlinewidth\": 0, \"ticks\": \"\"}}, \"type\": \"scattergeo\"}], \"scattergl\": [{\"marker\": {\"colorbar\": {\"outlinewidth\": 0, \"ticks\": \"\"}}, \"type\": \"scattergl\"}], \"scattermapbox\": [{\"marker\": {\"colorbar\": {\"outlinewidth\": 0, \"ticks\": \"\"}}, \"type\": \"scattermapbox\"}], \"scatterpolar\": [{\"marker\": {\"colorbar\": {\"outlinewidth\": 0, \"ticks\": \"\"}}, \"type\": \"scatterpolar\"}], \"scatterpolargl\": [{\"marker\": {\"colorbar\": {\"outlinewidth\": 0, \"ticks\": \"\"}}, \"type\": \"scatterpolargl\"}], \"scatterternary\": [{\"marker\": {\"colorbar\": {\"outlinewidth\": 0, \"ticks\": \"\"}}, \"type\": \"scatterternary\"}], \"surface\": [{\"colorbar\": {\"outlinewidth\": 0, \"ticks\": \"\"}, \"colorscale\": [[0.0, \"#0d0887\"], [0.1111111111111111, \"#46039f\"], [0.2222222222222222, \"#7201a8\"], [0.3333333333333333, \"#9c179e\"], [0.4444444444444444, \"#bd3786\"], [0.5555555555555556, \"#d8576b\"], [0.6666666666666666, \"#ed7953\"], [0.7777777777777778, \"#fb9f3a\"], [0.8888888888888888, \"#fdca26\"], [1.0, \"#f0f921\"]], \"type\": \"surface\"}], \"table\": [{\"cells\": {\"fill\": {\"color\": \"#EBF0F8\"}, \"line\": {\"color\": \"white\"}}, \"header\": {\"fill\": {\"color\": \"#C8D4E3\"}, \"line\": {\"color\": \"white\"}}, \"type\": \"table\"}]}, \"layout\": {\"annotationdefaults\": {\"arrowcolor\": \"#2a3f5f\", \"arrowhead\": 0, \"arrowwidth\": 1}, \"coloraxis\": {\"colorbar\": {\"outlinewidth\": 0, \"ticks\": \"\"}}, \"colorscale\": {\"diverging\": [[0, \"#8e0152\"], [0.1, \"#c51b7d\"], [0.2, \"#de77ae\"], [0.3, \"#f1b6da\"], [0.4, \"#fde0ef\"], [0.5, \"#f7f7f7\"], [0.6, \"#e6f5d0\"], [0.7, \"#b8e186\"], [0.8, \"#7fbc41\"], [0.9, \"#4d9221\"], [1, \"#276419\"]], \"sequential\": [[0.0, \"#0d0887\"], [0.1111111111111111, \"#46039f\"], [0.2222222222222222, \"#7201a8\"], [0.3333333333333333, \"#9c179e\"], [0.4444444444444444, \"#bd3786\"], [0.5555555555555556, \"#d8576b\"], [0.6666666666666666, \"#ed7953\"], [0.7777777777777778, \"#fb9f3a\"], [0.8888888888888888, \"#fdca26\"], [1.0, \"#f0f921\"]], \"sequentialminus\": [[0.0, \"#0d0887\"], [0.1111111111111111, \"#46039f\"], [0.2222222222222222, \"#7201a8\"], [0.3333333333333333, \"#9c179e\"], [0.4444444444444444, \"#bd3786\"], [0.5555555555555556, \"#d8576b\"], [0.6666666666666666, \"#ed7953\"], [0.7777777777777778, \"#fb9f3a\"], [0.8888888888888888, \"#fdca26\"], [1.0, \"#f0f921\"]]}, \"colorway\": [\"#636efa\", \"#EF553B\", \"#00cc96\", \"#ab63fa\", \"#FFA15A\", \"#19d3f3\", \"#FF6692\", \"#B6E880\", \"#FF97FF\", \"#FECB52\"], \"font\": {\"color\": \"#2a3f5f\"}, \"geo\": {\"bgcolor\": \"white\", \"lakecolor\": \"white\", \"landcolor\": \"#E5ECF6\", \"showlakes\": true, \"showland\": true, \"subunitcolor\": \"white\"}, \"hoverlabel\": {\"align\": \"left\"}, \"hovermode\": \"closest\", \"mapbox\": {\"style\": \"light\"}, \"paper_bgcolor\": \"white\", \"plot_bgcolor\": \"#E5ECF6\", \"polar\": {\"angularaxis\": {\"gridcolor\": \"white\", \"linecolor\": \"white\", \"ticks\": \"\"}, \"bgcolor\": \"#E5ECF6\", \"radialaxis\": {\"gridcolor\": \"white\", \"linecolor\": \"white\", \"ticks\": \"\"}}, \"scene\": {\"xaxis\": {\"backgroundcolor\": \"#E5ECF6\", \"gridcolor\": \"white\", \"gridwidth\": 2, \"linecolor\": \"white\", \"showbackground\": true, \"ticks\": \"\", \"zerolinecolor\": \"white\"}, \"yaxis\": {\"backgroundcolor\": \"#E5ECF6\", \"gridcolor\": \"white\", \"gridwidth\": 2, \"linecolor\": \"white\", \"showbackground\": true, \"ticks\": \"\", \"zerolinecolor\": \"white\"}, \"zaxis\": {\"backgroundcolor\": \"#E5ECF6\", \"gridcolor\": \"white\", \"gridwidth\": 2, \"linecolor\": \"white\", \"showbackground\": true, \"ticks\": \"\", \"zerolinecolor\": \"white\"}}, \"shapedefaults\": {\"line\": {\"color\": \"#2a3f5f\"}}, \"ternary\": {\"aaxis\": {\"gridcolor\": \"white\", \"linecolor\": \"white\", \"ticks\": \"\"}, \"baxis\": {\"gridcolor\": \"white\", \"linecolor\": \"white\", \"ticks\": \"\"}, \"bgcolor\": \"#E5ECF6\", \"caxis\": {\"gridcolor\": \"white\", \"linecolor\": \"white\", \"ticks\": \"\"}}, \"title\": {\"x\": 0.05}, \"xaxis\": {\"automargin\": true, \"gridcolor\": \"white\", \"linecolor\": \"white\", \"ticks\": \"\", \"title\": {\"standoff\": 15}, \"zerolinecolor\": \"white\", \"zerolinewidth\": 2}, \"yaxis\": {\"automargin\": true, \"gridcolor\": \"white\", \"linecolor\": \"white\", \"ticks\": \"\", \"title\": {\"standoff\": 15}, \"zerolinecolor\": \"white\", \"zerolinewidth\": 2}}}, \"title\": {\"text\": \"Conditions present per Drug\"}, \"xaxis\": {\"anchor\": \"y\", \"domain\": [0.0, 1.0], \"title\": {\"text\": \"Drug Name\"}}, \"yaxis\": {\"anchor\": \"x\", \"domain\": [0.0, 1.0], \"title\": {\"text\": \"Count of conditions\"}}},\n",
              "                        {\"responsive\": true}\n",
              "                    ).then(function(){\n",
              "                            \n",
              "var gd = document.getElementById('038d251a-44dc-40bd-8c45-ac2084e14f87');\n",
              "var x = new MutationObserver(function (mutations, observer) {{\n",
              "        var display = window.getComputedStyle(gd).display;\n",
              "        if (!display || display === 'none') {{\n",
              "            console.log([gd, 'removed!']);\n",
              "            Plotly.purge(gd);\n",
              "            observer.disconnect();\n",
              "        }}\n",
              "}});\n",
              "\n",
              "// Listen for the removal of the full notebook cells\n",
              "var notebookContainer = gd.closest('#notebook-container');\n",
              "if (notebookContainer) {{\n",
              "    x.observe(notebookContainer, {childList: true});\n",
              "}}\n",
              "\n",
              "// Listen for the clearing of the current output cell\n",
              "var outputEl = gd.closest('.output');\n",
              "if (outputEl) {{\n",
              "    x.observe(outputEl, {childList: true});\n",
              "}}\n",
              "\n",
              "                        })\n",
              "                };\n",
              "                \n",
              "            </script>\n",
              "        </div>\n",
              "</body>\n",
              "</html>"
            ]
          },
          "metadata": {
            "tags": []
          }
        }
      ]
    },
    {
      "cell_type": "markdown",
      "metadata": {
        "id": "8Yobq73kmAnF"
      },
      "source": [
        "### Most Common Conditions based on Reviews"
      ]
    },
    {
      "cell_type": "code",
      "metadata": {
        "colab": {
          "base_uri": "https://localhost:8080/",
          "height": 542
        },
        "id": "NvvboZb7lqcb",
        "outputId": "c3887806-5321-46f5-8199-faa3950db053"
      },
      "source": [
        "analysis3 = DrugsLib_combined['condition'].value_counts().head(30).reset_index()\n",
        "analysis3.columns = ['condition','count']\n",
        "\n",
        "\n",
        "fig = px.bar(analysis3, x='condition', y='count',\n",
        "            hover_data=['condition', 'count'], color='count', title='Most Common Conditions based on Reviews')\n",
        "fig.show()"
      ],
      "execution_count": 34,
      "outputs": [
        {
          "output_type": "display_data",
          "data": {
            "text/html": [
              "<html>\n",
              "<head><meta charset=\"utf-8\" /></head>\n",
              "<body>\n",
              "    <div>\n",
              "            <script src=\"https://cdnjs.cloudflare.com/ajax/libs/mathjax/2.7.5/MathJax.js?config=TeX-AMS-MML_SVG\"></script><script type=\"text/javascript\">if (window.MathJax) {MathJax.Hub.Config({SVG: {font: \"STIX-Web\"}});}</script>\n",
              "                <script type=\"text/javascript\">window.PlotlyConfig = {MathJaxConfig: 'local'};</script>\n",
              "        <script src=\"https://cdn.plot.ly/plotly-latest.min.js\"></script>    \n",
              "            <div id=\"cb995d08-fb1d-47e2-bf03-2c7ac369f484\" class=\"plotly-graph-div\" style=\"height:525px; width:100%;\"></div>\n",
              "            <script type=\"text/javascript\">\n",
              "                \n",
              "                    window.PLOTLYENV=window.PLOTLYENV || {};\n",
              "                    \n",
              "                if (document.getElementById(\"cb995d08-fb1d-47e2-bf03-2c7ac369f484\")) {\n",
              "                    Plotly.newPlot(\n",
              "                        'cb995d08-fb1d-47e2-bf03-2c7ac369f484',\n",
              "                        [{\"alignmentgroup\": \"True\", \"customdata\": [[\"depression\", 302], [\"acne\", 211], [\"anxiety\", 90], [\"insomnia\", 75], [\"birth control\", 68], [\"high blood pressure\", 62], [\"allergies\", 49], [\"migraine\", 44], [\"asthma\", 41], [\"add\", 41], [\"hypothyroidism\", 39], [\"acid reflux\", 37], [\"migraines\", 37], [\"hair loss\", 35], [\"high cholesterol\", 35], [\"adhd\", 34], [\"hypertension\", 30], [\"fibromyalgia\", 29], [\"sinus infection\", 28], [\"depression/anxiety\", 26], [\"smoking cessation\", 24], [\"gerd\", 24], [\"rheumatoid arthritis\", 23], [\"rosacea\", 23], [\"menopause\", 22], [\"weight loss\", 20], [\"bipolar disorder\", 20], [\"arthritis\", 20], [\"wrinkles\", 18], [\"uti\", 17]], \"hoverlabel\": {\"namelength\": 0}, \"hovertemplate\": \"condition=%{customdata[0]}<br>count=%{marker.color}\", \"legendgroup\": \"\", \"marker\": {\"color\": [302, 211, 90, 75, 68, 62, 49, 44, 41, 41, 39, 37, 37, 35, 35, 34, 30, 29, 28, 26, 24, 24, 23, 23, 22, 20, 20, 20, 18, 17], \"coloraxis\": \"coloraxis\"}, \"name\": \"\", \"offsetgroup\": \"\", \"orientation\": \"v\", \"showlegend\": false, \"textposition\": \"auto\", \"type\": \"bar\", \"x\": [\"depression\", \"acne\", \"anxiety\", \"insomnia\", \"birth control\", \"high blood pressure\", \"allergies\", \"migraine\", \"asthma\", \"add\", \"hypothyroidism\", \"acid reflux\", \"migraines\", \"hair loss\", \"high cholesterol\", \"adhd\", \"hypertension\", \"fibromyalgia\", \"sinus infection\", \"depression/anxiety\", \"smoking cessation\", \"gerd\", \"rheumatoid arthritis\", \"rosacea\", \"menopause\", \"weight loss\", \"bipolar disorder\", \"arthritis\", \"wrinkles\", \"uti\"], \"xaxis\": \"x\", \"y\": [302, 211, 90, 75, 68, 62, 49, 44, 41, 41, 39, 37, 37, 35, 35, 34, 30, 29, 28, 26, 24, 24, 23, 23, 22, 20, 20, 20, 18, 17], \"yaxis\": \"y\"}],\n",
              "                        {\"barmode\": \"relative\", \"coloraxis\": {\"colorbar\": {\"title\": {\"text\": \"count\"}}, \"colorscale\": [[0.0, \"#0d0887\"], [0.1111111111111111, \"#46039f\"], [0.2222222222222222, \"#7201a8\"], [0.3333333333333333, \"#9c179e\"], [0.4444444444444444, \"#bd3786\"], [0.5555555555555556, \"#d8576b\"], [0.6666666666666666, \"#ed7953\"], [0.7777777777777778, \"#fb9f3a\"], [0.8888888888888888, \"#fdca26\"], [1.0, \"#f0f921\"]]}, \"legend\": {\"tracegroupgap\": 0}, \"template\": {\"data\": {\"bar\": [{\"error_x\": {\"color\": \"#2a3f5f\"}, \"error_y\": {\"color\": \"#2a3f5f\"}, \"marker\": {\"line\": {\"color\": \"#E5ECF6\", \"width\": 0.5}}, \"type\": \"bar\"}], \"barpolar\": [{\"marker\": {\"line\": {\"color\": \"#E5ECF6\", \"width\": 0.5}}, \"type\": \"barpolar\"}], \"carpet\": [{\"aaxis\": {\"endlinecolor\": \"#2a3f5f\", \"gridcolor\": \"white\", \"linecolor\": \"white\", \"minorgridcolor\": \"white\", \"startlinecolor\": \"#2a3f5f\"}, \"baxis\": {\"endlinecolor\": \"#2a3f5f\", \"gridcolor\": \"white\", \"linecolor\": \"white\", \"minorgridcolor\": \"white\", \"startlinecolor\": \"#2a3f5f\"}, \"type\": \"carpet\"}], \"choropleth\": [{\"colorbar\": {\"outlinewidth\": 0, \"ticks\": \"\"}, \"type\": \"choropleth\"}], \"contour\": [{\"colorbar\": {\"outlinewidth\": 0, \"ticks\": \"\"}, \"colorscale\": [[0.0, \"#0d0887\"], [0.1111111111111111, \"#46039f\"], [0.2222222222222222, \"#7201a8\"], [0.3333333333333333, \"#9c179e\"], [0.4444444444444444, \"#bd3786\"], [0.5555555555555556, \"#d8576b\"], [0.6666666666666666, \"#ed7953\"], [0.7777777777777778, \"#fb9f3a\"], [0.8888888888888888, \"#fdca26\"], [1.0, \"#f0f921\"]], \"type\": \"contour\"}], \"contourcarpet\": [{\"colorbar\": {\"outlinewidth\": 0, \"ticks\": \"\"}, \"type\": \"contourcarpet\"}], \"heatmap\": [{\"colorbar\": {\"outlinewidth\": 0, \"ticks\": \"\"}, \"colorscale\": [[0.0, \"#0d0887\"], [0.1111111111111111, \"#46039f\"], [0.2222222222222222, \"#7201a8\"], [0.3333333333333333, \"#9c179e\"], [0.4444444444444444, \"#bd3786\"], [0.5555555555555556, \"#d8576b\"], [0.6666666666666666, \"#ed7953\"], [0.7777777777777778, \"#fb9f3a\"], [0.8888888888888888, \"#fdca26\"], [1.0, \"#f0f921\"]], \"type\": \"heatmap\"}], \"heatmapgl\": [{\"colorbar\": {\"outlinewidth\": 0, \"ticks\": \"\"}, \"colorscale\": [[0.0, \"#0d0887\"], [0.1111111111111111, \"#46039f\"], [0.2222222222222222, \"#7201a8\"], [0.3333333333333333, \"#9c179e\"], [0.4444444444444444, \"#bd3786\"], [0.5555555555555556, \"#d8576b\"], [0.6666666666666666, \"#ed7953\"], [0.7777777777777778, \"#fb9f3a\"], [0.8888888888888888, \"#fdca26\"], [1.0, \"#f0f921\"]], \"type\": \"heatmapgl\"}], \"histogram\": [{\"marker\": {\"colorbar\": {\"outlinewidth\": 0, \"ticks\": \"\"}}, \"type\": \"histogram\"}], \"histogram2d\": [{\"colorbar\": {\"outlinewidth\": 0, \"ticks\": \"\"}, \"colorscale\": [[0.0, \"#0d0887\"], [0.1111111111111111, \"#46039f\"], [0.2222222222222222, \"#7201a8\"], [0.3333333333333333, \"#9c179e\"], [0.4444444444444444, \"#bd3786\"], [0.5555555555555556, \"#d8576b\"], [0.6666666666666666, \"#ed7953\"], [0.7777777777777778, \"#fb9f3a\"], [0.8888888888888888, \"#fdca26\"], [1.0, \"#f0f921\"]], \"type\": \"histogram2d\"}], \"histogram2dcontour\": [{\"colorbar\": {\"outlinewidth\": 0, \"ticks\": \"\"}, \"colorscale\": [[0.0, \"#0d0887\"], [0.1111111111111111, \"#46039f\"], [0.2222222222222222, \"#7201a8\"], [0.3333333333333333, \"#9c179e\"], [0.4444444444444444, \"#bd3786\"], [0.5555555555555556, \"#d8576b\"], [0.6666666666666666, \"#ed7953\"], [0.7777777777777778, \"#fb9f3a\"], [0.8888888888888888, \"#fdca26\"], [1.0, \"#f0f921\"]], \"type\": \"histogram2dcontour\"}], \"mesh3d\": [{\"colorbar\": {\"outlinewidth\": 0, \"ticks\": \"\"}, \"type\": \"mesh3d\"}], \"parcoords\": [{\"line\": {\"colorbar\": {\"outlinewidth\": 0, \"ticks\": \"\"}}, \"type\": \"parcoords\"}], \"pie\": [{\"automargin\": true, \"type\": \"pie\"}], \"scatter\": [{\"marker\": {\"colorbar\": {\"outlinewidth\": 0, \"ticks\": \"\"}}, \"type\": \"scatter\"}], \"scatter3d\": [{\"line\": {\"colorbar\": {\"outlinewidth\": 0, \"ticks\": \"\"}}, \"marker\": {\"colorbar\": {\"outlinewidth\": 0, \"ticks\": \"\"}}, \"type\": \"scatter3d\"}], \"scattercarpet\": [{\"marker\": {\"colorbar\": {\"outlinewidth\": 0, \"ticks\": \"\"}}, \"type\": \"scattercarpet\"}], \"scattergeo\": [{\"marker\": {\"colorbar\": {\"outlinewidth\": 0, \"ticks\": \"\"}}, \"type\": \"scattergeo\"}], \"scattergl\": [{\"marker\": {\"colorbar\": {\"outlinewidth\": 0, \"ticks\": \"\"}}, \"type\": \"scattergl\"}], \"scattermapbox\": [{\"marker\": {\"colorbar\": {\"outlinewidth\": 0, \"ticks\": \"\"}}, \"type\": \"scattermapbox\"}], \"scatterpolar\": [{\"marker\": {\"colorbar\": {\"outlinewidth\": 0, \"ticks\": \"\"}}, \"type\": \"scatterpolar\"}], \"scatterpolargl\": [{\"marker\": {\"colorbar\": {\"outlinewidth\": 0, \"ticks\": \"\"}}, \"type\": \"scatterpolargl\"}], \"scatterternary\": [{\"marker\": {\"colorbar\": {\"outlinewidth\": 0, \"ticks\": \"\"}}, \"type\": \"scatterternary\"}], \"surface\": [{\"colorbar\": {\"outlinewidth\": 0, \"ticks\": \"\"}, \"colorscale\": [[0.0, \"#0d0887\"], [0.1111111111111111, \"#46039f\"], [0.2222222222222222, \"#7201a8\"], [0.3333333333333333, \"#9c179e\"], [0.4444444444444444, \"#bd3786\"], [0.5555555555555556, \"#d8576b\"], [0.6666666666666666, \"#ed7953\"], [0.7777777777777778, \"#fb9f3a\"], [0.8888888888888888, \"#fdca26\"], [1.0, \"#f0f921\"]], \"type\": \"surface\"}], \"table\": [{\"cells\": {\"fill\": {\"color\": \"#EBF0F8\"}, \"line\": {\"color\": \"white\"}}, \"header\": {\"fill\": {\"color\": \"#C8D4E3\"}, \"line\": {\"color\": \"white\"}}, \"type\": \"table\"}]}, \"layout\": {\"annotationdefaults\": {\"arrowcolor\": \"#2a3f5f\", \"arrowhead\": 0, \"arrowwidth\": 1}, \"coloraxis\": {\"colorbar\": {\"outlinewidth\": 0, \"ticks\": \"\"}}, \"colorscale\": {\"diverging\": [[0, \"#8e0152\"], [0.1, \"#c51b7d\"], [0.2, \"#de77ae\"], [0.3, \"#f1b6da\"], [0.4, \"#fde0ef\"], [0.5, \"#f7f7f7\"], [0.6, \"#e6f5d0\"], [0.7, \"#b8e186\"], [0.8, \"#7fbc41\"], [0.9, \"#4d9221\"], [1, \"#276419\"]], \"sequential\": [[0.0, \"#0d0887\"], [0.1111111111111111, \"#46039f\"], [0.2222222222222222, \"#7201a8\"], [0.3333333333333333, \"#9c179e\"], [0.4444444444444444, \"#bd3786\"], [0.5555555555555556, \"#d8576b\"], [0.6666666666666666, \"#ed7953\"], [0.7777777777777778, \"#fb9f3a\"], [0.8888888888888888, \"#fdca26\"], [1.0, \"#f0f921\"]], \"sequentialminus\": [[0.0, \"#0d0887\"], [0.1111111111111111, \"#46039f\"], [0.2222222222222222, \"#7201a8\"], [0.3333333333333333, \"#9c179e\"], [0.4444444444444444, \"#bd3786\"], [0.5555555555555556, \"#d8576b\"], [0.6666666666666666, \"#ed7953\"], [0.7777777777777778, \"#fb9f3a\"], [0.8888888888888888, \"#fdca26\"], [1.0, \"#f0f921\"]]}, \"colorway\": [\"#636efa\", \"#EF553B\", \"#00cc96\", \"#ab63fa\", \"#FFA15A\", \"#19d3f3\", \"#FF6692\", \"#B6E880\", \"#FF97FF\", \"#FECB52\"], \"font\": {\"color\": \"#2a3f5f\"}, \"geo\": {\"bgcolor\": \"white\", \"lakecolor\": \"white\", \"landcolor\": \"#E5ECF6\", \"showlakes\": true, \"showland\": true, \"subunitcolor\": \"white\"}, \"hoverlabel\": {\"align\": \"left\"}, \"hovermode\": \"closest\", \"mapbox\": {\"style\": \"light\"}, \"paper_bgcolor\": \"white\", \"plot_bgcolor\": \"#E5ECF6\", \"polar\": {\"angularaxis\": {\"gridcolor\": \"white\", \"linecolor\": \"white\", \"ticks\": \"\"}, \"bgcolor\": \"#E5ECF6\", \"radialaxis\": {\"gridcolor\": \"white\", \"linecolor\": \"white\", \"ticks\": \"\"}}, \"scene\": {\"xaxis\": {\"backgroundcolor\": \"#E5ECF6\", \"gridcolor\": \"white\", \"gridwidth\": 2, \"linecolor\": \"white\", \"showbackground\": true, \"ticks\": \"\", \"zerolinecolor\": \"white\"}, \"yaxis\": {\"backgroundcolor\": \"#E5ECF6\", \"gridcolor\": \"white\", \"gridwidth\": 2, \"linecolor\": \"white\", \"showbackground\": true, \"ticks\": \"\", \"zerolinecolor\": \"white\"}, \"zaxis\": {\"backgroundcolor\": \"#E5ECF6\", \"gridcolor\": \"white\", \"gridwidth\": 2, \"linecolor\": \"white\", \"showbackground\": true, \"ticks\": \"\", \"zerolinecolor\": \"white\"}}, \"shapedefaults\": {\"line\": {\"color\": \"#2a3f5f\"}}, \"ternary\": {\"aaxis\": {\"gridcolor\": \"white\", \"linecolor\": \"white\", \"ticks\": \"\"}, \"baxis\": {\"gridcolor\": \"white\", \"linecolor\": \"white\", \"ticks\": \"\"}, \"bgcolor\": \"#E5ECF6\", \"caxis\": {\"gridcolor\": \"white\", \"linecolor\": \"white\", \"ticks\": \"\"}}, \"title\": {\"x\": 0.05}, \"xaxis\": {\"automargin\": true, \"gridcolor\": \"white\", \"linecolor\": \"white\", \"ticks\": \"\", \"title\": {\"standoff\": 15}, \"zerolinecolor\": \"white\", \"zerolinewidth\": 2}, \"yaxis\": {\"automargin\": true, \"gridcolor\": \"white\", \"linecolor\": \"white\", \"ticks\": \"\", \"title\": {\"standoff\": 15}, \"zerolinecolor\": \"white\", \"zerolinewidth\": 2}}}, \"title\": {\"text\": \"Most Common Conditions based on Reviews\"}, \"xaxis\": {\"anchor\": \"y\", \"domain\": [0.0, 1.0], \"title\": {\"text\": \"condition\"}}, \"yaxis\": {\"anchor\": \"x\", \"domain\": [0.0, 1.0], \"title\": {\"text\": \"count\"}}},\n",
              "                        {\"responsive\": true}\n",
              "                    ).then(function(){\n",
              "                            \n",
              "var gd = document.getElementById('cb995d08-fb1d-47e2-bf03-2c7ac369f484');\n",
              "var x = new MutationObserver(function (mutations, observer) {{\n",
              "        var display = window.getComputedStyle(gd).display;\n",
              "        if (!display || display === 'none') {{\n",
              "            console.log([gd, 'removed!']);\n",
              "            Plotly.purge(gd);\n",
              "            observer.disconnect();\n",
              "        }}\n",
              "}});\n",
              "\n",
              "// Listen for the removal of the full notebook cells\n",
              "var notebookContainer = gd.closest('#notebook-container');\n",
              "if (notebookContainer) {{\n",
              "    x.observe(notebookContainer, {childList: true});\n",
              "}}\n",
              "\n",
              "// Listen for the clearing of the current output cell\n",
              "var outputEl = gd.closest('.output');\n",
              "if (outputEl) {{\n",
              "    x.observe(outputEl, {childList: true});\n",
              "}}\n",
              "\n",
              "                        })\n",
              "                };\n",
              "                \n",
              "            </script>\n",
              "        </div>\n",
              "</body>\n",
              "</html>"
            ]
          },
          "metadata": {
            "tags": []
          }
        }
      ]
    },
    {
      "cell_type": "markdown",
      "metadata": {
        "id": "1yzmgQRrmVDd"
      },
      "source": [
        "### Ratings Distribution"
      ]
    },
    {
      "cell_type": "code",
      "metadata": {
        "id": "4Y7lzhtExsgg",
        "outputId": "af39f7f9-e68c-44d8-a571-ba1941421b4c",
        "colab": {
          "base_uri": "https://localhost:8080/",
          "height": 542
        }
      },
      "source": [
        "fig = px.histogram(DrugsLib_combined, x=\"rating\",color_discrete_sequence=['indianred'],title='Ratings distribution')\n",
        "fig.show()\n"
      ],
      "execution_count": 40,
      "outputs": [
        {
          "output_type": "display_data",
          "data": {
            "text/html": [
              "<html>\n",
              "<head><meta charset=\"utf-8\" /></head>\n",
              "<body>\n",
              "    <div>\n",
              "            <script src=\"https://cdnjs.cloudflare.com/ajax/libs/mathjax/2.7.5/MathJax.js?config=TeX-AMS-MML_SVG\"></script><script type=\"text/javascript\">if (window.MathJax) {MathJax.Hub.Config({SVG: {font: \"STIX-Web\"}});}</script>\n",
              "                <script type=\"text/javascript\">window.PlotlyConfig = {MathJaxConfig: 'local'};</script>\n",
              "        <script src=\"https://cdn.plot.ly/plotly-latest.min.js\"></script>    \n",
              "            <div id=\"74091a85-f4ff-4cc8-887d-99234f5f02ac\" class=\"plotly-graph-div\" style=\"height:525px; width:100%;\"></div>\n",
              "            <script type=\"text/javascript\">\n",
              "                \n",
              "                    window.PLOTLYENV=window.PLOTLYENV || {};\n",
              "                    \n",
              "                if (document.getElementById(\"74091a85-f4ff-4cc8-887d-99234f5f02ac\")) {\n",
              "                    Plotly.newPlot(\n",
              "                        '74091a85-f4ff-4cc8-887d-99234f5f02ac',\n",
              "                        [{\"alignmentgroup\": \"True\", \"bingroup\": \"x\", \"hoverlabel\": {\"namelength\": 0}, \"hovertemplate\": \"rating=%{x}<br>count=%{y}\", \"legendgroup\": \"\", \"marker\": {\"color\": \"indianred\"}, \"name\": \"\", \"offsetgroup\": \"\", \"orientation\": \"v\", \"showlegend\": false, \"type\": \"histogram\", \"x\": [4, 1, 10, 3, 2, 1, 9, 10, 10, 1, 7, 8, 8, 9, 4, 8, 6, 1, 8, 6, 8, 9, 10, 8, 9, 6, 10, 8, 1, 8, 8, 7, 7, 8, 10, 8, 3, 10, 9, 10, 7, 6, 10, 7, 8, 7, 8, 9, 10, 10, 10, 6, 10, 10, 8, 10, 9, 6, 4, 10, 10, 1, 9, 10, 9, 6, 6, 6, 8, 9, 6, 10, 7, 8, 10, 8, 10, 5, 2, 8, 7, 10, 10, 5, 10, 8, 8, 10, 6, 3, 3, 6, 10, 7, 8, 9, 10, 1, 5, 5, 3, 2, 5, 9, 5, 7, 1, 7, 4, 9, 5, 1, 8, 7, 8, 10, 8, 1, 9, 7, 10, 9, 7, 6, 9, 9, 4, 10, 8, 8, 8, 8, 8, 7, 8, 9, 10, 3, 7, 1, 3, 10, 8, 10, 9, 7, 1, 4, 10, 1, 10, 10, 5, 10, 9, 10, 9, 8, 8, 10, 1, 4, 9, 3, 9, 1, 3, 10, 6, 9, 6, 10, 7, 9, 6, 8, 9, 10, 8, 10, 5, 8, 6, 5, 4, 9, 3, 9, 10, 2, 8, 7, 1, 8, 10, 10, 8, 10, 1, 3, 8, 9, 10, 6, 8, 7, 8, 7, 4, 8, 1, 10, 1, 8, 8, 8, 5, 8, 10, 2, 6, 8, 4, 1, 8, 8, 1, 4, 7, 3, 7, 9, 10, 4, 9, 6, 10, 6, 5, 7, 10, 3, 6, 9, 9, 4, 9, 5, 6, 10, 1, 2, 7, 10, 10, 9, 9, 1, 9, 8, 6, 6, 8, 5, 7, 2, 9, 10, 1, 7, 2, 10, 3, 7, 4, 9, 6, 1, 10, 2, 10, 10, 9, 4, 1, 9, 7, 9, 2, 9, 9, 8, 5, 8, 10, 8, 10, 1, 5, 10, 8, 8, 3, 7, 8, 1, 1, 4, 8, 8, 7, 8, 9, 10, 10, 10, 10, 8, 10, 10, 9, 10, 10, 7, 9, 8, 10, 4, 5, 8, 10, 9, 6, 5, 2, 9, 2, 1, 10, 5, 4, 9, 10, 9, 4, 9, 8, 7, 8, 7, 4, 7, 7, 8, 10, 10, 10, 6, 10, 1, 10, 9, 6, 7, 7, 6, 10, 9, 7, 8, 9, 8, 10, 10, 8, 10, 7, 1, 8, 10, 1, 8, 3, 10, 7, 9, 7, 9, 9, 10, 9, 6, 9, 10, 10, 10, 9, 7, 8, 6, 8, 8, 8, 8, 8, 2, 10, 8, 8, 7, 10, 5, 1, 5, 7, 7, 9, 10, 3, 10, 9, 7, 9, 9, 6, 7, 10, 7, 1, 10, 6, 1, 7, 4, 7, 9, 10, 10, 7, 10, 8, 8, 10, 9, 9, 7, 8, 8, 3, 8, 1, 9, 8, 8, 3, 1, 8, 10, 5, 10, 7, 2, 8, 7, 8, 10, 10, 1, 10, 10, 10, 10, 9, 9, 10, 4, 1, 6, 1, 1, 8, 2, 10, 5, 9, 2, 9, 10, 10, 10, 9, 7, 10, 10, 4, 1, 10, 6, 9, 7, 8, 1, 2, 4, 10, 7, 8, 8, 1, 2, 7, 5, 1, 8, 9, 9, 8, 9, 8, 8, 8, 6, 5, 10, 5, 6, 1, 1, 8, 6, 10, 1, 7, 7, 3, 7, 2, 9, 7, 8, 9, 6, 1, 8, 9, 5, 9, 10, 10, 8, 10, 7, 2, 3, 10, 8, 9, 9, 10, 8, 10, 8, 10, 10, 5, 10, 1, 8, 1, 7, 10, 9, 10, 1, 10, 8, 8, 6, 10, 5, 5, 8, 10, 8, 9, 7, 5, 10, 10, 9, 8, 10, 1, 10, 1, 5, 8, 7, 7, 9, 10, 8, 8, 9, 10, 9, 9, 9, 7, 4, 7, 9, 9, 8, 6, 8, 10, 6, 9, 10, 3, 10, 3, 1, 8, 8, 1, 2, 10, 6, 9, 8, 9, 10, 4, 9, 5, 7, 10, 8, 7, 10, 1, 10, 1, 10, 4, 1, 8, 10, 5, 7, 10, 10, 10, 5, 10, 8, 6, 9, 7, 3, 9, 10, 8, 8, 5, 8, 8, 10, 1, 10, 2, 8, 5, 2, 2, 10, 3, 5, 8, 1, 1, 1, 10, 1, 8, 1, 5, 2, 1, 10, 10, 8, 10, 9, 7, 5, 10, 10, 7, 7, 9, 9, 9, 5, 3, 9, 10, 10, 8, 9, 3, 10, 8, 1, 10, 10, 4, 2, 10, 8, 6, 7, 2, 10, 9, 3, 9, 8, 10, 8, 10, 8, 9, 9, 7, 4, 5, 2, 8, 10, 7, 9, 10, 8, 2, 8, 1, 4, 10, 1, 8, 1, 4, 7, 1, 7, 8, 10, 8, 8, 10, 5, 9, 8, 10, 8, 10, 1, 6, 9, 6, 4, 7, 9, 9, 6, 8, 10, 8, 10, 8, 10, 10, 6, 3, 10, 9, 10, 10, 9, 4, 1, 9, 9, 10, 9, 10, 3, 3, 8, 10, 8, 8, 10, 5, 8, 10, 1, 9, 9, 10, 8, 9, 9, 10, 4, 1, 1, 9, 9, 8, 1, 7, 8, 7, 10, 5, 9, 2, 10, 2, 3, 1, 8, 8, 7, 8, 10, 4, 9, 9, 10, 9, 6, 10, 9, 9, 8, 10, 1, 9, 1, 1, 1, 9, 9, 9, 9, 5, 8, 3, 9, 6, 9, 8, 10, 8, 10, 7, 9, 9, 8, 8, 10, 2, 9, 7, 1, 2, 8, 1, 1, 1, 10, 8, 7, 8, 1, 9, 6, 9, 7, 7, 10, 10, 10, 7, 6, 3, 10, 8, 10, 4, 9, 7, 9, 10, 1, 9, 7, 10, 1, 10, 7, 1, 9, 9, 2, 8, 8, 9, 8, 10, 8, 10, 5, 1, 3, 9, 10, 6, 10, 7, 4, 8, 3, 7, 9, 5, 8, 9, 1, 3, 3, 9, 9, 10, 2, 5, 8, 10, 10, 9, 10, 8, 9, 4, 10, 7, 4, 8, 7, 9, 10, 5, 10, 8, 9, 9, 7, 1, 10, 5, 8, 1, 8, 5, 10, 10, 10, 8, 3, 4, 7, 7, 8, 10, 10, 10, 3, 7, 1, 9, 1, 8, 5, 10, 1, 10, 7, 8, 10, 2, 9, 8, 5, 9, 10, 6, 9, 10, 7, 6, 9, 2, 1, 1, 10, 10, 10, 4, 7, 9, 6, 10, 3, 8, 10, 5, 5, 9, 9, 8, 3, 9, 10, 5, 10, 3, 1, 3, 8, 2, 3, 3, 6, 8, 5, 10, 4, 8, 5, 1, 8, 10, 6, 10, 1, 1, 8, 5, 1, 10, 9, 7, 9, 3, 4, 9, 7, 8, 10, 7, 10, 10, 10, 3, 10, 10, 7, 10, 9, 3, 9, 1, 9, 10, 10, 8, 10, 3, 8, 4, 1, 6, 9, 10, 10, 7, 9, 2, 10, 10, 8, 7, 7, 8, 1, 9, 9, 2, 8, 8, 8, 5, 9, 6, 9, 8, 9, 9, 10, 1, 1, 9, 5, 8, 1, 7, 8, 5, 10, 9, 10, 9, 10, 8, 5, 9, 9, 10, 10, 10, 10, 2, 5, 8, 3, 6, 2, 9, 10, 8, 9, 10, 8, 8, 9, 7, 8, 9, 8, 1, 5, 1, 3, 1, 3, 7, 9, 9, 5, 8, 8, 8, 9, 9, 10, 7, 10, 1, 1, 9, 8, 10, 7, 9, 4, 10, 7, 10, 8, 7, 7, 8, 9, 8, 10, 10, 8, 4, 7, 8, 10, 2, 8, 8, 10, 6, 9, 7, 1, 1, 10, 1, 9, 7, 5, 10, 8, 10, 3, 8, 9, 7, 8, 1, 10, 5, 4, 5, 10, 10, 10, 7, 2, 9, 10, 10, 8, 9, 5, 10, 8, 3, 7, 6, 9, 9, 1, 10, 10, 4, 5, 10, 10, 7, 9, 8, 9, 8, 10, 10, 10, 9, 5, 9, 7, 5, 3, 3, 7, 10, 8, 7, 10, 7, 9, 10, 10, 10, 6, 2, 8, 1, 6, 10, 8, 8, 8, 2, 8, 3, 1, 10, 1, 4, 8, 1, 7, 8, 8, 10, 8, 10, 1, 1, 3, 10, 10, 10, 7, 7, 10, 6, 7, 9, 7, 10, 10, 4, 1, 8, 1, 10, 8, 10, 10, 9, 7, 7, 1, 8, 9, 6, 9, 4, 9, 10, 6, 8, 5, 8, 10, 8, 9, 9, 10, 7, 5, 10, 8, 8, 10, 7, 7, 6, 10, 8, 7, 9, 10, 8, 10, 7, 6, 7, 9, 7, 10, 9, 7, 7, 9, 9, 1, 3, 10, 10, 8, 9, 2, 8, 10, 1, 3, 7, 4, 1, 10, 3, 9, 7, 9, 1, 3, 1, 6, 10, 4, 3, 10, 10, 10, 7, 10, 10, 10, 10, 10, 1, 3, 10, 6, 10, 1, 10, 8, 10, 1, 10, 6, 10, 5, 7, 10, 3, 8, 10, 2, 8, 1, 10, 10, 10, 7, 7, 9, 2, 9, 9, 10, 8, 4, 7, 1, 8, 10, 9, 7, 10, 10, 10, 10, 9, 7, 3, 10, 5, 8, 8, 10, 10, 8, 9, 10, 4, 10, 4, 8, 8, 8, 8, 2, 1, 10, 6, 9, 4, 9, 10, 7, 10, 6, 7, 10, 10, 2, 9, 9, 9, 10, 8, 2, 10, 8, 8, 9, 7, 10, 8, 10, 8, 7, 6, 10, 10, 7, 9, 10, 3, 10, 1, 4, 1, 1, 9, 1, 9, 8, 1, 8, 2, 7, 10, 9, 8, 3, 9, 1, 8, 4, 10, 7, 9, 5, 8, 10, 3, 8, 7, 10, 10, 10, 6, 7, 8, 10, 8, 10, 8, 8, 10, 10, 8, 7, 6, 9, 8, 9, 5, 1, 3, 9, 1, 10, 10, 10, 10, 5, 7, 8, 8, 9, 6, 6, 3, 7, 8, 7, 9, 10, 6, 2, 9, 1, 6, 8, 3, 8, 9, 8, 2, 7, 4, 8, 10, 9, 1, 10, 8, 7, 3, 6, 8, 8, 10, 7, 8, 10, 7, 9, 10, 7, 9, 7, 9, 10, 6, 1, 10, 10, 9, 10, 3, 8, 10, 10, 10, 8, 8, 10, 8, 7, 8, 9, 10, 10, 8, 7, 8, 5, 9, 9, 2, 8, 10, 10, 5, 7, 5, 10, 1, 1, 9, 7, 8, 10, 8, 9, 10, 9, 9, 1, 8, 7, 6, 1, 10, 1, 4, 3, 9, 10, 10, 4, 1, 8, 10, 1, 6, 3, 10, 7, 1, 2, 7, 8, 6, 9, 7, 4, 10, 2, 3, 1, 10, 8, 9, 7, 1, 10, 3, 8, 10, 1, 10, 1, 8, 9, 10, 6, 9, 6, 9, 8, 5, 5, 8, 10, 9, 10, 8, 9, 1, 10, 10, 10, 9, 8, 9, 8, 5, 8, 8, 5, 10, 10, 5, 7, 7, 8, 9, 8, 3, 10, 9, 3, 10, 10, 8, 10, 10, 3, 1, 8, 9, 9, 8, 8, 2, 8, 8, 7, 5, 8, 9, 8, 6, 8, 2, 1, 9, 8, 7, 10, 7, 8, 10, 1, 5, 10, 7, 8, 9, 1, 8, 8, 8, 3, 10, 5, 10, 5, 7, 6, 4, 10, 1, 10, 9, 3, 7, 7, 9, 8, 10, 2, 10, 10, 2, 1, 9, 10, 6, 7, 7, 1, 10, 10, 9, 4, 8, 9, 6, 5, 2, 8, 5, 10, 7, 9, 10, 5, 7, 3, 8, 8, 10, 7, 10, 10, 7, 10, 7, 9, 9, 1, 2, 7, 8, 3, 10, 10, 8, 10, 10, 10, 1, 8, 10, 1, 9, 10, 7, 4, 5, 9, 9, 7, 5, 10, 10, 8, 7, 2, 1, 10, 9, 10, 1, 8, 7, 7, 7, 8, 4, 8, 9, 3, 8, 1, 7, 3, 3, 7, 7, 7, 10, 6, 9, 8, 10, 8, 4, 7, 8, 1, 2, 8, 10, 9, 10, 8, 9, 10, 3, 8, 5, 9, 3, 7, 10, 1, 10, 8, 10, 5, 7, 10, 10, 1, 10, 5, 9, 7, 9, 8, 1, 7, 1, 10, 10, 9, 10, 9, 7, 1, 7, 5, 9, 1, 8, 1, 2, 9, 10, 8, 8, 7, 10, 9, 3, 3, 10, 8, 4, 10, 8, 8, 8, 7, 10, 9, 10, 10, 1, 7, 8, 1, 3, 10, 9, 7, 3, 5, 8, 8, 9, 8, 8, 3, 7, 7, 9, 7, 3, 1, 1, 7, 6, 7, 9, 7, 9, 1, 8, 3, 9, 9, 7, 10, 7, 8, 3, 10, 7, 8, 8, 10, 9, 5, 10, 6, 8, 1, 1, 10, 2, 7, 7, 9, 8, 7, 9, 9, 5, 10, 7, 9, 8, 1, 3, 10, 2, 9, 9, 8, 9, 5, 10, 10, 5, 3, 6, 9, 5, 10, 8, 6, 7, 8, 10, 8, 9, 1, 9, 5, 9, 10, 8, 7, 8, 7, 10, 7, 6, 5, 7, 8, 8, 10, 9, 7, 8, 1, 7, 1, 10, 9, 1, 1, 9, 4, 1, 6, 10, 1, 9, 10, 10, 9, 9, 10, 8, 1, 10, 8, 1, 3, 8, 8, 3, 10, 10, 8, 1, 9, 3, 8, 1, 7, 1, 10, 7, 10, 1, 10, 10, 9, 9, 8, 10, 3, 9, 1, 10, 1, 1, 5, 1, 1, 4, 8, 9, 9, 10, 5, 8, 3, 8, 10, 10, 9, 8, 7, 10, 2, 8, 7, 3, 4, 7, 7, 7, 8, 7, 1, 9, 3, 8, 8, 8, 10, 9, 9, 10, 9, 8, 10, 7, 9, 10, 9, 8, 10, 7, 5, 10, 8, 9, 6, 9, 8, 1, 8, 10, 9, 6, 9, 8, 8, 7, 10, 10, 9, 1, 1, 8, 10, 10, 6, 4, 9, 9, 8, 9, 10, 8, 7, 9, 4, 4, 8, 7, 7, 7, 9, 6, 8, 2, 5, 10, 8, 1, 9, 8, 6, 10, 10, 3, 7, 9, 7, 8, 5, 4, 10, 7, 5, 9, 10, 10, 7, 10, 9, 8, 3, 6, 7, 8, 8, 2, 10, 9, 8, 10, 9, 8, 1, 7, 10, 10, 10, 7, 5, 10, 10, 1, 7, 8, 8, 6, 10, 7, 9, 10, 9, 9, 6, 1, 10, 10, 1, 8, 4, 9, 8, 3, 8, 7, 8, 10, 8, 7, 8, 8, 10, 10, 9, 10, 6, 7, 6, 7, 9, 9, 1, 10, 9, 10, 10, 3, 7, 7, 10, 7, 1, 9, 1, 6, 10, 3, 10, 3, 9, 7, 1, 10, 4, 8, 10, 9, 10, 3, 10, 6, 9, 10, 1, 10, 10, 7, 3, 4, 9, 8, 10, 4, 6, 9, 10, 8, 8, 8, 10, 9, 9, 10, 8, 7, 7, 7, 5, 8, 1, 1, 10, 9, 8, 9, 4, 9, 10, 9, 9, 9, 1, 7, 6, 10, 7, 10, 9, 7, 7, 3, 3, 1, 9, 10, 9, 9, 10, 8, 6, 8, 10, 1, 7, 4, 7, 1, 8, 10, 10, 8, 1, 1, 6, 7, 10, 10, 4, 10, 8, 10, 2, 10, 3, 2, 1, 1, 9, 8, 1, 5, 10, 10, 8, 1, 4, 4, 10, 7, 1, 8, 8, 10, 7, 7, 8, 9, 1, 10, 5, 10, 10, 7, 7, 10, 9, 7, 9, 8, 7, 10, 10, 1, 4, 5, 10, 1, 9, 8, 2, 8, 1, 10, 1, 6, 4, 4, 10, 9, 9, 2, 8, 8, 1, 8, 6, 9, 1, 8, 10, 9, 10, 6, 9, 4, 8, 8, 8, 7, 7, 10, 10, 7, 10, 5, 10, 5, 1, 7, 2, 7, 9, 1, 8, 10, 5, 1, 3, 10, 6, 10, 8, 8, 10, 1, 5, 9, 7, 10, 3, 9, 8, 9, 10, 7, 8, 8, 2, 10, 6, 10, 10, 1, 9, 8, 10, 10, 9, 10, 8, 10, 7, 8, 10, 7, 10, 1, 7, 8, 9, 8, 4, 1, 1, 6, 9, 6, 10, 10, 7, 9, 2, 7, 2, 1, 1, 9, 8, 7, 1, 10, 5, 10, 3, 10, 9, 10, 8, 10, 9, 10, 9, 1, 9, 10, 10, 5, 1, 8, 8, 6, 8, 3, 6, 9, 6, 8, 10, 8, 8, 1, 1, 2, 9, 10, 10, 9, 10, 10, 5, 1, 10, 10, 8, 5, 9, 9, 5, 7, 10, 8, 5, 4, 5, 10, 10, 5, 10, 8, 10, 8, 1, 7, 3, 10, 7, 1, 10, 8, 10, 2, 4, 1, 3, 9, 1, 10, 8, 1, 10, 10, 5, 8, 8, 7, 6, 10, 7, 9, 7, 10, 9, 9, 1, 8, 8, 6, 8, 10, 1, 3, 9, 1, 8, 4, 7, 9, 10, 8, 7, 1, 4, 2, 7, 10, 3, 1, 8, 3, 9, 9, 3, 8, 10, 7, 8, 4, 9, 10, 9, 10, 5, 5, 9, 10, 10, 10, 8, 1, 6, 10, 2, 8, 7, 10, 5, 7, 7, 3, 10, 8, 4, 9, 8, 9, 10, 9, 10, 6, 9, 8, 8, 3, 8, 6, 6, 2, 3, 7, 10, 5, 7, 5, 8, 9, 5, 10, 10, 4, 10, 1, 7, 6, 6, 10, 10, 2, 1, 5, 8, 10, 5, 3, 1, 7, 8, 3, 10, 8, 10, 3, 8, 6, 4, 10, 10, 9, 8, 10, 7, 2, 1, 10, 10, 10, 10, 9, 1, 2, 8, 3, 1, 10, 3, 10, 2, 3, 7, 8, 7, 10, 1, 6, 2, 4, 5, 5, 1, 8, 9, 8, 9, 4, 9, 8, 8, 10, 10, 9, 10, 8, 10, 1, 10, 8, 9, 9, 5, 1, 5, 8, 10, 9, 10, 9, 10, 8, 9, 10, 6, 8, 8, 10, 10, 9, 1, 2, 9, 10, 6, 9, 10, 10, 9, 8, 9, 8, 7, 6, 10, 8, 5, 6, 10, 8, 7, 5, 8, 9, 9, 10, 4, 8, 6, 6, 1, 7, 5, 6, 8, 10, 8, 8, 2, 5, 10, 10, 10, 2, 4, 8, 9, 8, 8, 1, 10, 2, 8, 9, 6, 9, 8, 8, 1, 10, 1, 7, 10, 9, 9, 5, 10, 9, 9, 9, 10, 4, 10, 5, 7, 1, 8, 10, 7, 1, 5, 9, 10, 1, 3, 1, 8, 3, 3, 7, 9, 9, 8, 8, 10, 10, 5, 10, 7, 8, 10, 2, 8, 2, 6, 10, 2, 1, 7, 8, 2, 1, 7, 8, 8, 10, 5, 8, 8, 8, 3, 8, 10, 9, 6, 10, 7, 9, 8, 6, 6, 9, 10, 1, 6, 9, 10, 7, 10, 3, 10, 8, 10, 2, 10, 7, 5, 5, 1, 1, 8, 8, 9, 2, 9, 10, 10, 8, 10, 10, 8, 6, 2, 9, 1, 1, 4, 7, 8, 9, 9, 1, 9, 1, 9, 3, 6, 5, 6, 8, 9, 4, 10, 3, 1, 7, 10, 8, 10, 9, 8, 7, 6, 10, 10, 10, 10, 7, 7, 10, 7, 10, 10, 4, 8, 9, 1, 8, 10, 10, 1, 10, 10, 9, 7, 9, 6, 9, 10, 8, 9, 2, 7, 9, 9, 6, 10, 3, 9, 10, 5, 10, 7, 7, 8, 10, 8, 7, 8, 10, 1, 2, 8, 4, 9, 9, 4, 10, 10, 2, 8, 10, 10, 1, 3, 9, 6, 10, 5, 5, 7, 7, 8, 10, 3, 9, 9, 5, 4, 10, 9, 9, 3, 5, 7, 1, 9, 1, 8, 8, 6, 8, 8, 8, 10, 10, 8, 9, 10, 1, 10, 10, 7, 8, 5, 3, 9, 7, 4, 1, 9, 1, 9, 10, 7, 10, 10, 4, 7, 7, 8, 7, 2, 1, 10, 7, 10, 10, 1, 9, 6, 3, 9, 5, 4, 8, 9, 9, 3, 1, 7, 9, 6, 8, 7, 7, 10, 4, 10, 8, 1, 10, 6, 10, 8, 7, 4, 8, 10, 1, 4, 4, 7, 7, 5, 10, 8, 7, 7, 10, 5, 10, 10, 4, 2, 9, 10, 9, 1, 8, 7, 7, 8, 10, 2, 7, 5, 5, 10, 7, 8, 1, 2, 1, 7, 10, 10, 8, 1, 3, 8, 8, 8, 9, 1, 8, 9, 10, 1, 8, 3, 10, 2, 7, 3, 1, 6, 3, 6, 3, 8, 7, 1, 10, 10, 5, 9, 5, 7, 7, 7, 10, 9, 1, 8, 4, 5, 3, 8, 4, 8, 9, 10, 10, 8, 9, 7, 8, 10, 5, 6, 9, 10, 10, 10, 7, 6, 10, 10, 8, 8, 7, 4, 3, 8, 1, 1, 8, 9, 5, 10, 10, 10, 7, 7, 10, 9, 7, 10, 6, 7, 8, 9, 7, 10, 10, 7, 9, 9, 10, 8, 7, 1, 1, 7, 9, 5, 7, 10, 3, 10, 10, 1, 8, 8, 9, 7, 5, 10, 8, 8, 9, 5, 5, 2, 10, 3, 7, 10, 5, 10, 7, 6, 8, 4, 9, 9, 5, 8, 9, 9, 10, 8, 5, 9, 8, 8, 10, 6, 8, 4, 3, 9, 9, 10, 10, 8, 10, 9, 10, 5, 7, 8, 3, 1, 8, 2, 8, 6, 9, 8, 9, 8, 5, 10, 10, 2, 5, 1, 9, 8, 8, 8, 9, 3, 10, 6, 8, 6, 10, 8, 8, 7, 7, 2, 1, 9, 8, 8, 6, 1, 3, 1, 1, 10, 8, 7, 8, 5, 9, 1, 8, 4, 9, 8, 7, 7, 10, 7, 3, 1, 3, 1, 8, 10, 1, 5, 4, 10, 10, 8, 2, 8, 3, 8, 8, 3, 4, 8, 10, 4, 4, 10, 10, 10, 4, 5, 8, 2, 1, 8, 9, 1, 2, 10, 5, 5, 9, 9, 8, 1, 3, 10, 2, 3, 8, 8, 6, 10, 8, 9, 10, 10, 8, 1, 8, 9, 10, 6, 2, 8, 4, 8, 2, 10, 3, 2, 5, 8, 6, 5, 9, 8, 6, 9, 8, 1, 10, 10, 5, 9, 9, 10, 6, 1, 10, 9, 2, 4, 7, 2, 5, 10, 1, 8, 9, 1, 9, 10, 8, 10, 10, 10, 10, 10, 9, 5, 4, 5, 9, 1, 9, 1, 10, 4, 5, 5, 1, 9, 6, 1, 10, 1, 7, 8, 4, 9, 8, 6, 9, 1, 6, 5, 10, 1, 6, 9, 1, 3, 8, 10, 9, 10, 8, 8, 10, 1, 8, 10, 4, 2, 2, 10, 10, 10, 10, 6, 8, 8, 1, 10, 1, 10, 10, 6, 1, 8, 10, 7, 1, 3, 4, 8, 8, 9, 7, 9, 9, 8, 10, 7, 10, 9, 8, 10, 7, 10, 10, 8, 9, 10, 1, 9, 4, 5, 2, 10, 7, 6, 8, 8, 8, 8, 10, 5, 10, 10, 1, 8, 8, 10, 10, 1, 5, 8, 1, 6, 1, 1, 8, 8, 10, 1, 5, 10, 6, 10, 8, 6, 10, 8, 9, 8, 7, 9, 10, 10, 8, 5, 7, 1, 3, 9, 10, 4, 7, 10, 9, 5, 10, 2, 10, 10, 9, 7, 7, 5, 7, 3, 7, 8, 1, 5, 1, 8, 10, 10, 7, 1, 10, 1, 1, 4, 10, 1, 1, 8, 3, 10, 3, 1, 8, 1, 9, 9, 2, 10, 1, 10, 7, 3, 10, 10, 1, 1, 8, 1, 6, 8, 4, 10, 6, 9, 8, 10, 9, 7, 1, 10, 4, 7, 9, 9, 10, 3, 9, 10, 7, 10, 8, 8, 1, 7, 10, 7, 5, 10, 3, 4, 7, 10, 8, 9, 10, 6, 10, 6, 8, 8, 8, 2, 4, 10, 1, 10, 8, 10, 8, 9, 10, 2, 10, 7, 7, 7, 5, 8, 5, 8, 10, 8, 8, 6, 8, 8, 8, 7, 9, 1, 8, 8, 7, 7, 10, 9, 10, 5, 9, 3, 1, 10, 1, 10, 9, 10, 10, 3, 4, 3, 7, 4, 3, 6, 3, 8, 10, 7, 1, 1, 7, 6, 7, 10, 7, 9, 6, 10, 10, 10, 7, 6, 8, 3, 10, 4, 10, 8, 9, 7, 7, 10, 7, 3, 1, 9, 1, 7, 9, 7, 9, 8, 2, 9, 10, 10, 6, 5, 7, 6, 1, 1, 10, 5, 9, 7, 8, 8, 10, 9, 7, 10, 8, 1, 8, 8, 8, 7, 3, 5, 6, 9, 3, 7, 9, 7, 8, 7, 9, 1, 10, 1, 10, 9, 2, 10, 9, 8, 8, 10, 1, 9, 10, 1, 9, 8, 7, 1, 1, 4, 5, 8, 9, 3, 9, 1, 4, 7, 10, 10, 8, 7, 10, 7, 8, 10, 5, 1, 10, 8, 10, 8, 8, 10, 9, 2, 10, 8, 9, 10, 10, 1, 8, 10, 10, 8, 3, 5, 10, 1, 8, 9, 7, 1, 1, 7, 7, 10, 3, 8, 9, 5, 6, 7, 4, 7, 10, 10, 9, 8, 6, 9, 7, 9, 7, 10, 10, 6, 1, 10, 6, 2, 9, 8, 1, 4, 8, 7, 9, 8, 7, 10, 1, 7, 10, 8, 10, 9, 8, 8, 5, 7, 1, 5, 10, 9, 8, 4, 5, 9, 6, 9, 8, 10, 8, 6, 1, 10, 10, 7, 8, 6, 3, 10, 5, 8, 7, 5, 8, 7, 10, 6, 8, 8, 7, 9, 1, 9, 7, 6, 8, 1, 10, 10, 9, 8, 5, 10, 7, 7, 2, 8, 9, 6, 2, 8, 1, 10, 8, 10, 6, 5, 1, 6, 10, 7, 1, 10, 8, 5, 1, 3, 6, 6, 9, 1, 8, 8, 8, 9, 10, 9, 8, 1, 8, 2, 7, 4, 6, 10, 9, 9, 10, 10, 5, 9, 7, 10, 8, 10, 8], \"xaxis\": \"x\", \"yaxis\": \"y\"}],\n",
              "                        {\"barmode\": \"relative\", \"legend\": {\"tracegroupgap\": 0}, \"template\": {\"data\": {\"bar\": [{\"error_x\": {\"color\": \"#2a3f5f\"}, \"error_y\": {\"color\": \"#2a3f5f\"}, \"marker\": {\"line\": {\"color\": \"#E5ECF6\", \"width\": 0.5}}, \"type\": \"bar\"}], \"barpolar\": [{\"marker\": {\"line\": {\"color\": \"#E5ECF6\", \"width\": 0.5}}, \"type\": \"barpolar\"}], \"carpet\": [{\"aaxis\": {\"endlinecolor\": \"#2a3f5f\", \"gridcolor\": \"white\", \"linecolor\": \"white\", \"minorgridcolor\": \"white\", \"startlinecolor\": \"#2a3f5f\"}, \"baxis\": {\"endlinecolor\": \"#2a3f5f\", \"gridcolor\": \"white\", \"linecolor\": \"white\", \"minorgridcolor\": \"white\", \"startlinecolor\": \"#2a3f5f\"}, \"type\": \"carpet\"}], \"choropleth\": [{\"colorbar\": {\"outlinewidth\": 0, \"ticks\": \"\"}, \"type\": \"choropleth\"}], \"contour\": [{\"colorbar\": {\"outlinewidth\": 0, \"ticks\": \"\"}, \"colorscale\": [[0.0, \"#0d0887\"], [0.1111111111111111, \"#46039f\"], [0.2222222222222222, \"#7201a8\"], [0.3333333333333333, \"#9c179e\"], [0.4444444444444444, \"#bd3786\"], [0.5555555555555556, \"#d8576b\"], [0.6666666666666666, \"#ed7953\"], [0.7777777777777778, \"#fb9f3a\"], [0.8888888888888888, \"#fdca26\"], [1.0, \"#f0f921\"]], \"type\": \"contour\"}], \"contourcarpet\": [{\"colorbar\": {\"outlinewidth\": 0, \"ticks\": \"\"}, \"type\": \"contourcarpet\"}], \"heatmap\": [{\"colorbar\": {\"outlinewidth\": 0, \"ticks\": \"\"}, \"colorscale\": [[0.0, \"#0d0887\"], [0.1111111111111111, \"#46039f\"], [0.2222222222222222, \"#7201a8\"], [0.3333333333333333, \"#9c179e\"], [0.4444444444444444, \"#bd3786\"], [0.5555555555555556, \"#d8576b\"], [0.6666666666666666, \"#ed7953\"], [0.7777777777777778, \"#fb9f3a\"], [0.8888888888888888, \"#fdca26\"], [1.0, \"#f0f921\"]], \"type\": \"heatmap\"}], \"heatmapgl\": [{\"colorbar\": {\"outlinewidth\": 0, \"ticks\": \"\"}, \"colorscale\": [[0.0, \"#0d0887\"], [0.1111111111111111, \"#46039f\"], [0.2222222222222222, \"#7201a8\"], [0.3333333333333333, \"#9c179e\"], [0.4444444444444444, \"#bd3786\"], [0.5555555555555556, \"#d8576b\"], [0.6666666666666666, \"#ed7953\"], [0.7777777777777778, \"#fb9f3a\"], [0.8888888888888888, \"#fdca26\"], [1.0, \"#f0f921\"]], \"type\": \"heatmapgl\"}], \"histogram\": [{\"marker\": {\"colorbar\": {\"outlinewidth\": 0, \"ticks\": \"\"}}, \"type\": \"histogram\"}], \"histogram2d\": [{\"colorbar\": {\"outlinewidth\": 0, \"ticks\": \"\"}, \"colorscale\": [[0.0, \"#0d0887\"], [0.1111111111111111, \"#46039f\"], [0.2222222222222222, \"#7201a8\"], [0.3333333333333333, \"#9c179e\"], [0.4444444444444444, \"#bd3786\"], [0.5555555555555556, \"#d8576b\"], [0.6666666666666666, \"#ed7953\"], [0.7777777777777778, \"#fb9f3a\"], [0.8888888888888888, \"#fdca26\"], [1.0, \"#f0f921\"]], \"type\": \"histogram2d\"}], \"histogram2dcontour\": [{\"colorbar\": {\"outlinewidth\": 0, \"ticks\": \"\"}, \"colorscale\": [[0.0, \"#0d0887\"], [0.1111111111111111, \"#46039f\"], [0.2222222222222222, \"#7201a8\"], [0.3333333333333333, \"#9c179e\"], [0.4444444444444444, \"#bd3786\"], [0.5555555555555556, \"#d8576b\"], [0.6666666666666666, \"#ed7953\"], [0.7777777777777778, \"#fb9f3a\"], [0.8888888888888888, \"#fdca26\"], [1.0, \"#f0f921\"]], \"type\": \"histogram2dcontour\"}], \"mesh3d\": [{\"colorbar\": {\"outlinewidth\": 0, \"ticks\": \"\"}, \"type\": \"mesh3d\"}], \"parcoords\": [{\"line\": {\"colorbar\": {\"outlinewidth\": 0, \"ticks\": \"\"}}, \"type\": \"parcoords\"}], \"pie\": [{\"automargin\": true, \"type\": \"pie\"}], \"scatter\": [{\"marker\": {\"colorbar\": {\"outlinewidth\": 0, \"ticks\": \"\"}}, \"type\": \"scatter\"}], \"scatter3d\": [{\"line\": {\"colorbar\": {\"outlinewidth\": 0, \"ticks\": \"\"}}, \"marker\": {\"colorbar\": {\"outlinewidth\": 0, \"ticks\": \"\"}}, \"type\": \"scatter3d\"}], \"scattercarpet\": [{\"marker\": {\"colorbar\": {\"outlinewidth\": 0, \"ticks\": \"\"}}, \"type\": \"scattercarpet\"}], \"scattergeo\": [{\"marker\": {\"colorbar\": {\"outlinewidth\": 0, \"ticks\": \"\"}}, \"type\": \"scattergeo\"}], \"scattergl\": [{\"marker\": {\"colorbar\": {\"outlinewidth\": 0, \"ticks\": \"\"}}, \"type\": \"scattergl\"}], \"scattermapbox\": [{\"marker\": {\"colorbar\": {\"outlinewidth\": 0, \"ticks\": \"\"}}, \"type\": \"scattermapbox\"}], \"scatterpolar\": [{\"marker\": {\"colorbar\": {\"outlinewidth\": 0, \"ticks\": \"\"}}, \"type\": \"scatterpolar\"}], \"scatterpolargl\": [{\"marker\": {\"colorbar\": {\"outlinewidth\": 0, \"ticks\": \"\"}}, \"type\": \"scatterpolargl\"}], \"scatterternary\": [{\"marker\": {\"colorbar\": {\"outlinewidth\": 0, \"ticks\": \"\"}}, \"type\": \"scatterternary\"}], \"surface\": [{\"colorbar\": {\"outlinewidth\": 0, \"ticks\": \"\"}, \"colorscale\": [[0.0, \"#0d0887\"], [0.1111111111111111, \"#46039f\"], [0.2222222222222222, \"#7201a8\"], [0.3333333333333333, \"#9c179e\"], [0.4444444444444444, \"#bd3786\"], [0.5555555555555556, \"#d8576b\"], [0.6666666666666666, \"#ed7953\"], [0.7777777777777778, \"#fb9f3a\"], [0.8888888888888888, \"#fdca26\"], [1.0, \"#f0f921\"]], \"type\": \"surface\"}], \"table\": [{\"cells\": {\"fill\": {\"color\": \"#EBF0F8\"}, \"line\": {\"color\": \"white\"}}, \"header\": {\"fill\": {\"color\": \"#C8D4E3\"}, \"line\": {\"color\": \"white\"}}, \"type\": \"table\"}]}, \"layout\": {\"annotationdefaults\": {\"arrowcolor\": \"#2a3f5f\", \"arrowhead\": 0, \"arrowwidth\": 1}, \"coloraxis\": {\"colorbar\": {\"outlinewidth\": 0, \"ticks\": \"\"}}, \"colorscale\": {\"diverging\": [[0, \"#8e0152\"], [0.1, \"#c51b7d\"], [0.2, \"#de77ae\"], [0.3, \"#f1b6da\"], [0.4, \"#fde0ef\"], [0.5, \"#f7f7f7\"], [0.6, \"#e6f5d0\"], [0.7, \"#b8e186\"], [0.8, \"#7fbc41\"], [0.9, \"#4d9221\"], [1, \"#276419\"]], \"sequential\": [[0.0, \"#0d0887\"], [0.1111111111111111, \"#46039f\"], [0.2222222222222222, \"#7201a8\"], [0.3333333333333333, \"#9c179e\"], [0.4444444444444444, \"#bd3786\"], [0.5555555555555556, \"#d8576b\"], [0.6666666666666666, \"#ed7953\"], [0.7777777777777778, \"#fb9f3a\"], [0.8888888888888888, \"#fdca26\"], [1.0, \"#f0f921\"]], \"sequentialminus\": [[0.0, \"#0d0887\"], [0.1111111111111111, \"#46039f\"], [0.2222222222222222, \"#7201a8\"], [0.3333333333333333, \"#9c179e\"], [0.4444444444444444, \"#bd3786\"], [0.5555555555555556, \"#d8576b\"], [0.6666666666666666, \"#ed7953\"], [0.7777777777777778, \"#fb9f3a\"], [0.8888888888888888, \"#fdca26\"], [1.0, \"#f0f921\"]]}, \"colorway\": [\"#636efa\", \"#EF553B\", \"#00cc96\", \"#ab63fa\", \"#FFA15A\", \"#19d3f3\", \"#FF6692\", \"#B6E880\", \"#FF97FF\", \"#FECB52\"], \"font\": {\"color\": \"#2a3f5f\"}, \"geo\": {\"bgcolor\": \"white\", \"lakecolor\": \"white\", \"landcolor\": \"#E5ECF6\", \"showlakes\": true, \"showland\": true, \"subunitcolor\": \"white\"}, \"hoverlabel\": {\"align\": \"left\"}, \"hovermode\": \"closest\", \"mapbox\": {\"style\": \"light\"}, \"paper_bgcolor\": \"white\", \"plot_bgcolor\": \"#E5ECF6\", \"polar\": {\"angularaxis\": {\"gridcolor\": \"white\", \"linecolor\": \"white\", \"ticks\": \"\"}, \"bgcolor\": \"#E5ECF6\", \"radialaxis\": {\"gridcolor\": \"white\", \"linecolor\": \"white\", \"ticks\": \"\"}}, \"scene\": {\"xaxis\": {\"backgroundcolor\": \"#E5ECF6\", \"gridcolor\": \"white\", \"gridwidth\": 2, \"linecolor\": \"white\", \"showbackground\": true, \"ticks\": \"\", \"zerolinecolor\": \"white\"}, \"yaxis\": {\"backgroundcolor\": \"#E5ECF6\", \"gridcolor\": \"white\", \"gridwidth\": 2, \"linecolor\": \"white\", \"showbackground\": true, \"ticks\": \"\", \"zerolinecolor\": \"white\"}, \"zaxis\": {\"backgroundcolor\": \"#E5ECF6\", \"gridcolor\": \"white\", \"gridwidth\": 2, \"linecolor\": \"white\", \"showbackground\": true, \"ticks\": \"\", \"zerolinecolor\": \"white\"}}, \"shapedefaults\": {\"line\": {\"color\": \"#2a3f5f\"}}, \"ternary\": {\"aaxis\": {\"gridcolor\": \"white\", \"linecolor\": \"white\", \"ticks\": \"\"}, \"baxis\": {\"gridcolor\": \"white\", \"linecolor\": \"white\", \"ticks\": \"\"}, \"bgcolor\": \"#E5ECF6\", \"caxis\": {\"gridcolor\": \"white\", \"linecolor\": \"white\", \"ticks\": \"\"}}, \"title\": {\"x\": 0.05}, \"xaxis\": {\"automargin\": true, \"gridcolor\": \"white\", \"linecolor\": \"white\", \"ticks\": \"\", \"title\": {\"standoff\": 15}, \"zerolinecolor\": \"white\", \"zerolinewidth\": 2}, \"yaxis\": {\"automargin\": true, \"gridcolor\": \"white\", \"linecolor\": \"white\", \"ticks\": \"\", \"title\": {\"standoff\": 15}, \"zerolinecolor\": \"white\", \"zerolinewidth\": 2}}}, \"title\": {\"text\": \"Ratings distribution\"}, \"xaxis\": {\"anchor\": \"y\", \"domain\": [0.0, 1.0], \"title\": {\"text\": \"rating\"}}, \"yaxis\": {\"anchor\": \"x\", \"domain\": [0.0, 1.0], \"title\": {\"text\": \"count\"}}},\n",
              "                        {\"responsive\": true}\n",
              "                    ).then(function(){\n",
              "                            \n",
              "var gd = document.getElementById('74091a85-f4ff-4cc8-887d-99234f5f02ac');\n",
              "var x = new MutationObserver(function (mutations, observer) {{\n",
              "        var display = window.getComputedStyle(gd).display;\n",
              "        if (!display || display === 'none') {{\n",
              "            console.log([gd, 'removed!']);\n",
              "            Plotly.purge(gd);\n",
              "            observer.disconnect();\n",
              "        }}\n",
              "}});\n",
              "\n",
              "// Listen for the removal of the full notebook cells\n",
              "var notebookContainer = gd.closest('#notebook-container');\n",
              "if (notebookContainer) {{\n",
              "    x.observe(notebookContainer, {childList: true});\n",
              "}}\n",
              "\n",
              "// Listen for the clearing of the current output cell\n",
              "var outputEl = gd.closest('.output');\n",
              "if (outputEl) {{\n",
              "    x.observe(outputEl, {childList: true});\n",
              "}}\n",
              "\n",
              "                        })\n",
              "                };\n",
              "                \n",
              "            </script>\n",
              "        </div>\n",
              "</body>\n",
              "</html>"
            ]
          },
          "metadata": {
            "tags": []
          }
        }
      ]
    },
    {
      "cell_type": "code",
      "metadata": {
        "id": "xT8MRcRcyj52",
        "outputId": "8134bb15-d1dd-44de-b5f4-25a47c31c5b5",
        "colab": {
          "base_uri": "https://localhost:8080/",
          "height": 542
        }
      },
      "source": [
        "analysis4=(DrugsLib_combined['rating'].groupby(DrugsLib_combined['urlDrugName']).mean())\n",
        "fig = px.histogram(analysis4, x=\"rating\",color_discrete_sequence=['indianred'],title='Distribution of average drug ratings')\n",
        "fig.show()\n"
      ],
      "execution_count": 41,
      "outputs": [
        {
          "output_type": "display_data",
          "data": {
            "text/html": [
              "<html>\n",
              "<head><meta charset=\"utf-8\" /></head>\n",
              "<body>\n",
              "    <div>\n",
              "            <script src=\"https://cdnjs.cloudflare.com/ajax/libs/mathjax/2.7.5/MathJax.js?config=TeX-AMS-MML_SVG\"></script><script type=\"text/javascript\">if (window.MathJax) {MathJax.Hub.Config({SVG: {font: \"STIX-Web\"}});}</script>\n",
              "                <script type=\"text/javascript\">window.PlotlyConfig = {MathJaxConfig: 'local'};</script>\n",
              "        <script src=\"https://cdn.plot.ly/plotly-latest.min.js\"></script>    \n",
              "            <div id=\"41a2e2e9-a440-4b53-9c40-ec8f511d147a\" class=\"plotly-graph-div\" style=\"height:525px; width:100%;\"></div>\n",
              "            <script type=\"text/javascript\">\n",
              "                \n",
              "                    window.PLOTLYENV=window.PLOTLYENV || {};\n",
              "                    \n",
              "                if (document.getElementById(\"41a2e2e9-a440-4b53-9c40-ec8f511d147a\")) {\n",
              "                    Plotly.newPlot(\n",
              "                        '41a2e2e9-a440-4b53-9c40-ec8f511d147a',\n",
              "                        [{\"alignmentgroup\": \"True\", \"bingroup\": \"x\", \"hoverlabel\": {\"namelength\": 0}, \"hovertemplate\": \"rating=%{x}<br>count=%{y}\", \"legendgroup\": \"\", \"marker\": {\"color\": \"indianred\"}, \"name\": \"\", \"offsetgroup\": \"\", \"orientation\": \"v\", \"showlegend\": false, \"type\": \"histogram\", \"x\": [5.375, 9.0, 1.0, 9.0, 7.7272727272727275, 8.833333333333334, 1.0, 5.875, 7.0, 9.0, 8.0, 2.0, 8.26086956521739, 7.166666666666667, 7.806451612903226, 7.125, 7.833333333333333, 7.1, 6.625, 5.857142857142857, 5.5, 8.5, 7.782608695652174, 9.0, 8.0, 8.76923076923077, 7.088235294117647, 7.352941176470588, 8.0, 6.0, 6.826086956521739, 9.0, 8.5, 7.333333333333333, 10.0, 8.0, 8.333333333333334, 1.0, 6.0, 4.666666666666667, 9.0, 9.214285714285714, 8.5, 7.0, 5.2, 9.333333333333334, 9.0, 4.0, 8.0, 6.0, 10.0, 6.041666666666667, 8.0, 10.0, 3.5, 7.0, 7.5, 10.0, 6.333333333333333, 9.0, 5.5, 10.0, 8.0, 8.0, 5.0, 8.5, 1.0, 6.0, 10.0, 7.666666666666667, 9.0, 7.0, 7.0, 8.0, 6.0, 8.0, 6.428571428571429, 8.0, 10.0, 2.0, 6.666666666666667, 10.0, 8.75, 7.857142857142857, 10.0, 3.0, 1.0, 7.666666666666667, 8.0, 8.0, 8.0, 10.0, 6.75, 1.0, 8.0, 6.0, 6.956521739130435, 6.840909090909091, 8.714285714285714, 5.625, 6.757575757575758, 7.8, 6.545454545454546, 7.0, 5.75, 4.25, 6.8, 6.5, 3.125, 9.0, 7.0, 9.5, 5.2, 7.769230769230769, 5.5, 1.0, 6.6923076923076925, 8.666666666666666, 8.666666666666666, 9.0, 9.0, 5.5, 9.25, 6.933333333333334, 6.7317073170731705, 6.333333333333333, 9.5, 7.0, 8.0, 5.75, 10.0, 8.0, 5.0, 7.0, 5.3076923076923075, 9.0, 4.0, 6.0, 2.0, 6.333333333333333, 3.0, 3.5, 8.333333333333334, 10.0, 5.666666666666667, 7.2, 7.0, 6.894736842105263, 5.75, 6.25, 3.6666666666666665, 1.0, 6.375, 5.6, 4.333333333333333, 9.75, 6.3, 7.666666666666667, 6.0, 8.0, 6.7368421052631575, 6.428571428571429, 5.5, 10.0, 9.5, 5.0, 7.428571428571429, 6.521739130434782, 6.456521739130435, 7.333333333333333, 7.454545454545454, 6.666666666666667, 9.0, 8.666666666666666, 7.0, 1.0, 5.0, 8.428571428571429, 10.0, 4.571428571428571, 8.375, 10.0, 10.0, 8.0, 9.0, 9.0, 10.0, 6.818181818181818, 5.0, 10.0, 6.0, 5.0, 7.5, 7.0, 7.0, 7.6, 7.777777777777778, 7.666666666666667, 7.5, 3.5, 10.0, 7.56, 9.333333333333334, 8.333333333333334, 10.0, 5.4, 8.5, 7.0, 10.0, 8.0, 4.4, 10.0, 4.0, 8.0, 2.0, 5.0, 8.0, 10.0, 7.444444444444445, 7.0, 3.0, 9.0, 7.5, 3.0, 10.0, 7.818181818181818, 8.0, 9.0, 10.0, 9.0, 10.0, 7.833333333333333, 7.833333333333333, 7.666666666666667, 8.5, 7.6, 10.0, 9.2, 2.0, 7.0, 8.0, 4.857142857142857, 2.0, 6.6, 8.0, 7.0, 8.666666666666666, 6.470588235294118, 5.0, 7.897435897435898, 6.928571428571429, 6.25, 9.0, 7.0, 9.75, 3.75, 3.0, 9.0, 8.5, 9.666666666666666, 7.208333333333333, 6.891891891891892, 7.0, 10.0, 6.761904761904762, 7.2, 9.0, 3.0, 1.0, 4.5, 7.545454545454546, 7.0, 7.666666666666667, 9.0, 7.5, 8.25, 5.7368421052631575, 5.0, 4.0, 5.8, 3.909090909090909, 4.75, 9.4, 6.0, 8.0, 8.0, 8.5, 8.05, 10.0, 8.25, 8.333333333333334, 7.222222222222222, 10.0, 1.0, 8.4, 4.7368421052631575, 9.0, 5.0, 1.5, 5.0, 6.666666666666667, 5.85, 8.8, 8.0, 7.0, 3.0, 4.833333333333333, 6.153846153846154, 5.5, 7.8, 10.0, 5.8, 4.888888888888889, 9.0, 8.5, 10.0, 10.0, 7.916666666666667, 10.0, 6.026315789473684, 7.864864864864865, 6.5, 7.7272727272727275, 6.666666666666667, 8.0, 9.0, 6.25, 10.0, 10.0, 7.0, 6.0, 6.875, 7.266666666666667, 6.444444444444445, 8.666666666666666, 6.0, 10.0, 8.0, 1.8333333333333333, 7.0, 6.0, 6.75, 7.0, 7.0, 7.238095238095238, 7.0, 6.5, 9.0, 7.3076923076923075, 7.0, 6.555555555555555, 7.0, 8.0, 8.5, 9.0, 8.0, 6.431034482758621, 6.714285714285714, 9.0, 1.0, 9.0, 7.0, 6.0, 6.0, 8.0, 5.5, 10.0, 5.5, 3.0, 10.0, 7.75, 9.0, 10.0, 9.0, 10.0, 6.5, 6.653846153846154, 7.5, 9.5, 7.6, 7.7727272727272725, 6.0, 7.24, 5.310344827586207, 7.2727272727272725, 9.0, 2.0, 10.0, 10.0, 9.0, 8.0, 6.6976744186046515, 7.8, 7.0, 5.0, 6.666666666666667, 8.210526315789474, 5.0, 6.4, 7.633333333333334, 7.254901960784314, 5.0, 10.0, 7.6, 6.0, 10.0, 4.0, 6.333333333333333, 8.0, 6.888888888888889, 6.5, 6.882352941176471, 8.2, 7.375, 7.8, 7.545454545454546, 7.566666666666666, 7.0, 10.0, 8.0, 3.0, 6.0, 8.090909090909092, 8.0, 8.0, 10.0, 7.769230769230769, 7.714285714285714, 4.961538461538462, 7.0, 6.75, 6.0, 9.0, 7.0, 6.142857142857143, 6.0, 4.0, 7.5, 4.25, 9.0, 8.0, 9.0, 7.5, 6.166666666666667, 10.0, 9.5, 7.25, 4.0, 9.5, 1.0, 5.6, 4.0, 7.867924528301887, 10.0, 8.0, 7.2, 8.5, 9.0, 8.0, 7.2, 2.3333333333333335, 10.0, 1.0, 7.0, 8.5, 1.0, 5.666666666666667, 5.615384615384615, 9.0, 9.0, 6.828571428571428, 6.0, 8.0, 4.0, 5.888888888888889, 7.75, 7.5, 4.857142857142857, 9.5, 8.25, 4.0, 7.5, 8.0, 9.0, 8.0, 10.0, 8.0, 8.25, 1.0, 6.2, 6.9411764705882355, 5.5, 7.666666666666667, 9.0, 8.678571428571429, 8.0, 8.25, 5.5, 8.666666666666666, 8.0, 6.304347826086956, 7.0, 10.0, 3.0, 1.0, 6.0, 9.090909090909092, 6.846153846153846, 4.6, 8.222222222222221, 6.0, 7.190476190476191, 8.272727272727273, 7.9714285714285715, 8.0, 8.193548387096774, 8.0, 6.909090909090909, 6.888888888888889, 7.333333333333333, 5.48, 7.5, 9.0, 6.0, 10.0, 9.0, 8.0, 6.666666666666667, 7.8, 7.25, 4.823529411764706, 6.0, 7.5576923076923075, 8.2, 8.75, 7.0, 5.5625, 6.0, 7.78125, 7.0, 9.0], \"xaxis\": \"x\", \"yaxis\": \"y\"}],\n",
              "                        {\"barmode\": \"relative\", \"legend\": {\"tracegroupgap\": 0}, \"template\": {\"data\": {\"bar\": [{\"error_x\": {\"color\": \"#2a3f5f\"}, \"error_y\": {\"color\": \"#2a3f5f\"}, \"marker\": {\"line\": {\"color\": \"#E5ECF6\", \"width\": 0.5}}, \"type\": \"bar\"}], \"barpolar\": [{\"marker\": {\"line\": {\"color\": \"#E5ECF6\", \"width\": 0.5}}, \"type\": \"barpolar\"}], \"carpet\": [{\"aaxis\": {\"endlinecolor\": \"#2a3f5f\", \"gridcolor\": \"white\", \"linecolor\": \"white\", \"minorgridcolor\": \"white\", \"startlinecolor\": \"#2a3f5f\"}, \"baxis\": {\"endlinecolor\": \"#2a3f5f\", \"gridcolor\": \"white\", \"linecolor\": \"white\", \"minorgridcolor\": \"white\", \"startlinecolor\": \"#2a3f5f\"}, \"type\": \"carpet\"}], \"choropleth\": [{\"colorbar\": {\"outlinewidth\": 0, \"ticks\": \"\"}, \"type\": \"choropleth\"}], \"contour\": [{\"colorbar\": {\"outlinewidth\": 0, \"ticks\": \"\"}, \"colorscale\": [[0.0, \"#0d0887\"], [0.1111111111111111, \"#46039f\"], [0.2222222222222222, \"#7201a8\"], [0.3333333333333333, \"#9c179e\"], [0.4444444444444444, \"#bd3786\"], [0.5555555555555556, \"#d8576b\"], [0.6666666666666666, \"#ed7953\"], [0.7777777777777778, \"#fb9f3a\"], [0.8888888888888888, \"#fdca26\"], [1.0, \"#f0f921\"]], \"type\": \"contour\"}], \"contourcarpet\": [{\"colorbar\": {\"outlinewidth\": 0, \"ticks\": \"\"}, \"type\": \"contourcarpet\"}], \"heatmap\": [{\"colorbar\": {\"outlinewidth\": 0, \"ticks\": \"\"}, \"colorscale\": [[0.0, \"#0d0887\"], [0.1111111111111111, \"#46039f\"], [0.2222222222222222, \"#7201a8\"], [0.3333333333333333, \"#9c179e\"], [0.4444444444444444, \"#bd3786\"], [0.5555555555555556, \"#d8576b\"], [0.6666666666666666, \"#ed7953\"], [0.7777777777777778, \"#fb9f3a\"], [0.8888888888888888, \"#fdca26\"], [1.0, \"#f0f921\"]], \"type\": \"heatmap\"}], \"heatmapgl\": [{\"colorbar\": {\"outlinewidth\": 0, \"ticks\": \"\"}, \"colorscale\": [[0.0, \"#0d0887\"], [0.1111111111111111, \"#46039f\"], [0.2222222222222222, \"#7201a8\"], [0.3333333333333333, \"#9c179e\"], [0.4444444444444444, \"#bd3786\"], [0.5555555555555556, \"#d8576b\"], [0.6666666666666666, \"#ed7953\"], [0.7777777777777778, \"#fb9f3a\"], [0.8888888888888888, \"#fdca26\"], [1.0, \"#f0f921\"]], \"type\": \"heatmapgl\"}], \"histogram\": [{\"marker\": {\"colorbar\": {\"outlinewidth\": 0, \"ticks\": \"\"}}, \"type\": \"histogram\"}], \"histogram2d\": [{\"colorbar\": {\"outlinewidth\": 0, \"ticks\": \"\"}, \"colorscale\": [[0.0, \"#0d0887\"], [0.1111111111111111, \"#46039f\"], [0.2222222222222222, \"#7201a8\"], [0.3333333333333333, \"#9c179e\"], [0.4444444444444444, \"#bd3786\"], [0.5555555555555556, \"#d8576b\"], [0.6666666666666666, \"#ed7953\"], [0.7777777777777778, \"#fb9f3a\"], [0.8888888888888888, \"#fdca26\"], [1.0, \"#f0f921\"]], \"type\": \"histogram2d\"}], \"histogram2dcontour\": [{\"colorbar\": {\"outlinewidth\": 0, \"ticks\": \"\"}, \"colorscale\": [[0.0, \"#0d0887\"], [0.1111111111111111, \"#46039f\"], [0.2222222222222222, \"#7201a8\"], [0.3333333333333333, \"#9c179e\"], [0.4444444444444444, \"#bd3786\"], [0.5555555555555556, \"#d8576b\"], [0.6666666666666666, \"#ed7953\"], [0.7777777777777778, \"#fb9f3a\"], [0.8888888888888888, \"#fdca26\"], [1.0, \"#f0f921\"]], \"type\": \"histogram2dcontour\"}], \"mesh3d\": [{\"colorbar\": {\"outlinewidth\": 0, \"ticks\": \"\"}, \"type\": \"mesh3d\"}], \"parcoords\": [{\"line\": {\"colorbar\": {\"outlinewidth\": 0, \"ticks\": \"\"}}, \"type\": \"parcoords\"}], \"pie\": [{\"automargin\": true, \"type\": \"pie\"}], \"scatter\": [{\"marker\": {\"colorbar\": {\"outlinewidth\": 0, \"ticks\": \"\"}}, \"type\": \"scatter\"}], \"scatter3d\": [{\"line\": {\"colorbar\": {\"outlinewidth\": 0, \"ticks\": \"\"}}, \"marker\": {\"colorbar\": {\"outlinewidth\": 0, \"ticks\": \"\"}}, \"type\": \"scatter3d\"}], \"scattercarpet\": [{\"marker\": {\"colorbar\": {\"outlinewidth\": 0, \"ticks\": \"\"}}, \"type\": \"scattercarpet\"}], \"scattergeo\": [{\"marker\": {\"colorbar\": {\"outlinewidth\": 0, \"ticks\": \"\"}}, \"type\": \"scattergeo\"}], \"scattergl\": [{\"marker\": {\"colorbar\": {\"outlinewidth\": 0, \"ticks\": \"\"}}, \"type\": \"scattergl\"}], \"scattermapbox\": [{\"marker\": {\"colorbar\": {\"outlinewidth\": 0, \"ticks\": \"\"}}, \"type\": \"scattermapbox\"}], \"scatterpolar\": [{\"marker\": {\"colorbar\": {\"outlinewidth\": 0, \"ticks\": \"\"}}, \"type\": \"scatterpolar\"}], \"scatterpolargl\": [{\"marker\": {\"colorbar\": {\"outlinewidth\": 0, \"ticks\": \"\"}}, \"type\": \"scatterpolargl\"}], \"scatterternary\": [{\"marker\": {\"colorbar\": {\"outlinewidth\": 0, \"ticks\": \"\"}}, \"type\": \"scatterternary\"}], \"surface\": [{\"colorbar\": {\"outlinewidth\": 0, \"ticks\": \"\"}, \"colorscale\": [[0.0, \"#0d0887\"], [0.1111111111111111, \"#46039f\"], [0.2222222222222222, \"#7201a8\"], [0.3333333333333333, \"#9c179e\"], [0.4444444444444444, \"#bd3786\"], [0.5555555555555556, \"#d8576b\"], [0.6666666666666666, \"#ed7953\"], [0.7777777777777778, \"#fb9f3a\"], [0.8888888888888888, \"#fdca26\"], [1.0, \"#f0f921\"]], \"type\": \"surface\"}], \"table\": [{\"cells\": {\"fill\": {\"color\": \"#EBF0F8\"}, \"line\": {\"color\": \"white\"}}, \"header\": {\"fill\": {\"color\": \"#C8D4E3\"}, \"line\": {\"color\": \"white\"}}, \"type\": \"table\"}]}, \"layout\": {\"annotationdefaults\": {\"arrowcolor\": \"#2a3f5f\", \"arrowhead\": 0, \"arrowwidth\": 1}, \"coloraxis\": {\"colorbar\": {\"outlinewidth\": 0, \"ticks\": \"\"}}, \"colorscale\": {\"diverging\": [[0, \"#8e0152\"], [0.1, \"#c51b7d\"], [0.2, \"#de77ae\"], [0.3, \"#f1b6da\"], [0.4, \"#fde0ef\"], [0.5, \"#f7f7f7\"], [0.6, \"#e6f5d0\"], [0.7, \"#b8e186\"], [0.8, \"#7fbc41\"], [0.9, \"#4d9221\"], [1, \"#276419\"]], \"sequential\": [[0.0, \"#0d0887\"], [0.1111111111111111, \"#46039f\"], [0.2222222222222222, \"#7201a8\"], [0.3333333333333333, \"#9c179e\"], [0.4444444444444444, \"#bd3786\"], [0.5555555555555556, \"#d8576b\"], [0.6666666666666666, \"#ed7953\"], [0.7777777777777778, \"#fb9f3a\"], [0.8888888888888888, \"#fdca26\"], [1.0, \"#f0f921\"]], \"sequentialminus\": [[0.0, \"#0d0887\"], [0.1111111111111111, \"#46039f\"], [0.2222222222222222, \"#7201a8\"], [0.3333333333333333, \"#9c179e\"], [0.4444444444444444, \"#bd3786\"], [0.5555555555555556, \"#d8576b\"], [0.6666666666666666, \"#ed7953\"], [0.7777777777777778, \"#fb9f3a\"], [0.8888888888888888, \"#fdca26\"], [1.0, \"#f0f921\"]]}, \"colorway\": [\"#636efa\", \"#EF553B\", \"#00cc96\", \"#ab63fa\", \"#FFA15A\", \"#19d3f3\", \"#FF6692\", \"#B6E880\", \"#FF97FF\", \"#FECB52\"], \"font\": {\"color\": \"#2a3f5f\"}, \"geo\": {\"bgcolor\": \"white\", \"lakecolor\": \"white\", \"landcolor\": \"#E5ECF6\", \"showlakes\": true, \"showland\": true, \"subunitcolor\": \"white\"}, \"hoverlabel\": {\"align\": \"left\"}, \"hovermode\": \"closest\", \"mapbox\": {\"style\": \"light\"}, \"paper_bgcolor\": \"white\", \"plot_bgcolor\": \"#E5ECF6\", \"polar\": {\"angularaxis\": {\"gridcolor\": \"white\", \"linecolor\": \"white\", \"ticks\": \"\"}, \"bgcolor\": \"#E5ECF6\", \"radialaxis\": {\"gridcolor\": \"white\", \"linecolor\": \"white\", \"ticks\": \"\"}}, \"scene\": {\"xaxis\": {\"backgroundcolor\": \"#E5ECF6\", \"gridcolor\": \"white\", \"gridwidth\": 2, \"linecolor\": \"white\", \"showbackground\": true, \"ticks\": \"\", \"zerolinecolor\": \"white\"}, \"yaxis\": {\"backgroundcolor\": \"#E5ECF6\", \"gridcolor\": \"white\", \"gridwidth\": 2, \"linecolor\": \"white\", \"showbackground\": true, \"ticks\": \"\", \"zerolinecolor\": \"white\"}, \"zaxis\": {\"backgroundcolor\": \"#E5ECF6\", \"gridcolor\": \"white\", \"gridwidth\": 2, \"linecolor\": \"white\", \"showbackground\": true, \"ticks\": \"\", \"zerolinecolor\": \"white\"}}, \"shapedefaults\": {\"line\": {\"color\": \"#2a3f5f\"}}, \"ternary\": {\"aaxis\": {\"gridcolor\": \"white\", \"linecolor\": \"white\", \"ticks\": \"\"}, \"baxis\": {\"gridcolor\": \"white\", \"linecolor\": \"white\", \"ticks\": \"\"}, \"bgcolor\": \"#E5ECF6\", \"caxis\": {\"gridcolor\": \"white\", \"linecolor\": \"white\", \"ticks\": \"\"}}, \"title\": {\"x\": 0.05}, \"xaxis\": {\"automargin\": true, \"gridcolor\": \"white\", \"linecolor\": \"white\", \"ticks\": \"\", \"title\": {\"standoff\": 15}, \"zerolinecolor\": \"white\", \"zerolinewidth\": 2}, \"yaxis\": {\"automargin\": true, \"gridcolor\": \"white\", \"linecolor\": \"white\", \"ticks\": \"\", \"title\": {\"standoff\": 15}, \"zerolinecolor\": \"white\", \"zerolinewidth\": 2}}}, \"title\": {\"text\": \"Distribution of average drug ratings\"}, \"xaxis\": {\"anchor\": \"y\", \"domain\": [0.0, 1.0], \"title\": {\"text\": \"rating\"}}, \"yaxis\": {\"anchor\": \"x\", \"domain\": [0.0, 1.0], \"title\": {\"text\": \"count\"}}},\n",
              "                        {\"responsive\": true}\n",
              "                    ).then(function(){\n",
              "                            \n",
              "var gd = document.getElementById('41a2e2e9-a440-4b53-9c40-ec8f511d147a');\n",
              "var x = new MutationObserver(function (mutations, observer) {{\n",
              "        var display = window.getComputedStyle(gd).display;\n",
              "        if (!display || display === 'none') {{\n",
              "            console.log([gd, 'removed!']);\n",
              "            Plotly.purge(gd);\n",
              "            observer.disconnect();\n",
              "        }}\n",
              "}});\n",
              "\n",
              "// Listen for the removal of the full notebook cells\n",
              "var notebookContainer = gd.closest('#notebook-container');\n",
              "if (notebookContainer) {{\n",
              "    x.observe(notebookContainer, {childList: true});\n",
              "}}\n",
              "\n",
              "// Listen for the clearing of the current output cell\n",
              "var outputEl = gd.closest('.output');\n",
              "if (outputEl) {{\n",
              "    x.observe(outputEl, {childList: true});\n",
              "}}\n",
              "\n",
              "                        })\n",
              "                };\n",
              "                \n",
              "            </script>\n",
              "        </div>\n",
              "</body>\n",
              "</html>"
            ]
          },
          "metadata": {
            "tags": []
          }
        }
      ]
    },
    {
      "cell_type": "markdown",
      "metadata": {
        "id": "mmPNvJlSnTcO"
      },
      "source": [
        "### Distribution of review ratings"
      ]
    },
    {
      "cell_type": "code",
      "metadata": {
        "colab": {
          "base_uri": "https://localhost:8080/",
          "height": 617
        },
        "id": "qDLzcDyHnJu1",
        "outputId": "c71eaaa0-38f7-49c1-8090-258bb59d2e6e"
      },
      "source": [
        "# carryig out frequency of each rating\n",
        "analysis5 = DrugsLib_combined['rating'].value_counts().reset_index()\n",
        "\n",
        "# Converting float values to int\n",
        "analysis5.columns = ['rating','count']\n",
        "analysis5 = analysis5.astype({'rating':'int'})\n",
        "\n",
        "# Plotting user rating distribution\n",
        "size = analysis5['count']\n",
        "colors = ['salmon','violet','lightgreen','pink','wheat','azure','sienna','orange','turquoise','olive']\n",
        "labels = analysis5['rating']\n",
        "\n",
        "\n",
        "\n",
        "import plotly.graph_objects as go\n",
        "fig = go.Figure(data=[go.Pie(labels=labels, values=size, hole=.5)])\n",
        "fig.update_layout(title_text=\"User ratings distribution\",width=600,height=600)\n",
        "fig.show()\n",
        "#https://plotly.com/python/pie-charts/"
      ],
      "execution_count": 60,
      "outputs": [
        {
          "output_type": "display_data",
          "data": {
            "text/html": [
              "<html>\n",
              "<head><meta charset=\"utf-8\" /></head>\n",
              "<body>\n",
              "    <div>\n",
              "            <script src=\"https://cdnjs.cloudflare.com/ajax/libs/mathjax/2.7.5/MathJax.js?config=TeX-AMS-MML_SVG\"></script><script type=\"text/javascript\">if (window.MathJax) {MathJax.Hub.Config({SVG: {font: \"STIX-Web\"}});}</script>\n",
              "                <script type=\"text/javascript\">window.PlotlyConfig = {MathJaxConfig: 'local'};</script>\n",
              "        <script src=\"https://cdn.plot.ly/plotly-latest.min.js\"></script>    \n",
              "            <div id=\"c6486cdc-dbd9-464b-866c-6e61c839dc3c\" class=\"plotly-graph-div\" style=\"height:600px; width:600px;\"></div>\n",
              "            <script type=\"text/javascript\">\n",
              "                \n",
              "                    window.PLOTLYENV=window.PLOTLYENV || {};\n",
              "                    \n",
              "                if (document.getElementById(\"c6486cdc-dbd9-464b-866c-6e61c839dc3c\")) {\n",
              "                    Plotly.newPlot(\n",
              "                        'c6486cdc-dbd9-464b-866c-6e61c839dc3c',\n",
              "                        [{\"hole\": 0.5, \"labels\": [10, 8, 9, 7, 1, 5, 6, 3, 4, 2], \"type\": \"pie\", \"values\": [968, 748, 613, 471, 420, 226, 215, 195, 151, 136]}],\n",
              "                        {\"height\": 600, \"template\": {\"data\": {\"bar\": [{\"error_x\": {\"color\": \"#2a3f5f\"}, \"error_y\": {\"color\": \"#2a3f5f\"}, \"marker\": {\"line\": {\"color\": \"#E5ECF6\", \"width\": 0.5}}, \"type\": \"bar\"}], \"barpolar\": [{\"marker\": {\"line\": {\"color\": \"#E5ECF6\", \"width\": 0.5}}, \"type\": \"barpolar\"}], \"carpet\": [{\"aaxis\": {\"endlinecolor\": \"#2a3f5f\", \"gridcolor\": \"white\", \"linecolor\": \"white\", \"minorgridcolor\": \"white\", \"startlinecolor\": \"#2a3f5f\"}, \"baxis\": {\"endlinecolor\": \"#2a3f5f\", \"gridcolor\": \"white\", \"linecolor\": \"white\", \"minorgridcolor\": \"white\", \"startlinecolor\": \"#2a3f5f\"}, \"type\": \"carpet\"}], \"choropleth\": [{\"colorbar\": {\"outlinewidth\": 0, \"ticks\": \"\"}, \"type\": \"choropleth\"}], \"contour\": [{\"colorbar\": {\"outlinewidth\": 0, \"ticks\": \"\"}, \"colorscale\": [[0.0, \"#0d0887\"], [0.1111111111111111, \"#46039f\"], [0.2222222222222222, \"#7201a8\"], [0.3333333333333333, \"#9c179e\"], [0.4444444444444444, \"#bd3786\"], [0.5555555555555556, \"#d8576b\"], [0.6666666666666666, \"#ed7953\"], [0.7777777777777778, \"#fb9f3a\"], [0.8888888888888888, \"#fdca26\"], [1.0, \"#f0f921\"]], \"type\": \"contour\"}], \"contourcarpet\": [{\"colorbar\": {\"outlinewidth\": 0, \"ticks\": \"\"}, \"type\": \"contourcarpet\"}], \"heatmap\": [{\"colorbar\": {\"outlinewidth\": 0, \"ticks\": \"\"}, \"colorscale\": [[0.0, \"#0d0887\"], [0.1111111111111111, \"#46039f\"], [0.2222222222222222, \"#7201a8\"], [0.3333333333333333, \"#9c179e\"], [0.4444444444444444, \"#bd3786\"], [0.5555555555555556, \"#d8576b\"], [0.6666666666666666, \"#ed7953\"], [0.7777777777777778, \"#fb9f3a\"], [0.8888888888888888, \"#fdca26\"], [1.0, \"#f0f921\"]], \"type\": \"heatmap\"}], \"heatmapgl\": [{\"colorbar\": {\"outlinewidth\": 0, \"ticks\": \"\"}, \"colorscale\": [[0.0, \"#0d0887\"], [0.1111111111111111, \"#46039f\"], [0.2222222222222222, \"#7201a8\"], [0.3333333333333333, \"#9c179e\"], [0.4444444444444444, \"#bd3786\"], [0.5555555555555556, \"#d8576b\"], [0.6666666666666666, \"#ed7953\"], [0.7777777777777778, \"#fb9f3a\"], [0.8888888888888888, \"#fdca26\"], [1.0, \"#f0f921\"]], \"type\": \"heatmapgl\"}], \"histogram\": [{\"marker\": {\"colorbar\": {\"outlinewidth\": 0, \"ticks\": \"\"}}, \"type\": \"histogram\"}], \"histogram2d\": [{\"colorbar\": {\"outlinewidth\": 0, \"ticks\": \"\"}, \"colorscale\": [[0.0, \"#0d0887\"], [0.1111111111111111, \"#46039f\"], [0.2222222222222222, \"#7201a8\"], [0.3333333333333333, \"#9c179e\"], [0.4444444444444444, \"#bd3786\"], [0.5555555555555556, \"#d8576b\"], [0.6666666666666666, \"#ed7953\"], [0.7777777777777778, \"#fb9f3a\"], [0.8888888888888888, \"#fdca26\"], [1.0, \"#f0f921\"]], \"type\": \"histogram2d\"}], \"histogram2dcontour\": [{\"colorbar\": {\"outlinewidth\": 0, \"ticks\": \"\"}, \"colorscale\": [[0.0, \"#0d0887\"], [0.1111111111111111, \"#46039f\"], [0.2222222222222222, \"#7201a8\"], [0.3333333333333333, \"#9c179e\"], [0.4444444444444444, \"#bd3786\"], [0.5555555555555556, \"#d8576b\"], [0.6666666666666666, \"#ed7953\"], [0.7777777777777778, \"#fb9f3a\"], [0.8888888888888888, \"#fdca26\"], [1.0, \"#f0f921\"]], \"type\": \"histogram2dcontour\"}], \"mesh3d\": [{\"colorbar\": {\"outlinewidth\": 0, \"ticks\": \"\"}, \"type\": \"mesh3d\"}], \"parcoords\": [{\"line\": {\"colorbar\": {\"outlinewidth\": 0, \"ticks\": \"\"}}, \"type\": \"parcoords\"}], \"pie\": [{\"automargin\": true, \"type\": \"pie\"}], \"scatter\": [{\"marker\": {\"colorbar\": {\"outlinewidth\": 0, \"ticks\": \"\"}}, \"type\": \"scatter\"}], \"scatter3d\": [{\"line\": {\"colorbar\": {\"outlinewidth\": 0, \"ticks\": \"\"}}, \"marker\": {\"colorbar\": {\"outlinewidth\": 0, \"ticks\": \"\"}}, \"type\": \"scatter3d\"}], \"scattercarpet\": [{\"marker\": {\"colorbar\": {\"outlinewidth\": 0, \"ticks\": \"\"}}, \"type\": \"scattercarpet\"}], \"scattergeo\": [{\"marker\": {\"colorbar\": {\"outlinewidth\": 0, \"ticks\": \"\"}}, \"type\": \"scattergeo\"}], \"scattergl\": [{\"marker\": {\"colorbar\": {\"outlinewidth\": 0, \"ticks\": \"\"}}, \"type\": \"scattergl\"}], \"scattermapbox\": [{\"marker\": {\"colorbar\": {\"outlinewidth\": 0, \"ticks\": \"\"}}, \"type\": \"scattermapbox\"}], \"scatterpolar\": [{\"marker\": {\"colorbar\": {\"outlinewidth\": 0, \"ticks\": \"\"}}, \"type\": \"scatterpolar\"}], \"scatterpolargl\": [{\"marker\": {\"colorbar\": {\"outlinewidth\": 0, \"ticks\": \"\"}}, \"type\": \"scatterpolargl\"}], \"scatterternary\": [{\"marker\": {\"colorbar\": {\"outlinewidth\": 0, \"ticks\": \"\"}}, \"type\": \"scatterternary\"}], \"surface\": [{\"colorbar\": {\"outlinewidth\": 0, \"ticks\": \"\"}, \"colorscale\": [[0.0, \"#0d0887\"], [0.1111111111111111, \"#46039f\"], [0.2222222222222222, \"#7201a8\"], [0.3333333333333333, \"#9c179e\"], [0.4444444444444444, \"#bd3786\"], [0.5555555555555556, \"#d8576b\"], [0.6666666666666666, \"#ed7953\"], [0.7777777777777778, \"#fb9f3a\"], [0.8888888888888888, \"#fdca26\"], [1.0, \"#f0f921\"]], \"type\": \"surface\"}], \"table\": [{\"cells\": {\"fill\": {\"color\": \"#EBF0F8\"}, \"line\": {\"color\": \"white\"}}, \"header\": {\"fill\": {\"color\": \"#C8D4E3\"}, \"line\": {\"color\": \"white\"}}, \"type\": \"table\"}]}, \"layout\": {\"annotationdefaults\": {\"arrowcolor\": \"#2a3f5f\", \"arrowhead\": 0, \"arrowwidth\": 1}, \"coloraxis\": {\"colorbar\": {\"outlinewidth\": 0, \"ticks\": \"\"}}, \"colorscale\": {\"diverging\": [[0, \"#8e0152\"], [0.1, \"#c51b7d\"], [0.2, \"#de77ae\"], [0.3, \"#f1b6da\"], [0.4, \"#fde0ef\"], [0.5, \"#f7f7f7\"], [0.6, \"#e6f5d0\"], [0.7, \"#b8e186\"], [0.8, \"#7fbc41\"], [0.9, \"#4d9221\"], [1, \"#276419\"]], \"sequential\": [[0.0, \"#0d0887\"], [0.1111111111111111, \"#46039f\"], [0.2222222222222222, \"#7201a8\"], [0.3333333333333333, \"#9c179e\"], [0.4444444444444444, \"#bd3786\"], [0.5555555555555556, \"#d8576b\"], [0.6666666666666666, \"#ed7953\"], [0.7777777777777778, \"#fb9f3a\"], [0.8888888888888888, \"#fdca26\"], [1.0, \"#f0f921\"]], \"sequentialminus\": [[0.0, \"#0d0887\"], [0.1111111111111111, \"#46039f\"], [0.2222222222222222, \"#7201a8\"], [0.3333333333333333, \"#9c179e\"], [0.4444444444444444, \"#bd3786\"], [0.5555555555555556, \"#d8576b\"], [0.6666666666666666, \"#ed7953\"], [0.7777777777777778, \"#fb9f3a\"], [0.8888888888888888, \"#fdca26\"], [1.0, \"#f0f921\"]]}, \"colorway\": [\"#636efa\", \"#EF553B\", \"#00cc96\", \"#ab63fa\", \"#FFA15A\", \"#19d3f3\", \"#FF6692\", \"#B6E880\", \"#FF97FF\", \"#FECB52\"], \"font\": {\"color\": \"#2a3f5f\"}, \"geo\": {\"bgcolor\": \"white\", \"lakecolor\": \"white\", \"landcolor\": \"#E5ECF6\", \"showlakes\": true, \"showland\": true, \"subunitcolor\": \"white\"}, \"hoverlabel\": {\"align\": \"left\"}, \"hovermode\": \"closest\", \"mapbox\": {\"style\": \"light\"}, \"paper_bgcolor\": \"white\", \"plot_bgcolor\": \"#E5ECF6\", \"polar\": {\"angularaxis\": {\"gridcolor\": \"white\", \"linecolor\": \"white\", \"ticks\": \"\"}, \"bgcolor\": \"#E5ECF6\", \"radialaxis\": {\"gridcolor\": \"white\", \"linecolor\": \"white\", \"ticks\": \"\"}}, \"scene\": {\"xaxis\": {\"backgroundcolor\": \"#E5ECF6\", \"gridcolor\": \"white\", \"gridwidth\": 2, \"linecolor\": \"white\", \"showbackground\": true, \"ticks\": \"\", \"zerolinecolor\": \"white\"}, \"yaxis\": {\"backgroundcolor\": \"#E5ECF6\", \"gridcolor\": \"white\", \"gridwidth\": 2, \"linecolor\": \"white\", \"showbackground\": true, \"ticks\": \"\", \"zerolinecolor\": \"white\"}, \"zaxis\": {\"backgroundcolor\": \"#E5ECF6\", \"gridcolor\": \"white\", \"gridwidth\": 2, \"linecolor\": \"white\", \"showbackground\": true, \"ticks\": \"\", \"zerolinecolor\": \"white\"}}, \"shapedefaults\": {\"line\": {\"color\": \"#2a3f5f\"}}, \"ternary\": {\"aaxis\": {\"gridcolor\": \"white\", \"linecolor\": \"white\", \"ticks\": \"\"}, \"baxis\": {\"gridcolor\": \"white\", \"linecolor\": \"white\", \"ticks\": \"\"}, \"bgcolor\": \"#E5ECF6\", \"caxis\": {\"gridcolor\": \"white\", \"linecolor\": \"white\", \"ticks\": \"\"}}, \"title\": {\"x\": 0.05}, \"xaxis\": {\"automargin\": true, \"gridcolor\": \"white\", \"linecolor\": \"white\", \"ticks\": \"\", \"title\": {\"standoff\": 15}, \"zerolinecolor\": \"white\", \"zerolinewidth\": 2}, \"yaxis\": {\"automargin\": true, \"gridcolor\": \"white\", \"linecolor\": \"white\", \"ticks\": \"\", \"title\": {\"standoff\": 15}, \"zerolinecolor\": \"white\", \"zerolinewidth\": 2}}}, \"title\": {\"text\": \"User ratings distribution\"}, \"width\": 600},\n",
              "                        {\"responsive\": true}\n",
              "                    ).then(function(){\n",
              "                            \n",
              "var gd = document.getElementById('c6486cdc-dbd9-464b-866c-6e61c839dc3c');\n",
              "var x = new MutationObserver(function (mutations, observer) {{\n",
              "        var display = window.getComputedStyle(gd).display;\n",
              "        if (!display || display === 'none') {{\n",
              "            console.log([gd, 'removed!']);\n",
              "            Plotly.purge(gd);\n",
              "            observer.disconnect();\n",
              "        }}\n",
              "}});\n",
              "\n",
              "// Listen for the removal of the full notebook cells\n",
              "var notebookContainer = gd.closest('#notebook-container');\n",
              "if (notebookContainer) {{\n",
              "    x.observe(notebookContainer, {childList: true});\n",
              "}}\n",
              "\n",
              "// Listen for the clearing of the current output cell\n",
              "var outputEl = gd.closest('.output');\n",
              "if (outputEl) {{\n",
              "    x.observe(outputEl, {childList: true});\n",
              "}}\n",
              "\n",
              "                        })\n",
              "                };\n",
              "                \n",
              "            </script>\n",
              "        </div>\n",
              "</body>\n",
              "</html>"
            ]
          },
          "metadata": {
            "tags": []
          }
        }
      ]
    },
    {
      "cell_type": "code",
      "metadata": {
        "id": "IuVFmaKvndq_",
        "colab": {
          "base_uri": "https://localhost:8080/",
          "height": 617
        },
        "outputId": "1d42e726-9651-40e6-ca0e-b8248f9a5e25"
      },
      "source": [
        ""
      ],
      "execution_count": 59,
      "outputs": [
        {
          "output_type": "display_data",
          "data": {
            "text/html": [
              "<html>\n",
              "<head><meta charset=\"utf-8\" /></head>\n",
              "<body>\n",
              "    <div>\n",
              "            <script src=\"https://cdnjs.cloudflare.com/ajax/libs/mathjax/2.7.5/MathJax.js?config=TeX-AMS-MML_SVG\"></script><script type=\"text/javascript\">if (window.MathJax) {MathJax.Hub.Config({SVG: {font: \"STIX-Web\"}});}</script>\n",
              "                <script type=\"text/javascript\">window.PlotlyConfig = {MathJaxConfig: 'local'};</script>\n",
              "        <script src=\"https://cdn.plot.ly/plotly-latest.min.js\"></script>    \n",
              "            <div id=\"0f471016-e08e-41c7-8272-75ae864af236\" class=\"plotly-graph-div\" style=\"height:600px; width:600px;\"></div>\n",
              "            <script type=\"text/javascript\">\n",
              "                \n",
              "                    window.PLOTLYENV=window.PLOTLYENV || {};\n",
              "                    \n",
              "                if (document.getElementById(\"0f471016-e08e-41c7-8272-75ae864af236\")) {\n",
              "                    Plotly.newPlot(\n",
              "                        '0f471016-e08e-41c7-8272-75ae864af236',\n",
              "                        [{\"hole\": 0.5, \"labels\": [10, 8, 9, 7, 1, 5, 6, 3, 4, 2], \"type\": \"pie\", \"values\": [968, 748, 613, 471, 420, 226, 215, 195, 151, 136]}],\n",
              "                        {\"height\": 600, \"template\": {\"data\": {\"bar\": [{\"error_x\": {\"color\": \"#2a3f5f\"}, \"error_y\": {\"color\": \"#2a3f5f\"}, \"marker\": {\"line\": {\"color\": \"#E5ECF6\", \"width\": 0.5}}, \"type\": \"bar\"}], \"barpolar\": [{\"marker\": {\"line\": {\"color\": \"#E5ECF6\", \"width\": 0.5}}, \"type\": \"barpolar\"}], \"carpet\": [{\"aaxis\": {\"endlinecolor\": \"#2a3f5f\", \"gridcolor\": \"white\", \"linecolor\": \"white\", \"minorgridcolor\": \"white\", \"startlinecolor\": \"#2a3f5f\"}, \"baxis\": {\"endlinecolor\": \"#2a3f5f\", \"gridcolor\": \"white\", \"linecolor\": \"white\", \"minorgridcolor\": \"white\", \"startlinecolor\": \"#2a3f5f\"}, \"type\": \"carpet\"}], \"choropleth\": [{\"colorbar\": {\"outlinewidth\": 0, \"ticks\": \"\"}, \"type\": \"choropleth\"}], \"contour\": [{\"colorbar\": {\"outlinewidth\": 0, \"ticks\": \"\"}, \"colorscale\": [[0.0, \"#0d0887\"], [0.1111111111111111, \"#46039f\"], [0.2222222222222222, \"#7201a8\"], [0.3333333333333333, \"#9c179e\"], [0.4444444444444444, \"#bd3786\"], [0.5555555555555556, \"#d8576b\"], [0.6666666666666666, \"#ed7953\"], [0.7777777777777778, \"#fb9f3a\"], [0.8888888888888888, \"#fdca26\"], [1.0, \"#f0f921\"]], \"type\": \"contour\"}], \"contourcarpet\": [{\"colorbar\": {\"outlinewidth\": 0, \"ticks\": \"\"}, \"type\": \"contourcarpet\"}], \"heatmap\": [{\"colorbar\": {\"outlinewidth\": 0, \"ticks\": \"\"}, \"colorscale\": [[0.0, \"#0d0887\"], [0.1111111111111111, \"#46039f\"], [0.2222222222222222, \"#7201a8\"], [0.3333333333333333, \"#9c179e\"], [0.4444444444444444, \"#bd3786\"], [0.5555555555555556, \"#d8576b\"], [0.6666666666666666, \"#ed7953\"], [0.7777777777777778, \"#fb9f3a\"], [0.8888888888888888, \"#fdca26\"], [1.0, \"#f0f921\"]], \"type\": \"heatmap\"}], \"heatmapgl\": [{\"colorbar\": {\"outlinewidth\": 0, \"ticks\": \"\"}, \"colorscale\": [[0.0, \"#0d0887\"], [0.1111111111111111, \"#46039f\"], [0.2222222222222222, \"#7201a8\"], [0.3333333333333333, \"#9c179e\"], [0.4444444444444444, \"#bd3786\"], [0.5555555555555556, \"#d8576b\"], [0.6666666666666666, \"#ed7953\"], [0.7777777777777778, \"#fb9f3a\"], [0.8888888888888888, \"#fdca26\"], [1.0, \"#f0f921\"]], \"type\": \"heatmapgl\"}], \"histogram\": [{\"marker\": {\"colorbar\": {\"outlinewidth\": 0, \"ticks\": \"\"}}, \"type\": \"histogram\"}], \"histogram2d\": [{\"colorbar\": {\"outlinewidth\": 0, \"ticks\": \"\"}, \"colorscale\": [[0.0, \"#0d0887\"], [0.1111111111111111, \"#46039f\"], [0.2222222222222222, \"#7201a8\"], [0.3333333333333333, \"#9c179e\"], [0.4444444444444444, \"#bd3786\"], [0.5555555555555556, \"#d8576b\"], [0.6666666666666666, \"#ed7953\"], [0.7777777777777778, \"#fb9f3a\"], [0.8888888888888888, \"#fdca26\"], [1.0, \"#f0f921\"]], \"type\": \"histogram2d\"}], \"histogram2dcontour\": [{\"colorbar\": {\"outlinewidth\": 0, \"ticks\": \"\"}, \"colorscale\": [[0.0, \"#0d0887\"], [0.1111111111111111, \"#46039f\"], [0.2222222222222222, \"#7201a8\"], [0.3333333333333333, \"#9c179e\"], [0.4444444444444444, \"#bd3786\"], [0.5555555555555556, \"#d8576b\"], [0.6666666666666666, \"#ed7953\"], [0.7777777777777778, \"#fb9f3a\"], [0.8888888888888888, \"#fdca26\"], [1.0, \"#f0f921\"]], \"type\": \"histogram2dcontour\"}], \"mesh3d\": [{\"colorbar\": {\"outlinewidth\": 0, \"ticks\": \"\"}, \"type\": \"mesh3d\"}], \"parcoords\": [{\"line\": {\"colorbar\": {\"outlinewidth\": 0, \"ticks\": \"\"}}, \"type\": \"parcoords\"}], \"pie\": [{\"automargin\": true, \"type\": \"pie\"}], \"scatter\": [{\"marker\": {\"colorbar\": {\"outlinewidth\": 0, \"ticks\": \"\"}}, \"type\": \"scatter\"}], \"scatter3d\": [{\"line\": {\"colorbar\": {\"outlinewidth\": 0, \"ticks\": \"\"}}, \"marker\": {\"colorbar\": {\"outlinewidth\": 0, \"ticks\": \"\"}}, \"type\": \"scatter3d\"}], \"scattercarpet\": [{\"marker\": {\"colorbar\": {\"outlinewidth\": 0, \"ticks\": \"\"}}, \"type\": \"scattercarpet\"}], \"scattergeo\": [{\"marker\": {\"colorbar\": {\"outlinewidth\": 0, \"ticks\": \"\"}}, \"type\": \"scattergeo\"}], \"scattergl\": [{\"marker\": {\"colorbar\": {\"outlinewidth\": 0, \"ticks\": \"\"}}, \"type\": \"scattergl\"}], \"scattermapbox\": [{\"marker\": {\"colorbar\": {\"outlinewidth\": 0, \"ticks\": \"\"}}, \"type\": \"scattermapbox\"}], \"scatterpolar\": [{\"marker\": {\"colorbar\": {\"outlinewidth\": 0, \"ticks\": \"\"}}, \"type\": \"scatterpolar\"}], \"scatterpolargl\": [{\"marker\": {\"colorbar\": {\"outlinewidth\": 0, \"ticks\": \"\"}}, \"type\": \"scatterpolargl\"}], \"scatterternary\": [{\"marker\": {\"colorbar\": {\"outlinewidth\": 0, \"ticks\": \"\"}}, \"type\": \"scatterternary\"}], \"surface\": [{\"colorbar\": {\"outlinewidth\": 0, \"ticks\": \"\"}, \"colorscale\": [[0.0, \"#0d0887\"], [0.1111111111111111, \"#46039f\"], [0.2222222222222222, \"#7201a8\"], [0.3333333333333333, \"#9c179e\"], [0.4444444444444444, \"#bd3786\"], [0.5555555555555556, \"#d8576b\"], [0.6666666666666666, \"#ed7953\"], [0.7777777777777778, \"#fb9f3a\"], [0.8888888888888888, \"#fdca26\"], [1.0, \"#f0f921\"]], \"type\": \"surface\"}], \"table\": [{\"cells\": {\"fill\": {\"color\": \"#EBF0F8\"}, \"line\": {\"color\": \"white\"}}, \"header\": {\"fill\": {\"color\": \"#C8D4E3\"}, \"line\": {\"color\": \"white\"}}, \"type\": \"table\"}]}, \"layout\": {\"annotationdefaults\": {\"arrowcolor\": \"#2a3f5f\", \"arrowhead\": 0, \"arrowwidth\": 1}, \"coloraxis\": {\"colorbar\": {\"outlinewidth\": 0, \"ticks\": \"\"}}, \"colorscale\": {\"diverging\": [[0, \"#8e0152\"], [0.1, \"#c51b7d\"], [0.2, \"#de77ae\"], [0.3, \"#f1b6da\"], [0.4, \"#fde0ef\"], [0.5, \"#f7f7f7\"], [0.6, \"#e6f5d0\"], [0.7, \"#b8e186\"], [0.8, \"#7fbc41\"], [0.9, \"#4d9221\"], [1, \"#276419\"]], \"sequential\": [[0.0, \"#0d0887\"], [0.1111111111111111, \"#46039f\"], [0.2222222222222222, \"#7201a8\"], [0.3333333333333333, \"#9c179e\"], [0.4444444444444444, \"#bd3786\"], [0.5555555555555556, \"#d8576b\"], [0.6666666666666666, \"#ed7953\"], [0.7777777777777778, \"#fb9f3a\"], [0.8888888888888888, \"#fdca26\"], [1.0, \"#f0f921\"]], \"sequentialminus\": [[0.0, \"#0d0887\"], [0.1111111111111111, \"#46039f\"], [0.2222222222222222, \"#7201a8\"], [0.3333333333333333, \"#9c179e\"], [0.4444444444444444, \"#bd3786\"], [0.5555555555555556, \"#d8576b\"], [0.6666666666666666, \"#ed7953\"], [0.7777777777777778, \"#fb9f3a\"], [0.8888888888888888, \"#fdca26\"], [1.0, \"#f0f921\"]]}, \"colorway\": [\"#636efa\", \"#EF553B\", \"#00cc96\", \"#ab63fa\", \"#FFA15A\", \"#19d3f3\", \"#FF6692\", \"#B6E880\", \"#FF97FF\", \"#FECB52\"], \"font\": {\"color\": \"#2a3f5f\"}, \"geo\": {\"bgcolor\": \"white\", \"lakecolor\": \"white\", \"landcolor\": \"#E5ECF6\", \"showlakes\": true, \"showland\": true, \"subunitcolor\": \"white\"}, \"hoverlabel\": {\"align\": \"left\"}, \"hovermode\": \"closest\", \"mapbox\": {\"style\": \"light\"}, \"paper_bgcolor\": \"white\", \"plot_bgcolor\": \"#E5ECF6\", \"polar\": {\"angularaxis\": {\"gridcolor\": \"white\", \"linecolor\": \"white\", \"ticks\": \"\"}, \"bgcolor\": \"#E5ECF6\", \"radialaxis\": {\"gridcolor\": \"white\", \"linecolor\": \"white\", \"ticks\": \"\"}}, \"scene\": {\"xaxis\": {\"backgroundcolor\": \"#E5ECF6\", \"gridcolor\": \"white\", \"gridwidth\": 2, \"linecolor\": \"white\", \"showbackground\": true, \"ticks\": \"\", \"zerolinecolor\": \"white\"}, \"yaxis\": {\"backgroundcolor\": \"#E5ECF6\", \"gridcolor\": \"white\", \"gridwidth\": 2, \"linecolor\": \"white\", \"showbackground\": true, \"ticks\": \"\", \"zerolinecolor\": \"white\"}, \"zaxis\": {\"backgroundcolor\": \"#E5ECF6\", \"gridcolor\": \"white\", \"gridwidth\": 2, \"linecolor\": \"white\", \"showbackground\": true, \"ticks\": \"\", \"zerolinecolor\": \"white\"}}, \"shapedefaults\": {\"line\": {\"color\": \"#2a3f5f\"}}, \"ternary\": {\"aaxis\": {\"gridcolor\": \"white\", \"linecolor\": \"white\", \"ticks\": \"\"}, \"baxis\": {\"gridcolor\": \"white\", \"linecolor\": \"white\", \"ticks\": \"\"}, \"bgcolor\": \"#E5ECF6\", \"caxis\": {\"gridcolor\": \"white\", \"linecolor\": \"white\", \"ticks\": \"\"}}, \"title\": {\"x\": 0.05}, \"xaxis\": {\"automargin\": true, \"gridcolor\": \"white\", \"linecolor\": \"white\", \"ticks\": \"\", \"title\": {\"standoff\": 15}, \"zerolinecolor\": \"white\", \"zerolinewidth\": 2}, \"yaxis\": {\"automargin\": true, \"gridcolor\": \"white\", \"linecolor\": \"white\", \"ticks\": \"\", \"title\": {\"standoff\": 15}, \"zerolinecolor\": \"white\", \"zerolinewidth\": 2}}}, \"title\": {\"text\": \"User ratings distribution\"}, \"width\": 600},\n",
              "                        {\"responsive\": true}\n",
              "                    ).then(function(){\n",
              "                            \n",
              "var gd = document.getElementById('0f471016-e08e-41c7-8272-75ae864af236');\n",
              "var x = new MutationObserver(function (mutations, observer) {{\n",
              "        var display = window.getComputedStyle(gd).display;\n",
              "        if (!display || display === 'none') {{\n",
              "            console.log([gd, 'removed!']);\n",
              "            Plotly.purge(gd);\n",
              "            observer.disconnect();\n",
              "        }}\n",
              "}});\n",
              "\n",
              "// Listen for the removal of the full notebook cells\n",
              "var notebookContainer = gd.closest('#notebook-container');\n",
              "if (notebookContainer) {{\n",
              "    x.observe(notebookContainer, {childList: true});\n",
              "}}\n",
              "\n",
              "// Listen for the clearing of the current output cell\n",
              "var outputEl = gd.closest('.output');\n",
              "if (outputEl) {{\n",
              "    x.observe(outputEl, {childList: true});\n",
              "}}\n",
              "\n",
              "                        })\n",
              "                };\n",
              "                \n",
              "            </script>\n",
              "        </div>\n",
              "</body>\n",
              "</html>"
            ]
          },
          "metadata": {
            "tags": []
          }
        }
      ]
    },
    {
      "cell_type": "code",
      "metadata": {
        "id": "M4sOnVE0zwix"
      },
      "source": [
        ""
      ],
      "execution_count": null,
      "outputs": []
    }
  ]
}