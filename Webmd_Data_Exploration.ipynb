{
  "nbformat": 4,
  "nbformat_minor": 0,
  "metadata": {
    "colab": {
      "name": "Webmd Data Exploration.ipynb",
      "provenance": [],
      "authorship_tag": "ABX9TyPnAcrq8oOoHMdUQeWtconV",
      "include_colab_link": true
    },
    "kernelspec": {
      "name": "python3",
      "display_name": "Python 3"
    }
  },
  "cells": [
    {
      "cell_type": "markdown",
      "metadata": {
        "id": "view-in-github",
        "colab_type": "text"
      },
      "source": [
        "<a href=\"https://colab.research.google.com/github/Madhurika1292/Medicines-and-Common-Treatment-Recommendation-System/blob/main/Webmd_Data_Exploration.ipynb\" target=\"_parent\"><img src=\"https://colab.research.google.com/assets/colab-badge.svg\" alt=\"Open In Colab\"/></a>"
      ]
    },
    {
      "cell_type": "markdown",
      "metadata": {
        "id": "7_MZYodusnfO"
      },
      "source": [
        "#WebMD.com Data Exploration\r\n",
        "\r\n",
        "Description - \r\n",
        "\r\n",
        "Attribute Information:\r\n",
        "\r\n",
        "1. Age\r\n",
        "2. Condition\r\n",
        "3. Date\r\n",
        "4. Drug\r\n",
        "5. DrugId\r\n",
        "6. Easeofuse\r\n",
        "7. Effectiveness\r\n",
        "8. Review\r\n",
        "9. Sex\r\n",
        "10. Sides\r\n",
        "11. UsefulCount"
      ]
    },
    {
      "cell_type": "code",
      "metadata": {
        "id": "gX9SHO9Vrx6Z"
      },
      "source": [
        "#Loading necessary libraries\r\n",
        "import pandas as pd\r\n",
        "import numpy as np\r\n",
        "import plotly.express as px\r\n",
        "import seaborn as sns \r\n",
        "import matplotlib.pyplot as plt\r\n",
        "from matplotlib import style; style.use('ggplot')\r\n",
        "from wordcloud import WordCloud\r\n",
        "import altair as alt\r\n"
      ],
      "execution_count": 15,
      "outputs": []
    },
    {
      "cell_type": "code",
      "metadata": {
        "colab": {
          "base_uri": "https://localhost:8080/"
        },
        "id": "PfmgjYawt5du",
        "outputId": "f5d4b346-77da-4742-f4c3-8717e941370f"
      },
      "source": [
        "#Cloning Git repository\r\n",
        "!git clone https://github.com/Madhurika1292/Medicines-and-Common-Treatment-Recommendation-System.git"
      ],
      "execution_count": 2,
      "outputs": [
        {
          "output_type": "stream",
          "text": [
            "Cloning into 'Medicines-and-Common-Treatment-Recommendation-System'...\n",
            "remote: Enumerating objects: 40, done.\u001b[K\n",
            "remote: Counting objects: 100% (40/40), done.\u001b[K\n",
            "remote: Compressing objects: 100% (32/32), done.\u001b[K\n",
            "remote: Total 40 (delta 14), reused 15 (delta 2), pack-reused 0\u001b[K\n",
            "Unpacking objects: 100% (40/40), done.\n"
          ],
          "name": "stdout"
        }
      ]
    },
    {
      "cell_type": "code",
      "metadata": {
        "colab": {
          "base_uri": "https://localhost:8080/"
        },
        "id": "BApmezizt9hP",
        "outputId": "9f1f9576-509a-4a28-bb25-c57a16c7835c"
      },
      "source": [
        "!ls Medicines-and-Common-Treatment-Recommendation-System/Drugscom"
      ],
      "execution_count": 3,
      "outputs": [
        {
          "output_type": "stream",
          "text": [
            "drugsComTest_raw.tsv  drugsComTrain_raw.tsv\n"
          ],
          "name": "stdout"
        }
      ]
    },
    {
      "cell_type": "markdown",
      "metadata": {
        "id": "OoCkt9BPuAI6"
      },
      "source": [
        "## Data Loading"
      ]
    },
    {
      "cell_type": "code",
      "metadata": {
        "colab": {
          "base_uri": "https://localhost:8080/"
        },
        "id": "0-MzUVYHt_hh",
        "outputId": "d4af3141-e2b3-4fc4-958e-227716b8ed10"
      },
      "source": [
        "# Importing dataset from drive\r\n",
        "from google.colab import drive\r\n",
        "drive.mount('/content/gdrive/')\r\n",
        "\r\n",
        "import sys\r\n",
        "sys.path.append('/content/gdrive/My Drive/Webmd')"
      ],
      "execution_count": 4,
      "outputs": [
        {
          "output_type": "stream",
          "text": [
            "Mounted at /content/gdrive/\n"
          ],
          "name": "stdout"
        }
      ]
    },
    {
      "cell_type": "code",
      "metadata": {
        "id": "jJTLiSRR0TtX"
      },
      "source": [
        "#Loading webmd data\r\n",
        "webmd_df=pd.read_csv('/content/gdrive/My Drive/Webmd/webmd.csv')"
      ],
      "execution_count": 5,
      "outputs": []
    },
    {
      "cell_type": "code",
      "metadata": {
        "colab": {
          "base_uri": "https://localhost:8080/",
          "height": 416
        },
        "id": "nGPGrF7U0_7_",
        "outputId": "1a31b44d-43df-4897-8cd5-42dad7d7a58a"
      },
      "source": [
        "webmd_df"
      ],
      "execution_count": 6,
      "outputs": [
        {
          "output_type": "execute_result",
          "data": {
            "text/html": [
              "<div>\n",
              "<style scoped>\n",
              "    .dataframe tbody tr th:only-of-type {\n",
              "        vertical-align: middle;\n",
              "    }\n",
              "\n",
              "    .dataframe tbody tr th {\n",
              "        vertical-align: top;\n",
              "    }\n",
              "\n",
              "    .dataframe thead th {\n",
              "        text-align: right;\n",
              "    }\n",
              "</style>\n",
              "<table border=\"1\" class=\"dataframe\">\n",
              "  <thead>\n",
              "    <tr style=\"text-align: right;\">\n",
              "      <th></th>\n",
              "      <th>Age</th>\n",
              "      <th>Condition</th>\n",
              "      <th>Date</th>\n",
              "      <th>Drug</th>\n",
              "      <th>DrugId</th>\n",
              "      <th>EaseofUse</th>\n",
              "      <th>Effectiveness</th>\n",
              "      <th>Reviews</th>\n",
              "      <th>Satisfaction</th>\n",
              "      <th>Sex</th>\n",
              "      <th>Sides</th>\n",
              "      <th>UsefulCount</th>\n",
              "    </tr>\n",
              "  </thead>\n",
              "  <tbody>\n",
              "    <tr>\n",
              "      <th>0</th>\n",
              "      <td>75 or over</td>\n",
              "      <td>Stuffy Nose</td>\n",
              "      <td>9/21/2014</td>\n",
              "      <td>25dph-7.5peh</td>\n",
              "      <td>146724</td>\n",
              "      <td>5</td>\n",
              "      <td>5</td>\n",
              "      <td>I'm a retired physician and of all the meds I ...</td>\n",
              "      <td>5</td>\n",
              "      <td>Male</td>\n",
              "      <td>Drowsiness,  dizziness ,  dry mouth /nose/thro...</td>\n",
              "      <td>0</td>\n",
              "    </tr>\n",
              "    <tr>\n",
              "      <th>1</th>\n",
              "      <td>25-34</td>\n",
              "      <td>Cold Symptoms</td>\n",
              "      <td>1/13/2011</td>\n",
              "      <td>25dph-7.5peh</td>\n",
              "      <td>146724</td>\n",
              "      <td>5</td>\n",
              "      <td>5</td>\n",
              "      <td>cleared me right up even with my throat hurtin...</td>\n",
              "      <td>5</td>\n",
              "      <td>Female</td>\n",
              "      <td>Drowsiness,  dizziness ,  dry mouth /nose/thro...</td>\n",
              "      <td>1</td>\n",
              "    </tr>\n",
              "    <tr>\n",
              "      <th>2</th>\n",
              "      <td>65-74</td>\n",
              "      <td>Other</td>\n",
              "      <td>7/16/2012</td>\n",
              "      <td>warfarin (bulk) 100 % powder</td>\n",
              "      <td>144731</td>\n",
              "      <td>2</td>\n",
              "      <td>3</td>\n",
              "      <td>why did my PTINR go from a normal of 2.5 to ov...</td>\n",
              "      <td>3</td>\n",
              "      <td>Female</td>\n",
              "      <td></td>\n",
              "      <td>0</td>\n",
              "    </tr>\n",
              "    <tr>\n",
              "      <th>3</th>\n",
              "      <td>75 or over</td>\n",
              "      <td>Other</td>\n",
              "      <td>9/23/2010</td>\n",
              "      <td>warfarin (bulk) 100 % powder</td>\n",
              "      <td>144731</td>\n",
              "      <td>2</td>\n",
              "      <td>2</td>\n",
              "      <td>FALLING AND DON'T REALISE IT</td>\n",
              "      <td>1</td>\n",
              "      <td>Female</td>\n",
              "      <td></td>\n",
              "      <td>0</td>\n",
              "    </tr>\n",
              "    <tr>\n",
              "      <th>4</th>\n",
              "      <td>35-44</td>\n",
              "      <td>Other</td>\n",
              "      <td>1/6/2009</td>\n",
              "      <td>warfarin (bulk) 100 % powder</td>\n",
              "      <td>144731</td>\n",
              "      <td>1</td>\n",
              "      <td>1</td>\n",
              "      <td>My grandfather was prescribed this medication ...</td>\n",
              "      <td>1</td>\n",
              "      <td>Male</td>\n",
              "      <td></td>\n",
              "      <td>1</td>\n",
              "    </tr>\n",
              "    <tr>\n",
              "      <th>...</th>\n",
              "      <td>...</td>\n",
              "      <td>...</td>\n",
              "      <td>...</td>\n",
              "      <td>...</td>\n",
              "      <td>...</td>\n",
              "      <td>...</td>\n",
              "      <td>...</td>\n",
              "      <td>...</td>\n",
              "      <td>...</td>\n",
              "      <td>...</td>\n",
              "      <td>...</td>\n",
              "      <td>...</td>\n",
              "    </tr>\n",
              "    <tr>\n",
              "      <th>362801</th>\n",
              "      <td>55-64</td>\n",
              "      <td>Stop Smoking</td>\n",
              "      <td>11/14/2008</td>\n",
              "      <td>chantix</td>\n",
              "      <td>144470</td>\n",
              "      <td>5</td>\n",
              "      <td>5</td>\n",
              "      <td>I took the whole 12 weeks.I could have stopped...</td>\n",
              "      <td>5</td>\n",
              "      <td>Female</td>\n",
              "      <td>Nausea ,  headache ,  vomiting , drowsiness, g...</td>\n",
              "      <td>2</td>\n",
              "    </tr>\n",
              "    <tr>\n",
              "      <th>362802</th>\n",
              "      <td></td>\n",
              "      <td>Other</td>\n",
              "      <td>11/14/2008</td>\n",
              "      <td>chantix</td>\n",
              "      <td>144470</td>\n",
              "      <td>2</td>\n",
              "      <td>3</td>\n",
              "      <td>My dad strated taking Chantix about 1 month ag...</td>\n",
              "      <td>1</td>\n",
              "      <td></td>\n",
              "      <td>Nausea ,  headache ,  vomiting , drowsiness, g...</td>\n",
              "      <td>16</td>\n",
              "    </tr>\n",
              "    <tr>\n",
              "      <th>362803</th>\n",
              "      <td>25-34</td>\n",
              "      <td>Stop Smoking</td>\n",
              "      <td>11/13/2008</td>\n",
              "      <td>chantix</td>\n",
              "      <td>144470</td>\n",
              "      <td>2</td>\n",
              "      <td>4</td>\n",
              "      <td>As long as I was on chantix, I didn't smoke.  ...</td>\n",
              "      <td>2</td>\n",
              "      <td>Female</td>\n",
              "      <td>Nausea ,  headache ,  vomiting , drowsiness, g...</td>\n",
              "      <td>3</td>\n",
              "    </tr>\n",
              "    <tr>\n",
              "      <th>362804</th>\n",
              "      <td>55-64</td>\n",
              "      <td>Stop Smoking</td>\n",
              "      <td>11/13/2008</td>\n",
              "      <td>chantix</td>\n",
              "      <td>144470</td>\n",
              "      <td>5</td>\n",
              "      <td>5</td>\n",
              "      <td>Started this medication Oct 5th 2008. Haven't ...</td>\n",
              "      <td>5</td>\n",
              "      <td>Male</td>\n",
              "      <td>Nausea ,  headache ,  vomiting , drowsiness, g...</td>\n",
              "      <td>1</td>\n",
              "    </tr>\n",
              "    <tr>\n",
              "      <th>362805</th>\n",
              "      <td>45-54</td>\n",
              "      <td>Stop Smoking</td>\n",
              "      <td>11/12/2008</td>\n",
              "      <td>chantix</td>\n",
              "      <td>144470</td>\n",
              "      <td>4</td>\n",
              "      <td>5</td>\n",
              "      <td>One year ago, I tried Chantix and had to stop ...</td>\n",
              "      <td>5</td>\n",
              "      <td>Female</td>\n",
              "      <td>Nausea ,  headache ,  vomiting , drowsiness, g...</td>\n",
              "      <td>3</td>\n",
              "    </tr>\n",
              "  </tbody>\n",
              "</table>\n",
              "<p>362806 rows × 12 columns</p>\n",
              "</div>"
            ],
            "text/plain": [
              "               Age  ... UsefulCount\n",
              "0       75 or over  ...           0\n",
              "1            25-34  ...           1\n",
              "2            65-74  ...           0\n",
              "3       75 or over  ...           0\n",
              "4            35-44  ...           1\n",
              "...            ...  ...         ...\n",
              "362801       55-64  ...           2\n",
              "362802              ...          16\n",
              "362803       25-34  ...           3\n",
              "362804       55-64  ...           1\n",
              "362805       45-54  ...           3\n",
              "\n",
              "[362806 rows x 12 columns]"
            ]
          },
          "metadata": {
            "tags": []
          },
          "execution_count": 6
        }
      ]
    },
    {
      "cell_type": "code",
      "metadata": {
        "colab": {
          "base_uri": "https://localhost:8080/"
        },
        "id": "Vi4mJjmB1DT6",
        "outputId": "be3ccd5d-4f9a-436f-db18-79f1502a4c94"
      },
      "source": [
        "#Dataset shape\r\n",
        "print(\"Webmd Data shape :\" ,webmd_df.shape)\r\n"
      ],
      "execution_count": 7,
      "outputs": [
        {
          "output_type": "stream",
          "text": [
            "Webmd Data shape : (362806, 12)\n"
          ],
          "name": "stdout"
        }
      ]
    },
    {
      "cell_type": "code",
      "metadata": {
        "colab": {
          "base_uri": "https://localhost:8080/"
        },
        "id": "h7l5eHSH1eTY",
        "outputId": "067412ec-88e8-4122-8393-448c3042d2a1"
      },
      "source": [
        "#Data Information\r\n",
        "webmd_df.info()"
      ],
      "execution_count": 8,
      "outputs": [
        {
          "output_type": "stream",
          "text": [
            "<class 'pandas.core.frame.DataFrame'>\n",
            "RangeIndex: 362806 entries, 0 to 362805\n",
            "Data columns (total 12 columns):\n",
            " #   Column         Non-Null Count   Dtype \n",
            "---  ------         --------------   ----- \n",
            " 0   Age            362806 non-null  object\n",
            " 1   Condition      362806 non-null  object\n",
            " 2   Date           362806 non-null  object\n",
            " 3   Drug           362806 non-null  object\n",
            " 4   DrugId         362806 non-null  int64 \n",
            " 5   EaseofUse      362806 non-null  int64 \n",
            " 6   Effectiveness  362806 non-null  int64 \n",
            " 7   Reviews        362769 non-null  object\n",
            " 8   Satisfaction   362806 non-null  int64 \n",
            " 9   Sex            362806 non-null  object\n",
            " 10  Sides          362806 non-null  object\n",
            " 11  UsefulCount    362806 non-null  int64 \n",
            "dtypes: int64(5), object(7)\n",
            "memory usage: 33.2+ MB\n"
          ],
          "name": "stdout"
        }
      ]
    },
    {
      "cell_type": "markdown",
      "metadata": {
        "id": "661qBjyn3IbM"
      },
      "source": [
        "##Data Cleaning"
      ]
    },
    {
      "cell_type": "code",
      "metadata": {
        "colab": {
          "base_uri": "https://localhost:8080/"
        },
        "id": "Rbq3N9Ka3XCT",
        "outputId": "0628e5cc-2e12-44c8-a976-90712aaf5a41"
      },
      "source": [
        "#Checking for null values\r\n",
        "webmd_df.isnull().sum()"
      ],
      "execution_count": 10,
      "outputs": [
        {
          "output_type": "execute_result",
          "data": {
            "text/plain": [
              "Age               0\n",
              "Condition         0\n",
              "Date              0\n",
              "Drug              0\n",
              "DrugId            0\n",
              "EaseofUse         0\n",
              "Effectiveness     0\n",
              "Reviews          37\n",
              "Satisfaction      0\n",
              "Sex               0\n",
              "Sides             0\n",
              "UsefulCount       0\n",
              "dtype: int64"
            ]
          },
          "metadata": {
            "tags": []
          },
          "execution_count": 10
        }
      ]
    },
    {
      "cell_type": "code",
      "metadata": {
        "colab": {
          "base_uri": "https://localhost:8080/",
          "height": 414
        },
        "id": "TeANZpEh5tvt",
        "outputId": "8e89f1a1-2505-475a-e4c6-7803f5ade1d8"
      },
      "source": [
        "def missing_values(df):\r\n",
        "    \"\"\"Returns a summary of missing values in df\"\"\"\r\n",
        "    nrows = df.shape[0]\r\n",
        "    data = []\r\n",
        "    \r\n",
        "    def pct(n, total):\r\n",
        "        return round(n/total, 2)\r\n",
        "    \r\n",
        "    for col in df.columns:\r\n",
        "\r\n",
        "        # string (Object) type columns\r\n",
        "        if df[col].dtype.kind == \"O\":\r\n",
        "            df[col] = df[col].str.strip()\r\n",
        "            nulls = df[df[col] == \"\"][col].count()\r\n",
        "            nulls += df[col].isnull().sum()\r\n",
        "\r\n",
        "        # numerical (int) type columns\r\n",
        "        elif df[col].dtype.kind == \"i\":\r\n",
        "            nulls = df[col].isnull().sum()\r\n",
        "\r\n",
        "        pctofnulls = pct(nulls, nrows)\r\n",
        "        data.extend(\r\n",
        "            [{\"column\": col, \"pct\": 1-pctofnulls, \"num of records\": nrows-nulls, \"type\": \"not missing\"},\r\n",
        "             {\"column\": col, \"pct\": pctofnulls, \"num of records\": nulls, \"type\": \"missing\"}])\r\n",
        "    \r\n",
        "    return pd.DataFrame(data)\r\n",
        "\r\n",
        "missing = missing_values(webmd_df)\r\n",
        "\r\n",
        "bars = (alt.Chart()\r\n",
        "           .mark_bar(size=25, \r\n",
        "                     strokeWidth=1,\r\n",
        "                     stroke=\"white\",\r\n",
        "                     strokeOpacity=0.7,\r\n",
        "                     )\r\n",
        "           .encode(x=alt.X(\"sum(num of records)\",\r\n",
        "                           axis=alt.Axis(title=\"number of records\",\r\n",
        "                                         grid=True)), \r\n",
        "                   y=alt.Y(\"column:O\",\r\n",
        "                           axis=alt.Axis(title=\"columns\")),\r\n",
        "                   tooltip=(\"column\", \"type\", \"num of records:Q\",\r\n",
        "                            alt.Tooltip(\"pct:Q\", format=\".1%\")),\r\n",
        "                   color=alt.Color(\"type\",\r\n",
        "                                   scale=alt.Scale(range=[\"#11043a\", \"#648bce\"])))\r\n",
        "           .properties(title=\"Missing Values\"))\r\n",
        "\r\n",
        "text = (alt.Chart()\r\n",
        "           .mark_text(align=\"right\",\r\n",
        "                      dx=-1)\r\n",
        "           .encode(x=alt.X(\"sum(num of records)\", \r\n",
        "                           stack=\"zero\"),\r\n",
        "                   y=alt.Y(\"column\"),\r\n",
        "                   color=alt.Color(\"type\",\r\n",
        "                                   legend=None,\r\n",
        "                                   scale=alt.Scale(range=[\"white\"])),\r\n",
        "                   text=alt.Text(\"pct\", format=\".0%\")))\r\n",
        "\r\n",
        "(alt.layer(bars, text, data=missing)\r\n",
        "    .configure(background='#11043a')\r\n",
        "    .configure_title(font=\"Arial\",\r\n",
        "                     fontSize=18,\r\n",
        "                     color=\"#e6f3ff\",\r\n",
        "                     dy=-10)\r\n",
        "    .configure_text(color=\"white\")\r\n",
        "    .configure_legend(titleFontSize=12,\r\n",
        "                      titleColor=\"white\",\r\n",
        "                      tickCount=10,\r\n",
        "                      titleOpacity=0.8,\r\n",
        "                      labelColor=\"white\",\r\n",
        "                      labelOpacity=0.7,\r\n",
        "                      titlePadding=10)\r\n",
        "    .configure_axis(titleFontSize=13,\r\n",
        "                    titlePadding=20,\r\n",
        "                    titleColor=\"white\",\r\n",
        "                    titleOpacity=0.8,\r\n",
        "                    labelFontSize=11,\r\n",
        "                    labelColor=\"white\",\r\n",
        "                    labelOpacity=0.7,\r\n",
        "                    tickOffset=0,\r\n",
        "                    grid=False,\r\n",
        "                    gridOpacity=0.15)\r\n",
        "    .configure_view(strokeWidth=0)\r\n",
        "    .resolve_scale(color='independent')\r\n",
        "    .properties(height=300, width=680))"
      ],
      "execution_count": 18,
      "outputs": [
        {
          "output_type": "execute_result",
          "data": {
            "text/plain": [
              "alt.LayerChart(...)"
            ],
            "text/html": [
              "\n",
              "<div id=\"altair-viz-585dc4c294ab4a7783854206e6b779f5\"></div>\n",
              "<script type=\"text/javascript\">\n",
              "  (function(spec, embedOpt){\n",
              "    let outputDiv = document.currentScript.previousElementSibling;\n",
              "    if (outputDiv.id !== \"altair-viz-585dc4c294ab4a7783854206e6b779f5\") {\n",
              "      outputDiv = document.getElementById(\"altair-viz-585dc4c294ab4a7783854206e6b779f5\");\n",
              "    }\n",
              "    const paths = {\n",
              "      \"vega\": \"https://cdn.jsdelivr.net/npm//vega@5?noext\",\n",
              "      \"vega-lib\": \"https://cdn.jsdelivr.net/npm//vega-lib?noext\",\n",
              "      \"vega-lite\": \"https://cdn.jsdelivr.net/npm//vega-lite@4.8.1?noext\",\n",
              "      \"vega-embed\": \"https://cdn.jsdelivr.net/npm//vega-embed@6?noext\",\n",
              "    };\n",
              "\n",
              "    function loadScript(lib) {\n",
              "      return new Promise(function(resolve, reject) {\n",
              "        var s = document.createElement('script');\n",
              "        s.src = paths[lib];\n",
              "        s.async = true;\n",
              "        s.onload = () => resolve(paths[lib]);\n",
              "        s.onerror = () => reject(`Error loading script: ${paths[lib]}`);\n",
              "        document.getElementsByTagName(\"head\")[0].appendChild(s);\n",
              "      });\n",
              "    }\n",
              "\n",
              "    function showError(err) {\n",
              "      outputDiv.innerHTML = `<div class=\"error\" style=\"color:red;\">${err}</div>`;\n",
              "      throw err;\n",
              "    }\n",
              "\n",
              "    function displayChart(vegaEmbed) {\n",
              "      vegaEmbed(outputDiv, spec, embedOpt)\n",
              "        .catch(err => showError(`Javascript Error: ${err.message}<br>This usually means there's a typo in your chart specification. See the javascript console for the full traceback.`));\n",
              "    }\n",
              "\n",
              "    if(typeof define === \"function\" && define.amd) {\n",
              "      requirejs.config({paths});\n",
              "      require([\"vega-embed\"], displayChart, err => showError(`Error loading script: ${err.message}`));\n",
              "    } else if (typeof vegaEmbed === \"function\") {\n",
              "      displayChart(vegaEmbed);\n",
              "    } else {\n",
              "      loadScript(\"vega\")\n",
              "        .then(() => loadScript(\"vega-lite\"))\n",
              "        .then(() => loadScript(\"vega-embed\"))\n",
              "        .catch(showError)\n",
              "        .then(() => displayChart(vegaEmbed));\n",
              "    }\n",
              "  })({\"config\": {\"view\": {\"continuousWidth\": 400, \"continuousHeight\": 300, \"strokeWidth\": 0}, \"axis\": {\"grid\": false, \"gridOpacity\": 0.15, \"labelColor\": \"white\", \"labelFontSize\": 11, \"labelOpacity\": 0.7, \"tickOffset\": 0, \"titleColor\": \"white\", \"titleFontSize\": 13, \"titleOpacity\": 0.8, \"titlePadding\": 20}, \"background\": \"#11043a\", \"legend\": {\"labelColor\": \"white\", \"labelOpacity\": 0.7, \"tickCount\": 10, \"titleColor\": \"white\", \"titleFontSize\": 12, \"titleOpacity\": 0.8, \"titlePadding\": 10}, \"text\": {\"color\": \"white\"}, \"title\": {\"color\": \"#e6f3ff\", \"dy\": -10, \"font\": \"Arial\", \"fontSize\": 18}}, \"layer\": [{\"mark\": {\"type\": \"bar\", \"size\": 25, \"stroke\": \"white\", \"strokeOpacity\": 0.7, \"strokeWidth\": 1}, \"encoding\": {\"color\": {\"type\": \"nominal\", \"field\": \"type\", \"scale\": {\"range\": [\"#11043a\", \"#648bce\"]}}, \"tooltip\": [{\"type\": \"nominal\", \"field\": \"column\"}, {\"type\": \"nominal\", \"field\": \"type\"}, {\"type\": \"quantitative\", \"field\": \"num of records\"}, {\"type\": \"quantitative\", \"field\": \"pct\", \"format\": \".1%\"}], \"x\": {\"type\": \"quantitative\", \"aggregate\": \"sum\", \"axis\": {\"grid\": true, \"title\": \"number of records\"}, \"field\": \"num of records\"}, \"y\": {\"type\": \"ordinal\", \"axis\": {\"title\": \"columns\"}, \"field\": \"column\"}}, \"title\": \"Missing Values\"}, {\"mark\": {\"type\": \"text\", \"align\": \"right\", \"dx\": -1}, \"encoding\": {\"color\": {\"type\": \"nominal\", \"field\": \"type\", \"legend\": null, \"scale\": {\"range\": [\"white\"]}}, \"text\": {\"type\": \"quantitative\", \"field\": \"pct\", \"format\": \".0%\"}, \"x\": {\"type\": \"quantitative\", \"aggregate\": \"sum\", \"field\": \"num of records\", \"stack\": \"zero\"}, \"y\": {\"type\": \"nominal\", \"field\": \"column\"}}}], \"data\": {\"name\": \"data-47bcb7bf19f613e3a52e2a73cec76fff\"}, \"height\": 300, \"resolve\": {\"scale\": {\"color\": \"independent\"}}, \"width\": 680, \"$schema\": \"https://vega.github.io/schema/vega-lite/v4.8.1.json\", \"datasets\": {\"data-47bcb7bf19f613e3a52e2a73cec76fff\": [{\"column\": \"Age\", \"pct\": 0.97, \"num of records\": 350604, \"type\": \"not missing\"}, {\"column\": \"Age\", \"pct\": 0.03, \"num of records\": 12202, \"type\": \"missing\"}, {\"column\": \"Condition\", \"pct\": 1.0, \"num of records\": 362763, \"type\": \"not missing\"}, {\"column\": \"Condition\", \"pct\": 0.0, \"num of records\": 43, \"type\": \"missing\"}, {\"column\": \"Date\", \"pct\": 1.0, \"num of records\": 362806, \"type\": \"not missing\"}, {\"column\": \"Date\", \"pct\": 0.0, \"num of records\": 0, \"type\": \"missing\"}, {\"column\": \"Drug\", \"pct\": 1.0, \"num of records\": 362806, \"type\": \"not missing\"}, {\"column\": \"Drug\", \"pct\": 0.0, \"num of records\": 0, \"type\": \"missing\"}, {\"column\": \"DrugId\", \"pct\": 1.0, \"num of records\": 362806, \"type\": \"not missing\"}, {\"column\": \"DrugId\", \"pct\": 0.0, \"num of records\": 0, \"type\": \"missing\"}, {\"column\": \"EaseofUse\", \"pct\": 1.0, \"num of records\": 362806, \"type\": \"not missing\"}, {\"column\": \"EaseofUse\", \"pct\": 0.0, \"num of records\": 0, \"type\": \"missing\"}, {\"column\": \"Effectiveness\", \"pct\": 1.0, \"num of records\": 362806, \"type\": \"not missing\"}, {\"column\": \"Effectiveness\", \"pct\": 0.0, \"num of records\": 0, \"type\": \"missing\"}, {\"column\": \"Reviews\", \"pct\": 0.88, \"num of records\": 320923, \"type\": \"not missing\"}, {\"column\": \"Reviews\", \"pct\": 0.12, \"num of records\": 41883, \"type\": \"missing\"}, {\"column\": \"Satisfaction\", \"pct\": 1.0, \"num of records\": 362806, \"type\": \"not missing\"}, {\"column\": \"Satisfaction\", \"pct\": 0.0, \"num of records\": 0, \"type\": \"missing\"}, {\"column\": \"Sex\", \"pct\": 0.9299999999999999, \"num of records\": 336269, \"type\": \"not missing\"}, {\"column\": \"Sex\", \"pct\": 0.07, \"num of records\": 26537, \"type\": \"missing\"}, {\"column\": \"Sides\", \"pct\": 0.95, \"num of records\": 345346, \"type\": \"not missing\"}, {\"column\": \"Sides\", \"pct\": 0.05, \"num of records\": 17460, \"type\": \"missing\"}, {\"column\": \"UsefulCount\", \"pct\": 1.0, \"num of records\": 362806, \"type\": \"not missing\"}, {\"column\": \"UsefulCount\", \"pct\": 0.0, \"num of records\": 0, \"type\": \"missing\"}]}}, {\"mode\": \"vega-lite\"});\n",
              "</script>"
            ]
          },
          "metadata": {
            "tags": []
          },
          "execution_count": 18
        }
      ]
    },
    {
      "cell_type": "markdown",
      "metadata": {
        "id": "KWfsVQGK3oaZ"
      },
      "source": [
        "## Checking count of Unique values of each features"
      ]
    },
    {
      "cell_type": "code",
      "metadata": {
        "colab": {
          "base_uri": "https://localhost:8080/",
          "height": 318
        },
        "id": "P1ZU0Om-5XfO",
        "outputId": "82c21224-9eac-43e3-80c9-f3bea5791531"
      },
      "source": [
        "data = [[col, webmd_df[col].nunique()] for col in webmd_df.columns.difference([\"Reviews\"])]\r\n",
        "uniques = pd.DataFrame(data=data, columns=[\"columns\", \"num of unique values\"])\r\n",
        "\r\n",
        "bars = (alt.Chart()\r\n",
        "           .mark_bar(size=25, \r\n",
        "                     color=\"#FFAA00\",\r\n",
        "                     strokeWidth=1,\r\n",
        "                     stroke=\"white\",\r\n",
        "                     strokeOpacity=0.7)\r\n",
        "           .encode(x=alt.X(shorthand=\"num of unique values:Q\",\r\n",
        "                           scale=alt.Scale(type=\"log\"),\r\n",
        "                           axis=alt.Axis(title=\"num of unique values, log scaled\")),\r\n",
        "                   y=alt.Y(\"columns:O\", sort=\"-x\"),\r\n",
        "                   tooltip=(\"num of unique values:Q\",\r\n",
        "                            \"columns:O\",),\r\n",
        "                   color=alt.Color(\"num of unique values\",\r\n",
        "                                   scale=alt.Scale(scheme=\"lightgreyteal\",\r\n",
        "                                                   type=\"log\")))\r\n",
        "           .properties(title='Unique Values'))\r\n",
        "\r\n",
        "text = (alt.Chart()\r\n",
        "           .mark_text(align=\"left\",\r\n",
        "                      baseline=\"middle\",\r\n",
        "                      dx=3)\r\n",
        "           .encode(x=alt.X(shorthand=\"num of unique values:Q\"),\r\n",
        "                   y=alt.Y(\"columns:O\",\r\n",
        "                           axis=alt.Axis(title=\"columns\",\r\n",
        "                                         grid=False),\r\n",
        "                           sort=\"-x\"),\r\n",
        "                   text=\"num of unique values:Q\"))\r\n",
        "\r\n",
        "chart = ((alt.layer(bars, text, data=uniques)\r\n",
        "             .configure(background='#11043a')\r\n",
        "             .configure_title(font=\"Arial\",\r\n",
        "                              fontSize=18,\r\n",
        "                              color=\"#e6f3ff\",\r\n",
        "                              dy=-10)\r\n",
        "             .configure_text(color=\"white\")\r\n",
        "             .configure_legend(titleFontSize=12,\r\n",
        "                               titleColor=\"white\",\r\n",
        "                               tickCount=10,\r\n",
        "                               titleOpacity=0.8,\r\n",
        "                               labelColor=\"white\",\r\n",
        "                               labelOpacity=0.7,\r\n",
        "                               titlePadding=10)\r\n",
        "             .configure_axis(titleFontSize=13,\r\n",
        "                             titlePadding=20,\r\n",
        "                             titleColor=\"white\",\r\n",
        "                             titleOpacity=0.8,\r\n",
        "                             labelColor=\"white\",\r\n",
        "                             labelOpacity=0.7,\r\n",
        "                             labelFontSize=11,\r\n",
        "                             tickOffset=0,\r\n",
        "                             grid=True,\r\n",
        "                             gridOpacity=0.15)\r\n",
        "             .configure_view(strokeWidth=0)\r\n",
        "             .properties(height=200, width=680)))\r\n",
        "\r\n",
        "chart"
      ],
      "execution_count": 16,
      "outputs": [
        {
          "output_type": "execute_result",
          "data": {
            "text/plain": [
              "alt.LayerChart(...)"
            ],
            "text/html": [
              "\n",
              "<div id=\"altair-viz-2011344f593b4768b7bfa2a6a61f40ee\"></div>\n",
              "<script type=\"text/javascript\">\n",
              "  (function(spec, embedOpt){\n",
              "    let outputDiv = document.currentScript.previousElementSibling;\n",
              "    if (outputDiv.id !== \"altair-viz-2011344f593b4768b7bfa2a6a61f40ee\") {\n",
              "      outputDiv = document.getElementById(\"altair-viz-2011344f593b4768b7bfa2a6a61f40ee\");\n",
              "    }\n",
              "    const paths = {\n",
              "      \"vega\": \"https://cdn.jsdelivr.net/npm//vega@5?noext\",\n",
              "      \"vega-lib\": \"https://cdn.jsdelivr.net/npm//vega-lib?noext\",\n",
              "      \"vega-lite\": \"https://cdn.jsdelivr.net/npm//vega-lite@4.8.1?noext\",\n",
              "      \"vega-embed\": \"https://cdn.jsdelivr.net/npm//vega-embed@6?noext\",\n",
              "    };\n",
              "\n",
              "    function loadScript(lib) {\n",
              "      return new Promise(function(resolve, reject) {\n",
              "        var s = document.createElement('script');\n",
              "        s.src = paths[lib];\n",
              "        s.async = true;\n",
              "        s.onload = () => resolve(paths[lib]);\n",
              "        s.onerror = () => reject(`Error loading script: ${paths[lib]}`);\n",
              "        document.getElementsByTagName(\"head\")[0].appendChild(s);\n",
              "      });\n",
              "    }\n",
              "\n",
              "    function showError(err) {\n",
              "      outputDiv.innerHTML = `<div class=\"error\" style=\"color:red;\">${err}</div>`;\n",
              "      throw err;\n",
              "    }\n",
              "\n",
              "    function displayChart(vegaEmbed) {\n",
              "      vegaEmbed(outputDiv, spec, embedOpt)\n",
              "        .catch(err => showError(`Javascript Error: ${err.message}<br>This usually means there's a typo in your chart specification. See the javascript console for the full traceback.`));\n",
              "    }\n",
              "\n",
              "    if(typeof define === \"function\" && define.amd) {\n",
              "      requirejs.config({paths});\n",
              "      require([\"vega-embed\"], displayChart, err => showError(`Error loading script: ${err.message}`));\n",
              "    } else if (typeof vegaEmbed === \"function\") {\n",
              "      displayChart(vegaEmbed);\n",
              "    } else {\n",
              "      loadScript(\"vega\")\n",
              "        .then(() => loadScript(\"vega-lite\"))\n",
              "        .then(() => loadScript(\"vega-embed\"))\n",
              "        .catch(showError)\n",
              "        .then(() => displayChart(vegaEmbed));\n",
              "    }\n",
              "  })({\"config\": {\"view\": {\"continuousWidth\": 400, \"continuousHeight\": 300, \"strokeWidth\": 0}, \"axis\": {\"grid\": true, \"gridOpacity\": 0.15, \"labelColor\": \"white\", \"labelFontSize\": 11, \"labelOpacity\": 0.7, \"tickOffset\": 0, \"titleColor\": \"white\", \"titleFontSize\": 13, \"titleOpacity\": 0.8, \"titlePadding\": 20}, \"background\": \"#11043a\", \"legend\": {\"labelColor\": \"white\", \"labelOpacity\": 0.7, \"tickCount\": 10, \"titleColor\": \"white\", \"titleFontSize\": 12, \"titleOpacity\": 0.8, \"titlePadding\": 10}, \"text\": {\"color\": \"white\"}, \"title\": {\"color\": \"#e6f3ff\", \"dy\": -10, \"font\": \"Arial\", \"fontSize\": 18}}, \"layer\": [{\"mark\": {\"type\": \"bar\", \"color\": \"#FFAA00\", \"size\": 25, \"stroke\": \"white\", \"strokeOpacity\": 0.7, \"strokeWidth\": 1}, \"encoding\": {\"color\": {\"type\": \"quantitative\", \"field\": \"num of unique values\", \"scale\": {\"scheme\": \"lightgreyteal\", \"type\": \"log\"}}, \"tooltip\": [{\"type\": \"quantitative\", \"field\": \"num of unique values\"}, {\"type\": \"ordinal\", \"field\": \"columns\"}], \"x\": {\"type\": \"quantitative\", \"axis\": {\"title\": \"num of unique values, log scaled\"}, \"field\": \"num of unique values\", \"scale\": {\"type\": \"log\"}}, \"y\": {\"type\": \"ordinal\", \"field\": \"columns\", \"sort\": \"-x\"}}, \"title\": \"Unique Values\"}, {\"mark\": {\"type\": \"text\", \"align\": \"left\", \"baseline\": \"middle\", \"dx\": 3}, \"encoding\": {\"text\": {\"type\": \"quantitative\", \"field\": \"num of unique values\"}, \"x\": {\"type\": \"quantitative\", \"field\": \"num of unique values\"}, \"y\": {\"type\": \"ordinal\", \"axis\": {\"grid\": false, \"title\": \"columns\"}, \"field\": \"columns\", \"sort\": \"-x\"}}}], \"data\": {\"name\": \"data-5e59bc180d1da556e5623515e98fcdf5\"}, \"height\": 200, \"width\": 680, \"$schema\": \"https://vega.github.io/schema/vega-lite/v4.8.1.json\", \"datasets\": {\"data-5e59bc180d1da556e5623515e98fcdf5\": [{\"columns\": \"Age\", \"num of unique values\": 12}, {\"columns\": \"Condition\", \"num of unique values\": 1806}, {\"columns\": \"Date\", \"num of unique values\": 4524}, {\"columns\": \"Drug\", \"num of unique values\": 7093}, {\"columns\": \"DrugId\", \"num of unique values\": 6572}, {\"columns\": \"EaseofUse\", \"num of unique values\": 7}, {\"columns\": \"Effectiveness\", \"num of unique values\": 7}, {\"columns\": \"Satisfaction\", \"num of unique values\": 7}, {\"columns\": \"Sex\", \"num of unique values\": 3}, {\"columns\": \"Sides\", \"num of unique values\": 1651}, {\"columns\": \"UsefulCount\", \"num of unique values\": 148}]}}, {\"mode\": \"vega-lite\"});\n",
              "</script>"
            ]
          },
          "metadata": {
            "tags": []
          },
          "execution_count": 16
        }
      ]
    },
    {
      "cell_type": "markdown",
      "metadata": {
        "id": "zc0xuv2u7cQy"
      },
      "source": [
        "## Top 5 drugs satisfaction level\r\n"
      ]
    },
    {
      "cell_type": "code",
      "metadata": {
        "colab": {
          "base_uri": "https://localhost:8080/",
          "height": 628
        },
        "id": "LwcX-dxK5bDn",
        "outputId": "ecac8acb-cb72-43e8-f67e-82959ab3ced4"
      },
      "source": [
        "# distribution of satisfaction vs. drugs, only 5 most reviewed drugs presented\r\n",
        "plt.style.use('seaborn-deep')\r\n",
        "\r\n",
        "y1 = webmd_df[webmd_df.Drug=='drugA']['Satisfaction']\r\n",
        "y2 = webmd_df[webmd_df.Drug=='drugB']['Satisfaction']\r\n",
        "y3 = webmd_df[webmd_df.Drug=='drugC']['Satisfaction']\r\n",
        "y4 = webmd_df[webmd_df.Drug=='drugD']['Satisfaction']\r\n",
        "y5 = webmd_df[webmd_df.Drug=='drugE']['Satisfaction']\r\n",
        "\r\n",
        "bins = np.linspace(0,6,12)\r\n",
        "\r\n",
        "plt.hist([y1, y2, y3, y4, y5], bins,\\\r\n",
        "        label=['drugA', 'drugB', 'drugC',\\\r\n",
        "               'drugD', 'drugE'], normed=True)\r\n",
        "\r\n",
        "plt.legend(loc='upper right')\r\n",
        "\r\n",
        "plt.xlabel('satisfaction per drug', fontsize=15)\r\n",
        "plt.xticks(fontsize=13)\r\n",
        "plt.ylabel('distribution(histogram normalized)', fontsize=15)\r\n",
        "plt.title('satisfaction distribution of top 5 drugs', fontsize=15) \r\n",
        "\r\n",
        "plt.show()"
      ],
      "execution_count": 21,
      "outputs": [
        {
          "output_type": "error",
          "ename": "AttributeError",
          "evalue": "ignored",
          "traceback": [
            "\u001b[0;31m---------------------------------------------------------------------------\u001b[0m",
            "\u001b[0;31mAttributeError\u001b[0m                            Traceback (most recent call last)",
            "\u001b[0;32m<ipython-input-21-e276182261bc>\u001b[0m in \u001b[0;36m<module>\u001b[0;34m()\u001b[0m\n\u001b[1;32m     10\u001b[0m \u001b[0mbins\u001b[0m \u001b[0;34m=\u001b[0m \u001b[0mnp\u001b[0m\u001b[0;34m.\u001b[0m\u001b[0mlinspace\u001b[0m\u001b[0;34m(\u001b[0m\u001b[0;36m0\u001b[0m\u001b[0;34m,\u001b[0m\u001b[0;36m6\u001b[0m\u001b[0;34m,\u001b[0m\u001b[0;36m12\u001b[0m\u001b[0;34m)\u001b[0m\u001b[0;34m\u001b[0m\u001b[0;34m\u001b[0m\u001b[0m\n\u001b[1;32m     11\u001b[0m \u001b[0;34m\u001b[0m\u001b[0m\n\u001b[0;32m---> 12\u001b[0;31m \u001b[0mplt\u001b[0m\u001b[0;34m.\u001b[0m\u001b[0mhist\u001b[0m\u001b[0;34m(\u001b[0m\u001b[0;34m[\u001b[0m\u001b[0my1\u001b[0m\u001b[0;34m,\u001b[0m \u001b[0my2\u001b[0m\u001b[0;34m,\u001b[0m \u001b[0my3\u001b[0m\u001b[0;34m,\u001b[0m \u001b[0my4\u001b[0m\u001b[0;34m,\u001b[0m \u001b[0my5\u001b[0m\u001b[0;34m]\u001b[0m\u001b[0;34m,\u001b[0m \u001b[0mbins\u001b[0m\u001b[0;34m,\u001b[0m        \u001b[0mlabel\u001b[0m\u001b[0;34m=\u001b[0m\u001b[0;34m[\u001b[0m\u001b[0;34m'drugA'\u001b[0m\u001b[0;34m,\u001b[0m \u001b[0;34m'drugB'\u001b[0m\u001b[0;34m,\u001b[0m \u001b[0;34m'drugC'\u001b[0m\u001b[0;34m,\u001b[0m               \u001b[0;34m'drugD'\u001b[0m\u001b[0;34m,\u001b[0m \u001b[0;34m'drugE'\u001b[0m\u001b[0;34m]\u001b[0m\u001b[0;34m,\u001b[0m \u001b[0mnormed\u001b[0m\u001b[0;34m=\u001b[0m\u001b[0;32mTrue\u001b[0m\u001b[0;34m)\u001b[0m\u001b[0;34m\u001b[0m\u001b[0;34m\u001b[0m\u001b[0m\n\u001b[0m\u001b[1;32m     13\u001b[0m \u001b[0;34m\u001b[0m\u001b[0m\n\u001b[1;32m     14\u001b[0m \u001b[0mplt\u001b[0m\u001b[0;34m.\u001b[0m\u001b[0mlegend\u001b[0m\u001b[0;34m(\u001b[0m\u001b[0mloc\u001b[0m\u001b[0;34m=\u001b[0m\u001b[0;34m'upper right'\u001b[0m\u001b[0;34m)\u001b[0m\u001b[0;34m\u001b[0m\u001b[0;34m\u001b[0m\u001b[0m\n",
            "\u001b[0;32m/usr/local/lib/python3.7/dist-packages/matplotlib/pyplot.py\u001b[0m in \u001b[0;36mhist\u001b[0;34m(x, bins, range, density, weights, cumulative, bottom, histtype, align, orientation, rwidth, log, color, label, stacked, data, **kwargs)\u001b[0m\n\u001b[1;32m   2608\u001b[0m         \u001b[0malign\u001b[0m\u001b[0;34m=\u001b[0m\u001b[0malign\u001b[0m\u001b[0;34m,\u001b[0m \u001b[0morientation\u001b[0m\u001b[0;34m=\u001b[0m\u001b[0morientation\u001b[0m\u001b[0;34m,\u001b[0m \u001b[0mrwidth\u001b[0m\u001b[0;34m=\u001b[0m\u001b[0mrwidth\u001b[0m\u001b[0;34m,\u001b[0m \u001b[0mlog\u001b[0m\u001b[0;34m=\u001b[0m\u001b[0mlog\u001b[0m\u001b[0;34m,\u001b[0m\u001b[0;34m\u001b[0m\u001b[0;34m\u001b[0m\u001b[0m\n\u001b[1;32m   2609\u001b[0m         color=color, label=label, stacked=stacked, **({\"data\": data}\n\u001b[0;32m-> 2610\u001b[0;31m         if data is not None else {}), **kwargs)\n\u001b[0m\u001b[1;32m   2611\u001b[0m \u001b[0;34m\u001b[0m\u001b[0m\n\u001b[1;32m   2612\u001b[0m \u001b[0;34m\u001b[0m\u001b[0m\n",
            "\u001b[0;32m/usr/local/lib/python3.7/dist-packages/matplotlib/__init__.py\u001b[0m in \u001b[0;36minner\u001b[0;34m(ax, data, *args, **kwargs)\u001b[0m\n\u001b[1;32m   1563\u001b[0m     \u001b[0;32mdef\u001b[0m \u001b[0minner\u001b[0m\u001b[0;34m(\u001b[0m\u001b[0max\u001b[0m\u001b[0;34m,\u001b[0m \u001b[0;34m*\u001b[0m\u001b[0margs\u001b[0m\u001b[0;34m,\u001b[0m \u001b[0mdata\u001b[0m\u001b[0;34m=\u001b[0m\u001b[0;32mNone\u001b[0m\u001b[0;34m,\u001b[0m \u001b[0;34m**\u001b[0m\u001b[0mkwargs\u001b[0m\u001b[0;34m)\u001b[0m\u001b[0;34m:\u001b[0m\u001b[0;34m\u001b[0m\u001b[0;34m\u001b[0m\u001b[0m\n\u001b[1;32m   1564\u001b[0m         \u001b[0;32mif\u001b[0m \u001b[0mdata\u001b[0m \u001b[0;32mis\u001b[0m \u001b[0;32mNone\u001b[0m\u001b[0;34m:\u001b[0m\u001b[0;34m\u001b[0m\u001b[0;34m\u001b[0m\u001b[0m\n\u001b[0;32m-> 1565\u001b[0;31m             \u001b[0;32mreturn\u001b[0m \u001b[0mfunc\u001b[0m\u001b[0;34m(\u001b[0m\u001b[0max\u001b[0m\u001b[0;34m,\u001b[0m \u001b[0;34m*\u001b[0m\u001b[0mmap\u001b[0m\u001b[0;34m(\u001b[0m\u001b[0msanitize_sequence\u001b[0m\u001b[0;34m,\u001b[0m \u001b[0margs\u001b[0m\u001b[0;34m)\u001b[0m\u001b[0;34m,\u001b[0m \u001b[0;34m**\u001b[0m\u001b[0mkwargs\u001b[0m\u001b[0;34m)\u001b[0m\u001b[0;34m\u001b[0m\u001b[0;34m\u001b[0m\u001b[0m\n\u001b[0m\u001b[1;32m   1566\u001b[0m \u001b[0;34m\u001b[0m\u001b[0m\n\u001b[1;32m   1567\u001b[0m         \u001b[0mbound\u001b[0m \u001b[0;34m=\u001b[0m \u001b[0mnew_sig\u001b[0m\u001b[0;34m.\u001b[0m\u001b[0mbind\u001b[0m\u001b[0;34m(\u001b[0m\u001b[0max\u001b[0m\u001b[0;34m,\u001b[0m \u001b[0;34m*\u001b[0m\u001b[0margs\u001b[0m\u001b[0;34m,\u001b[0m \u001b[0;34m**\u001b[0m\u001b[0mkwargs\u001b[0m\u001b[0;34m)\u001b[0m\u001b[0;34m\u001b[0m\u001b[0;34m\u001b[0m\u001b[0m\n",
            "\u001b[0;32m/usr/local/lib/python3.7/dist-packages/matplotlib/axes/_axes.py\u001b[0m in \u001b[0;36mhist\u001b[0;34m(self, x, bins, range, density, weights, cumulative, bottom, histtype, align, orientation, rwidth, log, color, label, stacked, **kwargs)\u001b[0m\n\u001b[1;32m   6817\u001b[0m             \u001b[0;32mif\u001b[0m \u001b[0mpatch\u001b[0m\u001b[0;34m:\u001b[0m\u001b[0;34m\u001b[0m\u001b[0;34m\u001b[0m\u001b[0m\n\u001b[1;32m   6818\u001b[0m                 \u001b[0mp\u001b[0m \u001b[0;34m=\u001b[0m \u001b[0mpatch\u001b[0m\u001b[0;34m[\u001b[0m\u001b[0;36m0\u001b[0m\u001b[0;34m]\u001b[0m\u001b[0;34m\u001b[0m\u001b[0;34m\u001b[0m\u001b[0m\n\u001b[0;32m-> 6819\u001b[0;31m                 \u001b[0mp\u001b[0m\u001b[0;34m.\u001b[0m\u001b[0mupdate\u001b[0m\u001b[0;34m(\u001b[0m\u001b[0mkwargs\u001b[0m\u001b[0;34m)\u001b[0m\u001b[0;34m\u001b[0m\u001b[0;34m\u001b[0m\u001b[0m\n\u001b[0m\u001b[1;32m   6820\u001b[0m                 \u001b[0;32mif\u001b[0m \u001b[0mlbl\u001b[0m \u001b[0;32mis\u001b[0m \u001b[0;32mnot\u001b[0m \u001b[0;32mNone\u001b[0m\u001b[0;34m:\u001b[0m\u001b[0;34m\u001b[0m\u001b[0;34m\u001b[0m\u001b[0m\n\u001b[1;32m   6821\u001b[0m                     \u001b[0mp\u001b[0m\u001b[0;34m.\u001b[0m\u001b[0mset_label\u001b[0m\u001b[0;34m(\u001b[0m\u001b[0mlbl\u001b[0m\u001b[0;34m)\u001b[0m\u001b[0;34m\u001b[0m\u001b[0;34m\u001b[0m\u001b[0m\n",
            "\u001b[0;32m/usr/local/lib/python3.7/dist-packages/matplotlib/artist.py\u001b[0m in \u001b[0;36mupdate\u001b[0;34m(self, props)\u001b[0m\n\u001b[1;32m   1004\u001b[0m \u001b[0;34m\u001b[0m\u001b[0m\n\u001b[1;32m   1005\u001b[0m         \u001b[0;32mwith\u001b[0m \u001b[0mcbook\u001b[0m\u001b[0;34m.\u001b[0m\u001b[0m_setattr_cm\u001b[0m\u001b[0;34m(\u001b[0m\u001b[0mself\u001b[0m\u001b[0;34m,\u001b[0m \u001b[0meventson\u001b[0m\u001b[0;34m=\u001b[0m\u001b[0;32mFalse\u001b[0m\u001b[0;34m)\u001b[0m\u001b[0;34m:\u001b[0m\u001b[0;34m\u001b[0m\u001b[0;34m\u001b[0m\u001b[0m\n\u001b[0;32m-> 1006\u001b[0;31m             \u001b[0mret\u001b[0m \u001b[0;34m=\u001b[0m \u001b[0;34m[\u001b[0m\u001b[0m_update_property\u001b[0m\u001b[0;34m(\u001b[0m\u001b[0mself\u001b[0m\u001b[0;34m,\u001b[0m \u001b[0mk\u001b[0m\u001b[0;34m,\u001b[0m \u001b[0mv\u001b[0m\u001b[0;34m)\u001b[0m \u001b[0;32mfor\u001b[0m \u001b[0mk\u001b[0m\u001b[0;34m,\u001b[0m \u001b[0mv\u001b[0m \u001b[0;32min\u001b[0m \u001b[0mprops\u001b[0m\u001b[0;34m.\u001b[0m\u001b[0mitems\u001b[0m\u001b[0;34m(\u001b[0m\u001b[0;34m)\u001b[0m\u001b[0;34m]\u001b[0m\u001b[0;34m\u001b[0m\u001b[0;34m\u001b[0m\u001b[0m\n\u001b[0m\u001b[1;32m   1007\u001b[0m \u001b[0;34m\u001b[0m\u001b[0m\n\u001b[1;32m   1008\u001b[0m         \u001b[0;32mif\u001b[0m \u001b[0mlen\u001b[0m\u001b[0;34m(\u001b[0m\u001b[0mret\u001b[0m\u001b[0;34m)\u001b[0m\u001b[0;34m:\u001b[0m\u001b[0;34m\u001b[0m\u001b[0;34m\u001b[0m\u001b[0m\n",
            "\u001b[0;32m/usr/local/lib/python3.7/dist-packages/matplotlib/artist.py\u001b[0m in \u001b[0;36m<listcomp>\u001b[0;34m(.0)\u001b[0m\n\u001b[1;32m   1004\u001b[0m \u001b[0;34m\u001b[0m\u001b[0m\n\u001b[1;32m   1005\u001b[0m         \u001b[0;32mwith\u001b[0m \u001b[0mcbook\u001b[0m\u001b[0;34m.\u001b[0m\u001b[0m_setattr_cm\u001b[0m\u001b[0;34m(\u001b[0m\u001b[0mself\u001b[0m\u001b[0;34m,\u001b[0m \u001b[0meventson\u001b[0m\u001b[0;34m=\u001b[0m\u001b[0;32mFalse\u001b[0m\u001b[0;34m)\u001b[0m\u001b[0;34m:\u001b[0m\u001b[0;34m\u001b[0m\u001b[0;34m\u001b[0m\u001b[0m\n\u001b[0;32m-> 1006\u001b[0;31m             \u001b[0mret\u001b[0m \u001b[0;34m=\u001b[0m \u001b[0;34m[\u001b[0m\u001b[0m_update_property\u001b[0m\u001b[0;34m(\u001b[0m\u001b[0mself\u001b[0m\u001b[0;34m,\u001b[0m \u001b[0mk\u001b[0m\u001b[0;34m,\u001b[0m \u001b[0mv\u001b[0m\u001b[0;34m)\u001b[0m \u001b[0;32mfor\u001b[0m \u001b[0mk\u001b[0m\u001b[0;34m,\u001b[0m \u001b[0mv\u001b[0m \u001b[0;32min\u001b[0m \u001b[0mprops\u001b[0m\u001b[0;34m.\u001b[0m\u001b[0mitems\u001b[0m\u001b[0;34m(\u001b[0m\u001b[0;34m)\u001b[0m\u001b[0;34m]\u001b[0m\u001b[0;34m\u001b[0m\u001b[0;34m\u001b[0m\u001b[0m\n\u001b[0m\u001b[1;32m   1007\u001b[0m \u001b[0;34m\u001b[0m\u001b[0m\n\u001b[1;32m   1008\u001b[0m         \u001b[0;32mif\u001b[0m \u001b[0mlen\u001b[0m\u001b[0;34m(\u001b[0m\u001b[0mret\u001b[0m\u001b[0;34m)\u001b[0m\u001b[0;34m:\u001b[0m\u001b[0;34m\u001b[0m\u001b[0;34m\u001b[0m\u001b[0m\n",
            "\u001b[0;32m/usr/local/lib/python3.7/dist-packages/matplotlib/artist.py\u001b[0m in \u001b[0;36m_update_property\u001b[0;34m(self, k, v)\u001b[0m\n\u001b[1;32m   1000\u001b[0m                 \u001b[0;32mif\u001b[0m \u001b[0;32mnot\u001b[0m \u001b[0mcallable\u001b[0m\u001b[0;34m(\u001b[0m\u001b[0mfunc\u001b[0m\u001b[0;34m)\u001b[0m\u001b[0;34m:\u001b[0m\u001b[0;34m\u001b[0m\u001b[0;34m\u001b[0m\u001b[0m\n\u001b[1;32m   1001\u001b[0m                     raise AttributeError('{!r} object has no property {!r}'\n\u001b[0;32m-> 1002\u001b[0;31m                                          .format(type(self).__name__, k))\n\u001b[0m\u001b[1;32m   1003\u001b[0m                 \u001b[0;32mreturn\u001b[0m \u001b[0mfunc\u001b[0m\u001b[0;34m(\u001b[0m\u001b[0mv\u001b[0m\u001b[0;34m)\u001b[0m\u001b[0;34m\u001b[0m\u001b[0;34m\u001b[0m\u001b[0m\n\u001b[1;32m   1004\u001b[0m \u001b[0;34m\u001b[0m\u001b[0m\n",
            "\u001b[0;31mAttributeError\u001b[0m: 'Rectangle' object has no property 'normed'"
          ]
        },
        {
          "output_type": "display_data",
          "data": {
            "image/png": "[encoded data removed]",
            "text/plain": [
              "<Figure size 432x288 with 1 Axes>"
            ]
          },
          "metadata": {
            "tags": []
          }
        }
      ]
    },
    {
      "cell_type": "markdown",
      "metadata": {
        "id": "msXqTFBX8hyb"
      },
      "source": [
        "## # drug vs. % of reviewers with a specific side effect"
      ]
    },
    {
      "cell_type": "code",
      "metadata": {
        "colab": {
          "base_uri": "https://localhost:8080/",
          "height": 234
        },
        "id": "VSTUxOUS7r57",
        "outputId": "47229bfb-a35a-4489-84a0-b2c51ce6186a"
      },
      "source": [
        ""
      ],
      "execution_count": 23,
      "outputs": [
        {
          "output_type": "error",
          "ename": "NameError",
          "evalue": "ignored",
          "traceback": [
            "\u001b[0;31m---------------------------------------------------------------------------\u001b[0m",
            "\u001b[0;31mNameError\u001b[0m                                 Traceback (most recent call last)",
            "\u001b[0;32m<ipython-input-23-03f3c1518d27>\u001b[0m in \u001b[0;36m<module>\u001b[0;34m()\u001b[0m\n\u001b[1;32m      1\u001b[0m \u001b[0;31m# drug vs. % of reviewers with a specific side effect\u001b[0m\u001b[0;34m\u001b[0m\u001b[0;34m\u001b[0m\u001b[0;34m\u001b[0m\u001b[0m\n\u001b[1;32m      2\u001b[0m \u001b[0;34m\u001b[0m\u001b[0m\n\u001b[0;32m----> 3\u001b[0;31m \u001b[0mkey_list\u001b[0m \u001b[0;34m=\u001b[0m \u001b[0mlist\u001b[0m\u001b[0;34m(\u001b[0m\u001b[0mSideeffects\u001b[0m\u001b[0;34m.\u001b[0m\u001b[0mkeys\u001b[0m\u001b[0;34m(\u001b[0m\u001b[0;34m)\u001b[0m \u001b[0;34m)\u001b[0m\u001b[0;34m\u001b[0m\u001b[0;34m\u001b[0m\u001b[0m\n\u001b[0m\u001b[1;32m      4\u001b[0m \u001b[0;32mfor\u001b[0m \u001b[0mk_i\u001b[0m \u001b[0;32min\u001b[0m \u001b[0mrange\u001b[0m\u001b[0;34m(\u001b[0m\u001b[0;36m0\u001b[0m\u001b[0;34m,\u001b[0m\u001b[0mlen\u001b[0m\u001b[0;34m(\u001b[0m\u001b[0mkey_list\u001b[0m\u001b[0;34m)\u001b[0m\u001b[0;34m)\u001b[0m\u001b[0;34m:\u001b[0m\u001b[0;34m\u001b[0m\u001b[0;34m\u001b[0m\u001b[0m\n\u001b[1;32m      5\u001b[0m     \u001b[0mplt\u001b[0m\u001b[0;34m.\u001b[0m\u001b[0mfigure\u001b[0m\u001b[0;34m(\u001b[0m\u001b[0;34m)\u001b[0m\u001b[0;34m\u001b[0m\u001b[0;34m\u001b[0m\u001b[0m\n",
            "\u001b[0;31mNameError\u001b[0m: name 'Sideeffects' is not defined"
          ]
        }
      ]
    },
    {
      "cell_type": "code",
      "metadata": {
        "id": "3zr0jori8QcC"
      },
      "source": [
        ""
      ],
      "execution_count": null,
      "outputs": []
    }
  ]
}