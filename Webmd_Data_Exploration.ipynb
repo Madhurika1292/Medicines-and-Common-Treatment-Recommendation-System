{
  "nbformat": 4,
  "nbformat_minor": 0,
  "metadata": {
    "colab": {
      "name": "Webmd Data Exploration.ipynb",
      "provenance": [],
      "authorship_tag": "ABX9TyNfFJ2/r6izgNFZdzONUyw4",
      "include_colab_link": true
    },
    "kernelspec": {
      "name": "python3",
      "display_name": "Python 3"
    }
  },
  "cells": [
    {
      "cell_type": "markdown",
      "metadata": {
        "id": "view-in-github",
        "colab_type": "text"
      },
      "source": [
        "<a href=\"https://colab.research.google.com/github/Madhurika1292/Medicines-and-Common-Treatment-Recommendation-System/blob/main/Webmd_Data_Exploration.ipynb\" target=\"_parent\"><img src=\"https://colab.research.google.com/assets/colab-badge.svg\" alt=\"Open In Colab\"/></a>"
      ]
    },
    {
      "cell_type": "markdown",
      "metadata": {
        "id": "7_MZYodusnfO"
      },
      "source": [
        "#WebMD.com Data Exploration\n",
        "\n",
        "Description - \n",
        "\n",
        "Attribute Information:\n",
        "\n",
        "1. Age\n",
        "2. Condition\n",
        "3. Date\n",
        "4. Drug\n",
        "5. DrugId\n",
        "6. Easeofuse\n",
        "7. Effectiveness\n",
        "8. Review\n",
        "9. Sex\n",
        "10. Sides\n",
        "11. UsefulCount"
      ]
    },
    {
      "cell_type": "code",
      "metadata": {
        "id": "gX9SHO9Vrx6Z"
      },
      "source": [
        "#Loading necessary libraries\n",
        "import pandas as pd\n",
        "import numpy as np\n",
        "import plotly.express as px\n",
        "import seaborn as sns \n",
        "import matplotlib.pyplot as plt\n",
        "from matplotlib import style; style.use('ggplot')\n",
        "from wordcloud import WordCloud\n",
        "import altair as alt\n"
      ],
      "execution_count": 1,
      "outputs": []
    },
    {
      "cell_type": "code",
      "metadata": {
        "colab": {
          "base_uri": "https://localhost:8080/"
        },
        "id": "PfmgjYawt5du",
        "outputId": "749cbc6d-bc75-490c-e35c-00320ab1310c"
      },
      "source": [
        "#Cloning Git repository\n",
        "!git clone https://github.com/Madhurika1292/Medicines-and-Common-Treatment-Recommendation-System.git"
      ],
      "execution_count": 2,
      "outputs": [
        {
          "output_type": "stream",
          "text": [
            "Cloning into 'Medicines-and-Common-Treatment-Recommendation-System'...\n",
            "remote: Enumerating objects: 111, done.\u001b[K\n",
            "remote: Counting objects: 100% (111/111), done.\u001b[K\n",
            "remote: Compressing objects: 100% (96/96), done.\u001b[K\n",
            "remote: Total 111 (delta 60), reused 30 (delta 9), pack-reused 0\u001b[K\n",
            "Receiving objects: 100% (111/111), 44.85 MiB | 17.23 MiB/s, done.\n",
            "Resolving deltas: 100% (60/60), done.\n"
          ],
          "name": "stdout"
        }
      ]
    },
    {
      "cell_type": "code",
      "metadata": {
        "colab": {
          "base_uri": "https://localhost:8080/"
        },
        "id": "BApmezizt9hP",
        "outputId": "7d1dd0fa-25eb-440d-878f-e5f238b72f9b"
      },
      "source": [
        "!ls Medicines-and-Common-Treatment-Recommendation-System/Drugscom"
      ],
      "execution_count": 3,
      "outputs": [
        {
          "output_type": "stream",
          "text": [
            " drugsComTest_raw.csv   drugsComTrain_raw.tsv\n",
            " drugsComTest_raw.tsv  'drugscom train treatments.xlsx'\n"
          ],
          "name": "stdout"
        }
      ]
    },
    {
      "cell_type": "markdown",
      "metadata": {
        "id": "OoCkt9BPuAI6"
      },
      "source": [
        "## Data Loading"
      ]
    },
    {
      "cell_type": "code",
      "metadata": {
        "colab": {
          "base_uri": "https://localhost:8080/"
        },
        "id": "0-MzUVYHt_hh",
        "outputId": "6e28aa0b-5d60-45f1-f8b0-d373d3a6a899"
      },
      "source": [
        "# Importing dataset from drive\n",
        "from google.colab import drive\n",
        "drive.mount('/content/gdrive/')\n",
        "\n",
        "import sys\n",
        "sys.path.append('/content/gdrive/My Drive/Webmd')"
      ],
      "execution_count": 4,
      "outputs": [
        {
          "output_type": "stream",
          "text": [
            "Mounted at /content/gdrive/\n"
          ],
          "name": "stdout"
        }
      ]
    },
    {
      "cell_type": "code",
      "metadata": {
        "id": "jJTLiSRR0TtX"
      },
      "source": [
        "#Loading webmd data\n",
        "webmd_df=pd.read_csv('/content/gdrive/My Drive/Webmd/webmd.csv')"
      ],
      "execution_count": 5,
      "outputs": []
    },
    {
      "cell_type": "code",
      "metadata": {
        "colab": {
          "base_uri": "https://localhost:8080/",
          "height": 553
        },
        "id": "nGPGrF7U0_7_",
        "outputId": "663cb074-2c6f-4c60-d8bf-1b1732ef5219"
      },
      "source": [
        "webmd_df"
      ],
      "execution_count": 6,
      "outputs": [
        {
          "output_type": "execute_result",
          "data": {
            "text/html": [
              "<div>\n",
              "<style scoped>\n",
              "    .dataframe tbody tr th:only-of-type {\n",
              "        vertical-align: middle;\n",
              "    }\n",
              "\n",
              "    .dataframe tbody tr th {\n",
              "        vertical-align: top;\n",
              "    }\n",
              "\n",
              "    .dataframe thead th {\n",
              "        text-align: right;\n",
              "    }\n",
              "</style>\n",
              "<table border=\"1\" class=\"dataframe\">\n",
              "  <thead>\n",
              "    <tr style=\"text-align: right;\">\n",
              "      <th></th>\n",
              "      <th>Age</th>\n",
              "      <th>Condition</th>\n",
              "      <th>Date</th>\n",
              "      <th>Drug</th>\n",
              "      <th>DrugId</th>\n",
              "      <th>EaseofUse</th>\n",
              "      <th>Effectiveness</th>\n",
              "      <th>Reviews</th>\n",
              "      <th>Satisfaction</th>\n",
              "      <th>Sex</th>\n",
              "      <th>Sides</th>\n",
              "      <th>UsefulCount</th>\n",
              "    </tr>\n",
              "  </thead>\n",
              "  <tbody>\n",
              "    <tr>\n",
              "      <th>0</th>\n",
              "      <td>75 or over</td>\n",
              "      <td>Stuffy Nose</td>\n",
              "      <td>9/21/2014</td>\n",
              "      <td>25dph-7.5peh</td>\n",
              "      <td>146724</td>\n",
              "      <td>5</td>\n",
              "      <td>5</td>\n",
              "      <td>I'm a retired physician and of all the meds I ...</td>\n",
              "      <td>5</td>\n",
              "      <td>Male</td>\n",
              "      <td>Drowsiness,  dizziness ,  dry mouth /nose/thro...</td>\n",
              "      <td>0</td>\n",
              "    </tr>\n",
              "    <tr>\n",
              "      <th>1</th>\n",
              "      <td>25-34</td>\n",
              "      <td>Cold Symptoms</td>\n",
              "      <td>1/13/2011</td>\n",
              "      <td>25dph-7.5peh</td>\n",
              "      <td>146724</td>\n",
              "      <td>5</td>\n",
              "      <td>5</td>\n",
              "      <td>cleared me right up even with my throat hurtin...</td>\n",
              "      <td>5</td>\n",
              "      <td>Female</td>\n",
              "      <td>Drowsiness,  dizziness ,  dry mouth /nose/thro...</td>\n",
              "      <td>1</td>\n",
              "    </tr>\n",
              "    <tr>\n",
              "      <th>2</th>\n",
              "      <td>65-74</td>\n",
              "      <td>Other</td>\n",
              "      <td>7/16/2012</td>\n",
              "      <td>warfarin (bulk) 100 % powder</td>\n",
              "      <td>144731</td>\n",
              "      <td>2</td>\n",
              "      <td>3</td>\n",
              "      <td>why did my PTINR go from a normal of 2.5 to ov...</td>\n",
              "      <td>3</td>\n",
              "      <td>Female</td>\n",
              "      <td></td>\n",
              "      <td>0</td>\n",
              "    </tr>\n",
              "    <tr>\n",
              "      <th>3</th>\n",
              "      <td>75 or over</td>\n",
              "      <td>Other</td>\n",
              "      <td>9/23/2010</td>\n",
              "      <td>warfarin (bulk) 100 % powder</td>\n",
              "      <td>144731</td>\n",
              "      <td>2</td>\n",
              "      <td>2</td>\n",
              "      <td>FALLING AND DON'T REALISE IT</td>\n",
              "      <td>1</td>\n",
              "      <td>Female</td>\n",
              "      <td></td>\n",
              "      <td>0</td>\n",
              "    </tr>\n",
              "    <tr>\n",
              "      <th>4</th>\n",
              "      <td>35-44</td>\n",
              "      <td>Other</td>\n",
              "      <td>1/6/2009</td>\n",
              "      <td>warfarin (bulk) 100 % powder</td>\n",
              "      <td>144731</td>\n",
              "      <td>1</td>\n",
              "      <td>1</td>\n",
              "      <td>My grandfather was prescribed this medication ...</td>\n",
              "      <td>1</td>\n",
              "      <td>Male</td>\n",
              "      <td></td>\n",
              "      <td>1</td>\n",
              "    </tr>\n",
              "    <tr>\n",
              "      <th>...</th>\n",
              "      <td>...</td>\n",
              "      <td>...</td>\n",
              "      <td>...</td>\n",
              "      <td>...</td>\n",
              "      <td>...</td>\n",
              "      <td>...</td>\n",
              "      <td>...</td>\n",
              "      <td>...</td>\n",
              "      <td>...</td>\n",
              "      <td>...</td>\n",
              "      <td>...</td>\n",
              "      <td>...</td>\n",
              "    </tr>\n",
              "    <tr>\n",
              "      <th>362801</th>\n",
              "      <td>55-64</td>\n",
              "      <td>Stop Smoking</td>\n",
              "      <td>11/14/2008</td>\n",
              "      <td>chantix</td>\n",
              "      <td>144470</td>\n",
              "      <td>5</td>\n",
              "      <td>5</td>\n",
              "      <td>I took the whole 12 weeks.I could have stopped...</td>\n",
              "      <td>5</td>\n",
              "      <td>Female</td>\n",
              "      <td>Nausea ,  headache ,  vomiting , drowsiness, g...</td>\n",
              "      <td>2</td>\n",
              "    </tr>\n",
              "    <tr>\n",
              "      <th>362802</th>\n",
              "      <td></td>\n",
              "      <td>Other</td>\n",
              "      <td>11/14/2008</td>\n",
              "      <td>chantix</td>\n",
              "      <td>144470</td>\n",
              "      <td>2</td>\n",
              "      <td>3</td>\n",
              "      <td>My dad strated taking Chantix about 1 month ag...</td>\n",
              "      <td>1</td>\n",
              "      <td></td>\n",
              "      <td>Nausea ,  headache ,  vomiting , drowsiness, g...</td>\n",
              "      <td>16</td>\n",
              "    </tr>\n",
              "    <tr>\n",
              "      <th>362803</th>\n",
              "      <td>25-34</td>\n",
              "      <td>Stop Smoking</td>\n",
              "      <td>11/13/2008</td>\n",
              "      <td>chantix</td>\n",
              "      <td>144470</td>\n",
              "      <td>2</td>\n",
              "      <td>4</td>\n",
              "      <td>As long as I was on chantix, I didn't smoke.  ...</td>\n",
              "      <td>2</td>\n",
              "      <td>Female</td>\n",
              "      <td>Nausea ,  headache ,  vomiting , drowsiness, g...</td>\n",
              "      <td>3</td>\n",
              "    </tr>\n",
              "    <tr>\n",
              "      <th>362804</th>\n",
              "      <td>55-64</td>\n",
              "      <td>Stop Smoking</td>\n",
              "      <td>11/13/2008</td>\n",
              "      <td>chantix</td>\n",
              "      <td>144470</td>\n",
              "      <td>5</td>\n",
              "      <td>5</td>\n",
              "      <td>Started this medication Oct 5th 2008. Haven't ...</td>\n",
              "      <td>5</td>\n",
              "      <td>Male</td>\n",
              "      <td>Nausea ,  headache ,  vomiting , drowsiness, g...</td>\n",
              "      <td>1</td>\n",
              "    </tr>\n",
              "    <tr>\n",
              "      <th>362805</th>\n",
              "      <td>45-54</td>\n",
              "      <td>Stop Smoking</td>\n",
              "      <td>11/12/2008</td>\n",
              "      <td>chantix</td>\n",
              "      <td>144470</td>\n",
              "      <td>4</td>\n",
              "      <td>5</td>\n",
              "      <td>One year ago, I tried Chantix and had to stop ...</td>\n",
              "      <td>5</td>\n",
              "      <td>Female</td>\n",
              "      <td>Nausea ,  headache ,  vomiting , drowsiness, g...</td>\n",
              "      <td>3</td>\n",
              "    </tr>\n",
              "  </tbody>\n",
              "</table>\n",
              "<p>362806 rows × 12 columns</p>\n",
              "</div>"
            ],
            "text/plain": [
              "               Age  ... UsefulCount\n",
              "0       75 or over  ...           0\n",
              "1            25-34  ...           1\n",
              "2            65-74  ...           0\n",
              "3       75 or over  ...           0\n",
              "4            35-44  ...           1\n",
              "...            ...  ...         ...\n",
              "362801       55-64  ...           2\n",
              "362802              ...          16\n",
              "362803       25-34  ...           3\n",
              "362804       55-64  ...           1\n",
              "362805       45-54  ...           3\n",
              "\n",
              "[362806 rows x 12 columns]"
            ]
          },
          "metadata": {
            "tags": []
          },
          "execution_count": 6
        }
      ]
    },
    {
      "cell_type": "code",
      "metadata": {
        "colab": {
          "base_uri": "https://localhost:8080/"
        },
        "id": "Vi4mJjmB1DT6",
        "outputId": "7ab7723b-88b1-48f3-ef84-8ea3a10111c8"
      },
      "source": [
        "#Dataset shape\n",
        "print(\"Webmd Data shape :\" ,webmd_df.shape)\n"
      ],
      "execution_count": 7,
      "outputs": [
        {
          "output_type": "stream",
          "text": [
            "Webmd Data shape : (362806, 12)\n"
          ],
          "name": "stdout"
        }
      ]
    },
    {
      "cell_type": "code",
      "metadata": {
        "colab": {
          "base_uri": "https://localhost:8080/"
        },
        "id": "h7l5eHSH1eTY",
        "outputId": "f78b268d-5f07-4b8a-b015-6ce76686483b"
      },
      "source": [
        "#Data Information\n",
        "webmd_df.info()"
      ],
      "execution_count": 8,
      "outputs": [
        {
          "output_type": "stream",
          "text": [
            "<class 'pandas.core.frame.DataFrame'>\n",
            "RangeIndex: 362806 entries, 0 to 362805\n",
            "Data columns (total 12 columns):\n",
            " #   Column         Non-Null Count   Dtype \n",
            "---  ------         --------------   ----- \n",
            " 0   Age            362806 non-null  object\n",
            " 1   Condition      362806 non-null  object\n",
            " 2   Date           362806 non-null  object\n",
            " 3   Drug           362806 non-null  object\n",
            " 4   DrugId         362806 non-null  int64 \n",
            " 5   EaseofUse      362806 non-null  int64 \n",
            " 6   Effectiveness  362806 non-null  int64 \n",
            " 7   Reviews        362769 non-null  object\n",
            " 8   Satisfaction   362806 non-null  int64 \n",
            " 9   Sex            362806 non-null  object\n",
            " 10  Sides          362806 non-null  object\n",
            " 11  UsefulCount    362806 non-null  int64 \n",
            "dtypes: int64(5), object(7)\n",
            "memory usage: 33.2+ MB\n"
          ],
          "name": "stdout"
        }
      ]
    },
    {
      "cell_type": "markdown",
      "metadata": {
        "id": "661qBjyn3IbM"
      },
      "source": [
        "##Data Cleaning"
      ]
    },
    {
      "cell_type": "code",
      "metadata": {
        "colab": {
          "base_uri": "https://localhost:8080/"
        },
        "id": "Rbq3N9Ka3XCT",
        "outputId": "c3fb6c7d-7295-4508-c8e9-75aff02f5435"
      },
      "source": [
        "#Checking for null values\n",
        "webmd_df.isnull().sum()"
      ],
      "execution_count": 9,
      "outputs": [
        {
          "output_type": "execute_result",
          "data": {
            "text/plain": [
              "Age               0\n",
              "Condition         0\n",
              "Date              0\n",
              "Drug              0\n",
              "DrugId            0\n",
              "EaseofUse         0\n",
              "Effectiveness     0\n",
              "Reviews          37\n",
              "Satisfaction      0\n",
              "Sex               0\n",
              "Sides             0\n",
              "UsefulCount       0\n",
              "dtype: int64"
            ]
          },
          "metadata": {
            "tags": []
          },
          "execution_count": 9
        }
      ]
    },
    {
      "cell_type": "code",
      "metadata": {
        "colab": {
          "base_uri": "https://localhost:8080/",
          "height": 612
        },
        "id": "wRW8T9gH2bCK",
        "outputId": "a9ff2646-f6fe-4073-e17b-ce769a8eb970"
      },
      "source": [
        "fig, ax = plt.subplots(figsize=(20,10))         # Sample figsize in inches\n",
        "sns.heatmap(webmd_df.isnull(),yticklabels=False,cbar=True,cmap='viridis', ax=ax)"
      ],
      "execution_count": 10,
      "outputs": [
        {
          "output_type": "execute_result",
          "data": {
            "text/plain": [
              "<matplotlib.axes._subplots.AxesSubplot at 0x7f0c6740c950>"
            ]
          },
          "metadata": {
            "tags": []
          },
          "execution_count": 10
        },
        {
          "output_type": "display_data",
          "data": {
            "image/png": "[encoded data removed]",
            "text/plain": [
              "<Figure size 1440x720 with 2 Axes>"
            ]
          },
          "metadata": {
            "tags": [],
            "needs_background": "light"
          }
        }
      ]
    },
    {
      "cell_type": "code",
      "metadata": {
        "id": "TeANZpEh5tvt"
      },
      "source": [
        "def missing_values(df):\n",
        "    \"\"\"Returns a summary of missing values in df\"\"\"\n",
        "    nrows = df.shape[0]\n",
        "    data = []\n",
        "    \n",
        "    def pct(n, total):\n",
        "        return round(n/total, 2)\n",
        "    \n",
        "    for col in df.columns:\n",
        "\n",
        "        # string (Object) type columns\n",
        "        if df[col].dtype.kind == \"O\":\n",
        "            df[col] = df[col].str.strip()\n",
        "            nulls = df[df[col] == \"\"][col].count()\n",
        "            nulls += df[col].isnull().sum()\n",
        "\n",
        "        # numerical (int) type columns\n",
        "        elif df[col].dtype.kind == \"i\":\n",
        "            nulls = df[col].isnull().sum()\n",
        "\n",
        "        pctofnulls = pct(nulls, nrows)\n",
        "        data.extend(\n",
        "            [{\"column\": col, \"pct\": 1-pctofnulls, \"num of records\": nrows-nulls, \"type\": \"not missing\"},\n",
        "             {\"column\": col, \"pct\": pctofnulls, \"num of records\": nulls, \"type\": \"missing\"}])\n",
        "    \n",
        "    return pd.DataFrame(data)"
      ],
      "execution_count": 11,
      "outputs": []
    },
    {
      "cell_type": "code",
      "metadata": {
        "id": "p3-3zQbs15PY"
      },
      "source": [
        "missing = missing_values(webmd_df)"
      ],
      "execution_count": 12,
      "outputs": []
    },
    {
      "cell_type": "code",
      "metadata": {
        "colab": {
          "base_uri": "https://localhost:8080/",
          "height": 737
        },
        "id": "bf3IqSFi3rJD",
        "outputId": "c985aaca-3f71-4b00-f4e0-aedb48c05b54"
      },
      "source": [
        "missing"
      ],
      "execution_count": 13,
      "outputs": [
        {
          "output_type": "execute_result",
          "data": {
            "text/html": [
              "<div>\n",
              "<style scoped>\n",
              "    .dataframe tbody tr th:only-of-type {\n",
              "        vertical-align: middle;\n",
              "    }\n",
              "\n",
              "    .dataframe tbody tr th {\n",
              "        vertical-align: top;\n",
              "    }\n",
              "\n",
              "    .dataframe thead th {\n",
              "        text-align: right;\n",
              "    }\n",
              "</style>\n",
              "<table border=\"1\" class=\"dataframe\">\n",
              "  <thead>\n",
              "    <tr style=\"text-align: right;\">\n",
              "      <th></th>\n",
              "      <th>column</th>\n",
              "      <th>pct</th>\n",
              "      <th>num of records</th>\n",
              "      <th>type</th>\n",
              "    </tr>\n",
              "  </thead>\n",
              "  <tbody>\n",
              "    <tr>\n",
              "      <th>0</th>\n",
              "      <td>Age</td>\n",
              "      <td>0.97</td>\n",
              "      <td>350604</td>\n",
              "      <td>not missing</td>\n",
              "    </tr>\n",
              "    <tr>\n",
              "      <th>1</th>\n",
              "      <td>Age</td>\n",
              "      <td>0.03</td>\n",
              "      <td>12202</td>\n",
              "      <td>missing</td>\n",
              "    </tr>\n",
              "    <tr>\n",
              "      <th>2</th>\n",
              "      <td>Condition</td>\n",
              "      <td>1.00</td>\n",
              "      <td>362763</td>\n",
              "      <td>not missing</td>\n",
              "    </tr>\n",
              "    <tr>\n",
              "      <th>3</th>\n",
              "      <td>Condition</td>\n",
              "      <td>0.00</td>\n",
              "      <td>43</td>\n",
              "      <td>missing</td>\n",
              "    </tr>\n",
              "    <tr>\n",
              "      <th>4</th>\n",
              "      <td>Date</td>\n",
              "      <td>1.00</td>\n",
              "      <td>362806</td>\n",
              "      <td>not missing</td>\n",
              "    </tr>\n",
              "    <tr>\n",
              "      <th>5</th>\n",
              "      <td>Date</td>\n",
              "      <td>0.00</td>\n",
              "      <td>0</td>\n",
              "      <td>missing</td>\n",
              "    </tr>\n",
              "    <tr>\n",
              "      <th>6</th>\n",
              "      <td>Drug</td>\n",
              "      <td>1.00</td>\n",
              "      <td>362806</td>\n",
              "      <td>not missing</td>\n",
              "    </tr>\n",
              "    <tr>\n",
              "      <th>7</th>\n",
              "      <td>Drug</td>\n",
              "      <td>0.00</td>\n",
              "      <td>0</td>\n",
              "      <td>missing</td>\n",
              "    </tr>\n",
              "    <tr>\n",
              "      <th>8</th>\n",
              "      <td>DrugId</td>\n",
              "      <td>1.00</td>\n",
              "      <td>362806</td>\n",
              "      <td>not missing</td>\n",
              "    </tr>\n",
              "    <tr>\n",
              "      <th>9</th>\n",
              "      <td>DrugId</td>\n",
              "      <td>0.00</td>\n",
              "      <td>0</td>\n",
              "      <td>missing</td>\n",
              "    </tr>\n",
              "    <tr>\n",
              "      <th>10</th>\n",
              "      <td>EaseofUse</td>\n",
              "      <td>1.00</td>\n",
              "      <td>362806</td>\n",
              "      <td>not missing</td>\n",
              "    </tr>\n",
              "    <tr>\n",
              "      <th>11</th>\n",
              "      <td>EaseofUse</td>\n",
              "      <td>0.00</td>\n",
              "      <td>0</td>\n",
              "      <td>missing</td>\n",
              "    </tr>\n",
              "    <tr>\n",
              "      <th>12</th>\n",
              "      <td>Effectiveness</td>\n",
              "      <td>1.00</td>\n",
              "      <td>362806</td>\n",
              "      <td>not missing</td>\n",
              "    </tr>\n",
              "    <tr>\n",
              "      <th>13</th>\n",
              "      <td>Effectiveness</td>\n",
              "      <td>0.00</td>\n",
              "      <td>0</td>\n",
              "      <td>missing</td>\n",
              "    </tr>\n",
              "    <tr>\n",
              "      <th>14</th>\n",
              "      <td>Reviews</td>\n",
              "      <td>0.88</td>\n",
              "      <td>320923</td>\n",
              "      <td>not missing</td>\n",
              "    </tr>\n",
              "    <tr>\n",
              "      <th>15</th>\n",
              "      <td>Reviews</td>\n",
              "      <td>0.12</td>\n",
              "      <td>41883</td>\n",
              "      <td>missing</td>\n",
              "    </tr>\n",
              "    <tr>\n",
              "      <th>16</th>\n",
              "      <td>Satisfaction</td>\n",
              "      <td>1.00</td>\n",
              "      <td>362806</td>\n",
              "      <td>not missing</td>\n",
              "    </tr>\n",
              "    <tr>\n",
              "      <th>17</th>\n",
              "      <td>Satisfaction</td>\n",
              "      <td>0.00</td>\n",
              "      <td>0</td>\n",
              "      <td>missing</td>\n",
              "    </tr>\n",
              "    <tr>\n",
              "      <th>18</th>\n",
              "      <td>Sex</td>\n",
              "      <td>0.93</td>\n",
              "      <td>336269</td>\n",
              "      <td>not missing</td>\n",
              "    </tr>\n",
              "    <tr>\n",
              "      <th>19</th>\n",
              "      <td>Sex</td>\n",
              "      <td>0.07</td>\n",
              "      <td>26537</td>\n",
              "      <td>missing</td>\n",
              "    </tr>\n",
              "    <tr>\n",
              "      <th>20</th>\n",
              "      <td>Sides</td>\n",
              "      <td>0.95</td>\n",
              "      <td>345346</td>\n",
              "      <td>not missing</td>\n",
              "    </tr>\n",
              "    <tr>\n",
              "      <th>21</th>\n",
              "      <td>Sides</td>\n",
              "      <td>0.05</td>\n",
              "      <td>17460</td>\n",
              "      <td>missing</td>\n",
              "    </tr>\n",
              "    <tr>\n",
              "      <th>22</th>\n",
              "      <td>UsefulCount</td>\n",
              "      <td>1.00</td>\n",
              "      <td>362806</td>\n",
              "      <td>not missing</td>\n",
              "    </tr>\n",
              "    <tr>\n",
              "      <th>23</th>\n",
              "      <td>UsefulCount</td>\n",
              "      <td>0.00</td>\n",
              "      <td>0</td>\n",
              "      <td>missing</td>\n",
              "    </tr>\n",
              "  </tbody>\n",
              "</table>\n",
              "</div>"
            ],
            "text/plain": [
              "           column   pct  num of records         type\n",
              "0             Age  0.97          350604  not missing\n",
              "1             Age  0.03           12202      missing\n",
              "2       Condition  1.00          362763  not missing\n",
              "3       Condition  0.00              43      missing\n",
              "4            Date  1.00          362806  not missing\n",
              "5            Date  0.00               0      missing\n",
              "6            Drug  1.00          362806  not missing\n",
              "7            Drug  0.00               0      missing\n",
              "8          DrugId  1.00          362806  not missing\n",
              "9          DrugId  0.00               0      missing\n",
              "10      EaseofUse  1.00          362806  not missing\n",
              "11      EaseofUse  0.00               0      missing\n",
              "12  Effectiveness  1.00          362806  not missing\n",
              "13  Effectiveness  0.00               0      missing\n",
              "14        Reviews  0.88          320923  not missing\n",
              "15        Reviews  0.12           41883      missing\n",
              "16   Satisfaction  1.00          362806  not missing\n",
              "17   Satisfaction  0.00               0      missing\n",
              "18            Sex  0.93          336269  not missing\n",
              "19            Sex  0.07           26537      missing\n",
              "20          Sides  0.95          345346  not missing\n",
              "21          Sides  0.05           17460      missing\n",
              "22    UsefulCount  1.00          362806  not missing\n",
              "23    UsefulCount  0.00               0      missing"
            ]
          },
          "metadata": {
            "tags": []
          },
          "execution_count": 13
        }
      ]
    },
    {
      "cell_type": "code",
      "metadata": {
        "colab": {
          "base_uri": "https://localhost:8080/",
          "height": 415
        },
        "id": "GmMtW6mV2D46",
        "outputId": "ed2f5b09-3777-43ae-b574-32667eb74bfe"
      },
      "source": [
        "bars = (alt.Chart()\n",
        "           .mark_bar(size=25, \n",
        "                     strokeWidth=1,\n",
        "                     stroke=\"white\",\n",
        "                     strokeOpacity=0.7,\n",
        "                     )\n",
        "           .encode(x=alt.X(\"sum(num of records)\",\n",
        "                           axis=alt.Axis(title=\"number of records\",\n",
        "                                         grid=True)), \n",
        "                   y=alt.Y(\"column:O\",\n",
        "                           axis=alt.Axis(title=\"columns\")),\n",
        "                   tooltip=(\"column\", \"type\", \"num of records:Q\",\n",
        "                            alt.Tooltip(\"pct:Q\", format=\".1%\")),\n",
        "                   color=alt.Color(\"type\",\n",
        "                                   scale=alt.Scale(range=[\"#11043a\", \"#648bce\"])))\n",
        "           .properties(title=\"Missing Values\"))\n",
        "\n",
        "text = (alt.Chart()\n",
        "           .mark_text(align=\"right\",\n",
        "                      dx=-1)\n",
        "           .encode(x=alt.X(\"sum(num of records)\", \n",
        "                           stack=\"zero\"),\n",
        "                   y=alt.Y(\"column\"),\n",
        "                   color=alt.Color(\"type\",\n",
        "                                   legend=None,\n",
        "                                   scale=alt.Scale(range=[\"white\"])),\n",
        "                   text=alt.Text(\"pct\", format=\".0%\")))\n",
        "\n",
        "(alt.layer(bars, text, data=missing)\n",
        "    .configure(background='#11043a')\n",
        "    .configure_title(font=\"Arial\",\n",
        "                     fontSize=18,\n",
        "                     color=\"#e6f3ff\",\n",
        "                     dy=-10)\n",
        "    .configure_text(color=\"white\")\n",
        "    .configure_legend(titleFontSize=12,\n",
        "                      titleColor=\"white\",\n",
        "                      tickCount=10,\n",
        "                      titleOpacity=0.8,\n",
        "                      labelColor=\"white\",\n",
        "                      labelOpacity=0.7,\n",
        "                      titlePadding=10)\n",
        "    .configure_axis(titleFontSize=13,\n",
        "                    titlePadding=20,\n",
        "                    titleColor=\"white\",\n",
        "                    titleOpacity=0.8,\n",
        "                    labelFontSize=11,\n",
        "                    labelColor=\"white\",\n",
        "                    labelOpacity=0.7,\n",
        "                    tickOffset=0,\n",
        "                    grid=False,\n",
        "                    gridOpacity=0.15)\n",
        "    .configure_view(strokeWidth=0)\n",
        "    .resolve_scale(color='independent')\n",
        "    .properties(height=300, width=680))\n",
        "\n",
        "#https://www.kaggle.com/sszokoly/webmd-part1"
      ],
      "execution_count": 14,
      "outputs": [
        {
          "output_type": "execute_result",
          "data": {
            "text/plain": [
              "alt.LayerChart(...)"
            ],
            "text/html": [
              "\n",
              "<div id=\"altair-viz-bab3fb4665e046a7bf69f23820640a87\"></div>\n",
              "<script type=\"text/javascript\">\n",
              "  (function(spec, embedOpt){\n",
              "    let outputDiv = document.currentScript.previousElementSibling;\n",
              "    if (outputDiv.id !== \"altair-viz-bab3fb4665e046a7bf69f23820640a87\") {\n",
              "      outputDiv = document.getElementById(\"altair-viz-bab3fb4665e046a7bf69f23820640a87\");\n",
              "    }\n",
              "    const paths = {\n",
              "      \"vega\": \"https://cdn.jsdelivr.net/npm//vega@5?noext\",\n",
              "      \"vega-lib\": \"https://cdn.jsdelivr.net/npm//vega-lib?noext\",\n",
              "      \"vega-lite\": \"https://cdn.jsdelivr.net/npm//vega-lite@4.8.1?noext\",\n",
              "      \"vega-embed\": \"https://cdn.jsdelivr.net/npm//vega-embed@6?noext\",\n",
              "    };\n",
              "\n",
              "    function loadScript(lib) {\n",
              "      return new Promise(function(resolve, reject) {\n",
              "        var s = document.createElement('script');\n",
              "        s.src = paths[lib];\n",
              "        s.async = true;\n",
              "        s.onload = () => resolve(paths[lib]);\n",
              "        s.onerror = () => reject(`Error loading script: ${paths[lib]}`);\n",
              "        document.getElementsByTagName(\"head\")[0].appendChild(s);\n",
              "      });\n",
              "    }\n",
              "\n",
              "    function showError(err) {\n",
              "      outputDiv.innerHTML = `<div class=\"error\" style=\"color:red;\">${err}</div>`;\n",
              "      throw err;\n",
              "    }\n",
              "\n",
              "    function displayChart(vegaEmbed) {\n",
              "      vegaEmbed(outputDiv, spec, embedOpt)\n",
              "        .catch(err => showError(`Javascript Error: ${err.message}<br>This usually means there's a typo in your chart specification. See the javascript console for the full traceback.`));\n",
              "    }\n",
              "\n",
              "    if(typeof define === \"function\" && define.amd) {\n",
              "      requirejs.config({paths});\n",
              "      require([\"vega-embed\"], displayChart, err => showError(`Error loading script: ${err.message}`));\n",
              "    } else if (typeof vegaEmbed === \"function\") {\n",
              "      displayChart(vegaEmbed);\n",
              "    } else {\n",
              "      loadScript(\"vega\")\n",
              "        .then(() => loadScript(\"vega-lite\"))\n",
              "        .then(() => loadScript(\"vega-embed\"))\n",
              "        .catch(showError)\n",
              "        .then(() => displayChart(vegaEmbed));\n",
              "    }\n",
              "  })({\"config\": {\"view\": {\"continuousWidth\": 400, \"continuousHeight\": 300, \"strokeWidth\": 0}, \"axis\": {\"grid\": false, \"gridOpacity\": 0.15, \"labelColor\": \"white\", \"labelFontSize\": 11, \"labelOpacity\": 0.7, \"tickOffset\": 0, \"titleColor\": \"white\", \"titleFontSize\": 13, \"titleOpacity\": 0.8, \"titlePadding\": 20}, \"background\": \"#11043a\", \"legend\": {\"labelColor\": \"white\", \"labelOpacity\": 0.7, \"tickCount\": 10, \"titleColor\": \"white\", \"titleFontSize\": 12, \"titleOpacity\": 0.8, \"titlePadding\": 10}, \"text\": {\"color\": \"white\"}, \"title\": {\"color\": \"#e6f3ff\", \"dy\": -10, \"font\": \"Arial\", \"fontSize\": 18}}, \"layer\": [{\"mark\": {\"type\": \"bar\", \"size\": 25, \"stroke\": \"white\", \"strokeOpacity\": 0.7, \"strokeWidth\": 1}, \"encoding\": {\"color\": {\"type\": \"nominal\", \"field\": \"type\", \"scale\": {\"range\": [\"#11043a\", \"#648bce\"]}}, \"tooltip\": [{\"type\": \"nominal\", \"field\": \"column\"}, {\"type\": \"nominal\", \"field\": \"type\"}, {\"type\": \"quantitative\", \"field\": \"num of records\"}, {\"type\": \"quantitative\", \"field\": \"pct\", \"format\": \".1%\"}], \"x\": {\"type\": \"quantitative\", \"aggregate\": \"sum\", \"axis\": {\"grid\": true, \"title\": \"number of records\"}, \"field\": \"num of records\"}, \"y\": {\"type\": \"ordinal\", \"axis\": {\"title\": \"columns\"}, \"field\": \"column\"}}, \"title\": \"Missing Values\"}, {\"mark\": {\"type\": \"text\", \"align\": \"right\", \"dx\": -1}, \"encoding\": {\"color\": {\"type\": \"nominal\", \"field\": \"type\", \"legend\": null, \"scale\": {\"range\": [\"white\"]}}, \"text\": {\"type\": \"quantitative\", \"field\": \"pct\", \"format\": \".0%\"}, \"x\": {\"type\": \"quantitative\", \"aggregate\": \"sum\", \"field\": \"num of records\", \"stack\": \"zero\"}, \"y\": {\"type\": \"nominal\", \"field\": \"column\"}}}], \"data\": {\"name\": \"data-47bcb7bf19f613e3a52e2a73cec76fff\"}, \"height\": 300, \"resolve\": {\"scale\": {\"color\": \"independent\"}}, \"width\": 680, \"$schema\": \"https://vega.github.io/schema/vega-lite/v4.8.1.json\", \"datasets\": {\"data-47bcb7bf19f613e3a52e2a73cec76fff\": [{\"column\": \"Age\", \"pct\": 0.97, \"num of records\": 350604, \"type\": \"not missing\"}, {\"column\": \"Age\", \"pct\": 0.03, \"num of records\": 12202, \"type\": \"missing\"}, {\"column\": \"Condition\", \"pct\": 1.0, \"num of records\": 362763, \"type\": \"not missing\"}, {\"column\": \"Condition\", \"pct\": 0.0, \"num of records\": 43, \"type\": \"missing\"}, {\"column\": \"Date\", \"pct\": 1.0, \"num of records\": 362806, \"type\": \"not missing\"}, {\"column\": \"Date\", \"pct\": 0.0, \"num of records\": 0, \"type\": \"missing\"}, {\"column\": \"Drug\", \"pct\": 1.0, \"num of records\": 362806, \"type\": \"not missing\"}, {\"column\": \"Drug\", \"pct\": 0.0, \"num of records\": 0, \"type\": \"missing\"}, {\"column\": \"DrugId\", \"pct\": 1.0, \"num of records\": 362806, \"type\": \"not missing\"}, {\"column\": \"DrugId\", \"pct\": 0.0, \"num of records\": 0, \"type\": \"missing\"}, {\"column\": \"EaseofUse\", \"pct\": 1.0, \"num of records\": 362806, \"type\": \"not missing\"}, {\"column\": \"EaseofUse\", \"pct\": 0.0, \"num of records\": 0, \"type\": \"missing\"}, {\"column\": \"Effectiveness\", \"pct\": 1.0, \"num of records\": 362806, \"type\": \"not missing\"}, {\"column\": \"Effectiveness\", \"pct\": 0.0, \"num of records\": 0, \"type\": \"missing\"}, {\"column\": \"Reviews\", \"pct\": 0.88, \"num of records\": 320923, \"type\": \"not missing\"}, {\"column\": \"Reviews\", \"pct\": 0.12, \"num of records\": 41883, \"type\": \"missing\"}, {\"column\": \"Satisfaction\", \"pct\": 1.0, \"num of records\": 362806, \"type\": \"not missing\"}, {\"column\": \"Satisfaction\", \"pct\": 0.0, \"num of records\": 0, \"type\": \"missing\"}, {\"column\": \"Sex\", \"pct\": 0.9299999999999999, \"num of records\": 336269, \"type\": \"not missing\"}, {\"column\": \"Sex\", \"pct\": 0.07, \"num of records\": 26537, \"type\": \"missing\"}, {\"column\": \"Sides\", \"pct\": 0.95, \"num of records\": 345346, \"type\": \"not missing\"}, {\"column\": \"Sides\", \"pct\": 0.05, \"num of records\": 17460, \"type\": \"missing\"}, {\"column\": \"UsefulCount\", \"pct\": 1.0, \"num of records\": 362806, \"type\": \"not missing\"}, {\"column\": \"UsefulCount\", \"pct\": 0.0, \"num of records\": 0, \"type\": \"missing\"}]}}, {\"mode\": \"vega-lite\"});\n",
              "</script>"
            ]
          },
          "metadata": {
            "tags": []
          },
          "execution_count": 14
        }
      ]
    },
    {
      "cell_type": "markdown",
      "metadata": {
        "id": "KWfsVQGK3oaZ"
      },
      "source": [
        "## Checking count of Unique values of each features"
      ]
    },
    {
      "cell_type": "code",
      "metadata": {
        "colab": {
          "base_uri": "https://localhost:8080/"
        },
        "id": "Xna-EVcm4ZG2",
        "outputId": "ab288ba6-f4cf-44f0-d1d5-885edd9f328c"
      },
      "source": [
        "[[col, webmd_df[col].nunique()] for col in webmd_df.columns.difference([\"Reviews\"])]\n"
      ],
      "execution_count": 15,
      "outputs": [
        {
          "output_type": "execute_result",
          "data": {
            "text/plain": [
              "[['Age', 12],\n",
              " ['Condition', 1806],\n",
              " ['Date', 4524],\n",
              " ['Drug', 7093],\n",
              " ['DrugId', 6572],\n",
              " ['EaseofUse', 7],\n",
              " ['Effectiveness', 7],\n",
              " ['Satisfaction', 7],\n",
              " ['Sex', 3],\n",
              " ['Sides', 1650],\n",
              " ['UsefulCount', 148]]"
            ]
          },
          "metadata": {
            "tags": []
          },
          "execution_count": 15
        }
      ]
    },
    {
      "cell_type": "code",
      "metadata": {
        "colab": {
          "base_uri": "https://localhost:8080/",
          "height": 363
        },
        "id": "P1ZU0Om-5XfO",
        "outputId": "66eb6090-2067-452f-b8ea-07696021571d"
      },
      "source": [
        "unique_values = [[c, webmd_df[c].nunique()] for c in webmd_df.columns.difference([\"Reviews\"])]\n",
        "df_unique = pd.DataFrame(data=unique_values, columns=[\"columns\", \"count of unique values\"])\n",
        "df_unique"
      ],
      "execution_count": 16,
      "outputs": [
        {
          "output_type": "execute_result",
          "data": {
            "text/html": [
              "<div>\n",
              "<style scoped>\n",
              "    .dataframe tbody tr th:only-of-type {\n",
              "        vertical-align: middle;\n",
              "    }\n",
              "\n",
              "    .dataframe tbody tr th {\n",
              "        vertical-align: top;\n",
              "    }\n",
              "\n",
              "    .dataframe thead th {\n",
              "        text-align: right;\n",
              "    }\n",
              "</style>\n",
              "<table border=\"1\" class=\"dataframe\">\n",
              "  <thead>\n",
              "    <tr style=\"text-align: right;\">\n",
              "      <th></th>\n",
              "      <th>columns</th>\n",
              "      <th>count of unique values</th>\n",
              "    </tr>\n",
              "  </thead>\n",
              "  <tbody>\n",
              "    <tr>\n",
              "      <th>0</th>\n",
              "      <td>Age</td>\n",
              "      <td>12</td>\n",
              "    </tr>\n",
              "    <tr>\n",
              "      <th>1</th>\n",
              "      <td>Condition</td>\n",
              "      <td>1806</td>\n",
              "    </tr>\n",
              "    <tr>\n",
              "      <th>2</th>\n",
              "      <td>Date</td>\n",
              "      <td>4524</td>\n",
              "    </tr>\n",
              "    <tr>\n",
              "      <th>3</th>\n",
              "      <td>Drug</td>\n",
              "      <td>7093</td>\n",
              "    </tr>\n",
              "    <tr>\n",
              "      <th>4</th>\n",
              "      <td>DrugId</td>\n",
              "      <td>6572</td>\n",
              "    </tr>\n",
              "    <tr>\n",
              "      <th>5</th>\n",
              "      <td>EaseofUse</td>\n",
              "      <td>7</td>\n",
              "    </tr>\n",
              "    <tr>\n",
              "      <th>6</th>\n",
              "      <td>Effectiveness</td>\n",
              "      <td>7</td>\n",
              "    </tr>\n",
              "    <tr>\n",
              "      <th>7</th>\n",
              "      <td>Satisfaction</td>\n",
              "      <td>7</td>\n",
              "    </tr>\n",
              "    <tr>\n",
              "      <th>8</th>\n",
              "      <td>Sex</td>\n",
              "      <td>3</td>\n",
              "    </tr>\n",
              "    <tr>\n",
              "      <th>9</th>\n",
              "      <td>Sides</td>\n",
              "      <td>1650</td>\n",
              "    </tr>\n",
              "    <tr>\n",
              "      <th>10</th>\n",
              "      <td>UsefulCount</td>\n",
              "      <td>148</td>\n",
              "    </tr>\n",
              "  </tbody>\n",
              "</table>\n",
              "</div>"
            ],
            "text/plain": [
              "          columns  count of unique values\n",
              "0             Age                      12\n",
              "1       Condition                    1806\n",
              "2            Date                    4524\n",
              "3            Drug                    7093\n",
              "4          DrugId                    6572\n",
              "5       EaseofUse                       7\n",
              "6   Effectiveness                       7\n",
              "7    Satisfaction                       7\n",
              "8             Sex                       3\n",
              "9           Sides                    1650\n",
              "10    UsefulCount                     148"
            ]
          },
          "metadata": {
            "tags": []
          },
          "execution_count": 16
        }
      ]
    },
    {
      "cell_type": "code",
      "metadata": {
        "colab": {
          "base_uri": "https://localhost:8080/",
          "height": 542
        },
        "id": "njUG7MyKCe5r",
        "outputId": "320e3e8a-677c-4770-c790-66f427076c79"
      },
      "source": [
        "fig = px.bar(df_unique, y='count of unique values', x='columns', text='count of unique values')\n",
        "fig.update_traces(texttemplate='%{text:.2s}', textposition='outside')\n",
        "fig.update_yaxes(dtick=500)\n",
        "fig.update_layout(title_text='Unique values count of each feature')\n",
        "#fig.update_layout(uniformtext_minsize=8, uniformtext_mode='hide')\n",
        "fig.show()"
      ],
      "execution_count": 21,
      "outputs": [
        {
          "output_type": "display_data",
          "data": {
            "text/html": [
              "<html>\n",
              "<head><meta charset=\"utf-8\" /></head>\n",
              "<body>\n",
              "    <div>\n",
              "            <script src=\"https://cdnjs.cloudflare.com/ajax/libs/mathjax/2.7.5/MathJax.js?config=TeX-AMS-MML_SVG\"></script><script type=\"text/javascript\">if (window.MathJax) {MathJax.Hub.Config({SVG: {font: \"STIX-Web\"}});}</script>\n",
              "                <script type=\"text/javascript\">window.PlotlyConfig = {MathJaxConfig: 'local'};</script>\n",
              "        <script src=\"https://cdn.plot.ly/plotly-latest.min.js\"></script>    \n",
              "            <div id=\"aa40dac5-b3b8-47b8-addf-9ecb2af8e99e\" class=\"plotly-graph-div\" style=\"height:525px; width:100%;\"></div>\n",
              "            <script type=\"text/javascript\">\n",
              "                \n",
              "                    window.PLOTLYENV=window.PLOTLYENV || {};\n",
              "                    \n",
              "                if (document.getElementById(\"aa40dac5-b3b8-47b8-addf-9ecb2af8e99e\")) {\n",
              "                    Plotly.newPlot(\n",
              "                        'aa40dac5-b3b8-47b8-addf-9ecb2af8e99e',\n",
              "                        [{\"alignmentgroup\": \"True\", \"hoverlabel\": {\"namelength\": 0}, \"hovertemplate\": \"columns=%{x}<br>count of unique values=%{text}\", \"legendgroup\": \"\", \"marker\": {\"color\": \"#636efa\"}, \"name\": \"\", \"offsetgroup\": \"\", \"orientation\": \"v\", \"showlegend\": false, \"text\": [12.0, 1806.0, 4524.0, 7093.0, 6572.0, 7.0, 7.0, 7.0, 3.0, 1650.0, 148.0], \"textposition\": \"outside\", \"texttemplate\": \"%{text:.2s}\", \"type\": \"bar\", \"x\": [\"Age\", \"Condition\", \"Date\", \"Drug\", \"DrugId\", \"EaseofUse\", \"Effectiveness\", \"Satisfaction\", \"Sex\", \"Sides\", \"UsefulCount\"], \"xaxis\": \"x\", \"y\": [12, 1806, 4524, 7093, 6572, 7, 7, 7, 3, 1650, 148], \"yaxis\": \"y\"}],\n",
              "                        {\"barmode\": \"relative\", \"legend\": {\"tracegroupgap\": 0}, \"margin\": {\"t\": 60}, \"template\": {\"data\": {\"bar\": [{\"error_x\": {\"color\": \"#2a3f5f\"}, \"error_y\": {\"color\": \"#2a3f5f\"}, \"marker\": {\"line\": {\"color\": \"#E5ECF6\", \"width\": 0.5}}, \"type\": \"bar\"}], \"barpolar\": [{\"marker\": {\"line\": {\"color\": \"#E5ECF6\", \"width\": 0.5}}, \"type\": \"barpolar\"}], \"carpet\": [{\"aaxis\": {\"endlinecolor\": \"#2a3f5f\", \"gridcolor\": \"white\", \"linecolor\": \"white\", \"minorgridcolor\": \"white\", \"startlinecolor\": \"#2a3f5f\"}, \"baxis\": {\"endlinecolor\": \"#2a3f5f\", \"gridcolor\": \"white\", \"linecolor\": \"white\", \"minorgridcolor\": \"white\", \"startlinecolor\": \"#2a3f5f\"}, \"type\": \"carpet\"}], \"choropleth\": [{\"colorbar\": {\"outlinewidth\": 0, \"ticks\": \"\"}, \"type\": \"choropleth\"}], \"contour\": [{\"colorbar\": {\"outlinewidth\": 0, \"ticks\": \"\"}, \"colorscale\": [[0.0, \"#0d0887\"], [0.1111111111111111, \"#46039f\"], [0.2222222222222222, \"#7201a8\"], [0.3333333333333333, \"#9c179e\"], [0.4444444444444444, \"#bd3786\"], [0.5555555555555556, \"#d8576b\"], [0.6666666666666666, \"#ed7953\"], [0.7777777777777778, \"#fb9f3a\"], [0.8888888888888888, \"#fdca26\"], [1.0, \"#f0f921\"]], \"type\": \"contour\"}], \"contourcarpet\": [{\"colorbar\": {\"outlinewidth\": 0, \"ticks\": \"\"}, \"type\": \"contourcarpet\"}], \"heatmap\": [{\"colorbar\": {\"outlinewidth\": 0, \"ticks\": \"\"}, \"colorscale\": [[0.0, \"#0d0887\"], [0.1111111111111111, \"#46039f\"], [0.2222222222222222, \"#7201a8\"], [0.3333333333333333, \"#9c179e\"], [0.4444444444444444, \"#bd3786\"], [0.5555555555555556, \"#d8576b\"], [0.6666666666666666, \"#ed7953\"], [0.7777777777777778, \"#fb9f3a\"], [0.8888888888888888, \"#fdca26\"], [1.0, \"#f0f921\"]], \"type\": \"heatmap\"}], \"heatmapgl\": [{\"colorbar\": {\"outlinewidth\": 0, \"ticks\": \"\"}, \"colorscale\": [[0.0, \"#0d0887\"], [0.1111111111111111, \"#46039f\"], [0.2222222222222222, \"#7201a8\"], [0.3333333333333333, \"#9c179e\"], [0.4444444444444444, \"#bd3786\"], [0.5555555555555556, \"#d8576b\"], [0.6666666666666666, \"#ed7953\"], [0.7777777777777778, \"#fb9f3a\"], [0.8888888888888888, \"#fdca26\"], [1.0, \"#f0f921\"]], \"type\": \"heatmapgl\"}], \"histogram\": [{\"marker\": {\"colorbar\": {\"outlinewidth\": 0, \"ticks\": \"\"}}, \"type\": \"histogram\"}], \"histogram2d\": [{\"colorbar\": {\"outlinewidth\": 0, \"ticks\": \"\"}, \"colorscale\": [[0.0, \"#0d0887\"], [0.1111111111111111, \"#46039f\"], [0.2222222222222222, \"#7201a8\"], [0.3333333333333333, \"#9c179e\"], [0.4444444444444444, \"#bd3786\"], [0.5555555555555556, \"#d8576b\"], [0.6666666666666666, \"#ed7953\"], [0.7777777777777778, \"#fb9f3a\"], [0.8888888888888888, \"#fdca26\"], [1.0, \"#f0f921\"]], \"type\": \"histogram2d\"}], \"histogram2dcontour\": [{\"colorbar\": {\"outlinewidth\": 0, \"ticks\": \"\"}, \"colorscale\": [[0.0, \"#0d0887\"], [0.1111111111111111, \"#46039f\"], [0.2222222222222222, \"#7201a8\"], [0.3333333333333333, \"#9c179e\"], [0.4444444444444444, \"#bd3786\"], [0.5555555555555556, \"#d8576b\"], [0.6666666666666666, \"#ed7953\"], [0.7777777777777778, \"#fb9f3a\"], [0.8888888888888888, \"#fdca26\"], [1.0, \"#f0f921\"]], \"type\": \"histogram2dcontour\"}], \"mesh3d\": [{\"colorbar\": {\"outlinewidth\": 0, \"ticks\": \"\"}, \"type\": \"mesh3d\"}], \"parcoords\": [{\"line\": {\"colorbar\": {\"outlinewidth\": 0, \"ticks\": \"\"}}, \"type\": \"parcoords\"}], \"pie\": [{\"automargin\": true, \"type\": \"pie\"}], \"scatter\": [{\"marker\": {\"colorbar\": {\"outlinewidth\": 0, \"ticks\": \"\"}}, \"type\": \"scatter\"}], \"scatter3d\": [{\"line\": {\"colorbar\": {\"outlinewidth\": 0, \"ticks\": \"\"}}, \"marker\": {\"colorbar\": {\"outlinewidth\": 0, \"ticks\": \"\"}}, \"type\": \"scatter3d\"}], \"scattercarpet\": [{\"marker\": {\"colorbar\": {\"outlinewidth\": 0, \"ticks\": \"\"}}, \"type\": \"scattercarpet\"}], \"scattergeo\": [{\"marker\": {\"colorbar\": {\"outlinewidth\": 0, \"ticks\": \"\"}}, \"type\": \"scattergeo\"}], \"scattergl\": [{\"marker\": {\"colorbar\": {\"outlinewidth\": 0, \"ticks\": \"\"}}, \"type\": \"scattergl\"}], \"scattermapbox\": [{\"marker\": {\"colorbar\": {\"outlinewidth\": 0, \"ticks\": \"\"}}, \"type\": \"scattermapbox\"}], \"scatterpolar\": [{\"marker\": {\"colorbar\": {\"outlinewidth\": 0, \"ticks\": \"\"}}, \"type\": \"scatterpolar\"}], \"scatterpolargl\": [{\"marker\": {\"colorbar\": {\"outlinewidth\": 0, \"ticks\": \"\"}}, \"type\": \"scatterpolargl\"}], \"scatterternary\": [{\"marker\": {\"colorbar\": {\"outlinewidth\": 0, \"ticks\": \"\"}}, \"type\": \"scatterternary\"}], \"surface\": [{\"colorbar\": {\"outlinewidth\": 0, \"ticks\": \"\"}, \"colorscale\": [[0.0, \"#0d0887\"], [0.1111111111111111, \"#46039f\"], [0.2222222222222222, \"#7201a8\"], [0.3333333333333333, \"#9c179e\"], [0.4444444444444444, \"#bd3786\"], [0.5555555555555556, \"#d8576b\"], [0.6666666666666666, \"#ed7953\"], [0.7777777777777778, \"#fb9f3a\"], [0.8888888888888888, \"#fdca26\"], [1.0, \"#f0f921\"]], \"type\": \"surface\"}], \"table\": [{\"cells\": {\"fill\": {\"color\": \"#EBF0F8\"}, \"line\": {\"color\": \"white\"}}, \"header\": {\"fill\": {\"color\": \"#C8D4E3\"}, \"line\": {\"color\": \"white\"}}, \"type\": \"table\"}]}, \"layout\": {\"annotationdefaults\": {\"arrowcolor\": \"#2a3f5f\", \"arrowhead\": 0, \"arrowwidth\": 1}, \"coloraxis\": {\"colorbar\": {\"outlinewidth\": 0, \"ticks\": \"\"}}, \"colorscale\": {\"diverging\": [[0, \"#8e0152\"], [0.1, \"#c51b7d\"], [0.2, \"#de77ae\"], [0.3, \"#f1b6da\"], [0.4, \"#fde0ef\"], [0.5, \"#f7f7f7\"], [0.6, \"#e6f5d0\"], [0.7, \"#b8e186\"], [0.8, \"#7fbc41\"], [0.9, \"#4d9221\"], [1, \"#276419\"]], \"sequential\": [[0.0, \"#0d0887\"], [0.1111111111111111, \"#46039f\"], [0.2222222222222222, \"#7201a8\"], [0.3333333333333333, \"#9c179e\"], [0.4444444444444444, \"#bd3786\"], [0.5555555555555556, \"#d8576b\"], [0.6666666666666666, \"#ed7953\"], [0.7777777777777778, \"#fb9f3a\"], [0.8888888888888888, \"#fdca26\"], [1.0, \"#f0f921\"]], \"sequentialminus\": [[0.0, \"#0d0887\"], [0.1111111111111111, \"#46039f\"], [0.2222222222222222, \"#7201a8\"], [0.3333333333333333, \"#9c179e\"], [0.4444444444444444, \"#bd3786\"], [0.5555555555555556, \"#d8576b\"], [0.6666666666666666, \"#ed7953\"], [0.7777777777777778, \"#fb9f3a\"], [0.8888888888888888, \"#fdca26\"], [1.0, \"#f0f921\"]]}, \"colorway\": [\"#636efa\", \"#EF553B\", \"#00cc96\", \"#ab63fa\", \"#FFA15A\", \"#19d3f3\", \"#FF6692\", \"#B6E880\", \"#FF97FF\", \"#FECB52\"], \"font\": {\"color\": \"#2a3f5f\"}, \"geo\": {\"bgcolor\": \"white\", \"lakecolor\": \"white\", \"landcolor\": \"#E5ECF6\", \"showlakes\": true, \"showland\": true, \"subunitcolor\": \"white\"}, \"hoverlabel\": {\"align\": \"left\"}, \"hovermode\": \"closest\", \"mapbox\": {\"style\": \"light\"}, \"paper_bgcolor\": \"white\", \"plot_bgcolor\": \"#E5ECF6\", \"polar\": {\"angularaxis\": {\"gridcolor\": \"white\", \"linecolor\": \"white\", \"ticks\": \"\"}, \"bgcolor\": \"#E5ECF6\", \"radialaxis\": {\"gridcolor\": \"white\", \"linecolor\": \"white\", \"ticks\": \"\"}}, \"scene\": {\"xaxis\": {\"backgroundcolor\": \"#E5ECF6\", \"gridcolor\": \"white\", \"gridwidth\": 2, \"linecolor\": \"white\", \"showbackground\": true, \"ticks\": \"\", \"zerolinecolor\": \"white\"}, \"yaxis\": {\"backgroundcolor\": \"#E5ECF6\", \"gridcolor\": \"white\", \"gridwidth\": 2, \"linecolor\": \"white\", \"showbackground\": true, \"ticks\": \"\", \"zerolinecolor\": \"white\"}, \"zaxis\": {\"backgroundcolor\": \"#E5ECF6\", \"gridcolor\": \"white\", \"gridwidth\": 2, \"linecolor\": \"white\", \"showbackground\": true, \"ticks\": \"\", \"zerolinecolor\": \"white\"}}, \"shapedefaults\": {\"line\": {\"color\": \"#2a3f5f\"}}, \"ternary\": {\"aaxis\": {\"gridcolor\": \"white\", \"linecolor\": \"white\", \"ticks\": \"\"}, \"baxis\": {\"gridcolor\": \"white\", \"linecolor\": \"white\", \"ticks\": \"\"}, \"bgcolor\": \"#E5ECF6\", \"caxis\": {\"gridcolor\": \"white\", \"linecolor\": \"white\", \"ticks\": \"\"}}, \"title\": {\"x\": 0.05}, \"xaxis\": {\"automargin\": true, \"gridcolor\": \"white\", \"linecolor\": \"white\", \"ticks\": \"\", \"title\": {\"standoff\": 15}, \"zerolinecolor\": \"white\", \"zerolinewidth\": 2}, \"yaxis\": {\"automargin\": true, \"gridcolor\": \"white\", \"linecolor\": \"white\", \"ticks\": \"\", \"title\": {\"standoff\": 15}, \"zerolinecolor\": \"white\", \"zerolinewidth\": 2}}}, \"title\": {\"text\": \"Unique values count of each feature\"}, \"xaxis\": {\"anchor\": \"y\", \"domain\": [0.0, 1.0], \"title\": {\"text\": \"columns\"}}, \"yaxis\": {\"anchor\": \"x\", \"domain\": [0.0, 1.0], \"dtick\": 500, \"title\": {\"text\": \"count of unique values\"}}},\n",
              "                        {\"responsive\": true}\n",
              "                    ).then(function(){\n",
              "                            \n",
              "var gd = document.getElementById('aa40dac5-b3b8-47b8-addf-9ecb2af8e99e');\n",
              "var x = new MutationObserver(function (mutations, observer) {{\n",
              "        var display = window.getComputedStyle(gd).display;\n",
              "        if (!display || display === 'none') {{\n",
              "            console.log([gd, 'removed!']);\n",
              "            Plotly.purge(gd);\n",
              "            observer.disconnect();\n",
              "        }}\n",
              "}});\n",
              "\n",
              "// Listen for the removal of the full notebook cells\n",
              "var notebookContainer = gd.closest('#notebook-container');\n",
              "if (notebookContainer) {{\n",
              "    x.observe(notebookContainer, {childList: true});\n",
              "}}\n",
              "\n",
              "// Listen for the clearing of the current output cell\n",
              "var outputEl = gd.closest('.output');\n",
              "if (outputEl) {{\n",
              "    x.observe(outputEl, {childList: true});\n",
              "}}\n",
              "\n",
              "                        })\n",
              "                };\n",
              "                \n",
              "            </script>\n",
              "        </div>\n",
              "</body>\n",
              "</html>"
            ]
          },
          "metadata": {
            "tags": []
          }
        }
      ]
    },
    {
      "cell_type": "markdown",
      "metadata": {
        "id": "zc0xuv2u7cQy"
      },
      "source": [
        "## Top 5 drugs satisfaction level\n"
      ]
    },
    {
      "cell_type": "code",
      "metadata": {
        "id": "LwcX-dxK5bDn"
      },
      "source": [
        "# distribution of satisfaction vs. drugs, only 5 most reviewed drugs presented\n",
        "plt.style.use('seaborn-deep')\n",
        "\n",
        "y1 = webmd_df[webmd_df.Drug=='drugA']['Satisfaction']\n",
        "y2 = webmd_df[webmd_df.Drug=='drugB']['Satisfaction']\n",
        "y3 = webmd_df[webmd_df.Drug=='drugC']['Satisfaction']\n",
        "y4 = webmd_df[webmd_df.Drug=='drugD']['Satisfaction']\n",
        "y5 = webmd_df[webmd_df.Drug=='drugE']['Satisfaction']\n",
        "\n",
        "bins = np.linspace(0,6,12)\n",
        "\n",
        "plt.hist([y1, y2, y3, y4, y5], bins,\\\n",
        "        label=['drugA', 'drugB', 'drugC',\\\n",
        "               'drugD', 'drugE'], normed=True)\n",
        "\n",
        "plt.legend(loc='upper right')\n",
        "\n",
        "plt.xlabel('satisfaction per drug', fontsize=15)\n",
        "plt.xticks(fontsize=13)\n",
        "plt.ylabel('distribution(histogram normalized)', fontsize=15)\n",
        "plt.title('satisfaction distribution of top 5 drugs', fontsize=15) \n",
        "\n",
        "plt.show()"
      ],
      "execution_count": null,
      "outputs": []
    },
    {
      "cell_type": "markdown",
      "metadata": {
        "id": "msXqTFBX8hyb"
      },
      "source": [
        "## # drug vs. % of reviewers with a specific side effect"
      ]
    },
    {
      "cell_type": "code",
      "metadata": {
        "id": "VSTUxOUS7r57"
      },
      "source": [
        ""
      ],
      "execution_count": null,
      "outputs": []
    },
    {
      "cell_type": "code",
      "metadata": {
        "id": "3zr0jori8QcC"
      },
      "source": [
        ""
      ],
      "execution_count": null,
      "outputs": []
    }
  ]
}